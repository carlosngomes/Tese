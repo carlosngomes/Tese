{
 "cells": [
  {
   "cell_type": "code",
   "execution_count": 1,
   "metadata": {},
   "outputs": [
    {
     "name": "stdout",
     "output_type": "stream",
     "text": [
      "1629\n"
     ]
    }
   ],
   "source": [
    "import pandas as pd\n",
    "import numpy as np\n",
    "from scipy import stats\n",
    "from sklearn import preprocessing\n",
    "from sklearn.svm import SVC\n",
    "from sklearn.metrics import f1_score, precision_score, recall_score, balanced_accuracy_score\n",
    "from sklearn.model_selection import StratifiedShuffleSplit\n",
    "\n",
    "features = \"dataset2_features.csv\"\n",
    "features = pd.read_csv(features, sep=',', header=0, index_col=None)\n",
    "Y = features[['labels']]\n",
    "# feat_not_theta = [i for i in features.columns if \"Theta\" not in i]\n",
    "# X = features.drop(feat_not_theta, axis=1)\n",
    "# not_time_feat = [i for i in features.columns if (\"ERN\" not in i) & (\"Pe\" not in i) & (\"amp\" not in i)]\n",
    "# X = features.drop(not_time_feat, axis=1)\n",
    "\n",
    "#not_freq_feat = [i for i in features.columns if (\"Delta\" not in i) & (\"Theta\" not in i) & (\"Alpha\" not in i) &\n",
    " #                (\"Freq\" not in i)]\n",
    "#X = features.drop(not_freq_feat, axis=1)\n",
    "# X = features.drop('Participant', axis=1)\n",
    "X = features.drop('labels', axis=1)\n",
    "print(len(X.columns)) \n"
   ]
  },
  {
   "cell_type": "code",
   "execution_count": 2,
   "metadata": {},
   "outputs": [
    {
     "name": "stderr",
     "output_type": "stream",
     "text": [
      "100%|██████████| 40/40 [00:28<00:00,  1.40it/s]\n"
     ]
    }
   ],
   "source": [
    "from mrmr import mrmr_classif\n",
    "selected_features = mrmr_classif(X=X, y=Y, K=40)"
   ]
  },
  {
   "cell_type": "code",
   "execution_count": 3,
   "metadata": {},
   "outputs": [],
   "source": [
    "combined_df=pd.DataFrame()\n",
    "for i in selected_features:\n",
    "    combined_df=pd.concat([combined_df, X[i]], axis=1)"
   ]
  },
  {
   "cell_type": "code",
   "execution_count": 4,
   "metadata": {},
   "outputs": [
    {
     "name": "stdout",
     "output_type": "stream",
     "text": [
      "0.5771232876712328\n",
      "0.026507291773589414\n",
      "0.7865192982456141\n",
      "0.012696245776507414\n",
      "0.6818212929584234\n",
      "0.01276152874444839\n"
     ]
    }
   ],
   "source": [
    "f1score = []\n",
    "precision = []\n",
    "recall = []\n",
    "specificity = []\n",
    "npv = []\n",
    "bal_acc = []\n",
    "\n",
    "splits = 100\n",
    "sss = StratifiedShuffleSplit(n_splits=splits, test_size=0.3, random_state=0)\n",
    "svm = SVC(class_weight='balanced')\n",
    "scaler = preprocessing.StandardScaler()\n",
    "X_col = combined_df.columns\n",
    "Y=np.array(Y)\n",
    "\n",
    "for train_index, test_index in sss.split(combined_df, Y):\n",
    "    X_train, X_test = combined_df.iloc[train_index, :], combined_df.iloc[test_index, :]\n",
    "    Y_train, Y_test = Y[train_index], Y[test_index]\n",
    "    scal = scaler.fit(X_train)\n",
    "    X_train = scal.transform(X_train)  # Variables standardization\n",
    "    X_test = scal.transform(X_test)  # Variables standardization\n",
    "    X_train = pd.DataFrame(X_train, columns=X_col)\n",
    "    X_test = pd.DataFrame(X_test, columns=X_col)\n",
    "    clf = svm.fit(X_train, Y_train)\n",
    "    Y_predicted = clf.predict(X_test)\n",
    "    f1score.append(f1_score(Y_test, Y_predicted))\n",
    "    precision.append(precision_score(Y_test, Y_predicted))  # Precision = Positive predictive value\n",
    "    npv.append(precision_score(Y_test, Y_predicted, pos_label=0))  # Negative predictive value\n",
    "    recall.append(recall_score(Y_test, Y_predicted))  # Recall = Sensitivity\n",
    "    specificity.append(recall_score(Y_test, Y_predicted, pos_label=0))\n",
    "    bal_acc.append(balanced_accuracy_score(Y_test, Y_predicted))\n",
    "\n",
    "# print(np.mean(f1score))\n",
    "# print(np.mean(precision))\n",
    "print(np.mean(recall))\n",
    "print(np.std(recall))\n",
    "print(np.mean(specificity))\n",
    "print(np.std(specificity))\n",
    "# print(np.mean(npv))\n",
    "print(np.mean(bal_acc))\n",
    "print(np.std(bal_acc))"
   ]
  },
  {
   "cell_type": "code",
   "execution_count": null,
   "metadata": {},
   "outputs": [],
   "source": []
  }
 ],
 "metadata": {
  "kernelspec": {
   "display_name": "Python 3",
   "language": "python",
   "name": "python3"
  },
  "language_info": {
   "codemirror_mode": {
    "name": "ipython",
    "version": 3
   },
   "file_extension": ".py",
   "mimetype": "text/x-python",
   "name": "python",
   "nbconvert_exporter": "python",
   "pygments_lexer": "ipython3",
   "version": "3.11.9"
  }
 },
 "nbformat": 4,
 "nbformat_minor": 2
}
