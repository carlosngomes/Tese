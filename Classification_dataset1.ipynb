{
 "cells": [
  {
   "cell_type": "markdown",
   "metadata": {},
   "source": [
    "### Pre-Selection"
   ]
  },
  {
   "cell_type": "code",
   "execution_count": null,
   "metadata": {},
   "outputs": [],
   "source": [
    "import pandas as pd\n",
    "import src.functions as src\n",
    "import os \n",
    "\n",
    "features = \"dataset1_features.csv\"\n",
    "features = pd.read_csv(features, sep=',', header=0, index_col=None)\n",
    "Y = features[['labels']]\n",
    "\n",
    "X_all = features.drop('labels', axis=1)\n",
    "all_pre= ['3_','4_','6_','7_','10_','11_','12_','15_','16_','18_','25_','26_','27_','28_','29_','30_','33_','34_']\n",
    "X_all_pre=X_all[[col for col in X_all.columns if any(col.startswith(prefix) for prefix in all_pre)]]\n",
    "all_post=  ['1_','2_','5_','7_','8_','9_','12_','13_','14_','17_','19_','20_','21_','22_','23_','24_','31_','32_','35_','36_']\n",
    "X_all_post=X_all[[col for col in X_all.columns if any(col.startswith(prefix) for prefix in all_post)]]\n",
    "print('All Features:')\n",
    "print('Total: ' + str(len(X_all.columns))) \n",
    "print('Pre: ' + str(len(X_all_pre.columns)))\n",
    "print('Post: ' + str(len(X_all_post.columns)))\n",
    "\n",
    "theta_prefixes= ['1_','2_','3_','4_','5_','6_','7_','8_','9_','10_','11_','12_','13_','14_','15_','16_','17_','18_']\n",
    "X_theta= X_all[[col for col in X_all.columns if any(col.startswith(prefix) for prefix in theta_prefixes)]]\n",
    "theta_pre= ['3_','4_','6_','7_','10_','11_','12_','15_','16_','18_']\n",
    "X_theta_pre= X_theta[[col for col in X_theta.columns if any(col.startswith(prefix) for prefix in theta_pre)]]\n",
    "theta_post= ['1_','2_','5_','7_','8_','9_','12_','13_','14_','17_']\n",
    "X_theta_post= X_theta[[col for col in X_theta.columns if any(col.startswith(prefix) for prefix in theta_post)]]\n",
    "print('Theta Features:')\n",
    "print('Total: ' + str(len(X_theta.columns)))\n",
    "print('Pre: ' + str(len(X_theta_pre.columns)))\n",
    "print('Post: ' + str(len(X_theta_post.columns)))\n",
    "\n",
    "frequency_prefixes= ['1_','2_','3_','4_','5_','6_','7_','8_','9_','10_','11_','12_','13_','14_','15_','16_','17_','18_','19_','20_','21_','22_','23_','24_','25_','26_','27_','28_','29_','30_']\n",
    "X_frequency= X_all[[col for col in X_all.columns if any(col.startswith(prefix) for prefix in frequency_prefixes)]]\n",
    "frequency_pre=['3_','4_','6_','7_','10_','11_','12_','15_','16_','18_','25_','26_','27_','28_','29_','30_']\n",
    "X_frequency_pre= X_frequency[[col for col in X_frequency.columns if any(col.startswith(prefix) for prefix in frequency_pre)]]\n",
    "frequency_post=['1_','2_','5_','7_','8_','9_','12_','13_','14_','17_','19_','20_','21_','22_','23_','24_']\n",
    "X_frequency_post= X_frequency[[col for col in X_frequency.columns if any(col.startswith(prefix) for prefix in frequency_post)]]\n",
    "print('Frequency Features:')\n",
    "print('Total: ' + str(len(X_frequency.columns)))\n",
    "print('Pre: ' + str(len(X_frequency_pre.columns)))\n",
    "print('Post: ' + str(len(X_frequency_post.columns)))\n",
    "\n",
    "temporal_prefixes= ['31_','32_','33_','34_','35_','36_']\n",
    "X_temporal= X_all[[col for col in X_all.columns if any(col.startswith(prefix) for prefix in temporal_prefixes)]]\n",
    "temporal_pre= ['33_','34_']\n",
    "X_temporal_pre= X_temporal[[col for col in X_temporal.columns if any(col.startswith(prefix) for prefix in temporal_pre)]] \n",
    "temporal_post= ['31_','32_','35_','36_']\n",
    "X_temporal_post= X_temporal[[col for col in X_temporal.columns if any(col.startswith(prefix) for prefix in temporal_post)]]\n",
    "print('Temporal Features:')\n",
    "print('Total: ' + str(len(X_temporal.columns)))\n",
    "print('Pre: ' + str(len(X_temporal_pre.columns)))\n",
    "print('Post: ' + str(len(X_temporal_post.columns)))"
   ]
  },
  {
   "cell_type": "code",
   "execution_count": null,
   "metadata": {},
   "outputs": [],
   "source": [
    "from importlib import reload\n",
    "reload(src)"
   ]
  },
  {
   "cell_type": "code",
   "execution_count": null,
   "metadata": {},
   "outputs": [],
   "source": [
    "import numpy as np\n",
    "import pandas as pd\n",
    "import matplotlib.pyplot as plt\n",
    "import seaborn as sns\n",
    "for i in X_theta:\n",
    "    new_df = X_theta[i][(X_theta[i] < X_theta[i].mean() + 3*X_theta[i].std()) & (X_theta[i] > X_theta[i].mean() - 3* X_theta[i].std())]\n",
    "    print('Shape of {}: {}'.format( i,new_df.shape))"
   ]
  },
  {
   "cell_type": "code",
   "execution_count": null,
   "metadata": {},
   "outputs": [],
   "source": [
    "plt.figure(figsize=(16,8))\n",
    "\n",
    "plt.subplot(2,2,3)\n",
    "sns.distplot(new_df)\n",
    "plt.subplot(2,2,4)\n",
    "sns.boxplot(new_df)\n",
    "plt.show()"
   ]
  },
  {
   "cell_type": "markdown",
   "metadata": {},
   "source": [
    "### Feature Selection"
   ]
  },
  {
   "cell_type": "markdown",
   "metadata": {},
   "source": [
    "#### Theta Features"
   ]
  },
  {
   "cell_type": "code",
   "execution_count": null,
   "metadata": {},
   "outputs": [],
   "source": [
    "print(best_params)"
   ]
  },
  {
   "cell_type": "code",
   "execution_count": null,
   "metadata": {},
   "outputs": [],
   "source": [
    "#best_params=src.grid_search(X_theta,Y)\n",
    "best_params={'C': 0.1, 'gamma': 1, 'kernel': 'linear'}\n",
    "n_feature, feature_df=src.best_n_features(X_theta,Y,best_params)\n",
    "best_theta_features=feature_df.columns.tolist()\n",
    "print(best_theta_features)\n",
    "print(best_params)\n",
    "\n",
    "if os.path.exists('best_theta_features.txt'):\n",
    "    os.remove('best_theta_features.txt')\n",
    "with open('best_theta_features.txt', 'w') as file:\n",
    "    file.write(', '.join(best_theta_features))\n",
    "print(\"File created and list stored successfully.\")"
   ]
  },
  {
   "cell_type": "markdown",
   "metadata": {},
   "source": [
    "#### Frequency Features"
   ]
  },
  {
   "cell_type": "code",
   "execution_count": null,
   "metadata": {},
   "outputs": [],
   "source": [
    "n_feature,feature_df=src.best_n_features(X_frequency,Y)\n",
    "best_params=src.grid_search(X_frequency,Y)\n",
    "print(best_params)\n",
    "best_frequency_features=feature_df.columns.tolist()\n",
    "with open('best_frequency_features.txt', 'w') as file:\n",
    "    file.write(', '.join(best_frequency_features))\n",
    "\n",
    "print(\"File created and list stored successfully.\")"
   ]
  },
  {
   "cell_type": "markdown",
   "metadata": {},
   "source": [
    "#### Temporal Features"
   ]
  },
  {
   "cell_type": "code",
   "execution_count": null,
   "metadata": {},
   "outputs": [],
   "source": [
    "n_feature=src.best_n_features(X_temporal,Y)\n",
    "best_params=src.grid_search(X_temporal,Y)\n",
    "print(best_params)\n",
    "best_temporal_features=feature_df.columns.tolist()\n",
    "with open('best_temporal_features.txt', 'w') as file:\n",
    "    file.write(', '.join(best_temporal_features))\n",
    "\n",
    "print(\"File created and list stored successfully.\")"
   ]
  },
  {
   "cell_type": "markdown",
   "metadata": {},
   "source": [
    "#### All Features"
   ]
  },
  {
   "cell_type": "code",
   "execution_count": null,
   "metadata": {},
   "outputs": [],
   "source": [
    "from importlib import reload\n",
    "reload(src)"
   ]
  },
  {
   "cell_type": "code",
   "execution_count": null,
   "metadata": {},
   "outputs": [],
   "source": [
    "best_params=src.grid_search(X_all,Y)\n",
    "n_feature, feature_df=src.best_n_features(X_all,Y,best_params)\n",
    "best_all_features=feature_df.columns.tolist()\n",
    "print(best_all_features)\n",
    "print(best_params)\n",
    "\n",
    "if os.path.exists('best_all_features.txt'):\n",
    "    os.remove('best_all_features.txt')\n",
    "with open('best_all_features.txt', 'w') as file:\n",
    "    file.write(', '.join(best_all_features))\n",
    "print(\"File created and list stored successfully.\")"
   ]
  },
  {
   "cell_type": "code",
   "execution_count": null,
   "metadata": {},
   "outputs": [],
   "source": []
  }
 ],
 "metadata": {
  "kernelspec": {
   "display_name": "Python 3",
   "language": "python",
   "name": "python3"
  },
  "language_info": {
   "codemirror_mode": {
    "name": "ipython",
    "version": 3
   },
   "file_extension": ".py",
   "mimetype": "text/x-python",
   "name": "python",
   "nbconvert_exporter": "python",
   "pygments_lexer": "ipython3",
   "version": "3.11.9"
  }
 },
 "nbformat": 4,
 "nbformat_minor": 2
}
