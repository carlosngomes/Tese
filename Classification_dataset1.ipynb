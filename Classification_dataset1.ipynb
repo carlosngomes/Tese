{
 "cells": [
  {
   "cell_type": "markdown",
   "metadata": {},
   "source": [
    "### Pre-Selection"
   ]
  },
  {
   "cell_type": "code",
   "execution_count": 5,
   "metadata": {},
   "outputs": [
    {
     "name": "stdout",
     "output_type": "stream",
     "text": [
      "1629\n"
     ]
    }
   ],
   "source": [
    "import pandas as pd\n",
    "import src.functions as src\n",
    "\n",
    "features = \"dataset1_features.csv\"\n",
    "features = pd.read_csv(features, sep=',', header=0, index_col=None)\n",
    "Y = features[['labels']]\n",
    "# feat_not_theta = [i for i in features.columns if \"Theta\" not in i]\n",
    "# X = features.drop(feat_not_theta, axis=1)\n",
    "# not_time_feat = [i for i in features.columns if (\"ERN\" not in i) & (\"Pe\" not in i) & (\"amp\" not in i)]\n",
    "# X = features.drop(not_time_feat, axis=1)\n",
    "\n",
    "#not_freq_feat = [i for i in features.columns if (\"Delta\" not in i) & (\"Theta\" not in i) & (\"Alpha\" not in i) &\n",
    " #                (\"Freq\" not in i)]\n",
    "#X = features.drop(not_freq_feat, axis=1)\n",
    "# X = features.drop('Participant', axis=1)\n",
    "X = features.drop('labels', axis=1)\n",
    "print(len(X.columns)) "
   ]
  },
  {
   "cell_type": "markdown",
   "metadata": {},
   "source": [
    "### Feature Selection"
   ]
  },
  {
   "cell_type": "code",
   "execution_count": 6,
   "metadata": {},
   "outputs": [
    {
     "name": "stderr",
     "output_type": "stream",
     "text": [
      "100%|██████████| 35/35 [00:12<00:00,  2.75it/s]\n"
     ]
    }
   ],
   "source": [
    "from mrmr import mrmr_classif\n",
    "\n",
    "selected_features = mrmr_classif(X=X, y=Y, K=35)\n",
    "combined_df=pd.DataFrame()\n",
    "for i in selected_features:\n",
    "    combined_df=pd.concat([combined_df, X[i]], axis=1)\n",
    "X=combined_df"
   ]
  },
  {
   "cell_type": "markdown",
   "metadata": {},
   "source": [
    "### Classification"
   ]
  },
  {
   "cell_type": "code",
   "execution_count": 7,
   "metadata": {},
   "outputs": [
    {
     "name": "stdout",
     "output_type": "stream",
     "text": [
      "Mean Sensitivity: 0.3226\n",
      "Std Sensitivity: 0.0638\n",
      "Mean Specificity: 0.9251\n",
      "Std Specificity: 0.0113\n",
      "Mean Balanced Accuracy: 0.6239\n",
      "Std Balanced Accuracy: 0.0304\n"
     ]
    }
   ],
   "source": [
    "src.classification(X,Y)"
   ]
  },
  {
   "cell_type": "code",
   "execution_count": null,
   "metadata": {},
   "outputs": [],
   "source": []
  }
 ],
 "metadata": {
  "kernelspec": {
   "display_name": "Python 3",
   "language": "python",
   "name": "python3"
  },
  "language_info": {
   "codemirror_mode": {
    "name": "ipython",
    "version": 3
   },
   "file_extension": ".py",
   "mimetype": "text/x-python",
   "name": "python",
   "nbconvert_exporter": "python",
   "pygments_lexer": "ipython3",
   "version": "3.11.9"
  }
 },
 "nbformat": 4,
 "nbformat_minor": 2
}
