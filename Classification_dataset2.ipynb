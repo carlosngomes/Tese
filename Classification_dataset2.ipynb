{
 "cells": [
  {
   "cell_type": "code",
   "execution_count": null,
   "metadata": {},
   "outputs": [],
   "source": [
    "import pandas as pd\n",
    "import numpy as np\n",
    "import src.functions as src\n",
    "from scipy import stats\n",
    "from sklearn import preprocessing\n",
    "from sklearn.svm import SVC\n",
    "from sklearn.metrics import f1_score, precision_score, recall_score, balanced_accuracy_score\n",
    "from sklearn.model_selection import StratifiedShuffleSplit\n",
    "\n",
    "features = \"dataset2_features.csv\"\n",
    "features = pd.read_csv(features, sep=',', header=0, index_col=None)\n",
    "Y = features[['labels']]\n",
    "\n",
    "X_all = features.drop('labels', axis=1)\n",
    "all_pre= ['3_','4_','6_','7_','10_','11_','12_','15_','16_','18_','25_','26_','27_','28_','29_','30_','33_','34_']\n",
    "X_all_pre=X_all[[col for col in X_all.columns if any(col.startswith(prefix) for prefix in all_pre)]]\n",
    "all_post=  ['1_','2_','5_','7_','8_','9_','12_','13_','14_','17_','19_','20_','21_','22_','23_','24_','31_','32_','35_','36_']\n",
    "X_all_post=X_all[[col for col in X_all.columns if any(col.startswith(prefix) for prefix in all_post)]]\n",
    "print('All Features:')\n",
    "print('Total: ' + str(len(X_all.columns))) \n",
    "print('Pre: ' + str(len(X_all_pre.columns)))\n",
    "print('Post: ' + str(len(X_all_post.columns)))\n",
    "\n",
    "theta_prefixes= ['1_','2_','3_','4_','5_','6_','7_','8_','9_','10_','11_','12_','13_','14_','15_','16_','17_','18_']\n",
    "X_theta= X_all[[col for col in X_all.columns if any(col.startswith(prefix) for prefix in theta_prefixes)]]\n",
    "theta_pre= ['3_','4_','6_','7_','10_','11_','12_','15_','16_','18_']\n",
    "X_theta_pre= X_theta[[col for col in X_theta.columns if any(col.startswith(prefix) for prefix in theta_pre)]]\n",
    "theta_post= ['1_','2_','5_','7_','8_','9_','12_','13_','14_','17_']\n",
    "X_theta_post= X_theta[[col for col in X_theta.columns if any(col.startswith(prefix) for prefix in theta_post)]]\n",
    "print('Theta Features:')\n",
    "print('Total: ' + str(len(X_theta.columns)))\n",
    "print('Pre: ' + str(len(X_theta_pre.columns)))\n",
    "print('Post: ' + str(len(X_theta_post.columns)))\n",
    "\n",
    "frequency_prefixes= ['1_','2_','3_','4_','5_','6_','7_','8_','9_','10_','11_','12_','13_','14_','15_','16_','17_','18_','19_','20_','21_','22_','23_','24_','25_','26_','27_','28_','29_','30_']\n",
    "X_frequency= X_all[[col for col in X_all.columns if any(col.startswith(prefix) for prefix in frequency_prefixes)]]\n",
    "frequency_pre=['3_','4_','6_','7_','10_','11_','12_','15_','16_','18_','25_','26_','27_','28_','29_','30_']\n",
    "X_frequency_pre= X_frequency[[col for col in X_frequency.columns if any(col.startswith(prefix) for prefix in frequency_pre)]]\n",
    "frequency_post=['1_','2_','5_','7_','8_','9_','12_','13_','14_','17_','19_','20_','21_','22_','23_','24_']\n",
    "X_frequency_post= X_frequency[[col for col in X_frequency.columns if any(col.startswith(prefix) for prefix in frequency_post)]]\n",
    "print('Frequency Features:')\n",
    "print('Total: ' + str(len(X_frequency.columns)))\n",
    "print('Pre: ' + str(len(X_frequency_pre.columns)))\n",
    "print('Post: ' + str(len(X_frequency_post.columns)))\n",
    "\n",
    "temporal_prefixes= ['31_','32_','33_','34_','35_','36_']\n",
    "X_temporal= X_all[[col for col in X_all.columns if any(col.startswith(prefix) for prefix in temporal_prefixes)]]\n",
    "temporal_pre= ['33_','34_']\n",
    "X_temporal_pre= X_temporal[[col for col in X_temporal.columns if any(col.startswith(prefix) for prefix in temporal_pre)]] \n",
    "temporal_post= ['31_','32_','35_','36_']\n",
    "X_temporal_post= X_temporal[[col for col in X_temporal.columns if any(col.startswith(prefix) for prefix in temporal_post)]]\n",
    "print('Temporal Features:')\n",
    "print('Total: ' + str(len(X_temporal.columns)))\n",
    "print('Pre: ' + str(len(X_temporal_pre.columns)))\n",
    "print('Post: ' + str(len(X_temporal_post.columns)))\n"
   ]
  },
  {
   "cell_type": "code",
   "execution_count": null,
   "metadata": {},
   "outputs": [],
   "source": [
    "from importlib import reload\n",
    "reload(src)"
   ]
  },
  {
   "cell_type": "markdown",
   "metadata": {},
   "source": [
    "### Theta Features"
   ]
  },
  {
   "cell_type": "code",
   "execution_count": null,
   "metadata": {},
   "outputs": [],
   "source": [
    "with open('best_theta_features.txt', 'r') as file:\n",
    "    best_theta_features = file.read().split(', ')\n",
    "\n",
    "X= X_theta[best_theta_features]\n",
    "src.classification(len(best_theta_features),X,Y)"
   ]
  },
  {
   "cell_type": "markdown",
   "metadata": {},
   "source": [
    "### Frequency Features"
   ]
  },
  {
   "cell_type": "code",
   "execution_count": null,
   "metadata": {},
   "outputs": [],
   "source": [
    "with open('best_frequency_features.txt', 'r') as file:\n",
    "    best_frequency_features = file.read().split(', ')\n",
    "\n",
    "X= X_frequency[best_frequency_features]\n",
    "src.classification(len(best_frequency_features),X,Y)"
   ]
  },
  {
   "cell_type": "markdown",
   "metadata": {},
   "source": [
    "### Temporal Features"
   ]
  },
  {
   "cell_type": "code",
   "execution_count": null,
   "metadata": {},
   "outputs": [],
   "source": [
    "with open('best_temporal_features.txt', 'r') as file:\n",
    "    best_temporal_features = file.read().split(', ')\n",
    "\n",
    "X= X_temporal[best_temporal_features]\n",
    "src.classification(len(best_temporal_features),X,Y)"
   ]
  },
  {
   "cell_type": "markdown",
   "metadata": {},
   "source": [
    "### All Features"
   ]
  },
  {
   "cell_type": "code",
   "execution_count": null,
   "metadata": {},
   "outputs": [],
   "source": [
    "with open('best_all_features.txt', 'r') as file:\n",
    "    best_all_features = file.read().split(', ')\n",
    "\n",
    "X= X_all[best_all_features]\n",
    "print(best_all_features)\n",
    "params= {'C': 1, 'gamma': 1, 'kernel': 'rbf'}\n",
    "test_size=0.1\n",
    "bal_acc=src.classification(len(best_all_features),X,Y, params,test_size)"
   ]
  },
  {
   "cell_type": "code",
   "execution_count": null,
   "metadata": {},
   "outputs": [],
   "source": [
    "bal_acc #teste de proporções, testar quao acima do chance level está\n",
    "#ROC curve\n",
    "#R^2\n",
    "# Best parameters found: {'C': 1, 'gamma': 1, 'kernel': 'rbf'}\n",
    "param_grid = {\n",
    "    'C': [0.1, 1, 10],\n",
    "    'gamma': [1, 0.1, 0.01, 0.001, 0.0001],\n",
    "    'kernel': ['rbf', 'poly']\n",
    "}"
   ]
  }
 ],
 "metadata": {
  "kernelspec": {
   "display_name": "Python 3",
   "language": "python",
   "name": "python3"
  },
  "language_info": {
   "codemirror_mode": {
    "name": "ipython",
    "version": 3
   },
   "file_extension": ".py",
   "mimetype": "text/x-python",
   "name": "python",
   "nbconvert_exporter": "python",
   "pygments_lexer": "ipython3",
   "version": "3.11.9"
  }
 },
 "nbformat": 4,
 "nbformat_minor": 2
}
