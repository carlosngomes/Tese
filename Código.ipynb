{
 "cells": [
  {
   "cell_type": "markdown",
   "metadata": {},
   "source": [
    "# Obtaining Data"
   ]
  },
  {
   "cell_type": "code",
   "execution_count": 11,
   "metadata": {},
   "outputs": [],
   "source": [
    "import os\n",
    "import numpy as np\n",
    "import mne\n",
    "import matplotlib.pyplot as plt\n",
    "import scipy.signal as signal\n",
    "\n",
    "\n",
    "files = os.listdir('data')\n",
    "file = [item for item in files if item.endswith('set')]\n",
    "fs=500\n",
    "freq_bands={'delta' : [0,4],\n",
    "            'theta' : [4,8],\n",
    "            'alpha' : [8, 13],\n",
    "            'beta' : [13,35],\n",
    "            'high' : [35, 45],\n",
    "            'all': [1.5,45],\n",
    "            'low': [1.5,12]}"
   ]
  },
  {
   "cell_type": "code",
   "execution_count": 12,
   "metadata": {},
   "outputs": [
    {
     "name": "stdout",
     "output_type": "stream",
     "text": [
      "Extracting parameters from c:\\Users\\User\\Documents\\GitHub\\Tese\\data\\P01.set...\n",
      "Not setting metadata\n",
      "228 matching events found\n",
      "No baseline correction applied\n",
      "0 projection items activated\n",
      "Ready.\n"
     ]
    },
    {
     "name": "stderr",
     "output_type": "stream",
     "text": [
      "C:\\Users\\User\\AppData\\Local\\Temp\\ipykernel_15224\\1187599051.py:6: RuntimeWarning: At least one epoch has multiple events. Only the latency of the first event will be retained.\n",
      "  dados = mne.read_epochs_eeglab(path_)\n",
      "C:\\Users\\User\\AppData\\Local\\Temp\\ipykernel_15224\\1187599051.py:11: FutureWarning: The current default of copy=False will change to copy=True in 1.7. Set the value of copy explicitly to avoid this warning\n",
      "  proCorr_antiCorr_labels = len(dados['proCorr','antiCorr'].get_data())\n",
      "C:\\Users\\User\\AppData\\Local\\Temp\\ipykernel_15224\\1187599051.py:12: FutureWarning: The current default of copy=False will change to copy=True in 1.7. Set the value of copy explicitly to avoid this warning\n",
      "  proErr_antiErr_nogoErr_labels = len(dados['proErr','antiErr','nogoErr'].get_data())\n",
      "C:\\Users\\User\\AppData\\Local\\Temp\\ipykernel_15224\\1187599051.py:19: FutureWarning: The current default of copy=False will change to copy=True in 1.7. Set the value of copy explicitly to avoid this warning\n",
      "  for epoch_values in dados['proCorr','antiCorr'].get_data():\n"
     ]
    },
    {
     "name": "stdout",
     "output_type": "stream",
     "text": [
      "Extracting parameters from c:\\Users\\User\\Documents\\GitHub\\Tese\\data\\P02.set...\n",
      "Not setting metadata\n"
     ]
    },
    {
     "name": "stderr",
     "output_type": "stream",
     "text": [
      "C:\\Users\\User\\AppData\\Local\\Temp\\ipykernel_15224\\1187599051.py:27: FutureWarning: The current default of copy=False will change to copy=True in 1.7. Set the value of copy explicitly to avoid this warning\n",
      "  for epoch_values in dados['proErr','antiErr','nogoErr'].get_data():\n",
      "C:\\Users\\User\\AppData\\Local\\Temp\\ipykernel_15224\\1187599051.py:6: RuntimeWarning: At least one epoch has multiple events. Only the latency of the first event will be retained.\n",
      "  dados = mne.read_epochs_eeglab(path_)\n"
     ]
    },
    {
     "name": "stdout",
     "output_type": "stream",
     "text": [
      "207 matching events found\n",
      "No baseline correction applied\n",
      "0 projection items activated\n",
      "Ready.\n"
     ]
    },
    {
     "name": "stderr",
     "output_type": "stream",
     "text": [
      "C:\\Users\\User\\AppData\\Local\\Temp\\ipykernel_15224\\1187599051.py:11: FutureWarning: The current default of copy=False will change to copy=True in 1.7. Set the value of copy explicitly to avoid this warning\n",
      "  proCorr_antiCorr_labels = len(dados['proCorr','antiCorr'].get_data())\n",
      "C:\\Users\\User\\AppData\\Local\\Temp\\ipykernel_15224\\1187599051.py:12: FutureWarning: The current default of copy=False will change to copy=True in 1.7. Set the value of copy explicitly to avoid this warning\n",
      "  proErr_antiErr_nogoErr_labels = len(dados['proErr','antiErr','nogoErr'].get_data())\n",
      "C:\\Users\\User\\AppData\\Local\\Temp\\ipykernel_15224\\1187599051.py:19: FutureWarning: The current default of copy=False will change to copy=True in 1.7. Set the value of copy explicitly to avoid this warning\n",
      "  for epoch_values in dados['proCorr','antiCorr'].get_data():\n"
     ]
    },
    {
     "name": "stdout",
     "output_type": "stream",
     "text": [
      "Extracting parameters from c:\\Users\\User\\Documents\\GitHub\\Tese\\data\\P03.set...\n",
      "Not setting metadata\n"
     ]
    },
    {
     "name": "stderr",
     "output_type": "stream",
     "text": [
      "C:\\Users\\User\\AppData\\Local\\Temp\\ipykernel_15224\\1187599051.py:27: FutureWarning: The current default of copy=False will change to copy=True in 1.7. Set the value of copy explicitly to avoid this warning\n",
      "  for epoch_values in dados['proErr','antiErr','nogoErr'].get_data():\n",
      "C:\\Users\\User\\AppData\\Local\\Temp\\ipykernel_15224\\1187599051.py:6: RuntimeWarning: At least one epoch has multiple events. Only the latency of the first event will be retained.\n",
      "  dados = mne.read_epochs_eeglab(path_)\n"
     ]
    },
    {
     "name": "stdout",
     "output_type": "stream",
     "text": [
      "170 matching events found\n",
      "No baseline correction applied\n",
      "0 projection items activated\n",
      "Ready.\n"
     ]
    },
    {
     "name": "stderr",
     "output_type": "stream",
     "text": [
      "C:\\Users\\User\\AppData\\Local\\Temp\\ipykernel_15224\\1187599051.py:11: FutureWarning: The current default of copy=False will change to copy=True in 1.7. Set the value of copy explicitly to avoid this warning\n",
      "  proCorr_antiCorr_labels = len(dados['proCorr','antiCorr'].get_data())\n",
      "C:\\Users\\User\\AppData\\Local\\Temp\\ipykernel_15224\\1187599051.py:12: FutureWarning: The current default of copy=False will change to copy=True in 1.7. Set the value of copy explicitly to avoid this warning\n",
      "  proErr_antiErr_nogoErr_labels = len(dados['proErr','antiErr','nogoErr'].get_data())\n",
      "C:\\Users\\User\\AppData\\Local\\Temp\\ipykernel_15224\\1187599051.py:19: FutureWarning: The current default of copy=False will change to copy=True in 1.7. Set the value of copy explicitly to avoid this warning\n",
      "  for epoch_values in dados['proCorr','antiCorr'].get_data():\n"
     ]
    },
    {
     "name": "stdout",
     "output_type": "stream",
     "text": [
      "Extracting parameters from c:\\Users\\User\\Documents\\GitHub\\Tese\\data\\P04.set...\n",
      "Not setting metadata\n"
     ]
    },
    {
     "name": "stderr",
     "output_type": "stream",
     "text": [
      "C:\\Users\\User\\AppData\\Local\\Temp\\ipykernel_15224\\1187599051.py:27: FutureWarning: The current default of copy=False will change to copy=True in 1.7. Set the value of copy explicitly to avoid this warning\n",
      "  for epoch_values in dados['proErr','antiErr','nogoErr'].get_data():\n",
      "C:\\Users\\User\\AppData\\Local\\Temp\\ipykernel_15224\\1187599051.py:6: RuntimeWarning: At least one epoch has multiple events. Only the latency of the first event will be retained.\n",
      "  dados = mne.read_epochs_eeglab(path_)\n"
     ]
    },
    {
     "name": "stdout",
     "output_type": "stream",
     "text": [
      "205 matching events found\n",
      "No baseline correction applied\n",
      "0 projection items activated\n",
      "Ready.\n"
     ]
    },
    {
     "name": "stderr",
     "output_type": "stream",
     "text": [
      "C:\\Users\\User\\AppData\\Local\\Temp\\ipykernel_15224\\1187599051.py:11: FutureWarning: The current default of copy=False will change to copy=True in 1.7. Set the value of copy explicitly to avoid this warning\n",
      "  proCorr_antiCorr_labels = len(dados['proCorr','antiCorr'].get_data())\n",
      "C:\\Users\\User\\AppData\\Local\\Temp\\ipykernel_15224\\1187599051.py:12: FutureWarning: The current default of copy=False will change to copy=True in 1.7. Set the value of copy explicitly to avoid this warning\n",
      "  proErr_antiErr_nogoErr_labels = len(dados['proErr','antiErr','nogoErr'].get_data())\n",
      "C:\\Users\\User\\AppData\\Local\\Temp\\ipykernel_15224\\1187599051.py:19: FutureWarning: The current default of copy=False will change to copy=True in 1.7. Set the value of copy explicitly to avoid this warning\n",
      "  for epoch_values in dados['proCorr','antiCorr'].get_data():\n"
     ]
    },
    {
     "name": "stdout",
     "output_type": "stream",
     "text": [
      "Extracting parameters from c:\\Users\\User\\Documents\\GitHub\\Tese\\data\\P05.set...\n",
      "Not setting metadata\n",
      "240 matching events found\n",
      "No baseline correction applied\n"
     ]
    },
    {
     "name": "stderr",
     "output_type": "stream",
     "text": [
      "C:\\Users\\User\\AppData\\Local\\Temp\\ipykernel_15224\\1187599051.py:27: FutureWarning: The current default of copy=False will change to copy=True in 1.7. Set the value of copy explicitly to avoid this warning\n",
      "  for epoch_values in dados['proErr','antiErr','nogoErr'].get_data():\n",
      "C:\\Users\\User\\AppData\\Local\\Temp\\ipykernel_15224\\1187599051.py:6: RuntimeWarning: At least one epoch has multiple events. Only the latency of the first event will be retained.\n",
      "  dados = mne.read_epochs_eeglab(path_)\n"
     ]
    },
    {
     "name": "stdout",
     "output_type": "stream",
     "text": [
      "0 projection items activated\n",
      "Ready.\n"
     ]
    },
    {
     "name": "stderr",
     "output_type": "stream",
     "text": [
      "C:\\Users\\User\\AppData\\Local\\Temp\\ipykernel_15224\\1187599051.py:11: FutureWarning: The current default of copy=False will change to copy=True in 1.7. Set the value of copy explicitly to avoid this warning\n",
      "  proCorr_antiCorr_labels = len(dados['proCorr','antiCorr'].get_data())\n",
      "C:\\Users\\User\\AppData\\Local\\Temp\\ipykernel_15224\\1187599051.py:12: FutureWarning: The current default of copy=False will change to copy=True in 1.7. Set the value of copy explicitly to avoid this warning\n",
      "  proErr_antiErr_nogoErr_labels = len(dados['proErr','antiErr','nogoErr'].get_data())\n",
      "C:\\Users\\User\\AppData\\Local\\Temp\\ipykernel_15224\\1187599051.py:19: FutureWarning: The current default of copy=False will change to copy=True in 1.7. Set the value of copy explicitly to avoid this warning\n",
      "  for epoch_values in dados['proCorr','antiCorr'].get_data():\n",
      "C:\\Users\\User\\AppData\\Local\\Temp\\ipykernel_15224\\1187599051.py:27: FutureWarning: The current default of copy=False will change to copy=True in 1.7. Set the value of copy explicitly to avoid this warning\n",
      "  for epoch_values in dados['proErr','antiErr','nogoErr'].get_data():\n"
     ]
    },
    {
     "name": "stdout",
     "output_type": "stream",
     "text": [
      "Extracting parameters from c:\\Users\\User\\Documents\\GitHub\\Tese\\data\\P07.set...\n",
      "Not setting metadata\n",
      "195 matching events found\n",
      "No baseline correction applied\n",
      "0 projection items activated\n",
      "Ready.\n"
     ]
    },
    {
     "name": "stderr",
     "output_type": "stream",
     "text": [
      "C:\\Users\\User\\AppData\\Local\\Temp\\ipykernel_15224\\1187599051.py:6: RuntimeWarning: At least one epoch has multiple events. Only the latency of the first event will be retained.\n",
      "  dados = mne.read_epochs_eeglab(path_)\n",
      "C:\\Users\\User\\AppData\\Local\\Temp\\ipykernel_15224\\1187599051.py:11: FutureWarning: The current default of copy=False will change to copy=True in 1.7. Set the value of copy explicitly to avoid this warning\n",
      "  proCorr_antiCorr_labels = len(dados['proCorr','antiCorr'].get_data())\n",
      "C:\\Users\\User\\AppData\\Local\\Temp\\ipykernel_15224\\1187599051.py:12: FutureWarning: The current default of copy=False will change to copy=True in 1.7. Set the value of copy explicitly to avoid this warning\n",
      "  proErr_antiErr_nogoErr_labels = len(dados['proErr','antiErr','nogoErr'].get_data())\n",
      "C:\\Users\\User\\AppData\\Local\\Temp\\ipykernel_15224\\1187599051.py:19: FutureWarning: The current default of copy=False will change to copy=True in 1.7. Set the value of copy explicitly to avoid this warning\n",
      "  for epoch_values in dados['proCorr','antiCorr'].get_data():\n",
      "C:\\Users\\User\\AppData\\Local\\Temp\\ipykernel_15224\\1187599051.py:27: FutureWarning: The current default of copy=False will change to copy=True in 1.7. Set the value of copy explicitly to avoid this warning\n",
      "  for epoch_values in dados['proErr','antiErr','nogoErr'].get_data():\n"
     ]
    },
    {
     "name": "stdout",
     "output_type": "stream",
     "text": [
      "Extracting parameters from c:\\Users\\User\\Documents\\GitHub\\Tese\\data\\P08.set...\n",
      "Not setting metadata\n",
      "216 matching events found\n",
      "No baseline correction applied\n",
      "0 projection items activated\n",
      "Ready.\n"
     ]
    },
    {
     "name": "stderr",
     "output_type": "stream",
     "text": [
      "C:\\Users\\User\\AppData\\Local\\Temp\\ipykernel_15224\\1187599051.py:6: RuntimeWarning: At least one epoch has multiple events. Only the latency of the first event will be retained.\n",
      "  dados = mne.read_epochs_eeglab(path_)\n",
      "C:\\Users\\User\\AppData\\Local\\Temp\\ipykernel_15224\\1187599051.py:11: FutureWarning: The current default of copy=False will change to copy=True in 1.7. Set the value of copy explicitly to avoid this warning\n",
      "  proCorr_antiCorr_labels = len(dados['proCorr','antiCorr'].get_data())\n",
      "C:\\Users\\User\\AppData\\Local\\Temp\\ipykernel_15224\\1187599051.py:12: FutureWarning: The current default of copy=False will change to copy=True in 1.7. Set the value of copy explicitly to avoid this warning\n",
      "  proErr_antiErr_nogoErr_labels = len(dados['proErr','antiErr','nogoErr'].get_data())\n",
      "C:\\Users\\User\\AppData\\Local\\Temp\\ipykernel_15224\\1187599051.py:19: FutureWarning: The current default of copy=False will change to copy=True in 1.7. Set the value of copy explicitly to avoid this warning\n",
      "  for epoch_values in dados['proCorr','antiCorr'].get_data():\n"
     ]
    },
    {
     "name": "stdout",
     "output_type": "stream",
     "text": [
      "Extracting parameters from c:\\Users\\User\\Documents\\GitHub\\Tese\\data\\P10.set...\n",
      "Not setting metadata\n",
      "217 matching events found\n",
      "No baseline correction applied\n"
     ]
    },
    {
     "name": "stderr",
     "output_type": "stream",
     "text": [
      "C:\\Users\\User\\AppData\\Local\\Temp\\ipykernel_15224\\1187599051.py:27: FutureWarning: The current default of copy=False will change to copy=True in 1.7. Set the value of copy explicitly to avoid this warning\n",
      "  for epoch_values in dados['proErr','antiErr','nogoErr'].get_data():\n",
      "C:\\Users\\User\\AppData\\Local\\Temp\\ipykernel_15224\\1187599051.py:6: RuntimeWarning: At least one epoch has multiple events. Only the latency of the first event will be retained.\n",
      "  dados = mne.read_epochs_eeglab(path_)\n"
     ]
    },
    {
     "name": "stdout",
     "output_type": "stream",
     "text": [
      "0 projection items activated\n",
      "Ready.\n"
     ]
    },
    {
     "name": "stderr",
     "output_type": "stream",
     "text": [
      "C:\\Users\\User\\AppData\\Local\\Temp\\ipykernel_15224\\1187599051.py:11: FutureWarning: The current default of copy=False will change to copy=True in 1.7. Set the value of copy explicitly to avoid this warning\n",
      "  proCorr_antiCorr_labels = len(dados['proCorr','antiCorr'].get_data())\n",
      "C:\\Users\\User\\AppData\\Local\\Temp\\ipykernel_15224\\1187599051.py:12: FutureWarning: The current default of copy=False will change to copy=True in 1.7. Set the value of copy explicitly to avoid this warning\n",
      "  proErr_antiErr_nogoErr_labels = len(dados['proErr','antiErr','nogoErr'].get_data())\n",
      "C:\\Users\\User\\AppData\\Local\\Temp\\ipykernel_15224\\1187599051.py:19: FutureWarning: The current default of copy=False will change to copy=True in 1.7. Set the value of copy explicitly to avoid this warning\n",
      "  for epoch_values in dados['proCorr','antiCorr'].get_data():\n"
     ]
    },
    {
     "name": "stdout",
     "output_type": "stream",
     "text": [
      "Extracting parameters from c:\\Users\\User\\Documents\\GitHub\\Tese\\data\\P11.set...\n",
      "Not setting metadata\n",
      "220 matching events found\n",
      "No baseline correction applied\n"
     ]
    },
    {
     "name": "stderr",
     "output_type": "stream",
     "text": [
      "C:\\Users\\User\\AppData\\Local\\Temp\\ipykernel_15224\\1187599051.py:27: FutureWarning: The current default of copy=False will change to copy=True in 1.7. Set the value of copy explicitly to avoid this warning\n",
      "  for epoch_values in dados['proErr','antiErr','nogoErr'].get_data():\n",
      "C:\\Users\\User\\AppData\\Local\\Temp\\ipykernel_15224\\1187599051.py:6: RuntimeWarning: At least one epoch has multiple events. Only the latency of the first event will be retained.\n",
      "  dados = mne.read_epochs_eeglab(path_)\n"
     ]
    },
    {
     "name": "stdout",
     "output_type": "stream",
     "text": [
      "0 projection items activated\n",
      "Ready.\n"
     ]
    },
    {
     "name": "stderr",
     "output_type": "stream",
     "text": [
      "C:\\Users\\User\\AppData\\Local\\Temp\\ipykernel_15224\\1187599051.py:11: FutureWarning: The current default of copy=False will change to copy=True in 1.7. Set the value of copy explicitly to avoid this warning\n",
      "  proCorr_antiCorr_labels = len(dados['proCorr','antiCorr'].get_data())\n",
      "C:\\Users\\User\\AppData\\Local\\Temp\\ipykernel_15224\\1187599051.py:12: FutureWarning: The current default of copy=False will change to copy=True in 1.7. Set the value of copy explicitly to avoid this warning\n",
      "  proErr_antiErr_nogoErr_labels = len(dados['proErr','antiErr','nogoErr'].get_data())\n",
      "C:\\Users\\User\\AppData\\Local\\Temp\\ipykernel_15224\\1187599051.py:19: FutureWarning: The current default of copy=False will change to copy=True in 1.7. Set the value of copy explicitly to avoid this warning\n",
      "  for epoch_values in dados['proCorr','antiCorr'].get_data():\n"
     ]
    },
    {
     "name": "stdout",
     "output_type": "stream",
     "text": [
      "Extracting parameters from c:\\Users\\User\\Documents\\GitHub\\Tese\\data\\P13.set...\n",
      "Not setting metadata\n"
     ]
    },
    {
     "name": "stderr",
     "output_type": "stream",
     "text": [
      "C:\\Users\\User\\AppData\\Local\\Temp\\ipykernel_15224\\1187599051.py:27: FutureWarning: The current default of copy=False will change to copy=True in 1.7. Set the value of copy explicitly to avoid this warning\n",
      "  for epoch_values in dados['proErr','antiErr','nogoErr'].get_data():\n",
      "C:\\Users\\User\\AppData\\Local\\Temp\\ipykernel_15224\\1187599051.py:6: RuntimeWarning: At least one epoch has multiple events. Only the latency of the first event will be retained.\n",
      "  dados = mne.read_epochs_eeglab(path_)\n"
     ]
    },
    {
     "name": "stdout",
     "output_type": "stream",
     "text": [
      "221 matching events found\n",
      "No baseline correction applied\n",
      "0 projection items activated\n",
      "Ready.\n"
     ]
    },
    {
     "name": "stderr",
     "output_type": "stream",
     "text": [
      "C:\\Users\\User\\AppData\\Local\\Temp\\ipykernel_15224\\1187599051.py:11: FutureWarning: The current default of copy=False will change to copy=True in 1.7. Set the value of copy explicitly to avoid this warning\n",
      "  proCorr_antiCorr_labels = len(dados['proCorr','antiCorr'].get_data())\n",
      "C:\\Users\\User\\AppData\\Local\\Temp\\ipykernel_15224\\1187599051.py:12: FutureWarning: The current default of copy=False will change to copy=True in 1.7. Set the value of copy explicitly to avoid this warning\n",
      "  proErr_antiErr_nogoErr_labels = len(dados['proErr','antiErr','nogoErr'].get_data())\n",
      "C:\\Users\\User\\AppData\\Local\\Temp\\ipykernel_15224\\1187599051.py:19: FutureWarning: The current default of copy=False will change to copy=True in 1.7. Set the value of copy explicitly to avoid this warning\n",
      "  for epoch_values in dados['proCorr','antiCorr'].get_data():\n"
     ]
    },
    {
     "name": "stdout",
     "output_type": "stream",
     "text": [
      "Extracting parameters from c:\\Users\\User\\Documents\\GitHub\\Tese\\data\\P14.set...\n"
     ]
    },
    {
     "name": "stderr",
     "output_type": "stream",
     "text": [
      "C:\\Users\\User\\AppData\\Local\\Temp\\ipykernel_15224\\1187599051.py:27: FutureWarning: The current default of copy=False will change to copy=True in 1.7. Set the value of copy explicitly to avoid this warning\n",
      "  for epoch_values in dados['proErr','antiErr','nogoErr'].get_data():\n",
      "C:\\Users\\User\\AppData\\Local\\Temp\\ipykernel_15224\\1187599051.py:6: RuntimeWarning: At least one epoch has multiple events. Only the latency of the first event will be retained.\n",
      "  dados = mne.read_epochs_eeglab(path_)\n"
     ]
    },
    {
     "name": "stdout",
     "output_type": "stream",
     "text": [
      "Not setting metadata\n",
      "221 matching events found\n",
      "No baseline correction applied\n",
      "0 projection items activated\n",
      "Ready.\n"
     ]
    },
    {
     "name": "stderr",
     "output_type": "stream",
     "text": [
      "C:\\Users\\User\\AppData\\Local\\Temp\\ipykernel_15224\\1187599051.py:11: FutureWarning: The current default of copy=False will change to copy=True in 1.7. Set the value of copy explicitly to avoid this warning\n",
      "  proCorr_antiCorr_labels = len(dados['proCorr','antiCorr'].get_data())\n",
      "C:\\Users\\User\\AppData\\Local\\Temp\\ipykernel_15224\\1187599051.py:12: FutureWarning: The current default of copy=False will change to copy=True in 1.7. Set the value of copy explicitly to avoid this warning\n",
      "  proErr_antiErr_nogoErr_labels = len(dados['proErr','antiErr','nogoErr'].get_data())\n",
      "C:\\Users\\User\\AppData\\Local\\Temp\\ipykernel_15224\\1187599051.py:19: FutureWarning: The current default of copy=False will change to copy=True in 1.7. Set the value of copy explicitly to avoid this warning\n",
      "  for epoch_values in dados['proCorr','antiCorr'].get_data():\n"
     ]
    },
    {
     "name": "stdout",
     "output_type": "stream",
     "text": [
      "Extracting parameters from c:\\Users\\User\\Documents\\GitHub\\Tese\\data\\P15.set...\n",
      "Not setting metadata\n",
      "109 matching events found\n",
      "No baseline correction applied\n",
      "0 projection items activated\n",
      "Ready.\n"
     ]
    },
    {
     "name": "stderr",
     "output_type": "stream",
     "text": [
      "C:\\Users\\User\\AppData\\Local\\Temp\\ipykernel_15224\\1187599051.py:27: FutureWarning: The current default of copy=False will change to copy=True in 1.7. Set the value of copy explicitly to avoid this warning\n",
      "  for epoch_values in dados['proErr','antiErr','nogoErr'].get_data():\n",
      "C:\\Users\\User\\AppData\\Local\\Temp\\ipykernel_15224\\1187599051.py:6: RuntimeWarning: At least one epoch has multiple events. Only the latency of the first event will be retained.\n",
      "  dados = mne.read_epochs_eeglab(path_)\n",
      "C:\\Users\\User\\AppData\\Local\\Temp\\ipykernel_15224\\1187599051.py:11: FutureWarning: The current default of copy=False will change to copy=True in 1.7. Set the value of copy explicitly to avoid this warning\n",
      "  proCorr_antiCorr_labels = len(dados['proCorr','antiCorr'].get_data())\n",
      "C:\\Users\\User\\AppData\\Local\\Temp\\ipykernel_15224\\1187599051.py:12: FutureWarning: The current default of copy=False will change to copy=True in 1.7. Set the value of copy explicitly to avoid this warning\n",
      "  proErr_antiErr_nogoErr_labels = len(dados['proErr','antiErr','nogoErr'].get_data())\n",
      "C:\\Users\\User\\AppData\\Local\\Temp\\ipykernel_15224\\1187599051.py:19: FutureWarning: The current default of copy=False will change to copy=True in 1.7. Set the value of copy explicitly to avoid this warning\n",
      "  for epoch_values in dados['proCorr','antiCorr'].get_data():\n",
      "C:\\Users\\User\\AppData\\Local\\Temp\\ipykernel_15224\\1187599051.py:27: FutureWarning: The current default of copy=False will change to copy=True in 1.7. Set the value of copy explicitly to avoid this warning\n",
      "  for epoch_values in dados['proErr','antiErr','nogoErr'].get_data():\n"
     ]
    },
    {
     "name": "stdout",
     "output_type": "stream",
     "text": [
      "Extracting parameters from c:\\Users\\User\\Documents\\GitHub\\Tese\\data\\P16.set...\n",
      "Not setting metadata\n",
      "223 matching events found\n",
      "No baseline correction applied\n",
      "0 projection items activated\n",
      "Ready.\n"
     ]
    },
    {
     "name": "stderr",
     "output_type": "stream",
     "text": [
      "C:\\Users\\User\\AppData\\Local\\Temp\\ipykernel_15224\\1187599051.py:6: RuntimeWarning: At least one epoch has multiple events. Only the latency of the first event will be retained.\n",
      "  dados = mne.read_epochs_eeglab(path_)\n",
      "C:\\Users\\User\\AppData\\Local\\Temp\\ipykernel_15224\\1187599051.py:11: FutureWarning: The current default of copy=False will change to copy=True in 1.7. Set the value of copy explicitly to avoid this warning\n",
      "  proCorr_antiCorr_labels = len(dados['proCorr','antiCorr'].get_data())\n",
      "C:\\Users\\User\\AppData\\Local\\Temp\\ipykernel_15224\\1187599051.py:12: FutureWarning: The current default of copy=False will change to copy=True in 1.7. Set the value of copy explicitly to avoid this warning\n",
      "  proErr_antiErr_nogoErr_labels = len(dados['proErr','antiErr','nogoErr'].get_data())\n",
      "C:\\Users\\User\\AppData\\Local\\Temp\\ipykernel_15224\\1187599051.py:19: FutureWarning: The current default of copy=False will change to copy=True in 1.7. Set the value of copy explicitly to avoid this warning\n",
      "  for epoch_values in dados['proCorr','antiCorr'].get_data():\n"
     ]
    },
    {
     "name": "stdout",
     "output_type": "stream",
     "text": [
      "Extracting parameters from c:\\Users\\User\\Documents\\GitHub\\Tese\\data\\P19.set...\n",
      "Not setting metadata\n",
      "111 matching events found\n",
      "No baseline correction applied\n",
      "0 projection items activated\n"
     ]
    },
    {
     "name": "stderr",
     "output_type": "stream",
     "text": [
      "C:\\Users\\User\\AppData\\Local\\Temp\\ipykernel_15224\\1187599051.py:27: FutureWarning: The current default of copy=False will change to copy=True in 1.7. Set the value of copy explicitly to avoid this warning\n",
      "  for epoch_values in dados['proErr','antiErr','nogoErr'].get_data():\n",
      "C:\\Users\\User\\AppData\\Local\\Temp\\ipykernel_15224\\1187599051.py:6: RuntimeWarning: At least one epoch has multiple events. Only the latency of the first event will be retained.\n",
      "  dados = mne.read_epochs_eeglab(path_)\n"
     ]
    },
    {
     "name": "stdout",
     "output_type": "stream",
     "text": [
      "Ready.\n"
     ]
    },
    {
     "name": "stderr",
     "output_type": "stream",
     "text": [
      "C:\\Users\\User\\AppData\\Local\\Temp\\ipykernel_15224\\1187599051.py:11: FutureWarning: The current default of copy=False will change to copy=True in 1.7. Set the value of copy explicitly to avoid this warning\n",
      "  proCorr_antiCorr_labels = len(dados['proCorr','antiCorr'].get_data())\n",
      "C:\\Users\\User\\AppData\\Local\\Temp\\ipykernel_15224\\1187599051.py:12: FutureWarning: The current default of copy=False will change to copy=True in 1.7. Set the value of copy explicitly to avoid this warning\n",
      "  proErr_antiErr_nogoErr_labels = len(dados['proErr','antiErr','nogoErr'].get_data())\n",
      "C:\\Users\\User\\AppData\\Local\\Temp\\ipykernel_15224\\1187599051.py:19: FutureWarning: The current default of copy=False will change to copy=True in 1.7. Set the value of copy explicitly to avoid this warning\n",
      "  for epoch_values in dados['proCorr','antiCorr'].get_data():\n",
      "C:\\Users\\User\\AppData\\Local\\Temp\\ipykernel_15224\\1187599051.py:27: FutureWarning: The current default of copy=False will change to copy=True in 1.7. Set the value of copy explicitly to avoid this warning\n",
      "  for epoch_values in dados['proErr','antiErr','nogoErr'].get_data():\n"
     ]
    }
   ],
   "source": [
    "data = {}\n",
    "labels = {}\n",
    "\n",
    "for file_index, file_name in enumerate(file):\n",
    "    path_ = os.path.join( 'data', file_name )\n",
    "    dados = mne.read_epochs_eeglab(path_)\n",
    "    channel_names = dados.info['ch_names']\n",
    "    subject_id = file_name[:3]\n",
    "    \n",
    "    # Extract labels\n",
    "    proCorr_antiCorr_labels = len(dados['proCorr','antiCorr'].get_data())\n",
    "    proErr_antiErr_nogoErr_labels = len(dados['proErr','antiErr','nogoErr'].get_data())\n",
    "    labels[subject_id] = np.array([0] * proCorr_antiCorr_labels + [1] * proErr_antiErr_nogoErr_labels)\n",
    "    \n",
    "    # Initialize channel data dictionary\n",
    "    channel_data = {}\n",
    "    \n",
    "    # Iterate over 'proCorr' and 'antiCorr' events\n",
    "    for epoch_values in dados['proCorr','antiCorr'].get_data():\n",
    "        for channel_index, channel_values in enumerate(epoch_values):\n",
    "            channel_name = channel_names[channel_index]\n",
    "            if channel_name not in channel_data:\n",
    "                channel_data[channel_name] = []\n",
    "            channel_data[channel_name].append(list(channel_values))\n",
    "    \n",
    "    # Iterate over 'proErr', 'antiErr', and 'nogoErr' events\n",
    "    for epoch_values in dados['proErr','antiErr','nogoErr'].get_data():\n",
    "        for channel_index, channel_values in enumerate(epoch_values):\n",
    "            channel_name = channel_names[channel_index]\n",
    "            if channel_name not in channel_data:\n",
    "                channel_data[channel_name] = []\n",
    "            channel_data[channel_name].append(list(channel_values))\n",
    "    \n",
    "    data[subject_id] = channel_data\n"
   ]
  },
  {
   "cell_type": "markdown",
   "metadata": {},
   "source": [
    "# Spliting into pre- and post-response"
   ]
  },
  {
   "cell_type": "code",
   "execution_count": 14,
   "metadata": {},
   "outputs": [],
   "source": [
    "pre_response={}\n",
    "post_response={}\n",
    "for subject_id, dados in data.items():\n",
    "    channel_data={}\n",
    "    for channel_name, values in dados.items():\n",
    "        values_pre=[]\n",
    "        values_post=[]\n",
    "        for i in range(len(values)):\n",
    "            \n",
    "            index= int(len(values[i])/2)\n",
    "            values_pre.append(values[i][0:index])\n",
    "            values_post.append(values[i][index:-1])\n",
    "        channel_data[channel_name]= values_pre\n",
    "        channel_data[channel_name]= values_post\n",
    "         \n",
    "    pre_response[subject_id] = channel_data #(14,60,n_events,250)\n",
    "    post_response[subject_id] = channel_data"
   ]
  },
  {
   "cell_type": "markdown",
   "metadata": {},
   "source": [
    "# Obtaining PSD"
   ]
  },
  {
   "cell_type": "code",
   "execution_count": 16,
   "metadata": {},
   "outputs": [],
   "source": [
    "def getpsd(data): #Obtains PSD\n",
    "    f={}\n",
    "    S={}\n",
    "    for name, values in data.items():\n",
    "        channel_s={}\n",
    "        for channel_name,values in values.items(): \n",
    "            f[name],channel_s[channel_name]= signal.welch(values,fs)\n",
    "        S[name]= channel_s\n",
    "    return f,S"
   ]
  },
  {
   "cell_type": "code",
   "execution_count": 17,
   "metadata": {},
   "outputs": [
    {
     "name": "stderr",
     "output_type": "stream",
     "text": [
      "C:\\Users\\User\\AppData\\Local\\Packages\\PythonSoftwareFoundation.Python.3.11_qbz5n2kfra8p0\\LocalCache\\local-packages\\Python311\\site-packages\\scipy\\signal\\_spectral_py.py:589: UserWarning: nperseg = 256 is greater than input length  = 249, using nperseg = 249\n",
      "  freqs, _, Pxy = _spectral_helper(x, y, fs, window, nperseg, noverlap,\n"
     ]
    }
   ],
   "source": [
    "f_pre,S_pre= getpsd(pre_response)    # S_pre ->(14,60,n_events,n_points)\n",
    "f_post,S_post= getpsd(post_response)"
   ]
  },
  {
   "cell_type": "markdown",
   "metadata": {},
   "source": [
    "# Sorting PSD data per subject per channel"
   ]
  },
  {
   "cell_type": "code",
   "execution_count": 18,
   "metadata": {},
   "outputs": [],
   "source": [
    "def getdataperchannel(S,channel_names): \n",
    "    data_per_channel = {}\n",
    "    for subject_id, dados in S.items():\n",
    "        channel_data={}\n",
    "        for channel_name, values in dados.items(): \n",
    "            array = []\n",
    "            for j in range(len(values)):\n",
    "                data = values[j]  # Extract data for the current channel and for each event\n",
    "                array.append(data)\n",
    "            array=np.array(array)\n",
    "            channel_data[channel_name] = array  \n",
    "        data_per_channel[subject_id] = channel_data \n",
    "    return data_per_channel         "
   ]
  },
  {
   "cell_type": "code",
   "execution_count": 19,
   "metadata": {},
   "outputs": [],
   "source": [
    "pre_data_per_channel= getdataperchannel(S_pre, channel_names) #(14,60,n_events,n_points)\n",
    "post_data_per_channel= getdataperchannel(S_post,channel_names)"
   ]
  },
  {
   "cell_type": "code",
   "execution_count": 59,
   "metadata": {},
   "outputs": [],
   "source": [
    "def extend_list(dict):\n",
    "    all_subj=[]\n",
    "    for subject_id in dict.keys():\n",
    "        all_subj.extend(dict[subject_id])\n",
    "    return all_subj\n",
    "\n",
    "def mean_of_lists(input_list):\n",
    "    return [sum(items) / len(items) for items in zip(*input_list)]"
   ]
  },
  {
   "cell_type": "code",
   "execution_count": 62,
   "metadata": {},
   "outputs": [
    {
     "data": {
      "image/png": "[encoded data removed]",
      "text/plain": [
       "<Figure size 640x480 with 1 Axes>"
      ]
     },
     "metadata": {},
     "output_type": "display_data"
    }
   ],
   "source": [
    "channel_means = {}\n",
    "\n",
    "for channel_name, values in post_data_per_channel['P01'].items():\n",
    "    mean_array = []\n",
    "    \n",
    "    for i in range(len(values)):\n",
    "        mean_array.append(values[i])\n",
    "    \n",
    "    channel_means[channel_name] = mean_of_lists(mean_array)\n",
    "\n",
    "for channel_name, means in channel_means.items():\n",
    "    plt.plot(f_post['P01'], np.log(means))\n",
    "\n",
    "# Customize plot\n",
    "plt.xlim([0, 100])\n",
    "plt.xlabel('frequency [Hz]')\n",
    "plt.ylabel('PSD [log(V**2/Hz)]')\n",
    "plt.title('Mean Event PSD per channel')\n",
    "plt.grid(True)\n",
    "\n",
    "# Show plot\n",
    "plt.show()"
   ]
  },
  {
   "cell_type": "code",
   "execution_count": 22,
   "metadata": {},
   "outputs": [
    {
     "data": {
      "image/png": "[encoded data removed]",
      "text/plain": [
       "<Figure size 640x480 with 1 Axes>"
      ]
     },
     "metadata": {},
     "output_type": "display_data"
    }
   ],
   "source": [
    "channel_means = {}\n",
    "\n",
    "for channel_name, values in post_data_per_channel['P02'].items():\n",
    "    mean_array = []\n",
    "    \n",
    "    for i in range(len(values)):\n",
    "        mean_array.append(values[i])\n",
    "    channel_means[channel_name] = mean_of_lists(mean_array)\n",
    "\n",
    "for channel_name, means in channel_means.items():\n",
    "    plt.plot(f_post['P02'], np.log(means))\n",
    "\n",
    "# Customize plot\n",
    "plt.xlim([0, 100])\n",
    "plt.xlabel('frequency [Hz]')\n",
    "plt.ylabel('PSD [log(V**2/Hz)]')\n",
    "plt.title('Mean Event PSD per channel')\n",
    "plt.grid(True)\n",
    "\n",
    "# Show plot\n",
    "plt.show()"
   ]
  },
  {
   "cell_type": "code",
   "execution_count": 23,
   "metadata": {},
   "outputs": [],
   "source": [
    "def delta(data, freq_bands,f): \n",
    "    data_list=[]\n",
    "    for i in range(len(data)):\n",
    "        lower_bound=float(freq_bands['delta'][0])\n",
    "        higher_bound= float(freq_bands['delta'][1])\n",
    "        indices = np.where((f >= lower_bound) & (f <= higher_bound))   \n",
    "        y_selected = data[i][indices]\n",
    "        data_list.append(np.mean(y_selected)) \n",
    "    return data_list\n",
    "\n",
    "def theta(data, freq_bands,f): \n",
    "    data_list=[]\n",
    "    for i in range(len(data)):\n",
    "        lower_bound=float(freq_bands['theta'][0])\n",
    "        higher_bound= float(freq_bands['theta'][1])\n",
    "        indices = np.where((f >= lower_bound) & (f <= higher_bound))  \n",
    "        y_selected = data[i][indices]\n",
    "        data_list.append(np.mean(y_selected))\n",
    "    return data_list\n",
    "\n",
    "def alpha(data, freq_bands,f): \n",
    "    data_list=[]\n",
    "    for i in range(len(data)):\n",
    "        lower_bound=float(freq_bands['alpha'][0])\n",
    "        higher_bound= float(freq_bands['alpha'][1])\n",
    "        indices = np.where((f >= lower_bound) & (f <= higher_bound))   \n",
    "        y_selected = data[i][indices]\n",
    "        data_list.append(np.mean(y_selected))\n",
    "    return data_list\n",
    "\n",
    "def beta(data, freq_bands,f): \n",
    "    data_list=[]\n",
    "    for i in range(len(data)):\n",
    "        lower_bound=float(freq_bands['beta'][0])\n",
    "        higher_bound= float(freq_bands['beta'][1])\n",
    "        indices = np.where((f >= lower_bound) & (f <= higher_bound)) \n",
    "        y_selected = data[i][indices]\n",
    "        data_list.append(np.mean(y_selected))  \n",
    "    return data_list\n",
    "\n",
    "def high(data, freq_bands,f): \n",
    "    data_list=[]\n",
    "    for i in range(len(data)):\n",
    "        lower_bound=float(freq_bands['high'][0])\n",
    "        higher_bound= float(freq_bands['high'][1])\n",
    "        indices = np.where((f >= lower_bound) & (f <= higher_bound))  \n",
    "        y_selected = data[i][indices]\n",
    "        data_list.append(np.mean(y_selected))  \n",
    "    return data_list\n",
    "\n",
    "def All(data, freq_bands,f): \n",
    "    data_list=[]\n",
    "    for i in range(len(data)):\n",
    "        lower_bound=float(freq_bands['all'][0])\n",
    "        higher_bound= float(freq_bands['all'][1])\n",
    "        indices = np.where((f >= lower_bound) & (f <= higher_bound))    \n",
    "        y_selected = data[i][indices]\n",
    "        data_list.append(np.mean(y_selected))\n",
    "    return data_list\n",
    "\n",
    "def low(data, freq_bands,f): \n",
    "    data_list=[]\n",
    "    for i in range(len(data)):\n",
    "        lower_bound=float(freq_bands['low'][0])\n",
    "        higher_bound= float(freq_bands['low'][1])\n",
    "        indices = np.where((f >= lower_bound) & (f <= higher_bound))    \n",
    "        y_selected = data[i][indices]\n",
    "        data_list.append(np.mean(y_selected))\n",
    "    return data_list"
   ]
  },
  {
   "cell_type": "markdown",
   "metadata": {},
   "source": [
    "# Feature Extraction"
   ]
  },
  {
   "cell_type": "markdown",
   "metadata": {},
   "source": [
    "## Frequency Features"
   ]
  },
  {
   "cell_type": "code",
   "execution_count": 33,
   "metadata": {},
   "outputs": [],
   "source": [
    "Cluster_FCZ=['FZ','FC1','FCZ','FC2','CZ']\n",
    "Cluster_midfrontal=['FP1','FPZ','FP2','AF3','AF4','F5','F3','F1','F2','FZ','F4','F6','FC3','FC1','FCZ','FC2','FC4','C1','CZ','C2']\n",
    "Cluster_Pz=['CPZ','P1','PZ','P2','POZ']"
   ]
  },
  {
   "cell_type": "code",
   "execution_count": 60,
   "metadata": {},
   "outputs": [],
   "source": [
    "def fcz_features(tipo, data, freq_bands, freq): \n",
    "    dados_mean = {}\n",
    "    for subject_id, values in data.items():\n",
    "        dados_list=[]\n",
    "        for channel_name, data in values.items():  \n",
    "            if tipo == 'theta':\n",
    "                dados = theta(data, freq_bands, freq)\n",
    "            elif tipo == 'all':\n",
    "                dados = All(data, freq_bands, freq)\n",
    "            elif tipo == 'high':\n",
    "                dados = high(data, freq_bands, freq)\n",
    "            elif tipo == 'other':\n",
    "                dados = theta(data, freq_bands, freq)  # Using theta function for 'other' channels\n",
    "            else:\n",
    "                assert False, \"Invalid type '{}' provided.\".format(tipo)     \n",
    "            if (tipo == 'other' and channel_name not in Cluster_FCZ) or (channel_name in Cluster_FCZ):\n",
    "                dados_list.append(dados)\n",
    "            else:\n",
    "                continue \n",
    "        means = mean_of_lists(dados_list)\n",
    "        dados_mean[subject_id]= means\n",
    "        \n",
    "    return dados_mean\n",
    "\n",
    "def all_features(tipo,data,freq_bands,freq): \n",
    "    dados_mean = {}\n",
    "    for subject_id, values in data.items():\n",
    "        dados_list=[]\n",
    "        for channel_name, data in values.items():  \n",
    "            if tipo == 'theta':\n",
    "                dados = theta(data, freq_bands, freq)\n",
    "            elif tipo == 'delta':\n",
    "                dados= delta(data,freq_bands,freq)\n",
    "            elif tipo== 'all':\n",
    "                dados= All(data,freq_bands,freq)\n",
    "            elif tipo=='high':\n",
    "                dados= high(data,freq_bands,freq)\n",
    "            elif tipo=='alpha':\n",
    "                dados=alpha(data,freq_bands,freq)\n",
    "            else:\n",
    "                assert False, \"Invalid type '{}' provided.\".format(tipo)     \n",
    "            dados_list.append(dados)\n",
    "        means = mean_of_lists(dados_list)\n",
    "        dados_mean[subject_id]= means\n",
    "        \n",
    "    return dados_mean\n",
    "\n",
    "def midfrontal_features(tipo,data,freq_bands,freq): \n",
    "    dados_mean = {}\n",
    "    for subject_id, values in data.items():\n",
    "        dados_list=[]\n",
    "        for channel_name, data in values.items():  \n",
    "            if tipo == 'theta':\n",
    "                dados = theta(data, freq_bands, freq)\n",
    "            elif tipo == 'other':\n",
    "                dados = theta(data, freq_bands, freq)  # Using theta function for 'other' \n",
    "            else:\n",
    "                assert False, \"Invalid type '{}' provided.\".format(tipo)     \n",
    "            if (tipo == 'other' and channel_name not in Cluster_midfrontal) or (channel_name in Cluster_midfrontal):\n",
    "                dados_list.append(dados)\n",
    "            else:\n",
    "                continue \n",
    "        means = mean_of_lists(dados_list)\n",
    "        dados_mean[subject_id]= means\n",
    "        \n",
    "    return dados_mean\n",
    "\n",
    "def low_features(tipo,data,freq_bands,freq):\n",
    "    dados_mean={}\n",
    "    for subject_id, values in data.items():\n",
    "        dados_list=[]\n",
    "        for channel_name, data in values.items():  \n",
    "            if tipo == 'alpha':\n",
    "                dados = alpha(data, freq_bands, freq)\n",
    "            elif tipo == 'delta':\n",
    "                dados = delta(data, freq_bands, freq)\n",
    "            elif tipo== 'low':\n",
    "                dados = low(data,freq_bands,freq) \n",
    "            elif tipo== 'all':\n",
    "                dados= All(data,freq_bands,freq)\n",
    "            elif tipo== 'high':\n",
    "                dados= high(data,freq_bands,freq)\n",
    "            else:\n",
    "                assert False, \"Invalid type '{}' provided.\".format(tipo)     \n",
    "            \n",
    "            dados_list.append(dados)\n",
    "        means = mean_of_lists(dados_list)\n",
    "        dados_mean[subject_id]= means\n",
    "        \n",
    "    return dados_mean"
   ]
  },
  {
   "cell_type": "code",
   "execution_count": 27,
   "metadata": {},
   "outputs": [],
   "source": [
    "def feature(tipo, tipo_freq1, tipo_freq2 , data1 ,data2, freq_bands,f1,f2): \n",
    "    feature={}\n",
    "    for subject_id in data.keys():\n",
    "        if tipo =='fcz_features':\n",
    "            feature[subject_id]=[x/y for x,y in zip(fcz_features(tipo_freq1, data1, freq_bands, f1[subject_id])[subject_id],fcz_features(tipo_freq2, data2, freq_bands, f2[subject_id])[subject_id])]\n",
    "        elif tipo=='all_features':\n",
    "            feature[subject_id]=[x/y for x,y in zip(all_features(tipo_freq1, data1, freq_bands, f1[subject_id])[subject_id],all_features(tipo_freq2, data2, freq_bands, f2[subject_id])[subject_id])]\n",
    "\n",
    "        elif tipo == 'midfrontal_features':\n",
    "            feature[subject_id]=[x/y for x,y in zip(midfrontal_features(tipo_freq1, data1, freq_bands, f1[subject_id])[subject_id],midfrontal_features(tipo_freq2, data2, freq_bands, f2[subject_id])[subject_id])]\n",
    "            \n",
    "        elif tipo == 'low_features':\n",
    "            feature[subject_id]=[x/y for x,y in zip(low_features(tipo_freq1, data1, freq_bands, f1[subject_id])[subject_id],low_features(tipo_freq2, data2, freq_bands, f2[subject_id])[subject_id])]\n",
    "            \n",
    "        else:\n",
    "            assert False, \"Invalid type '{}' provided.\".format(tipo)\n",
    "    return feature"
   ]
  },
  {
   "cell_type": "markdown",
   "metadata": {},
   "source": [
    "### FCZ Features"
   ]
  },
  {
   "cell_type": "code",
   "execution_count": 47,
   "metadata": {},
   "outputs": [],
   "source": [
    "feature1= feature('fcz_features','theta','all',post_data_per_channel,post_data_per_channel,freq_bands,f_post, f_post)\n",
    "feature2= feature('fcz_features','theta','high',post_data_per_channel,post_data_per_channel,freq_bands,f_post,f_post)\n",
    "feature3=feature('fcz_features','theta','all',pre_data_per_channel,pre_data_per_channel,freq_bands,f_pre,f_pre)\n",
    "feature4=feature('fcz_features','theta','high',pre_data_per_channel,pre_data_per_channel,freq_bands,f_pre,f_pre)\n",
    "feature5=feature('fcz_features','theta','other',post_data_per_channel,post_data_per_channel,freq_bands,f_post,f_post)\n",
    "feature6=feature('fcz_features','theta','other',pre_data_per_channel,pre_data_per_channel,freq_bands,f_pre,f_pre)\n",
    "feature7= feature('fcz_features','theta','theta',post_data_per_channel,pre_data_per_channel,freq_bands,f_post,f_pre)"
   ]
  },
  {
   "cell_type": "markdown",
   "metadata": {},
   "source": [
    "### All Channels Features"
   ]
  },
  {
   "cell_type": "code",
   "execution_count": 30,
   "metadata": {},
   "outputs": [],
   "source": [
    "feature8= feature('all_features','theta','all',post_data_per_channel,post_data_per_channel,freq_bands,f_post,f_post)\n",
    "feature9= feature('all_features','theta','high',post_data_per_channel,post_data_per_channel,freq_bands,f_post,f_post)\n",
    "feature10= feature('all_features','theta','all',pre_data_per_channel,pre_data_per_channel,freq_bands,f_pre,f_pre)\n",
    "feature11= feature('all_features','theta','high',pre_data_per_channel,pre_data_per_channel,freq_bands,f_pre,f_pre)\n",
    "feature12= feature('all_features','theta','theta',post_data_per_channel,pre_data_per_channel,freq_bands,f_post,f_pre)\n",
    "feature13= feature('all_features','theta','delta',post_data_per_channel,post_data_per_channel,freq_bands,f_post,f_post)\n",
    "feature14= feature('all_features','theta','alpha',post_data_per_channel,post_data_per_channel,freq_bands,f_post,f_post)\n",
    "feature15= feature('all_features','theta','delta',pre_data_per_channel,pre_data_per_channel,freq_bands,f_pre,f_pre)\n",
    "feature16= feature('all_features','theta','alpha',pre_data_per_channel,pre_data_per_channel,freq_bands,f_pre,f_pre)"
   ]
  },
  {
   "cell_type": "markdown",
   "metadata": {},
   "source": [
    "### Midfrontal Features"
   ]
  },
  {
   "cell_type": "code",
   "execution_count": 31,
   "metadata": {},
   "outputs": [],
   "source": [
    "feature17= feature('midfrontal_features','theta','other',post_data_per_channel,post_data_per_channel,freq_bands,f_post,f_post)\n",
    "feature18= feature('midfrontal_features','theta','other',pre_data_per_channel,pre_data_per_channel,freq_bands,f_pre,f_pre)"
   ]
  },
  {
   "cell_type": "markdown",
   "metadata": {},
   "source": [
    "### Delta, Alpha and Low Features"
   ]
  },
  {
   "cell_type": "code",
   "execution_count": 32,
   "metadata": {},
   "outputs": [],
   "source": [
    "feature19= feature('low_features','delta','all',post_data_per_channel,post_data_per_channel,freq_bands,f_post,f_post)\n",
    "feature20= feature('low_features','alpha','all',post_data_per_channel,post_data_per_channel,freq_bands,f_post,f_post)\n",
    "feature21= feature('low_features','low','all',post_data_per_channel,post_data_per_channel,freq_bands,f_post,f_post)\n",
    "feature22= feature('low_features','delta','high',post_data_per_channel,post_data_per_channel,freq_bands,f_post,f_post)\n",
    "feature23= feature('low_features','alpha','high',post_data_per_channel,post_data_per_channel,freq_bands,f_post,f_post)\n",
    "feature24= feature('low_features','low','high',post_data_per_channel,post_data_per_channel,freq_bands,f_post,f_post)\n",
    "feature25= feature('low_features','delta','all',pre_data_per_channel,pre_data_per_channel,freq_bands,f_pre,f_pre)\n",
    "feature26= feature('low_features','alpha','all',pre_data_per_channel,pre_data_per_channel,freq_bands,f_pre,f_pre)\n",
    "feature27= feature('low_features','low','all',pre_data_per_channel,pre_data_per_channel,freq_bands,f_pre,f_pre)\n",
    "feature28= feature('low_features','delta','high',pre_data_per_channel,pre_data_per_channel,freq_bands,f_pre,f_pre)\n",
    "feature29= feature('low_features','alpha','high',pre_data_per_channel,pre_data_per_channel,freq_bands,f_pre,f_pre)\n",
    "feature30= feature('low_features','low','high',pre_data_per_channel,pre_data_per_channel,freq_bands,f_pre,f_pre)"
   ]
  },
  {
   "cell_type": "markdown",
   "metadata": {},
   "source": [
    "## Time Features"
   ]
  },
  {
   "cell_type": "code",
   "execution_count": 34,
   "metadata": {},
   "outputs": [],
   "source": [
    "feature31={} \n",
    "feature32={}\n",
    "feature33={}\n",
    "feature34={}\n",
    "feature35={}\n",
    "feature36={}\n",
    "for subject_id,values in post_response.items():\n",
    "    mean_ERN_values = []\n",
    "    mean_Pe_values = []\n",
    "    mean_all0_250_values = []\n",
    "    mean_all250_500_values = []\n",
    "\n",
    "    # Create a range object that will iterate over the indices of events \n",
    "    for i in range(len(next(iter(values.values())))):\n",
    "\n",
    "        ERN_values = []\n",
    "        Pe_values = []\n",
    "        all0_250_values = []\n",
    "        all250_500_values = []\n",
    "        \n",
    "        for channel_name, channel_values in values.items():\n",
    "            if channel_name in Cluster_FCZ:\n",
    "                ERN_values.append(np.mean(channel_values[i][35:81]))  # Potential's list for [70,160]ms for each event\n",
    "            elif channel_name in Cluster_Pz:\n",
    "                Pe_values.append(np.mean(channel_values[i][100:-1]))\n",
    "            \n",
    "            all0_250_values.append(np.mean(channel_values[i][0:126]))\n",
    "            all250_500_values.append(np.mean(channel_values[i][125:-1]))\n",
    "        \n",
    "        mean_ERN_values.append(np.mean(ERN_values))\n",
    "        mean_Pe_values.append(np.mean(Pe_values))\n",
    "        mean_all0_250_values.append(np.mean(all0_250_values))\n",
    "        mean_all250_500_values.append(np.mean(all250_500_values))\n",
    "    feature31[subject_id]= mean_ERN_values\n",
    "    feature32[subject_id]=mean_Pe_values\n",
    "    feature35[subject_id]=mean_all0_250_values\n",
    "    feature36[subject_id]=mean_all250_500_values\n",
    "\n",
    "\n",
    "for subject_id,values in pre_response.items():\n",
    "    mean_all500_250_values = []\n",
    "    mean_all250_0_values = []\n",
    "    for i in range(len(next(iter(values.values())))):\n",
    "        \n",
    "        all500_250_values = []\n",
    "        all250_0_values = []\n",
    "        \n",
    "        for channel_name, channel_values in values.items():            \n",
    "            all500_250_values.append(np.mean(channel_values[i][0:126]))\n",
    "            all250_0_values.append(np.mean(channel_values[i][125:-1]))\n",
    "        \n",
    "        mean_all500_250_values.append(np.mean(all500_250_values))\n",
    "        mean_all250_0_values.append(np.mean(all250_0_values))\n",
    "    feature33[subject_id]= mean_all500_250_values\n",
    "    feature34[subject_id]=mean_all250_0_values#(14,n_events)\n",
    "\n",
    "   \n",
    "\n"
   ]
  },
  {
   "cell_type": "markdown",
   "metadata": {},
   "source": [
    "## Saving Feature Data"
   ]
  },
  {
   "cell_type": "code",
   "execution_count": 65,
   "metadata": {},
   "outputs": [],
   "source": [
    "frequency_features = {}\n",
    "for feature_index in range(1, 31):\n",
    "    feature_corr_key = 'feature{}'.format(feature_index)\n",
    "    \n",
    "    # Iterate over subjects and their respective values for the current feature\n",
    "    for subject_id, values_list in globals()[feature_corr_key].items():\n",
    "        # If subject_id not in all_subjects_data, initialize it with an empty list\n",
    "        if subject_id not in frequency_features:\n",
    "            frequency_features[subject_id] = []\n",
    "\n",
    "        # Ensure that all_subjects_data[subject_id] has enough lists to store event values\n",
    "        while len(frequency_features[subject_id]) < len(values_list):\n",
    "            frequency_features[subject_id].append([])\n",
    "\n",
    "        # Accumulate values for each event\n",
    "        for event_index, value in enumerate(values_list):\n",
    "            frequency_features[subject_id][event_index].append(value) #(14,n_events,n_features)\n",
    "\n",
    "\n",
    "theta_features={}\n",
    "for feature_index in range(1, 19):\n",
    "    feature_corr_key = 'feature{}'.format(feature_index)\n",
    "    \n",
    "    for subject_id, values_list in globals()[feature_corr_key].items():\n",
    "\n",
    "        if subject_id not in theta_features:\n",
    "            theta_features[subject_id] = []\n",
    "\n",
    "        while len(theta_features[subject_id]) < len(values_list):\n",
    "            theta_features[subject_id].append([])\n",
    "\n",
    "        for event_index, value in enumerate(values_list):\n",
    "            theta_features[subject_id][event_index].append(value)\n",
    "\n",
    "\n",
    "temporal_features={}\n",
    "for feature_index in range(31, 37):\n",
    "    feature_corr_key = 'feature{}'.format(feature_index)\n",
    "    \n",
    "    for subject_id, values_list in globals()[feature_corr_key].items():\n",
    "\n",
    "        if subject_id not in temporal_features:\n",
    "            temporal_features[subject_id] = []\n",
    "\n",
    "        while len(temporal_features[subject_id]) < len(values_list):\n",
    "            temporal_features[subject_id].append([])\n",
    "\n",
    "        for event_index, value in enumerate(values_list):\n",
    "            temporal_features[subject_id][event_index].append(value)\n",
    "\n",
    "all_features={}\n",
    "for feature_index in range(1, 37):\n",
    "    feature_corr_key = 'feature{}'.format(feature_index)\n",
    "    \n",
    "    for subject_id, values_list in globals()[feature_corr_key].items():\n",
    "\n",
    "        if subject_id not in all_features:\n",
    "            all_features[subject_id] = []\n",
    "\n",
    "        while len(all_features[subject_id]) < len(values_list):\n",
    "            all_features[subject_id].append([])\n",
    "\n",
    "        for event_index, value in enumerate(values_list):\n",
    "            all_features[subject_id][event_index].append(value)\n"
   ]
  },
  {
   "cell_type": "code",
   "execution_count": 81,
   "metadata": {},
   "outputs": [],
   "source": [
    "def save_dict_to_file(dictionary, filename):\n",
    "    with open(filename, 'w') as f:\n",
    "        for subject, events in dictionary.items():\n",
    "            f.write(f\"{subject}:\")\n",
    "            for event in events:\n",
    "                if isinstance(event, list):  \n",
    "                    f.write(\"[\" + \",\".join(map(str, event)) + \"]\")\n",
    "                else:\n",
    "                    f.write(\"[\" + str(event) + \"]\")\n",
    "            f.write(\"\\n\")\n",
    "\n",
    "\n"
   ]
  },
  {
   "cell_type": "code",
   "execution_count": 75,
   "metadata": {},
   "outputs": [],
   "source": [
    "save_dict_to_file(all_features, 'all_features.txt')\n",
    "save_dict_to_file(frequency_features, 'frequency_features.txt')\n",
    "save_dict_to_file(theta_features, 'theta_features.txt')\n",
    "save_dict_to_file(temporal_features, 'temporal_features.txt')\n",
    "save_dict_to_file(labels,'labels.txt')"
   ]
  }
 ],
 "metadata": {
  "kernelspec": {
   "display_name": "Python 3",
   "language": "python",
   "name": "python3"
  },
  "language_info": {
   "codemirror_mode": {
    "name": "ipython",
    "version": 3
   },
   "file_extension": ".py",
   "mimetype": "text/x-python",
   "name": "python",
   "nbconvert_exporter": "python",
   "pygments_lexer": "ipython3",
   "version": "3.11.9"
  }
 },
 "nbformat": 4,
 "nbformat_minor": 2
}
