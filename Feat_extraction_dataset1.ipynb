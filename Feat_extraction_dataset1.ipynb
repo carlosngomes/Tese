{
 "cells": [
  {
   "cell_type": "code",
   "execution_count": 1,
   "metadata": {},
   "outputs": [
    {
     "name": "stdout",
     "output_type": "stream",
     "text": [
      "Extracting parameters from c:\\Users\\User\\Documents\\GitHub\\Tese\\data\\P01.set...\n",
      "Not setting metadata\n",
      "228 matching events found\n",
      "No baseline correction applied\n"
     ]
    },
    {
     "name": "stderr",
     "output_type": "stream",
     "text": [
      "C:\\Users\\User\\AppData\\Local\\Temp\\ipykernel_26944\\752335729.py:24: RuntimeWarning: At least one epoch has multiple events. Only the latency of the first event will be retained.\n",
      "  dados = mne.read_epochs_eeglab(path_)\n"
     ]
    },
    {
     "name": "stdout",
     "output_type": "stream",
     "text": [
      "0 projection items activated\n",
      "Ready.\n"
     ]
    },
    {
     "name": "stderr",
     "output_type": "stream",
     "text": [
      "C:\\Users\\User\\AppData\\Local\\Temp\\ipykernel_26944\\752335729.py:29: FutureWarning: The current default of copy=False will change to copy=True in 1.7. Set the value of copy explicitly to avoid this warning\n",
      "  Corr_labels = len(dados['proCorr','antiCorr'].get_data())\n",
      "C:\\Users\\User\\AppData\\Local\\Temp\\ipykernel_26944\\752335729.py:30: FutureWarning: The current default of copy=False will change to copy=True in 1.7. Set the value of copy explicitly to avoid this warning\n",
      "  Err_labels = len(dados['proErr','antiErr','nogoErr'].get_data())\n",
      "C:\\Users\\User\\AppData\\Local\\Temp\\ipykernel_26944\\752335729.py:37: FutureWarning: The current default of copy=False will change to copy=True in 1.7. Set the value of copy explicitly to avoid this warning\n",
      "  for epoch_values in dados['proCorr','antiCorr'].get_data():\n"
     ]
    },
    {
     "name": "stdout",
     "output_type": "stream",
     "text": [
      "Extracting parameters from c:\\Users\\User\\Documents\\GitHub\\Tese\\data\\P02.set...\n"
     ]
    },
    {
     "name": "stderr",
     "output_type": "stream",
     "text": [
      "C:\\Users\\User\\AppData\\Local\\Temp\\ipykernel_26944\\752335729.py:45: FutureWarning: The current default of copy=False will change to copy=True in 1.7. Set the value of copy explicitly to avoid this warning\n",
      "  for epoch_values in dados['proErr','antiErr','nogoErr'].get_data():\n",
      "C:\\Users\\User\\AppData\\Local\\Temp\\ipykernel_26944\\752335729.py:24: RuntimeWarning: At least one epoch has multiple events. Only the latency of the first event will be retained.\n",
      "  dados = mne.read_epochs_eeglab(path_)\n"
     ]
    },
    {
     "name": "stdout",
     "output_type": "stream",
     "text": [
      "Not setting metadata\n",
      "207 matching events found\n",
      "No baseline correction applied\n",
      "0 projection items activated\n",
      "Ready.\n"
     ]
    },
    {
     "name": "stderr",
     "output_type": "stream",
     "text": [
      "C:\\Users\\User\\AppData\\Local\\Temp\\ipykernel_26944\\752335729.py:29: FutureWarning: The current default of copy=False will change to copy=True in 1.7. Set the value of copy explicitly to avoid this warning\n",
      "  Corr_labels = len(dados['proCorr','antiCorr'].get_data())\n",
      "C:\\Users\\User\\AppData\\Local\\Temp\\ipykernel_26944\\752335729.py:30: FutureWarning: The current default of copy=False will change to copy=True in 1.7. Set the value of copy explicitly to avoid this warning\n",
      "  Err_labels = len(dados['proErr','antiErr','nogoErr'].get_data())\n",
      "C:\\Users\\User\\AppData\\Local\\Temp\\ipykernel_26944\\752335729.py:37: FutureWarning: The current default of copy=False will change to copy=True in 1.7. Set the value of copy explicitly to avoid this warning\n",
      "  for epoch_values in dados['proCorr','antiCorr'].get_data():\n"
     ]
    },
    {
     "name": "stdout",
     "output_type": "stream",
     "text": [
      "Extracting parameters from c:\\Users\\User\\Documents\\GitHub\\Tese\\data\\P03.set...\n",
      "Not setting metadata\n"
     ]
    },
    {
     "name": "stderr",
     "output_type": "stream",
     "text": [
      "C:\\Users\\User\\AppData\\Local\\Temp\\ipykernel_26944\\752335729.py:45: FutureWarning: The current default of copy=False will change to copy=True in 1.7. Set the value of copy explicitly to avoid this warning\n",
      "  for epoch_values in dados['proErr','antiErr','nogoErr'].get_data():\n",
      "C:\\Users\\User\\AppData\\Local\\Temp\\ipykernel_26944\\752335729.py:24: RuntimeWarning: At least one epoch has multiple events. Only the latency of the first event will be retained.\n",
      "  dados = mne.read_epochs_eeglab(path_)\n"
     ]
    },
    {
     "name": "stdout",
     "output_type": "stream",
     "text": [
      "170 matching events found\n",
      "No baseline correction applied\n",
      "0 projection items activated\n",
      "Ready.\n"
     ]
    },
    {
     "name": "stderr",
     "output_type": "stream",
     "text": [
      "C:\\Users\\User\\AppData\\Local\\Temp\\ipykernel_26944\\752335729.py:29: FutureWarning: The current default of copy=False will change to copy=True in 1.7. Set the value of copy explicitly to avoid this warning\n",
      "  Corr_labels = len(dados['proCorr','antiCorr'].get_data())\n",
      "C:\\Users\\User\\AppData\\Local\\Temp\\ipykernel_26944\\752335729.py:30: FutureWarning: The current default of copy=False will change to copy=True in 1.7. Set the value of copy explicitly to avoid this warning\n",
      "  Err_labels = len(dados['proErr','antiErr','nogoErr'].get_data())\n",
      "C:\\Users\\User\\AppData\\Local\\Temp\\ipykernel_26944\\752335729.py:37: FutureWarning: The current default of copy=False will change to copy=True in 1.7. Set the value of copy explicitly to avoid this warning\n",
      "  for epoch_values in dados['proCorr','antiCorr'].get_data():\n"
     ]
    },
    {
     "name": "stdout",
     "output_type": "stream",
     "text": [
      "Extracting parameters from c:\\Users\\User\\Documents\\GitHub\\Tese\\data\\P04.set...\n",
      "Not setting metadata\n"
     ]
    },
    {
     "name": "stderr",
     "output_type": "stream",
     "text": [
      "C:\\Users\\User\\AppData\\Local\\Temp\\ipykernel_26944\\752335729.py:45: FutureWarning: The current default of copy=False will change to copy=True in 1.7. Set the value of copy explicitly to avoid this warning\n",
      "  for epoch_values in dados['proErr','antiErr','nogoErr'].get_data():\n",
      "C:\\Users\\User\\AppData\\Local\\Temp\\ipykernel_26944\\752335729.py:24: RuntimeWarning: At least one epoch has multiple events. Only the latency of the first event will be retained.\n",
      "  dados = mne.read_epochs_eeglab(path_)\n"
     ]
    },
    {
     "name": "stdout",
     "output_type": "stream",
     "text": [
      "205 matching events found\n",
      "No baseline correction applied\n",
      "0 projection items activated\n",
      "Ready.\n"
     ]
    },
    {
     "name": "stderr",
     "output_type": "stream",
     "text": [
      "C:\\Users\\User\\AppData\\Local\\Temp\\ipykernel_26944\\752335729.py:29: FutureWarning: The current default of copy=False will change to copy=True in 1.7. Set the value of copy explicitly to avoid this warning\n",
      "  Corr_labels = len(dados['proCorr','antiCorr'].get_data())\n",
      "C:\\Users\\User\\AppData\\Local\\Temp\\ipykernel_26944\\752335729.py:30: FutureWarning: The current default of copy=False will change to copy=True in 1.7. Set the value of copy explicitly to avoid this warning\n",
      "  Err_labels = len(dados['proErr','antiErr','nogoErr'].get_data())\n",
      "C:\\Users\\User\\AppData\\Local\\Temp\\ipykernel_26944\\752335729.py:37: FutureWarning: The current default of copy=False will change to copy=True in 1.7. Set the value of copy explicitly to avoid this warning\n",
      "  for epoch_values in dados['proCorr','antiCorr'].get_data():\n"
     ]
    },
    {
     "name": "stdout",
     "output_type": "stream",
     "text": [
      "Extracting parameters from c:\\Users\\User\\Documents\\GitHub\\Tese\\data\\P05.set...\n"
     ]
    },
    {
     "name": "stderr",
     "output_type": "stream",
     "text": [
      "C:\\Users\\User\\AppData\\Local\\Temp\\ipykernel_26944\\752335729.py:45: FutureWarning: The current default of copy=False will change to copy=True in 1.7. Set the value of copy explicitly to avoid this warning\n",
      "  for epoch_values in dados['proErr','antiErr','nogoErr'].get_data():\n",
      "C:\\Users\\User\\AppData\\Local\\Temp\\ipykernel_26944\\752335729.py:24: RuntimeWarning: At least one epoch has multiple events. Only the latency of the first event will be retained.\n",
      "  dados = mne.read_epochs_eeglab(path_)\n"
     ]
    },
    {
     "name": "stdout",
     "output_type": "stream",
     "text": [
      "Not setting metadata\n",
      "240 matching events found\n",
      "No baseline correction applied\n",
      "0 projection items activated\n",
      "Ready.\n"
     ]
    },
    {
     "name": "stderr",
     "output_type": "stream",
     "text": [
      "C:\\Users\\User\\AppData\\Local\\Temp\\ipykernel_26944\\752335729.py:29: FutureWarning: The current default of copy=False will change to copy=True in 1.7. Set the value of copy explicitly to avoid this warning\n",
      "  Corr_labels = len(dados['proCorr','antiCorr'].get_data())\n",
      "C:\\Users\\User\\AppData\\Local\\Temp\\ipykernel_26944\\752335729.py:30: FutureWarning: The current default of copy=False will change to copy=True in 1.7. Set the value of copy explicitly to avoid this warning\n",
      "  Err_labels = len(dados['proErr','antiErr','nogoErr'].get_data())\n",
      "C:\\Users\\User\\AppData\\Local\\Temp\\ipykernel_26944\\752335729.py:37: FutureWarning: The current default of copy=False will change to copy=True in 1.7. Set the value of copy explicitly to avoid this warning\n",
      "  for epoch_values in dados['proCorr','antiCorr'].get_data():\n",
      "C:\\Users\\User\\AppData\\Local\\Temp\\ipykernel_26944\\752335729.py:45: FutureWarning: The current default of copy=False will change to copy=True in 1.7. Set the value of copy explicitly to avoid this warning\n",
      "  for epoch_values in dados['proErr','antiErr','nogoErr'].get_data():\n"
     ]
    },
    {
     "name": "stdout",
     "output_type": "stream",
     "text": [
      "Extracting parameters from c:\\Users\\User\\Documents\\GitHub\\Tese\\data\\P07.set...\n",
      "Not setting metadata\n",
      "195 matching events found\n",
      "No baseline correction applied\n",
      "0 projection items activated\n",
      "Ready.\n"
     ]
    },
    {
     "name": "stderr",
     "output_type": "stream",
     "text": [
      "C:\\Users\\User\\AppData\\Local\\Temp\\ipykernel_26944\\752335729.py:24: RuntimeWarning: At least one epoch has multiple events. Only the latency of the first event will be retained.\n",
      "  dados = mne.read_epochs_eeglab(path_)\n",
      "C:\\Users\\User\\AppData\\Local\\Temp\\ipykernel_26944\\752335729.py:29: FutureWarning: The current default of copy=False will change to copy=True in 1.7. Set the value of copy explicitly to avoid this warning\n",
      "  Corr_labels = len(dados['proCorr','antiCorr'].get_data())\n",
      "C:\\Users\\User\\AppData\\Local\\Temp\\ipykernel_26944\\752335729.py:30: FutureWarning: The current default of copy=False will change to copy=True in 1.7. Set the value of copy explicitly to avoid this warning\n",
      "  Err_labels = len(dados['proErr','antiErr','nogoErr'].get_data())\n",
      "C:\\Users\\User\\AppData\\Local\\Temp\\ipykernel_26944\\752335729.py:37: FutureWarning: The current default of copy=False will change to copy=True in 1.7. Set the value of copy explicitly to avoid this warning\n",
      "  for epoch_values in dados['proCorr','antiCorr'].get_data():\n"
     ]
    },
    {
     "name": "stdout",
     "output_type": "stream",
     "text": [
      "Extracting parameters from c:\\Users\\User\\Documents\\GitHub\\Tese\\data\\P08.set...\n"
     ]
    },
    {
     "name": "stderr",
     "output_type": "stream",
     "text": [
      "C:\\Users\\User\\AppData\\Local\\Temp\\ipykernel_26944\\752335729.py:45: FutureWarning: The current default of copy=False will change to copy=True in 1.7. Set the value of copy explicitly to avoid this warning\n",
      "  for epoch_values in dados['proErr','antiErr','nogoErr'].get_data():\n",
      "C:\\Users\\User\\AppData\\Local\\Temp\\ipykernel_26944\\752335729.py:24: RuntimeWarning: At least one epoch has multiple events. Only the latency of the first event will be retained.\n",
      "  dados = mne.read_epochs_eeglab(path_)\n"
     ]
    },
    {
     "name": "stdout",
     "output_type": "stream",
     "text": [
      "Not setting metadata\n",
      "216 matching events found\n",
      "No baseline correction applied\n",
      "0 projection items activated\n",
      "Ready.\n"
     ]
    },
    {
     "name": "stderr",
     "output_type": "stream",
     "text": [
      "C:\\Users\\User\\AppData\\Local\\Temp\\ipykernel_26944\\752335729.py:29: FutureWarning: The current default of copy=False will change to copy=True in 1.7. Set the value of copy explicitly to avoid this warning\n",
      "  Corr_labels = len(dados['proCorr','antiCorr'].get_data())\n",
      "C:\\Users\\User\\AppData\\Local\\Temp\\ipykernel_26944\\752335729.py:30: FutureWarning: The current default of copy=False will change to copy=True in 1.7. Set the value of copy explicitly to avoid this warning\n",
      "  Err_labels = len(dados['proErr','antiErr','nogoErr'].get_data())\n",
      "C:\\Users\\User\\AppData\\Local\\Temp\\ipykernel_26944\\752335729.py:37: FutureWarning: The current default of copy=False will change to copy=True in 1.7. Set the value of copy explicitly to avoid this warning\n",
      "  for epoch_values in dados['proCorr','antiCorr'].get_data():\n"
     ]
    },
    {
     "name": "stdout",
     "output_type": "stream",
     "text": [
      "Extracting parameters from c:\\Users\\User\\Documents\\GitHub\\Tese\\data\\P10.set...\n"
     ]
    },
    {
     "name": "stderr",
     "output_type": "stream",
     "text": [
      "C:\\Users\\User\\AppData\\Local\\Temp\\ipykernel_26944\\752335729.py:45: FutureWarning: The current default of copy=False will change to copy=True in 1.7. Set the value of copy explicitly to avoid this warning\n",
      "  for epoch_values in dados['proErr','antiErr','nogoErr'].get_data():\n",
      "C:\\Users\\User\\AppData\\Local\\Temp\\ipykernel_26944\\752335729.py:24: RuntimeWarning: At least one epoch has multiple events. Only the latency of the first event will be retained.\n",
      "  dados = mne.read_epochs_eeglab(path_)\n"
     ]
    },
    {
     "name": "stdout",
     "output_type": "stream",
     "text": [
      "Not setting metadata\n",
      "217 matching events found\n",
      "No baseline correction applied\n",
      "0 projection items activated\n",
      "Ready.\n"
     ]
    },
    {
     "name": "stderr",
     "output_type": "stream",
     "text": [
      "C:\\Users\\User\\AppData\\Local\\Temp\\ipykernel_26944\\752335729.py:29: FutureWarning: The current default of copy=False will change to copy=True in 1.7. Set the value of copy explicitly to avoid this warning\n",
      "  Corr_labels = len(dados['proCorr','antiCorr'].get_data())\n",
      "C:\\Users\\User\\AppData\\Local\\Temp\\ipykernel_26944\\752335729.py:30: FutureWarning: The current default of copy=False will change to copy=True in 1.7. Set the value of copy explicitly to avoid this warning\n",
      "  Err_labels = len(dados['proErr','antiErr','nogoErr'].get_data())\n",
      "C:\\Users\\User\\AppData\\Local\\Temp\\ipykernel_26944\\752335729.py:37: FutureWarning: The current default of copy=False will change to copy=True in 1.7. Set the value of copy explicitly to avoid this warning\n",
      "  for epoch_values in dados['proCorr','antiCorr'].get_data():\n"
     ]
    },
    {
     "name": "stdout",
     "output_type": "stream",
     "text": [
      "Extracting parameters from c:\\Users\\User\\Documents\\GitHub\\Tese\\data\\P11.set...\n",
      "Not setting metadata\n"
     ]
    },
    {
     "name": "stderr",
     "output_type": "stream",
     "text": [
      "C:\\Users\\User\\AppData\\Local\\Temp\\ipykernel_26944\\752335729.py:45: FutureWarning: The current default of copy=False will change to copy=True in 1.7. Set the value of copy explicitly to avoid this warning\n",
      "  for epoch_values in dados['proErr','antiErr','nogoErr'].get_data():\n",
      "C:\\Users\\User\\AppData\\Local\\Temp\\ipykernel_26944\\752335729.py:24: RuntimeWarning: At least one epoch has multiple events. Only the latency of the first event will be retained.\n",
      "  dados = mne.read_epochs_eeglab(path_)\n"
     ]
    },
    {
     "name": "stdout",
     "output_type": "stream",
     "text": [
      "220 matching events found\n",
      "No baseline correction applied\n",
      "0 projection items activated\n",
      "Ready.\n"
     ]
    },
    {
     "name": "stderr",
     "output_type": "stream",
     "text": [
      "C:\\Users\\User\\AppData\\Local\\Temp\\ipykernel_26944\\752335729.py:29: FutureWarning: The current default of copy=False will change to copy=True in 1.7. Set the value of copy explicitly to avoid this warning\n",
      "  Corr_labels = len(dados['proCorr','antiCorr'].get_data())\n",
      "C:\\Users\\User\\AppData\\Local\\Temp\\ipykernel_26944\\752335729.py:30: FutureWarning: The current default of copy=False will change to copy=True in 1.7. Set the value of copy explicitly to avoid this warning\n",
      "  Err_labels = len(dados['proErr','antiErr','nogoErr'].get_data())\n",
      "C:\\Users\\User\\AppData\\Local\\Temp\\ipykernel_26944\\752335729.py:37: FutureWarning: The current default of copy=False will change to copy=True in 1.7. Set the value of copy explicitly to avoid this warning\n",
      "  for epoch_values in dados['proCorr','antiCorr'].get_data():\n"
     ]
    },
    {
     "name": "stdout",
     "output_type": "stream",
     "text": [
      "Extracting parameters from c:\\Users\\User\\Documents\\GitHub\\Tese\\data\\P13.set...\n"
     ]
    },
    {
     "name": "stderr",
     "output_type": "stream",
     "text": [
      "C:\\Users\\User\\AppData\\Local\\Temp\\ipykernel_26944\\752335729.py:45: FutureWarning: The current default of copy=False will change to copy=True in 1.7. Set the value of copy explicitly to avoid this warning\n",
      "  for epoch_values in dados['proErr','antiErr','nogoErr'].get_data():\n",
      "C:\\Users\\User\\AppData\\Local\\Temp\\ipykernel_26944\\752335729.py:24: RuntimeWarning: At least one epoch has multiple events. Only the latency of the first event will be retained.\n",
      "  dados = mne.read_epochs_eeglab(path_)\n"
     ]
    },
    {
     "name": "stdout",
     "output_type": "stream",
     "text": [
      "Not setting metadata\n",
      "221 matching events found\n",
      "No baseline correction applied\n",
      "0 projection items activated\n",
      "Ready.\n"
     ]
    },
    {
     "name": "stderr",
     "output_type": "stream",
     "text": [
      "C:\\Users\\User\\AppData\\Local\\Temp\\ipykernel_26944\\752335729.py:29: FutureWarning: The current default of copy=False will change to copy=True in 1.7. Set the value of copy explicitly to avoid this warning\n",
      "  Corr_labels = len(dados['proCorr','antiCorr'].get_data())\n",
      "C:\\Users\\User\\AppData\\Local\\Temp\\ipykernel_26944\\752335729.py:30: FutureWarning: The current default of copy=False will change to copy=True in 1.7. Set the value of copy explicitly to avoid this warning\n",
      "  Err_labels = len(dados['proErr','antiErr','nogoErr'].get_data())\n",
      "C:\\Users\\User\\AppData\\Local\\Temp\\ipykernel_26944\\752335729.py:37: FutureWarning: The current default of copy=False will change to copy=True in 1.7. Set the value of copy explicitly to avoid this warning\n",
      "  for epoch_values in dados['proCorr','antiCorr'].get_data():\n"
     ]
    },
    {
     "name": "stdout",
     "output_type": "stream",
     "text": [
      "Extracting parameters from c:\\Users\\User\\Documents\\GitHub\\Tese\\data\\P14.set...\n",
      "Not setting metadata\n"
     ]
    },
    {
     "name": "stderr",
     "output_type": "stream",
     "text": [
      "C:\\Users\\User\\AppData\\Local\\Temp\\ipykernel_26944\\752335729.py:45: FutureWarning: The current default of copy=False will change to copy=True in 1.7. Set the value of copy explicitly to avoid this warning\n",
      "  for epoch_values in dados['proErr','antiErr','nogoErr'].get_data():\n",
      "C:\\Users\\User\\AppData\\Local\\Temp\\ipykernel_26944\\752335729.py:24: RuntimeWarning: At least one epoch has multiple events. Only the latency of the first event will be retained.\n",
      "  dados = mne.read_epochs_eeglab(path_)\n"
     ]
    },
    {
     "name": "stdout",
     "output_type": "stream",
     "text": [
      "221 matching events found\n",
      "No baseline correction applied\n",
      "0 projection items activated\n",
      "Ready.\n"
     ]
    },
    {
     "name": "stderr",
     "output_type": "stream",
     "text": [
      "C:\\Users\\User\\AppData\\Local\\Temp\\ipykernel_26944\\752335729.py:29: FutureWarning: The current default of copy=False will change to copy=True in 1.7. Set the value of copy explicitly to avoid this warning\n",
      "  Corr_labels = len(dados['proCorr','antiCorr'].get_data())\n",
      "C:\\Users\\User\\AppData\\Local\\Temp\\ipykernel_26944\\752335729.py:30: FutureWarning: The current default of copy=False will change to copy=True in 1.7. Set the value of copy explicitly to avoid this warning\n",
      "  Err_labels = len(dados['proErr','antiErr','nogoErr'].get_data())\n",
      "C:\\Users\\User\\AppData\\Local\\Temp\\ipykernel_26944\\752335729.py:37: FutureWarning: The current default of copy=False will change to copy=True in 1.7. Set the value of copy explicitly to avoid this warning\n",
      "  for epoch_values in dados['proCorr','antiCorr'].get_data():\n"
     ]
    },
    {
     "name": "stdout",
     "output_type": "stream",
     "text": [
      "Extracting parameters from c:\\Users\\User\\Documents\\GitHub\\Tese\\data\\P15.set...\n",
      "Not setting metadata\n",
      "109 matching events found\n",
      "No baseline correction applied\n",
      "0 projection items activated\n",
      "Ready.\n"
     ]
    },
    {
     "name": "stderr",
     "output_type": "stream",
     "text": [
      "C:\\Users\\User\\AppData\\Local\\Temp\\ipykernel_26944\\752335729.py:45: FutureWarning: The current default of copy=False will change to copy=True in 1.7. Set the value of copy explicitly to avoid this warning\n",
      "  for epoch_values in dados['proErr','antiErr','nogoErr'].get_data():\n",
      "C:\\Users\\User\\AppData\\Local\\Temp\\ipykernel_26944\\752335729.py:24: RuntimeWarning: At least one epoch has multiple events. Only the latency of the first event will be retained.\n",
      "  dados = mne.read_epochs_eeglab(path_)\n",
      "C:\\Users\\User\\AppData\\Local\\Temp\\ipykernel_26944\\752335729.py:29: FutureWarning: The current default of copy=False will change to copy=True in 1.7. Set the value of copy explicitly to avoid this warning\n",
      "  Corr_labels = len(dados['proCorr','antiCorr'].get_data())\n",
      "C:\\Users\\User\\AppData\\Local\\Temp\\ipykernel_26944\\752335729.py:30: FutureWarning: The current default of copy=False will change to copy=True in 1.7. Set the value of copy explicitly to avoid this warning\n",
      "  Err_labels = len(dados['proErr','antiErr','nogoErr'].get_data())\n",
      "C:\\Users\\User\\AppData\\Local\\Temp\\ipykernel_26944\\752335729.py:37: FutureWarning: The current default of copy=False will change to copy=True in 1.7. Set the value of copy explicitly to avoid this warning\n",
      "  for epoch_values in dados['proCorr','antiCorr'].get_data():\n"
     ]
    },
    {
     "name": "stdout",
     "output_type": "stream",
     "text": [
      "Extracting parameters from c:\\Users\\User\\Documents\\GitHub\\Tese\\data\\P16.set...\n"
     ]
    },
    {
     "name": "stderr",
     "output_type": "stream",
     "text": [
      "C:\\Users\\User\\AppData\\Local\\Temp\\ipykernel_26944\\752335729.py:45: FutureWarning: The current default of copy=False will change to copy=True in 1.7. Set the value of copy explicitly to avoid this warning\n",
      "  for epoch_values in dados['proErr','antiErr','nogoErr'].get_data():\n",
      "C:\\Users\\User\\AppData\\Local\\Temp\\ipykernel_26944\\752335729.py:24: RuntimeWarning: At least one epoch has multiple events. Only the latency of the first event will be retained.\n",
      "  dados = mne.read_epochs_eeglab(path_)\n"
     ]
    },
    {
     "name": "stdout",
     "output_type": "stream",
     "text": [
      "Not setting metadata\n",
      "223 matching events found\n",
      "No baseline correction applied\n",
      "0 projection items activated\n",
      "Ready.\n"
     ]
    },
    {
     "name": "stderr",
     "output_type": "stream",
     "text": [
      "C:\\Users\\User\\AppData\\Local\\Temp\\ipykernel_26944\\752335729.py:29: FutureWarning: The current default of copy=False will change to copy=True in 1.7. Set the value of copy explicitly to avoid this warning\n",
      "  Corr_labels = len(dados['proCorr','antiCorr'].get_data())\n",
      "C:\\Users\\User\\AppData\\Local\\Temp\\ipykernel_26944\\752335729.py:30: FutureWarning: The current default of copy=False will change to copy=True in 1.7. Set the value of copy explicitly to avoid this warning\n",
      "  Err_labels = len(dados['proErr','antiErr','nogoErr'].get_data())\n",
      "C:\\Users\\User\\AppData\\Local\\Temp\\ipykernel_26944\\752335729.py:37: FutureWarning: The current default of copy=False will change to copy=True in 1.7. Set the value of copy explicitly to avoid this warning\n",
      "  for epoch_values in dados['proCorr','antiCorr'].get_data():\n"
     ]
    },
    {
     "name": "stdout",
     "output_type": "stream",
     "text": [
      "Extracting parameters from c:\\Users\\User\\Documents\\GitHub\\Tese\\data\\P19.set...\n",
      "Not setting metadata\n",
      "111 matching events found\n",
      "No baseline correction applied\n",
      "0 projection items activated\n",
      "Ready.\n"
     ]
    },
    {
     "name": "stderr",
     "output_type": "stream",
     "text": [
      "C:\\Users\\User\\AppData\\Local\\Temp\\ipykernel_26944\\752335729.py:45: FutureWarning: The current default of copy=False will change to copy=True in 1.7. Set the value of copy explicitly to avoid this warning\n",
      "  for epoch_values in dados['proErr','antiErr','nogoErr'].get_data():\n",
      "C:\\Users\\User\\AppData\\Local\\Temp\\ipykernel_26944\\752335729.py:24: RuntimeWarning: At least one epoch has multiple events. Only the latency of the first event will be retained.\n",
      "  dados = mne.read_epochs_eeglab(path_)\n",
      "C:\\Users\\User\\AppData\\Local\\Temp\\ipykernel_26944\\752335729.py:29: FutureWarning: The current default of copy=False will change to copy=True in 1.7. Set the value of copy explicitly to avoid this warning\n",
      "  Corr_labels = len(dados['proCorr','antiCorr'].get_data())\n",
      "C:\\Users\\User\\AppData\\Local\\Temp\\ipykernel_26944\\752335729.py:30: FutureWarning: The current default of copy=False will change to copy=True in 1.7. Set the value of copy explicitly to avoid this warning\n",
      "  Err_labels = len(dados['proErr','antiErr','nogoErr'].get_data())\n",
      "C:\\Users\\User\\AppData\\Local\\Temp\\ipykernel_26944\\752335729.py:37: FutureWarning: The current default of copy=False will change to copy=True in 1.7. Set the value of copy explicitly to avoid this warning\n",
      "  for epoch_values in dados['proCorr','antiCorr'].get_data():\n",
      "C:\\Users\\User\\AppData\\Local\\Temp\\ipykernel_26944\\752335729.py:45: FutureWarning: The current default of copy=False will change to copy=True in 1.7. Set the value of copy explicitly to avoid this warning\n",
      "  for epoch_values in dados['proErr','antiErr','nogoErr'].get_data():\n"
     ]
    }
   ],
   "source": [
    "import os\n",
    "import numpy as np\n",
    "import mne\n",
    "import matplotlib.pyplot as plt\n",
    "import src.functions as src\n",
    "\n",
    "\n",
    "fs=500\n",
    "freq_bands={'delta' : [0,4],\n",
    "            'theta' : [4,8],\n",
    "            'alpha' : [8, 13],\n",
    "            'beta' : [13,35],\n",
    "            'high' : [35, 45],\n",
    "            'all': [1.5,45],\n",
    "            'low': [1.5,12]}\n",
    "\n",
    "\n",
    "data = {}\n",
    "labels = {}\n",
    "file= [item for item in os.listdir('data') if item.endswith('set')]\n",
    "\n",
    "for file_index, file_name in enumerate(file):\n",
    "    path_ = os.path.join( 'data', file_name )\n",
    "    dados = mne.read_epochs_eeglab(path_)\n",
    "    channel_names = dados.info['ch_names']\n",
    "    subject_id = file_name[:3]\n",
    "    \n",
    "    # Extract labels\n",
    "    Corr_labels = len(dados['proCorr','antiCorr'].get_data())\n",
    "    Err_labels = len(dados['proErr','antiErr','nogoErr'].get_data())\n",
    "    labels[subject_id] = np.array([0] * Corr_labels + [1] * Err_labels)\n",
    "    \n",
    "    # Initialize channel data dictionary\n",
    "    channel_data = {}\n",
    "    \n",
    "    # Iterate over 'proCorr' and 'antiCorr' events\n",
    "    for epoch_values in dados['proCorr','antiCorr'].get_data():\n",
    "        for channel_index, channel_values in enumerate(epoch_values):\n",
    "            channel_name = channel_names[channel_index]\n",
    "            if channel_name not in channel_data:\n",
    "                channel_data[channel_name] = []\n",
    "            channel_data[channel_name].append(list(channel_values))\n",
    "    \n",
    "    # Iterate over 'proErr', 'antiErr', and 'nogoErr' events\n",
    "    for epoch_values in dados['proErr','antiErr','nogoErr'].get_data():\n",
    "        for channel_index, channel_values in enumerate(epoch_values):\n",
    "            channel_name = channel_names[channel_index]\n",
    "            if channel_name not in channel_data:\n",
    "                channel_data[channel_name] = []\n",
    "            channel_data[channel_name].append(list(channel_values))\n",
    "    \n",
    "    data[subject_id] = channel_data\n"
   ]
  },
  {
   "cell_type": "code",
   "execution_count": 2,
   "metadata": {},
   "outputs": [],
   "source": [
    "def data_pre_post(data):\n",
    "    pre_response={}\n",
    "    post_response={}\n",
    "    for subject_id, dados in data.items():\n",
    "        channel_data_pre={}\n",
    "        channel_data_post={}\n",
    "        for channel_name, values in dados.items():\n",
    "            values_pre=[]\n",
    "            values_post=[]\n",
    "            for i in range(len(values)):\n",
    "                \n",
    "                index= int(len(values[i])/2)\n",
    "                values_pre.append(values[i][0:index])\n",
    "                values_post.append(values[i][index:-1])\n",
    "            channel_data_pre[channel_name]= values_pre\n",
    "            channel_data_post[channel_name]= values_post\n",
    "            \n",
    "        pre_response[subject_id] = channel_data_pre #(14,60,n_events,250)\n",
    "        post_response[subject_id] = channel_data_post\n",
    "    return pre_response, post_response\n",
    "\n",
    "pre_response, post_response = data_pre_post(data)"
   ]
  },
  {
   "cell_type": "code",
   "execution_count": 22,
   "metadata": {},
   "outputs": [
    {
     "data": {
      "text/plain": [
       "array([0, 0, 0, 0, 0, 0, 0, 0, 0, 0, 0, 0, 0, 0, 0, 0, 0, 0, 0, 0, 0, 0,\n",
       "       0, 0, 0, 0, 0, 0, 0, 0, 0, 0, 0, 0, 0, 0, 0, 0, 0, 0, 0, 0, 0, 0,\n",
       "       0, 0, 0, 0, 0, 0, 0, 0, 0, 0, 0, 0, 0, 0, 0, 0, 0, 0, 0, 0, 0, 0,\n",
       "       0, 0, 0, 0, 0, 0, 0, 0, 0, 0, 0, 0, 0, 0, 0, 0, 0, 0, 0, 0, 0, 0,\n",
       "       0, 0, 0, 0, 0, 0, 0, 0, 0, 0, 0, 0, 0, 0, 0, 0, 0, 0, 0, 0, 0, 0,\n",
       "       0, 0, 0, 0, 0, 0, 0, 0, 0, 0, 0, 0, 0, 0, 0, 0, 0, 0, 0, 0, 0, 0,\n",
       "       0, 0, 0, 0, 0, 0, 0, 0, 0, 0, 0, 0, 0, 0, 0, 0, 0, 0, 0, 0, 0, 0,\n",
       "       0, 0, 0, 0, 0, 0, 0, 0, 0, 0, 0, 0, 0, 0, 0, 0, 0, 0, 0, 0, 0, 0,\n",
       "       0, 0, 0, 0, 0, 0, 0, 0, 0, 0, 0, 0, 0, 0, 0, 0, 0, 0, 0, 0, 0, 0,\n",
       "       0, 0, 0, 0, 0, 0, 0, 0, 0, 0, 0, 0, 0, 0, 0, 0, 0, 0, 0, 0, 0, 0,\n",
       "       0, 0, 0, 0, 1, 1, 1, 1])"
      ]
     },
     "execution_count": 22,
     "metadata": {},
     "output_type": "execute_result"
    }
   ],
   "source": [
    "labels['P01']"
   ]
  },
  {
   "cell_type": "code",
   "execution_count": 23,
   "metadata": {},
   "outputs": [
    {
     "name": "stdout",
     "output_type": "stream",
     "text": [
      "2615\n",
      "168\n"
     ]
    }
   ],
   "source": [
    "a=[]\n",
    "b=[]\n",
    "for subject_id in labels.keys():\n",
    "    for i in labels[subject_id]:\n",
    "        if i==0:\n",
    "            a.append(i)\n",
    "        elif i==1:\n",
    "            b.append(i)\n",
    "print(len(a))\n",
    "print(len(b))"
   ]
  },
  {
   "cell_type": "code",
   "execution_count": 3,
   "metadata": {},
   "outputs": [
    {
     "name": "stderr",
     "output_type": "stream",
     "text": [
      "C:\\Users\\User\\AppData\\Local\\Packages\\PythonSoftwareFoundation.Python.3.11_qbz5n2kfra8p0\\LocalCache\\local-packages\\Python311\\site-packages\\scipy\\signal\\_spectral_py.py:589: UserWarning: nperseg = 256 is greater than input length  = 250, using nperseg = 250\n",
      "  freqs, _, Pxy = _spectral_helper(x, y, fs, window, nperseg, noverlap,\n",
      "C:\\Users\\User\\AppData\\Local\\Packages\\PythonSoftwareFoundation.Python.3.11_qbz5n2kfra8p0\\LocalCache\\local-packages\\Python311\\site-packages\\scipy\\signal\\_spectral_py.py:589: UserWarning: nperseg = 256 is greater than input length  = 249, using nperseg = 249\n",
      "  freqs, _, Pxy = _spectral_helper(x, y, fs, window, nperseg, noverlap,\n"
     ]
    }
   ],
   "source": [
    "f_pre,S_pre= src.getpsd(pre_response,fs)    # S_pre ->(14,60,n_events,n_points)\n",
    "f_post,S_post= src.getpsd(post_response,fs)"
   ]
  },
  {
   "cell_type": "code",
   "execution_count": 4,
   "metadata": {},
   "outputs": [],
   "source": [
    "pre_data_per_channel= src.getdataperchannel(S_pre) #(subject_id,60,n_events,n_points)\n",
    "post_data_per_channel= src.getdataperchannel(S_post)"
   ]
  },
  {
   "cell_type": "markdown",
   "metadata": {},
   "source": [
    "### FCZ cluster "
   ]
  },
  {
   "cell_type": "code",
   "execution_count": 16,
   "metadata": {},
   "outputs": [],
   "source": [
    "data1= src.extend_list(src.feature('fcz_features','.','.','theta','all',post_data_per_channel,post_data_per_channel,freq_bands,f_post, f_post))\n",
    "data2= src.extend_list(src.feature('fcz_features','.','.','theta','high',post_data_per_channel,post_data_per_channel,freq_bands,f_post,f_post))\n",
    "data3= src.extend_list(src.feature('fcz_features','.','.','theta','all',pre_data_per_channel,pre_data_per_channel,freq_bands,f_pre,f_pre))\n",
    "data4= src.extend_list(src.feature('fcz_features','.','.','theta','high',pre_data_per_channel,pre_data_per_channel,freq_bands,f_pre,f_pre))\n",
    "data5= src.extend_list(src.feature('fcz_features','.','.','theta','other',post_data_per_channel,post_data_per_channel,freq_bands,f_post,f_post))\n",
    "data6= src.extend_list(src.feature('fcz_features','.','.','theta','other',pre_data_per_channel,pre_data_per_channel,freq_bands,f_pre,f_pre))\n",
    "data7= src.extend_list(src.feature('fcz_features','.','.','theta','theta',post_data_per_channel,pre_data_per_channel,freq_bands,f_post,f_pre))"
   ]
  },
  {
   "cell_type": "markdown",
   "metadata": {},
   "source": [
    "### All"
   ]
  },
  {
   "cell_type": "code",
   "execution_count": 6,
   "metadata": {},
   "outputs": [],
   "source": [
    "data8={}\n",
    "data9={}\n",
    "data10={}\n",
    "data11={}\n",
    "data12={}\n",
    "data13={}\n",
    "data14={}\n",
    "data15={}\n",
    "data16={}\n",
    "for channel_name in post_data_per_channel['P01'].keys():    \n",
    "    feature8= src.extend_list(src.feature('all_features',channel_name,channel_name,'theta','all',post_data_per_channel,post_data_per_channel,freq_bands,f_post,f_post))\n",
    "    feature9= src.extend_list(src.feature('all_features',channel_name,channel_name,'theta','high',post_data_per_channel,post_data_per_channel,freq_bands,f_post,f_post))\n",
    "    feature10= src.extend_list(src.feature('all_features',channel_name,channel_name,'theta','all',pre_data_per_channel,pre_data_per_channel,freq_bands,f_pre,f_pre))\n",
    "    feature11= src.extend_list(src.feature('all_features',channel_name,channel_name,'theta','high',pre_data_per_channel,pre_data_per_channel,freq_bands,f_pre,f_pre))\n",
    "    feature12= src.extend_list(src.feature('all_features',channel_name,channel_name,'theta','theta',post_data_per_channel,pre_data_per_channel,freq_bands,f_post,f_pre))\n",
    "    feature13= src.extend_list(src.feature('all_features',channel_name,channel_name,'theta','delta',post_data_per_channel,post_data_per_channel,freq_bands,f_post,f_post))\n",
    "    feature14= src.extend_list(src.feature('all_features',channel_name,channel_name,'theta','alpha',post_data_per_channel,post_data_per_channel,freq_bands,f_post,f_post))\n",
    "    feature15= src.extend_list(src.feature('all_features',channel_name,channel_name,'theta','delta',pre_data_per_channel,pre_data_per_channel,freq_bands,f_pre,f_pre))\n",
    "    feature16= src.extend_list(src.feature('all_features',channel_name,channel_name,'theta','alpha',pre_data_per_channel,pre_data_per_channel,freq_bands,f_pre,f_pre))\n",
    "    data8[channel_name]=feature8\n",
    "    data9[channel_name]=feature9\n",
    "    data10[channel_name]=feature10\n",
    "    data11[channel_name]=feature11\n",
    "    data12[channel_name]=feature12\n",
    "    data13[channel_name]=feature13\n",
    "    data14[channel_name]=feature14\n",
    "    data15[channel_name]=feature15\n",
    "    data16[channel_name]=feature16"
   ]
  },
  {
   "cell_type": "markdown",
   "metadata": {},
   "source": [
    "### Midfrontal"
   ]
  },
  {
   "cell_type": "code",
   "execution_count": 7,
   "metadata": {},
   "outputs": [],
   "source": [
    "data17={}\n",
    "data18={}\n",
    "for channel_name in post_data_per_channel['P01'].keys():\n",
    "    feature17= src.extend_list(src.feature('midfrontal_features',channel_name,channel_name,'theta','other',post_data_per_channel,post_data_per_channel,freq_bands,f_post,f_post))\n",
    "    feature18= src.extend_list(src.feature('midfrontal_features',channel_name,channel_name,'theta','other',pre_data_per_channel,pre_data_per_channel,freq_bands,f_pre,f_pre))\n",
    "    data17[channel_name]=feature17\n",
    "    data18[channel_name]=feature18"
   ]
  },
  {
   "cell_type": "markdown",
   "metadata": {},
   "source": [
    "### Low"
   ]
  },
  {
   "cell_type": "code",
   "execution_count": 8,
   "metadata": {},
   "outputs": [],
   "source": [
    "data19={}\n",
    "data20={}\n",
    "data21={}\n",
    "data22={}\n",
    "data23={}\n",
    "data24={}\n",
    "data25={}\n",
    "data26={}\n",
    "data27={}\n",
    "data28={}\n",
    "data29={}\n",
    "data30={}\n",
    "for channel_name in post_data_per_channel[subject_id].keys():        \n",
    "    \n",
    "    feature19= src.extend_list(src.feature('low_features',channel_name,channel_name,'delta','all',post_data_per_channel,post_data_per_channel,freq_bands,f_post,f_post))\n",
    "    feature20= src.extend_list(src.feature('low_features',channel_name,channel_name,'alpha','all',post_data_per_channel,post_data_per_channel,freq_bands,f_post,f_post))\n",
    "    feature21= src.extend_list(src.feature('low_features',channel_name,channel_name,'low','all',post_data_per_channel,post_data_per_channel,freq_bands,f_post,f_post))\n",
    "    feature22= src.extend_list(src.feature('low_features',channel_name,channel_name,'delta','high',post_data_per_channel,post_data_per_channel,freq_bands,f_post,f_post))\n",
    "    feature23= src.extend_list(src.feature('low_features',channel_name,channel_name,'alpha','high',post_data_per_channel,post_data_per_channel,freq_bands,f_post,f_post))\n",
    "    feature24= src.extend_list(src.feature('low_features',channel_name,channel_name,'low','high',post_data_per_channel,post_data_per_channel,freq_bands,f_post,f_post))\n",
    "    feature25= src.extend_list(src.feature('low_features',channel_name,channel_name,'delta','all',pre_data_per_channel,pre_data_per_channel,freq_bands,f_pre,f_pre))\n",
    "    feature26= src.extend_list(src.feature('low_features',channel_name,channel_name,'alpha','all',pre_data_per_channel,pre_data_per_channel,freq_bands,f_pre,f_pre))\n",
    "    feature27= src.extend_list(src.feature('low_features',channel_name,channel_name,'low','all',pre_data_per_channel,pre_data_per_channel,freq_bands,f_pre,f_pre))\n",
    "    feature28= src.extend_list(src.feature('low_features',channel_name,channel_name,'delta','high',pre_data_per_channel,pre_data_per_channel,freq_bands,f_pre,f_pre))\n",
    "    feature29= src.extend_list(src.feature('low_features',channel_name,channel_name,'alpha','high',pre_data_per_channel,pre_data_per_channel,freq_bands,f_pre,f_pre))\n",
    "    feature30= src.extend_list(src.feature('low_features',channel_name,channel_name,'low','high',pre_data_per_channel,pre_data_per_channel,freq_bands,f_pre,f_pre))\n",
    "    data19[channel_name]=feature19\n",
    "    data20[channel_name]=feature20\n",
    "    data21[channel_name]=feature21\n",
    "    data22[channel_name]=feature22\n",
    "    data23[channel_name]=feature23\n",
    "    data24[channel_name]=feature24\n",
    "    data25[channel_name]=feature25\n",
    "    data26[channel_name]=feature26\n",
    "    data27[channel_name]=feature27\n",
    "    data28[channel_name]=feature28\n",
    "    data29[channel_name]=feature29\n",
    "    data30[channel_name]=feature30"
   ]
  },
  {
   "cell_type": "markdown",
   "metadata": {},
   "source": [
    "### Temporal"
   ]
  },
  {
   "cell_type": "code",
   "execution_count": 9,
   "metadata": {},
   "outputs": [],
   "source": [
    "data31={}\n",
    "data32={}\n",
    "FCZ_Cluster=['FZ','FC1','FCZ','FC2','CZ']\n",
    "PE_Cluster=['CPZ','P1','PZ','P2','POZ']\n",
    "for subject_id,values in post_response.items():\n",
    "    mean_all70_160_values = []\n",
    "    mean_all200_500_values = []\n",
    "    for i in range(len(next(iter(values.values())))):\n",
    "        all70_160_values = []\n",
    "        all200_500_values = []\n",
    "        for channel_name, channel_values in values.items():   \n",
    "            if channel_name in FCZ_Cluster:         \n",
    "                all70_160_values.append(np.mean(channel_values[i][35:81]))\n",
    "            elif channel_name in PE_Cluster:\n",
    "                all200_500_values.append(np.mean(channel_values[i][100:-1]))\n",
    "            else:\n",
    "                continue\n",
    "\n",
    "        mean_all70_160_values.append(np.mean(all70_160_values))\n",
    "        mean_all200_500_values.append(np.mean(all200_500_values))\n",
    "    data31[subject_id]= mean_all70_160_values\n",
    "    data32[subject_id]= mean_all200_500_values\n",
    "\n",
    "data31=src.extend_list(data31)\n",
    "data32=src.extend_list(data32)"
   ]
  },
  {
   "cell_type": "code",
   "execution_count": 10,
   "metadata": {},
   "outputs": [],
   "source": [
    "data33 = {}\n",
    "data34 = {}\n",
    "# Iterate over each subject in the pre_response2 dictionary\n",
    "for subject_id, values in pre_response.items():\n",
    "    # Iterate over each channel in the subject's data\n",
    "    for channel_name, channel_values in values.items():\n",
    "        # If the channel is not yet in the feature dictionaries, initialize it\n",
    "        if channel_name not in data33:\n",
    "            data33[channel_name] = []\n",
    "        if channel_name not in data34:\n",
    "            data34[channel_name] = []\n",
    "        \n",
    "        # Iterate over each event in the channel values\n",
    "        for i in range(len(channel_values)):\n",
    "            # Calculate the mean values for the specified ranges\n",
    "            mean_500_250 = np.mean(channel_values[i][0:126])\n",
    "            mean_250_0 = np.mean(channel_values[i][125:-1])\n",
    "            \n",
    "            # Append the mean values to the corresponding channel's list in the feature dictionaries\n",
    "            data33[channel_name].append(mean_500_250)\n",
    "            data34[channel_name].append(mean_250_0)\n"
   ]
  },
  {
   "cell_type": "code",
   "execution_count": 11,
   "metadata": {},
   "outputs": [],
   "source": [
    "data35 = {}\n",
    "data36 = {}\n",
    "# Iterate over each subject in the pre_response2 dictionary\n",
    "for subject_id, values in post_response.items():\n",
    "    # Iterate over each channel in the subject's data\n",
    "    for channel_name, channel_values in values.items():\n",
    "        # If the channel is not yet in the feature dictionaries, initialize it\n",
    "        if channel_name not in data35:\n",
    "            data35[channel_name] = []\n",
    "        if channel_name not in data36:\n",
    "            data36[channel_name] = []\n",
    "        \n",
    "        # Iterate over each event in the channel values\n",
    "        for i in range(len(channel_values)):\n",
    "            # Calculate the mean values for the specified ranges\n",
    "            mean_0_250 = np.mean(channel_values[i][0:126])\n",
    "            mean_250_500 = np.mean(channel_values[i][125:-1])\n",
    "            \n",
    "            # Append the mean values to the corresponding channel's list in the feature dictionaries\n",
    "            data35[channel_name].append(mean_0_250)\n",
    "            data36[channel_name].append(mean_250_500)"
   ]
  },
  {
   "cell_type": "markdown",
   "metadata": {},
   "source": [
    "### Saving Features"
   ]
  },
  {
   "cell_type": "code",
   "execution_count": 17,
   "metadata": {},
   "outputs": [
    {
     "name": "stdout",
     "output_type": "stream",
     "text": [
      "1\n",
      "2\n",
      "3\n",
      "4\n",
      "5\n",
      "6\n",
      "7\n",
      "8\n",
      "9\n",
      "10\n",
      "11\n",
      "12\n",
      "13\n",
      "14\n",
      "15\n",
      "16\n",
      "17\n",
      "18\n",
      "19\n",
      "20\n",
      "21\n",
      "22\n",
      "23\n",
      "24\n",
      "25\n",
      "26\n",
      "27\n",
      "28\n",
      "29\n",
      "30\n",
      "31\n",
      "32\n",
      "33\n",
      "34\n",
      "35\n",
      "36\n",
      "           1_0         2_0       3_0        4_0       5_0       6_0       7_0  \\\n",
      "0     0.861052    6.670514  3.576613  35.416911  0.452551  1.794788  0.187845   \n",
      "1     3.200801   21.233493  3.033360  23.153352  0.824023  1.248317  1.548954   \n",
      "2     3.197585   58.889374  3.758197  42.532463  1.252747  1.267166  1.177922   \n",
      "3     3.519466   67.307223  3.066174  36.797555  1.510801  1.073128  1.981933   \n",
      "4     2.256458   44.046793  1.332020  15.853042  0.979666  0.730604  1.618276   \n",
      "...        ...         ...       ...        ...       ...       ...       ...   \n",
      "2778  2.856935   20.805650  0.776932  33.618486  1.113980  1.997012  1.041733   \n",
      "2779  2.078781   16.945361  1.035114   8.283552  1.125025  0.598368  2.026725   \n",
      "2780  3.197488  121.819241  2.739000  25.821557  3.454946  2.133419  2.465279   \n",
      "2781  3.177710   35.945131  1.085080  14.167883  2.430133  0.935494  2.882115   \n",
      "2782  2.268642   73.019355  4.516341  31.225071  2.686321  2.098509  1.361441   \n",
      "\n",
      "         8_FP1     8_FPZ     8_FP2  ...        36_PO5        36_PO3  \\\n",
      "0     1.796434  2.696056  2.632483  ...  2.560964e-06  2.095764e-06   \n",
      "1     1.473357  3.019102  1.252582  ...  3.657801e-06  3.769445e-06   \n",
      "2     0.786368  2.604848  4.130029  ... -1.456740e-06 -4.376293e-06   \n",
      "3     2.916193  4.139619  2.397075  ... -2.451005e-08 -3.405349e-06   \n",
      "4     0.421426  0.325902  2.654278  ... -5.966775e-07 -1.852851e-06   \n",
      "...        ...       ...       ...  ...           ...           ...   \n",
      "2778  0.222129  2.946441  1.568797  ...  4.022211e-06  3.129238e-06   \n",
      "2779  0.236741  0.552527  0.161233  ...  5.514864e-07 -2.054589e-07   \n",
      "2780  0.476032  0.412819  0.182795  ... -2.148013e-06  4.368023e-06   \n",
      "2781  0.150373  0.473767  1.128129  ...  9.519416e-07  2.087025e-06   \n",
      "2782  0.527659  0.282485  0.559516  ...  3.244247e-06  2.778369e-06   \n",
      "\n",
      "            36_POZ    36_PO4        36_PO6        36_PO8         36_O1  \\\n",
      "0     1.584802e-06  0.000001  1.028383e-06  1.547475e-06  8.319419e-08   \n",
      "1     3.544683e-06  0.000002  3.621302e-06  3.774115e-06  2.832617e-06   \n",
      "2    -3.708867e-06 -0.000005 -3.219856e-06 -2.460633e-06 -2.575036e-06   \n",
      "3    -3.265301e-06 -0.000004 -3.329800e-06 -9.002067e-07 -2.845502e-07   \n",
      "4    -5.248201e-07 -0.000003 -5.253822e-07 -4.108471e-07 -2.139695e-06   \n",
      "...            ...       ...           ...           ...           ...   \n",
      "2778  6.126130e-07 -0.000004 -1.369123e-06 -2.183451e-06  1.149146e-06   \n",
      "2779 -7.275114e-07  0.000001  2.565860e-06  2.260520e-06  2.263731e-06   \n",
      "2780 -5.023252e-07 -0.000002  2.487908e-06 -1.232499e-06 -1.131801e-06   \n",
      "2781  1.072583e-06  0.000001 -8.159685e-08  3.263817e-06  3.069872e-06   \n",
      "2782  2.278163e-06  0.000004  2.476870e-07  3.983808e-07  3.180070e-06   \n",
      "\n",
      "             36_OZ         36_O2  labels  \n",
      "0    -8.866407e-07  1.861481e-07       0  \n",
      "1     2.499691e-06  4.331630e-06       0  \n",
      "2    -1.798654e-06 -3.043955e-06       0  \n",
      "3    -9.838856e-07 -2.809710e-06       0  \n",
      "4    -1.295782e-06 -1.124234e-06       0  \n",
      "...            ...           ...     ...  \n",
      "2778 -1.493527e-07 -1.526379e-06       0  \n",
      "2779  1.072945e-06  2.587075e-06       0  \n",
      "2780  3.612134e-07 -1.413529e-06       1  \n",
      "2781  1.859527e-06  2.427887e-06       1  \n",
      "2782  3.135927e-06  1.860242e-06       1  \n",
      "\n",
      "[2783 rows x 1630 columns]\n"
     ]
    }
   ],
   "source": [
    "import pandas as pd\n",
    "\n",
    "dicts=[]\n",
    "for feature_index in range(1,37):\n",
    "    feature_corr_key = 'data{}'.format(feature_index)\n",
    "    dicts.append(globals()[feature_corr_key])\n",
    "\n",
    "\n",
    "\n",
    "combined_df = pd.DataFrame()\n",
    "# Iterate through each dictionary and its index\n",
    "for index, feature_dict in enumerate(dicts, start=1):\n",
    "    # Convert the dictionary to a DataFrame\n",
    "    print(index)\n",
    "    df = pd.DataFrame(feature_dict)\n",
    "    # Rename the columns to include the iteration number\n",
    "    df.columns = [f'{index}_{col}' for col in df.columns]\n",
    "    # Concatenate the DataFrame to the combined DataFrame\n",
    "    combined_df = pd.concat([combined_df, df], axis=1)\n",
    "\n",
    "combined_df['labels'] = src.extend_list(labels)\n",
    "print(combined_df)\n",
    "combined_df.to_csv('dataset1_features.csv', index=False)"
   ]
  },
  {
   "cell_type": "code",
   "execution_count": null,
   "metadata": {},
   "outputs": [],
   "source": []
  }
 ],
 "metadata": {
  "kernelspec": {
   "display_name": "Python 3",
   "language": "python",
   "name": "python3"
  },
  "language_info": {
   "codemirror_mode": {
    "name": "ipython",
    "version": 3
   },
   "file_extension": ".py",
   "mimetype": "text/x-python",
   "name": "python",
   "nbconvert_exporter": "python",
   "pygments_lexer": "ipython3",
   "version": "3.11.9"
  }
 },
 "nbformat": 4,
 "nbformat_minor": 2
}
