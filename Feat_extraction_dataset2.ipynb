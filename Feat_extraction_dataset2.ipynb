{
 "cells": [
  {
   "cell_type": "code",
   "execution_count": 7,
   "metadata": {},
   "outputs": [
    {
     "name": "stdout",
     "output_type": "stream",
     "text": [
      "Extracting parameters from c:\\Users\\User\\Documents\\GitHub\\Tese\\Dataset2\\P01\\P01_1.set...\n"
     ]
    },
    {
     "name": "stderr",
     "output_type": "stream",
     "text": [
      "C:\\Users\\User\\AppData\\Local\\Temp\\ipykernel_6440\\2512055576.py:29: RuntimeWarning: At least one epoch has multiple events. Only the latency of the first event will be retained.\n",
      "  dados = mne.read_epochs_eeglab(path_)\n"
     ]
    },
    {
     "name": "stdout",
     "output_type": "stream",
     "text": [
      "Not setting metadata\n",
      "75 matching events found\n",
      "No baseline correction applied\n",
      "0 projection items activated\n",
      "Ready.\n"
     ]
    },
    {
     "name": "stderr",
     "output_type": "stream",
     "text": [
      "C:\\Users\\User\\AppData\\Local\\Temp\\ipykernel_6440\\2512055576.py:35: FutureWarning: The current default of copy=False will change to copy=True in 1.7. Set the value of copy explicitly to avoid this warning\n",
      "  Corr_labels = int(len(dados['150','160'].get_data()))\n",
      "C:\\Users\\User\\AppData\\Local\\Temp\\ipykernel_6440\\2512055576.py:39: FutureWarning: The current default of copy=False will change to copy=True in 1.7. Set the value of copy explicitly to avoid this warning\n",
      "  Err_labels = int(len(dados['151','152','153','154','161','162','163','164'].get_data()))\n",
      "C:\\Users\\User\\AppData\\Local\\Temp\\ipykernel_6440\\2512055576.py:49: FutureWarning: The current default of copy=False will change to copy=True in 1.7. Set the value of copy explicitly to avoid this warning\n",
      "  for epoch_values in dados['150','160'].get_data():\n"
     ]
    },
    {
     "name": "stdout",
     "output_type": "stream",
     "text": [
      "Extracting parameters from c:\\Users\\User\\Documents\\GitHub\\Tese\\Dataset2\\P01\\P01_2.set...\n",
      "Not setting metadata\n",
      "79 matching events found\n"
     ]
    },
    {
     "name": "stderr",
     "output_type": "stream",
     "text": [
      "C:\\Users\\User\\AppData\\Local\\Temp\\ipykernel_6440\\2512055576.py:58: FutureWarning: The current default of copy=False will change to copy=True in 1.7. Set the value of copy explicitly to avoid this warning\n",
      "  for epoch_values in dados['151','152','153','154','161','162','163','164'].get_data():\n",
      "C:\\Users\\User\\AppData\\Local\\Temp\\ipykernel_6440\\2512055576.py:29: RuntimeWarning: At least one epoch has multiple events. Only the latency of the first event will be retained.\n",
      "  dados = mne.read_epochs_eeglab(path_)\n"
     ]
    },
    {
     "name": "stdout",
     "output_type": "stream",
     "text": [
      "No baseline correction applied\n",
      "0 projection items activated\n",
      "Ready.\n"
     ]
    },
    {
     "name": "stderr",
     "output_type": "stream",
     "text": [
      "C:\\Users\\User\\AppData\\Local\\Temp\\ipykernel_6440\\2512055576.py:35: FutureWarning: The current default of copy=False will change to copy=True in 1.7. Set the value of copy explicitly to avoid this warning\n",
      "  Corr_labels = int(len(dados['150','160'].get_data()))\n",
      "C:\\Users\\User\\AppData\\Local\\Temp\\ipykernel_6440\\2512055576.py:39: FutureWarning: The current default of copy=False will change to copy=True in 1.7. Set the value of copy explicitly to avoid this warning\n",
      "  Err_labels = int(len(dados['151','152','153','154','161','162','163','164'].get_data()))\n",
      "C:\\Users\\User\\AppData\\Local\\Temp\\ipykernel_6440\\2512055576.py:49: FutureWarning: The current default of copy=False will change to copy=True in 1.7. Set the value of copy explicitly to avoid this warning\n",
      "  for epoch_values in dados['150','160'].get_data():\n"
     ]
    },
    {
     "name": "stdout",
     "output_type": "stream",
     "text": [
      "Extracting parameters from c:\\Users\\User\\Documents\\GitHub\\Tese\\Dataset2\\P01\\P01_3.set...\n",
      "Not setting metadata\n",
      "80 matching events found\n",
      "No baseline correction applied\n"
     ]
    },
    {
     "name": "stderr",
     "output_type": "stream",
     "text": [
      "C:\\Users\\User\\AppData\\Local\\Temp\\ipykernel_6440\\2512055576.py:58: FutureWarning: The current default of copy=False will change to copy=True in 1.7. Set the value of copy explicitly to avoid this warning\n",
      "  for epoch_values in dados['151','152','153','154','161','162','163','164'].get_data():\n",
      "C:\\Users\\User\\AppData\\Local\\Temp\\ipykernel_6440\\2512055576.py:29: RuntimeWarning: At least one epoch has multiple events. Only the latency of the first event will be retained.\n",
      "  dados = mne.read_epochs_eeglab(path_)\n"
     ]
    },
    {
     "name": "stdout",
     "output_type": "stream",
     "text": [
      "0 projection items activated\n",
      "Ready.\n"
     ]
    },
    {
     "name": "stderr",
     "output_type": "stream",
     "text": [
      "C:\\Users\\User\\AppData\\Local\\Temp\\ipykernel_6440\\2512055576.py:35: FutureWarning: The current default of copy=False will change to copy=True in 1.7. Set the value of copy explicitly to avoid this warning\n",
      "  Corr_labels = int(len(dados['150','160'].get_data()))\n",
      "C:\\Users\\User\\AppData\\Local\\Temp\\ipykernel_6440\\2512055576.py:39: FutureWarning: The current default of copy=False will change to copy=True in 1.7. Set the value of copy explicitly to avoid this warning\n",
      "  Err_labels = int(len(dados['151','152','153','154','161','162','163','164'].get_data()))\n",
      "C:\\Users\\User\\AppData\\Local\\Temp\\ipykernel_6440\\2512055576.py:49: FutureWarning: The current default of copy=False will change to copy=True in 1.7. Set the value of copy explicitly to avoid this warning\n",
      "  for epoch_values in dados['150','160'].get_data():\n",
      "C:\\Users\\User\\AppData\\Local\\Temp\\ipykernel_6440\\2512055576.py:58: FutureWarning: The current default of copy=False will change to copy=True in 1.7. Set the value of copy explicitly to avoid this warning\n",
      "  for epoch_values in dados['151','152','153','154','161','162','163','164'].get_data():\n"
     ]
    },
    {
     "name": "stdout",
     "output_type": "stream",
     "text": [
      "Extracting parameters from c:\\Users\\User\\Documents\\GitHub\\Tese\\Dataset2\\P01\\P01_4.set...\n",
      "Not setting metadata\n",
      "81 matching events found\n"
     ]
    },
    {
     "name": "stderr",
     "output_type": "stream",
     "text": [
      "C:\\Users\\User\\AppData\\Local\\Temp\\ipykernel_6440\\2512055576.py:29: RuntimeWarning: At least one epoch has multiple events. Only the latency of the first event will be retained.\n",
      "  dados = mne.read_epochs_eeglab(path_)\n"
     ]
    },
    {
     "name": "stdout",
     "output_type": "stream",
     "text": [
      "No baseline correction applied\n",
      "0 projection items activated\n",
      "Ready.\n"
     ]
    },
    {
     "name": "stderr",
     "output_type": "stream",
     "text": [
      "C:\\Users\\User\\AppData\\Local\\Temp\\ipykernel_6440\\2512055576.py:35: FutureWarning: The current default of copy=False will change to copy=True in 1.7. Set the value of copy explicitly to avoid this warning\n",
      "  Corr_labels = int(len(dados['150','160'].get_data()))\n",
      "C:\\Users\\User\\AppData\\Local\\Temp\\ipykernel_6440\\2512055576.py:39: FutureWarning: The current default of copy=False will change to copy=True in 1.7. Set the value of copy explicitly to avoid this warning\n",
      "  Err_labels = int(len(dados['151','152','153','154','161','162','163','164'].get_data()))\n",
      "C:\\Users\\User\\AppData\\Local\\Temp\\ipykernel_6440\\2512055576.py:49: FutureWarning: The current default of copy=False will change to copy=True in 1.7. Set the value of copy explicitly to avoid this warning\n",
      "  for epoch_values in dados['150','160'].get_data():\n"
     ]
    },
    {
     "name": "stdout",
     "output_type": "stream",
     "text": [
      "Extracting parameters from c:\\Users\\User\\Documents\\GitHub\\Tese\\Dataset2\\P02\\P02_1.set...\n",
      "Not setting metadata\n",
      "79 matching events found\n",
      "No baseline correction applied\n",
      "0 projection items activated\n",
      "Ready.\n"
     ]
    },
    {
     "name": "stderr",
     "output_type": "stream",
     "text": [
      "C:\\Users\\User\\AppData\\Local\\Temp\\ipykernel_6440\\2512055576.py:58: FutureWarning: The current default of copy=False will change to copy=True in 1.7. Set the value of copy explicitly to avoid this warning\n",
      "  for epoch_values in dados['151','152','153','154','161','162','163','164'].get_data():\n",
      "C:\\Users\\User\\AppData\\Local\\Temp\\ipykernel_6440\\2512055576.py:29: RuntimeWarning: At least one epoch has multiple events. Only the latency of the first event will be retained.\n",
      "  dados = mne.read_epochs_eeglab(path_)\n",
      "C:\\Users\\User\\AppData\\Local\\Temp\\ipykernel_6440\\2512055576.py:35: FutureWarning: The current default of copy=False will change to copy=True in 1.7. Set the value of copy explicitly to avoid this warning\n",
      "  Corr_labels = int(len(dados['150','160'].get_data()))\n",
      "C:\\Users\\User\\AppData\\Local\\Temp\\ipykernel_6440\\2512055576.py:39: FutureWarning: The current default of copy=False will change to copy=True in 1.7. Set the value of copy explicitly to avoid this warning\n",
      "  Err_labels = int(len(dados['151','152','153','154','161','162','163','164'].get_data()))\n",
      "C:\\Users\\User\\AppData\\Local\\Temp\\ipykernel_6440\\2512055576.py:49: FutureWarning: The current default of copy=False will change to copy=True in 1.7. Set the value of copy explicitly to avoid this warning\n",
      "  for epoch_values in dados['150','160'].get_data():\n",
      "C:\\Users\\User\\AppData\\Local\\Temp\\ipykernel_6440\\2512055576.py:58: FutureWarning: The current default of copy=False will change to copy=True in 1.7. Set the value of copy explicitly to avoid this warning\n",
      "  for epoch_values in dados['151','152','153','154','161','162','163','164'].get_data():\n"
     ]
    },
    {
     "name": "stdout",
     "output_type": "stream",
     "text": [
      "Extracting parameters from c:\\Users\\User\\Documents\\GitHub\\Tese\\Dataset2\\P02\\P02_2.set...\n",
      "Not setting metadata\n",
      "79 matching events found\n"
     ]
    },
    {
     "name": "stderr",
     "output_type": "stream",
     "text": [
      "C:\\Users\\User\\AppData\\Local\\Temp\\ipykernel_6440\\2512055576.py:29: RuntimeWarning: At least one epoch has multiple events. Only the latency of the first event will be retained.\n",
      "  dados = mne.read_epochs_eeglab(path_)\n"
     ]
    },
    {
     "name": "stdout",
     "output_type": "stream",
     "text": [
      "No baseline correction applied\n",
      "0 projection items activated\n",
      "Ready.\n"
     ]
    },
    {
     "name": "stderr",
     "output_type": "stream",
     "text": [
      "C:\\Users\\User\\AppData\\Local\\Temp\\ipykernel_6440\\2512055576.py:35: FutureWarning: The current default of copy=False will change to copy=True in 1.7. Set the value of copy explicitly to avoid this warning\n",
      "  Corr_labels = int(len(dados['150','160'].get_data()))\n",
      "C:\\Users\\User\\AppData\\Local\\Temp\\ipykernel_6440\\2512055576.py:39: FutureWarning: The current default of copy=False will change to copy=True in 1.7. Set the value of copy explicitly to avoid this warning\n",
      "  Err_labels = int(len(dados['151','152','153','154','161','162','163','164'].get_data()))\n",
      "C:\\Users\\User\\AppData\\Local\\Temp\\ipykernel_6440\\2512055576.py:49: FutureWarning: The current default of copy=False will change to copy=True in 1.7. Set the value of copy explicitly to avoid this warning\n",
      "  for epoch_values in dados['150','160'].get_data():\n"
     ]
    },
    {
     "name": "stdout",
     "output_type": "stream",
     "text": [
      "Extracting parameters from c:\\Users\\User\\Documents\\GitHub\\Tese\\Dataset2\\P02\\P02_3.set...\n"
     ]
    },
    {
     "name": "stderr",
     "output_type": "stream",
     "text": [
      "C:\\Users\\User\\AppData\\Local\\Temp\\ipykernel_6440\\2512055576.py:58: FutureWarning: The current default of copy=False will change to copy=True in 1.7. Set the value of copy explicitly to avoid this warning\n",
      "  for epoch_values in dados['151','152','153','154','161','162','163','164'].get_data():\n",
      "C:\\Users\\User\\AppData\\Local\\Temp\\ipykernel_6440\\2512055576.py:29: RuntimeWarning: At least one epoch has multiple events. Only the latency of the first event will be retained.\n",
      "  dados = mne.read_epochs_eeglab(path_)\n"
     ]
    },
    {
     "name": "stdout",
     "output_type": "stream",
     "text": [
      "Not setting metadata\n",
      "77 matching events found\n",
      "No baseline correction applied\n",
      "0 projection items activated\n",
      "Ready.\n"
     ]
    },
    {
     "name": "stderr",
     "output_type": "stream",
     "text": [
      "C:\\Users\\User\\AppData\\Local\\Temp\\ipykernel_6440\\2512055576.py:35: FutureWarning: The current default of copy=False will change to copy=True in 1.7. Set the value of copy explicitly to avoid this warning\n",
      "  Corr_labels = int(len(dados['150','160'].get_data()))\n",
      "C:\\Users\\User\\AppData\\Local\\Temp\\ipykernel_6440\\2512055576.py:39: FutureWarning: The current default of copy=False will change to copy=True in 1.7. Set the value of copy explicitly to avoid this warning\n",
      "  Err_labels = int(len(dados['151','152','153','154','161','162','163','164'].get_data()))\n",
      "C:\\Users\\User\\AppData\\Local\\Temp\\ipykernel_6440\\2512055576.py:49: FutureWarning: The current default of copy=False will change to copy=True in 1.7. Set the value of copy explicitly to avoid this warning\n",
      "  for epoch_values in dados['150','160'].get_data():\n"
     ]
    },
    {
     "name": "stdout",
     "output_type": "stream",
     "text": [
      "Extracting parameters from c:\\Users\\User\\Documents\\GitHub\\Tese\\Dataset2\\P02\\P02_4.set...\n"
     ]
    },
    {
     "name": "stderr",
     "output_type": "stream",
     "text": [
      "C:\\Users\\User\\AppData\\Local\\Temp\\ipykernel_6440\\2512055576.py:58: FutureWarning: The current default of copy=False will change to copy=True in 1.7. Set the value of copy explicitly to avoid this warning\n",
      "  for epoch_values in dados['151','152','153','154','161','162','163','164'].get_data():\n",
      "C:\\Users\\User\\AppData\\Local\\Temp\\ipykernel_6440\\2512055576.py:29: RuntimeWarning: At least one epoch has multiple events. Only the latency of the first event will be retained.\n",
      "  dados = mne.read_epochs_eeglab(path_)\n"
     ]
    },
    {
     "name": "stdout",
     "output_type": "stream",
     "text": [
      "Not setting metadata\n",
      "77 matching events found\n",
      "No baseline correction applied\n",
      "0 projection items activated\n",
      "Ready.\n"
     ]
    },
    {
     "name": "stderr",
     "output_type": "stream",
     "text": [
      "C:\\Users\\User\\AppData\\Local\\Temp\\ipykernel_6440\\2512055576.py:35: FutureWarning: The current default of copy=False will change to copy=True in 1.7. Set the value of copy explicitly to avoid this warning\n",
      "  Corr_labels = int(len(dados['150','160'].get_data()))\n",
      "C:\\Users\\User\\AppData\\Local\\Temp\\ipykernel_6440\\2512055576.py:39: FutureWarning: The current default of copy=False will change to copy=True in 1.7. Set the value of copy explicitly to avoid this warning\n",
      "  Err_labels = int(len(dados['151','152','153','154','161','162','163','164'].get_data()))\n",
      "C:\\Users\\User\\AppData\\Local\\Temp\\ipykernel_6440\\2512055576.py:49: FutureWarning: The current default of copy=False will change to copy=True in 1.7. Set the value of copy explicitly to avoid this warning\n",
      "  for epoch_values in dados['150','160'].get_data():\n",
      "C:\\Users\\User\\AppData\\Local\\Temp\\ipykernel_6440\\2512055576.py:58: FutureWarning: The current default of copy=False will change to copy=True in 1.7. Set the value of copy explicitly to avoid this warning\n",
      "  for epoch_values in dados['151','152','153','154','161','162','163','164'].get_data():\n"
     ]
    },
    {
     "name": "stdout",
     "output_type": "stream",
     "text": [
      "Extracting parameters from c:\\Users\\User\\Documents\\GitHub\\Tese\\Dataset2\\P03\\P03_1.set...\n",
      "Not setting metadata\n",
      "72 matching events found\n",
      "No baseline correction applied\n",
      "0 projection items activated\n",
      "Ready.\n"
     ]
    },
    {
     "name": "stderr",
     "output_type": "stream",
     "text": [
      "C:\\Users\\User\\AppData\\Local\\Temp\\ipykernel_6440\\2512055576.py:29: RuntimeWarning: At least one epoch has multiple events. Only the latency of the first event will be retained.\n",
      "  dados = mne.read_epochs_eeglab(path_)\n",
      "C:\\Users\\User\\AppData\\Local\\Temp\\ipykernel_6440\\2512055576.py:35: FutureWarning: The current default of copy=False will change to copy=True in 1.7. Set the value of copy explicitly to avoid this warning\n",
      "  Corr_labels = int(len(dados['150','160'].get_data()))\n",
      "C:\\Users\\User\\AppData\\Local\\Temp\\ipykernel_6440\\2512055576.py:39: FutureWarning: The current default of copy=False will change to copy=True in 1.7. Set the value of copy explicitly to avoid this warning\n",
      "  Err_labels = int(len(dados['151','152','153','154','161','162','163','164'].get_data()))\n",
      "C:\\Users\\User\\AppData\\Local\\Temp\\ipykernel_6440\\2512055576.py:49: FutureWarning: The current default of copy=False will change to copy=True in 1.7. Set the value of copy explicitly to avoid this warning\n",
      "  for epoch_values in dados['150','160'].get_data():\n"
     ]
    },
    {
     "name": "stdout",
     "output_type": "stream",
     "text": [
      "Extracting parameters from c:\\Users\\User\\Documents\\GitHub\\Tese\\Dataset2\\P03\\P03_2.set...\n",
      "Not setting metadata\n",
      "77 matching events found\n",
      "No baseline correction applied\n",
      "0 projection items activated\n",
      "Ready.\n"
     ]
    },
    {
     "name": "stderr",
     "output_type": "stream",
     "text": [
      "C:\\Users\\User\\AppData\\Local\\Temp\\ipykernel_6440\\2512055576.py:58: FutureWarning: The current default of copy=False will change to copy=True in 1.7. Set the value of copy explicitly to avoid this warning\n",
      "  for epoch_values in dados['151','152','153','154','161','162','163','164'].get_data():\n",
      "C:\\Users\\User\\AppData\\Local\\Temp\\ipykernel_6440\\2512055576.py:29: RuntimeWarning: At least one epoch has multiple events. Only the latency of the first event will be retained.\n",
      "  dados = mne.read_epochs_eeglab(path_)\n",
      "C:\\Users\\User\\AppData\\Local\\Temp\\ipykernel_6440\\2512055576.py:35: FutureWarning: The current default of copy=False will change to copy=True in 1.7. Set the value of copy explicitly to avoid this warning\n",
      "  Corr_labels = int(len(dados['150','160'].get_data()))\n",
      "C:\\Users\\User\\AppData\\Local\\Temp\\ipykernel_6440\\2512055576.py:39: FutureWarning: The current default of copy=False will change to copy=True in 1.7. Set the value of copy explicitly to avoid this warning\n",
      "  Err_labels = int(len(dados['151','152','153','154','161','162','163','164'].get_data()))\n",
      "C:\\Users\\User\\AppData\\Local\\Temp\\ipykernel_6440\\2512055576.py:49: FutureWarning: The current default of copy=False will change to copy=True in 1.7. Set the value of copy explicitly to avoid this warning\n",
      "  for epoch_values in dados['150','160'].get_data():\n"
     ]
    },
    {
     "name": "stdout",
     "output_type": "stream",
     "text": [
      "Extracting parameters from c:\\Users\\User\\Documents\\GitHub\\Tese\\Dataset2\\P03\\P03_3.set...\n",
      "Not setting metadata\n",
      "73 matching events found\n",
      "No baseline correction applied\n",
      "0 projection items activated\n",
      "Ready.\n"
     ]
    },
    {
     "name": "stderr",
     "output_type": "stream",
     "text": [
      "C:\\Users\\User\\AppData\\Local\\Temp\\ipykernel_6440\\2512055576.py:58: FutureWarning: The current default of copy=False will change to copy=True in 1.7. Set the value of copy explicitly to avoid this warning\n",
      "  for epoch_values in dados['151','152','153','154','161','162','163','164'].get_data():\n",
      "C:\\Users\\User\\AppData\\Local\\Temp\\ipykernel_6440\\2512055576.py:29: RuntimeWarning: At least one epoch has multiple events. Only the latency of the first event will be retained.\n",
      "  dados = mne.read_epochs_eeglab(path_)\n",
      "C:\\Users\\User\\AppData\\Local\\Temp\\ipykernel_6440\\2512055576.py:35: FutureWarning: The current default of copy=False will change to copy=True in 1.7. Set the value of copy explicitly to avoid this warning\n",
      "  Corr_labels = int(len(dados['150','160'].get_data()))\n",
      "C:\\Users\\User\\AppData\\Local\\Temp\\ipykernel_6440\\2512055576.py:49: FutureWarning: The current default of copy=False will change to copy=True in 1.7. Set the value of copy explicitly to avoid this warning\n",
      "  for epoch_values in dados['150','160'].get_data():\n"
     ]
    },
    {
     "name": "stdout",
     "output_type": "stream",
     "text": [
      "Extracting parameters from c:\\Users\\User\\Documents\\GitHub\\Tese\\Dataset2\\P03\\P03_4.set...\n",
      "Not setting metadata\n",
      "77 matching events found\n",
      "No baseline correction applied\n",
      "0 projection items activated\n",
      "Ready.\n"
     ]
    },
    {
     "name": "stderr",
     "output_type": "stream",
     "text": [
      "C:\\Users\\User\\AppData\\Local\\Temp\\ipykernel_6440\\2512055576.py:29: RuntimeWarning: At least one epoch has multiple events. Only the latency of the first event will be retained.\n",
      "  dados = mne.read_epochs_eeglab(path_)\n",
      "C:\\Users\\User\\AppData\\Local\\Temp\\ipykernel_6440\\2512055576.py:35: FutureWarning: The current default of copy=False will change to copy=True in 1.7. Set the value of copy explicitly to avoid this warning\n",
      "  Corr_labels = int(len(dados['150','160'].get_data()))\n",
      "C:\\Users\\User\\AppData\\Local\\Temp\\ipykernel_6440\\2512055576.py:39: FutureWarning: The current default of copy=False will change to copy=True in 1.7. Set the value of copy explicitly to avoid this warning\n",
      "  Err_labels = int(len(dados['151','152','153','154','161','162','163','164'].get_data()))\n",
      "C:\\Users\\User\\AppData\\Local\\Temp\\ipykernel_6440\\2512055576.py:49: FutureWarning: The current default of copy=False will change to copy=True in 1.7. Set the value of copy explicitly to avoid this warning\n",
      "  for epoch_values in dados['150','160'].get_data():\n"
     ]
    },
    {
     "name": "stdout",
     "output_type": "stream",
     "text": [
      "Extracting parameters from c:\\Users\\User\\Documents\\GitHub\\Tese\\Dataset2\\P04\\P04_1.set...\n",
      "Not setting metadata\n",
      "82 matching events found\n",
      "No baseline correction applied\n",
      "0 projection items activated\n",
      "Ready.\n"
     ]
    },
    {
     "name": "stderr",
     "output_type": "stream",
     "text": [
      "C:\\Users\\User\\AppData\\Local\\Temp\\ipykernel_6440\\2512055576.py:58: FutureWarning: The current default of copy=False will change to copy=True in 1.7. Set the value of copy explicitly to avoid this warning\n",
      "  for epoch_values in dados['151','152','153','154','161','162','163','164'].get_data():\n",
      "C:\\Users\\User\\AppData\\Local\\Temp\\ipykernel_6440\\2512055576.py:29: RuntimeWarning: At least one epoch has multiple events. Only the latency of the first event will be retained.\n",
      "  dados = mne.read_epochs_eeglab(path_)\n",
      "C:\\Users\\User\\AppData\\Local\\Temp\\ipykernel_6440\\2512055576.py:35: FutureWarning: The current default of copy=False will change to copy=True in 1.7. Set the value of copy explicitly to avoid this warning\n",
      "  Corr_labels = int(len(dados['150','160'].get_data()))\n",
      "C:\\Users\\User\\AppData\\Local\\Temp\\ipykernel_6440\\2512055576.py:39: FutureWarning: The current default of copy=False will change to copy=True in 1.7. Set the value of copy explicitly to avoid this warning\n",
      "  Err_labels = int(len(dados['151','152','153','154','161','162','163','164'].get_data()))\n",
      "C:\\Users\\User\\AppData\\Local\\Temp\\ipykernel_6440\\2512055576.py:49: FutureWarning: The current default of copy=False will change to copy=True in 1.7. Set the value of copy explicitly to avoid this warning\n",
      "  for epoch_values in dados['150','160'].get_data():\n"
     ]
    },
    {
     "name": "stdout",
     "output_type": "stream",
     "text": [
      "Extracting parameters from c:\\Users\\User\\Documents\\GitHub\\Tese\\Dataset2\\P04\\P04_2.set...\n"
     ]
    },
    {
     "name": "stderr",
     "output_type": "stream",
     "text": [
      "C:\\Users\\User\\AppData\\Local\\Temp\\ipykernel_6440\\2512055576.py:58: FutureWarning: The current default of copy=False will change to copy=True in 1.7. Set the value of copy explicitly to avoid this warning\n",
      "  for epoch_values in dados['151','152','153','154','161','162','163','164'].get_data():\n",
      "C:\\Users\\User\\AppData\\Local\\Temp\\ipykernel_6440\\2512055576.py:29: RuntimeWarning: At least one epoch has multiple events. Only the latency of the first event will be retained.\n",
      "  dados = mne.read_epochs_eeglab(path_)\n"
     ]
    },
    {
     "name": "stdout",
     "output_type": "stream",
     "text": [
      "Not setting metadata\n",
      "70 matching events found\n",
      "No baseline correction applied\n",
      "0 projection items activated\n",
      "Ready.\n"
     ]
    },
    {
     "name": "stderr",
     "output_type": "stream",
     "text": [
      "C:\\Users\\User\\AppData\\Local\\Temp\\ipykernel_6440\\2512055576.py:35: FutureWarning: The current default of copy=False will change to copy=True in 1.7. Set the value of copy explicitly to avoid this warning\n",
      "  Corr_labels = int(len(dados['150','160'].get_data()))\n",
      "C:\\Users\\User\\AppData\\Local\\Temp\\ipykernel_6440\\2512055576.py:39: FutureWarning: The current default of copy=False will change to copy=True in 1.7. Set the value of copy explicitly to avoid this warning\n",
      "  Err_labels = int(len(dados['151','152','153','154','161','162','163','164'].get_data()))\n",
      "C:\\Users\\User\\AppData\\Local\\Temp\\ipykernel_6440\\2512055576.py:49: FutureWarning: The current default of copy=False will change to copy=True in 1.7. Set the value of copy explicitly to avoid this warning\n",
      "  for epoch_values in dados['150','160'].get_data():\n",
      "C:\\Users\\User\\AppData\\Local\\Temp\\ipykernel_6440\\2512055576.py:58: FutureWarning: The current default of copy=False will change to copy=True in 1.7. Set the value of copy explicitly to avoid this warning\n",
      "  for epoch_values in dados['151','152','153','154','161','162','163','164'].get_data():\n"
     ]
    },
    {
     "name": "stdout",
     "output_type": "stream",
     "text": [
      "Extracting parameters from c:\\Users\\User\\Documents\\GitHub\\Tese\\Dataset2\\P04\\P04_3.set...\n",
      "Not setting metadata\n",
      "62 matching events found\n",
      "No baseline correction applied\n",
      "0 projection items activated\n",
      "Ready.\n"
     ]
    },
    {
     "name": "stderr",
     "output_type": "stream",
     "text": [
      "C:\\Users\\User\\AppData\\Local\\Temp\\ipykernel_6440\\2512055576.py:29: RuntimeWarning: At least one epoch has multiple events. Only the latency of the first event will be retained.\n",
      "  dados = mne.read_epochs_eeglab(path_)\n",
      "C:\\Users\\User\\AppData\\Local\\Temp\\ipykernel_6440\\2512055576.py:35: FutureWarning: The current default of copy=False will change to copy=True in 1.7. Set the value of copy explicitly to avoid this warning\n",
      "  Corr_labels = int(len(dados['150','160'].get_data()))\n",
      "C:\\Users\\User\\AppData\\Local\\Temp\\ipykernel_6440\\2512055576.py:39: FutureWarning: The current default of copy=False will change to copy=True in 1.7. Set the value of copy explicitly to avoid this warning\n",
      "  Err_labels = int(len(dados['151','152','153','154','161','162','163','164'].get_data()))\n",
      "C:\\Users\\User\\AppData\\Local\\Temp\\ipykernel_6440\\2512055576.py:49: FutureWarning: The current default of copy=False will change to copy=True in 1.7. Set the value of copy explicitly to avoid this warning\n",
      "  for epoch_values in dados['150','160'].get_data():\n"
     ]
    },
    {
     "name": "stdout",
     "output_type": "stream",
     "text": [
      "Extracting parameters from c:\\Users\\User\\Documents\\GitHub\\Tese\\Dataset2\\P04\\P04_4.set...\n"
     ]
    },
    {
     "name": "stderr",
     "output_type": "stream",
     "text": [
      "C:\\Users\\User\\AppData\\Local\\Temp\\ipykernel_6440\\2512055576.py:58: FutureWarning: The current default of copy=False will change to copy=True in 1.7. Set the value of copy explicitly to avoid this warning\n",
      "  for epoch_values in dados['151','152','153','154','161','162','163','164'].get_data():\n",
      "C:\\Users\\User\\AppData\\Local\\Temp\\ipykernel_6440\\2512055576.py:29: RuntimeWarning: At least one epoch has multiple events. Only the latency of the first event will be retained.\n",
      "  dados = mne.read_epochs_eeglab(path_)\n"
     ]
    },
    {
     "name": "stdout",
     "output_type": "stream",
     "text": [
      "Not setting metadata\n",
      "68 matching events found\n",
      "No baseline correction applied\n",
      "0 projection items activated\n",
      "Ready.\n"
     ]
    },
    {
     "name": "stderr",
     "output_type": "stream",
     "text": [
      "C:\\Users\\User\\AppData\\Local\\Temp\\ipykernel_6440\\2512055576.py:35: FutureWarning: The current default of copy=False will change to copy=True in 1.7. Set the value of copy explicitly to avoid this warning\n",
      "  Corr_labels = int(len(dados['150','160'].get_data()))\n",
      "C:\\Users\\User\\AppData\\Local\\Temp\\ipykernel_6440\\2512055576.py:39: FutureWarning: The current default of copy=False will change to copy=True in 1.7. Set the value of copy explicitly to avoid this warning\n",
      "  Err_labels = int(len(dados['151','152','153','154','161','162','163','164'].get_data()))\n",
      "C:\\Users\\User\\AppData\\Local\\Temp\\ipykernel_6440\\2512055576.py:49: FutureWarning: The current default of copy=False will change to copy=True in 1.7. Set the value of copy explicitly to avoid this warning\n",
      "  for epoch_values in dados['150','160'].get_data():\n",
      "C:\\Users\\User\\AppData\\Local\\Temp\\ipykernel_6440\\2512055576.py:58: FutureWarning: The current default of copy=False will change to copy=True in 1.7. Set the value of copy explicitly to avoid this warning\n",
      "  for epoch_values in dados['151','152','153','154','161','162','163','164'].get_data():\n"
     ]
    },
    {
     "name": "stdout",
     "output_type": "stream",
     "text": [
      "Extracting parameters from c:\\Users\\User\\Documents\\GitHub\\Tese\\Dataset2\\P05\\P05_1.set...\n",
      "Not setting metadata\n",
      "82 matching events found\n",
      "No baseline correction applied\n",
      "0 projection items activated\n",
      "Ready.\n"
     ]
    },
    {
     "name": "stderr",
     "output_type": "stream",
     "text": [
      "C:\\Users\\User\\AppData\\Local\\Temp\\ipykernel_6440\\2512055576.py:29: RuntimeWarning: At least one epoch has multiple events. Only the latency of the first event will be retained.\n",
      "  dados = mne.read_epochs_eeglab(path_)\n",
      "C:\\Users\\User\\AppData\\Local\\Temp\\ipykernel_6440\\2512055576.py:35: FutureWarning: The current default of copy=False will change to copy=True in 1.7. Set the value of copy explicitly to avoid this warning\n",
      "  Corr_labels = int(len(dados['150','160'].get_data()))\n",
      "C:\\Users\\User\\AppData\\Local\\Temp\\ipykernel_6440\\2512055576.py:39: FutureWarning: The current default of copy=False will change to copy=True in 1.7. Set the value of copy explicitly to avoid this warning\n",
      "  Err_labels = int(len(dados['151','152','153','154','161','162','163','164'].get_data()))\n",
      "C:\\Users\\User\\AppData\\Local\\Temp\\ipykernel_6440\\2512055576.py:49: FutureWarning: The current default of copy=False will change to copy=True in 1.7. Set the value of copy explicitly to avoid this warning\n",
      "  for epoch_values in dados['150','160'].get_data():\n",
      "C:\\Users\\User\\AppData\\Local\\Temp\\ipykernel_6440\\2512055576.py:58: FutureWarning: The current default of copy=False will change to copy=True in 1.7. Set the value of copy explicitly to avoid this warning\n",
      "  for epoch_values in dados['151','152','153','154','161','162','163','164'].get_data():\n"
     ]
    },
    {
     "name": "stdout",
     "output_type": "stream",
     "text": [
      "Extracting parameters from c:\\Users\\User\\Documents\\GitHub\\Tese\\Dataset2\\P05\\P05_2.set...\n",
      "Not setting metadata\n",
      "70 matching events found\n",
      "No baseline correction applied\n",
      "0 projection items activated\n",
      "Ready.\n"
     ]
    },
    {
     "name": "stderr",
     "output_type": "stream",
     "text": [
      "C:\\Users\\User\\AppData\\Local\\Temp\\ipykernel_6440\\2512055576.py:29: RuntimeWarning: At least one epoch has multiple events. Only the latency of the first event will be retained.\n",
      "  dados = mne.read_epochs_eeglab(path_)\n",
      "C:\\Users\\User\\AppData\\Local\\Temp\\ipykernel_6440\\2512055576.py:35: FutureWarning: The current default of copy=False will change to copy=True in 1.7. Set the value of copy explicitly to avoid this warning\n",
      "  Corr_labels = int(len(dados['150','160'].get_data()))\n",
      "C:\\Users\\User\\AppData\\Local\\Temp\\ipykernel_6440\\2512055576.py:39: FutureWarning: The current default of copy=False will change to copy=True in 1.7. Set the value of copy explicitly to avoid this warning\n",
      "  Err_labels = int(len(dados['151','152','153','154','161','162','163','164'].get_data()))\n",
      "C:\\Users\\User\\AppData\\Local\\Temp\\ipykernel_6440\\2512055576.py:49: FutureWarning: The current default of copy=False will change to copy=True in 1.7. Set the value of copy explicitly to avoid this warning\n",
      "  for epoch_values in dados['150','160'].get_data():\n",
      "C:\\Users\\User\\AppData\\Local\\Temp\\ipykernel_6440\\2512055576.py:58: FutureWarning: The current default of copy=False will change to copy=True in 1.7. Set the value of copy explicitly to avoid this warning\n",
      "  for epoch_values in dados['151','152','153','154','161','162','163','164'].get_data():\n"
     ]
    },
    {
     "name": "stdout",
     "output_type": "stream",
     "text": [
      "Extracting parameters from c:\\Users\\User\\Documents\\GitHub\\Tese\\Dataset2\\P05\\P05_3.set...\n",
      "Not setting metadata\n",
      "62 matching events found\n",
      "No baseline correction applied\n",
      "0 projection items activated\n",
      "Ready.\n"
     ]
    },
    {
     "name": "stderr",
     "output_type": "stream",
     "text": [
      "C:\\Users\\User\\AppData\\Local\\Temp\\ipykernel_6440\\2512055576.py:29: RuntimeWarning: At least one epoch has multiple events. Only the latency of the first event will be retained.\n",
      "  dados = mne.read_epochs_eeglab(path_)\n",
      "C:\\Users\\User\\AppData\\Local\\Temp\\ipykernel_6440\\2512055576.py:35: FutureWarning: The current default of copy=False will change to copy=True in 1.7. Set the value of copy explicitly to avoid this warning\n",
      "  Corr_labels = int(len(dados['150','160'].get_data()))\n",
      "C:\\Users\\User\\AppData\\Local\\Temp\\ipykernel_6440\\2512055576.py:39: FutureWarning: The current default of copy=False will change to copy=True in 1.7. Set the value of copy explicitly to avoid this warning\n",
      "  Err_labels = int(len(dados['151','152','153','154','161','162','163','164'].get_data()))\n",
      "C:\\Users\\User\\AppData\\Local\\Temp\\ipykernel_6440\\2512055576.py:49: FutureWarning: The current default of copy=False will change to copy=True in 1.7. Set the value of copy explicitly to avoid this warning\n",
      "  for epoch_values in dados['150','160'].get_data():\n",
      "C:\\Users\\User\\AppData\\Local\\Temp\\ipykernel_6440\\2512055576.py:58: FutureWarning: The current default of copy=False will change to copy=True in 1.7. Set the value of copy explicitly to avoid this warning\n",
      "  for epoch_values in dados['151','152','153','154','161','162','163','164'].get_data():\n"
     ]
    },
    {
     "name": "stdout",
     "output_type": "stream",
     "text": [
      "Extracting parameters from c:\\Users\\User\\Documents\\GitHub\\Tese\\Dataset2\\P05\\P05_4.set...\n",
      "Not setting metadata\n",
      "68 matching events found\n",
      "No baseline correction applied\n",
      "0 projection items activated\n",
      "Ready.\n"
     ]
    },
    {
     "name": "stderr",
     "output_type": "stream",
     "text": [
      "C:\\Users\\User\\AppData\\Local\\Temp\\ipykernel_6440\\2512055576.py:29: RuntimeWarning: At least one epoch has multiple events. Only the latency of the first event will be retained.\n",
      "  dados = mne.read_epochs_eeglab(path_)\n",
      "C:\\Users\\User\\AppData\\Local\\Temp\\ipykernel_6440\\2512055576.py:35: FutureWarning: The current default of copy=False will change to copy=True in 1.7. Set the value of copy explicitly to avoid this warning\n",
      "  Corr_labels = int(len(dados['150','160'].get_data()))\n",
      "C:\\Users\\User\\AppData\\Local\\Temp\\ipykernel_6440\\2512055576.py:39: FutureWarning: The current default of copy=False will change to copy=True in 1.7. Set the value of copy explicitly to avoid this warning\n",
      "  Err_labels = int(len(dados['151','152','153','154','161','162','163','164'].get_data()))\n",
      "C:\\Users\\User\\AppData\\Local\\Temp\\ipykernel_6440\\2512055576.py:49: FutureWarning: The current default of copy=False will change to copy=True in 1.7. Set the value of copy explicitly to avoid this warning\n",
      "  for epoch_values in dados['150','160'].get_data():\n"
     ]
    },
    {
     "name": "stdout",
     "output_type": "stream",
     "text": [
      "Extracting parameters from c:\\Users\\User\\Documents\\GitHub\\Tese\\Dataset2\\P06\\P06_1.set...\n",
      "Not setting metadata\n",
      "74 matching events found\n",
      "No baseline correction applied\n",
      "0 projection items activated\n",
      "Ready.\n"
     ]
    },
    {
     "name": "stderr",
     "output_type": "stream",
     "text": [
      "C:\\Users\\User\\AppData\\Local\\Temp\\ipykernel_6440\\2512055576.py:58: FutureWarning: The current default of copy=False will change to copy=True in 1.7. Set the value of copy explicitly to avoid this warning\n",
      "  for epoch_values in dados['151','152','153','154','161','162','163','164'].get_data():\n",
      "C:\\Users\\User\\AppData\\Local\\Temp\\ipykernel_6440\\2512055576.py:29: RuntimeWarning: At least one epoch has multiple events. Only the latency of the first event will be retained.\n",
      "  dados = mne.read_epochs_eeglab(path_)\n",
      "C:\\Users\\User\\AppData\\Local\\Temp\\ipykernel_6440\\2512055576.py:35: FutureWarning: The current default of copy=False will change to copy=True in 1.7. Set the value of copy explicitly to avoid this warning\n",
      "  Corr_labels = int(len(dados['150','160'].get_data()))\n",
      "C:\\Users\\User\\AppData\\Local\\Temp\\ipykernel_6440\\2512055576.py:39: FutureWarning: The current default of copy=False will change to copy=True in 1.7. Set the value of copy explicitly to avoid this warning\n",
      "  Err_labels = int(len(dados['151','152','153','154','161','162','163','164'].get_data()))\n",
      "C:\\Users\\User\\AppData\\Local\\Temp\\ipykernel_6440\\2512055576.py:49: FutureWarning: The current default of copy=False will change to copy=True in 1.7. Set the value of copy explicitly to avoid this warning\n",
      "  for epoch_values in dados['150','160'].get_data():\n",
      "C:\\Users\\User\\AppData\\Local\\Temp\\ipykernel_6440\\2512055576.py:58: FutureWarning: The current default of copy=False will change to copy=True in 1.7. Set the value of copy explicitly to avoid this warning\n",
      "  for epoch_values in dados['151','152','153','154','161','162','163','164'].get_data():\n"
     ]
    },
    {
     "name": "stdout",
     "output_type": "stream",
     "text": [
      "Extracting parameters from c:\\Users\\User\\Documents\\GitHub\\Tese\\Dataset2\\P06\\P06_2.set...\n",
      "Not setting metadata\n",
      "63 matching events found\n",
      "No baseline correction applied\n",
      "0 projection items activated\n",
      "Ready.\n"
     ]
    },
    {
     "name": "stderr",
     "output_type": "stream",
     "text": [
      "C:\\Users\\User\\AppData\\Local\\Temp\\ipykernel_6440\\2512055576.py:29: RuntimeWarning: At least one epoch has multiple events. Only the latency of the first event will be retained.\n",
      "  dados = mne.read_epochs_eeglab(path_)\n",
      "C:\\Users\\User\\AppData\\Local\\Temp\\ipykernel_6440\\2512055576.py:35: FutureWarning: The current default of copy=False will change to copy=True in 1.7. Set the value of copy explicitly to avoid this warning\n",
      "  Corr_labels = int(len(dados['150','160'].get_data()))\n",
      "C:\\Users\\User\\AppData\\Local\\Temp\\ipykernel_6440\\2512055576.py:39: FutureWarning: The current default of copy=False will change to copy=True in 1.7. Set the value of copy explicitly to avoid this warning\n",
      "  Err_labels = int(len(dados['151','152','153','154','161','162','163','164'].get_data()))\n",
      "C:\\Users\\User\\AppData\\Local\\Temp\\ipykernel_6440\\2512055576.py:49: FutureWarning: The current default of copy=False will change to copy=True in 1.7. Set the value of copy explicitly to avoid this warning\n",
      "  for epoch_values in dados['150','160'].get_data():\n"
     ]
    },
    {
     "name": "stdout",
     "output_type": "stream",
     "text": [
      "Extracting parameters from c:\\Users\\User\\Documents\\GitHub\\Tese\\Dataset2\\P06\\P06_3.set...\n",
      "Not setting metadata\n",
      "52 matching events found\n",
      "No baseline correction applied\n",
      "0 projection items activated\n"
     ]
    },
    {
     "name": "stderr",
     "output_type": "stream",
     "text": [
      "C:\\Users\\User\\AppData\\Local\\Temp\\ipykernel_6440\\2512055576.py:58: FutureWarning: The current default of copy=False will change to copy=True in 1.7. Set the value of copy explicitly to avoid this warning\n",
      "  for epoch_values in dados['151','152','153','154','161','162','163','164'].get_data():\n",
      "C:\\Users\\User\\AppData\\Local\\Temp\\ipykernel_6440\\2512055576.py:29: RuntimeWarning: At least one epoch has multiple events. Only the latency of the first event will be retained.\n",
      "  dados = mne.read_epochs_eeglab(path_)\n"
     ]
    },
    {
     "name": "stdout",
     "output_type": "stream",
     "text": [
      "Ready.\n"
     ]
    },
    {
     "name": "stderr",
     "output_type": "stream",
     "text": [
      "C:\\Users\\User\\AppData\\Local\\Temp\\ipykernel_6440\\2512055576.py:35: FutureWarning: The current default of copy=False will change to copy=True in 1.7. Set the value of copy explicitly to avoid this warning\n",
      "  Corr_labels = int(len(dados['150','160'].get_data()))\n",
      "C:\\Users\\User\\AppData\\Local\\Temp\\ipykernel_6440\\2512055576.py:39: FutureWarning: The current default of copy=False will change to copy=True in 1.7. Set the value of copy explicitly to avoid this warning\n",
      "  Err_labels = int(len(dados['151','152','153','154','161','162','163','164'].get_data()))\n",
      "C:\\Users\\User\\AppData\\Local\\Temp\\ipykernel_6440\\2512055576.py:49: FutureWarning: The current default of copy=False will change to copy=True in 1.7. Set the value of copy explicitly to avoid this warning\n",
      "  for epoch_values in dados['150','160'].get_data():\n",
      "C:\\Users\\User\\AppData\\Local\\Temp\\ipykernel_6440\\2512055576.py:58: FutureWarning: The current default of copy=False will change to copy=True in 1.7. Set the value of copy explicitly to avoid this warning\n",
      "  for epoch_values in dados['151','152','153','154','161','162','163','164'].get_data():\n"
     ]
    },
    {
     "name": "stdout",
     "output_type": "stream",
     "text": [
      "Extracting parameters from c:\\Users\\User\\Documents\\GitHub\\Tese\\Dataset2\\P06\\P06_4.set...\n",
      "Not setting metadata\n",
      "48 matching events found\n",
      "No baseline correction applied\n",
      "0 projection items activated\n",
      "Ready.\n"
     ]
    },
    {
     "name": "stderr",
     "output_type": "stream",
     "text": [
      "C:\\Users\\User\\AppData\\Local\\Temp\\ipykernel_6440\\2512055576.py:29: RuntimeWarning: At least one epoch has multiple events. Only the latency of the first event will be retained.\n",
      "  dados = mne.read_epochs_eeglab(path_)\n",
      "C:\\Users\\User\\AppData\\Local\\Temp\\ipykernel_6440\\2512055576.py:35: FutureWarning: The current default of copy=False will change to copy=True in 1.7. Set the value of copy explicitly to avoid this warning\n",
      "  Corr_labels = int(len(dados['150','160'].get_data()))\n",
      "C:\\Users\\User\\AppData\\Local\\Temp\\ipykernel_6440\\2512055576.py:39: FutureWarning: The current default of copy=False will change to copy=True in 1.7. Set the value of copy explicitly to avoid this warning\n",
      "  Err_labels = int(len(dados['151','152','153','154','161','162','163','164'].get_data()))\n",
      "C:\\Users\\User\\AppData\\Local\\Temp\\ipykernel_6440\\2512055576.py:49: FutureWarning: The current default of copy=False will change to copy=True in 1.7. Set the value of copy explicitly to avoid this warning\n",
      "  for epoch_values in dados['150','160'].get_data():\n",
      "C:\\Users\\User\\AppData\\Local\\Temp\\ipykernel_6440\\2512055576.py:58: FutureWarning: The current default of copy=False will change to copy=True in 1.7. Set the value of copy explicitly to avoid this warning\n",
      "  for epoch_values in dados['151','152','153','154','161','162','163','164'].get_data():\n"
     ]
    },
    {
     "name": "stdout",
     "output_type": "stream",
     "text": [
      "Extracting parameters from c:\\Users\\User\\Documents\\GitHub\\Tese\\Dataset2\\P08\\P08_1.set...\n",
      "Not setting metadata\n",
      "76 matching events found\n",
      "No baseline correction applied\n",
      "0 projection items activated\n",
      "Ready.\n"
     ]
    },
    {
     "name": "stderr",
     "output_type": "stream",
     "text": [
      "C:\\Users\\User\\AppData\\Local\\Temp\\ipykernel_6440\\2512055576.py:29: RuntimeWarning: At least one epoch has multiple events. Only the latency of the first event will be retained.\n",
      "  dados = mne.read_epochs_eeglab(path_)\n",
      "C:\\Users\\User\\AppData\\Local\\Temp\\ipykernel_6440\\2512055576.py:35: FutureWarning: The current default of copy=False will change to copy=True in 1.7. Set the value of copy explicitly to avoid this warning\n",
      "  Corr_labels = int(len(dados['150','160'].get_data()))\n",
      "C:\\Users\\User\\AppData\\Local\\Temp\\ipykernel_6440\\2512055576.py:39: FutureWarning: The current default of copy=False will change to copy=True in 1.7. Set the value of copy explicitly to avoid this warning\n",
      "  Err_labels = int(len(dados['151','152','153','154','161','162','163','164'].get_data()))\n",
      "C:\\Users\\User\\AppData\\Local\\Temp\\ipykernel_6440\\2512055576.py:49: FutureWarning: The current default of copy=False will change to copy=True in 1.7. Set the value of copy explicitly to avoid this warning\n",
      "  for epoch_values in dados['150','160'].get_data():\n"
     ]
    },
    {
     "name": "stdout",
     "output_type": "stream",
     "text": [
      "Extracting parameters from c:\\Users\\User\\Documents\\GitHub\\Tese\\Dataset2\\P08\\P08_2.set...\n",
      "Not setting metadata\n",
      "76 matching events found\n"
     ]
    },
    {
     "name": "stderr",
     "output_type": "stream",
     "text": [
      "C:\\Users\\User\\AppData\\Local\\Temp\\ipykernel_6440\\2512055576.py:58: FutureWarning: The current default of copy=False will change to copy=True in 1.7. Set the value of copy explicitly to avoid this warning\n",
      "  for epoch_values in dados['151','152','153','154','161','162','163','164'].get_data():\n",
      "C:\\Users\\User\\AppData\\Local\\Temp\\ipykernel_6440\\2512055576.py:29: RuntimeWarning: At least one epoch has multiple events. Only the latency of the first event will be retained.\n",
      "  dados = mne.read_epochs_eeglab(path_)\n"
     ]
    },
    {
     "name": "stdout",
     "output_type": "stream",
     "text": [
      "No baseline correction applied\n",
      "0 projection items activated\n",
      "Ready.\n"
     ]
    },
    {
     "name": "stderr",
     "output_type": "stream",
     "text": [
      "C:\\Users\\User\\AppData\\Local\\Temp\\ipykernel_6440\\2512055576.py:35: FutureWarning: The current default of copy=False will change to copy=True in 1.7. Set the value of copy explicitly to avoid this warning\n",
      "  Corr_labels = int(len(dados['150','160'].get_data()))\n",
      "C:\\Users\\User\\AppData\\Local\\Temp\\ipykernel_6440\\2512055576.py:39: FutureWarning: The current default of copy=False will change to copy=True in 1.7. Set the value of copy explicitly to avoid this warning\n",
      "  Err_labels = int(len(dados['151','152','153','154','161','162','163','164'].get_data()))\n",
      "C:\\Users\\User\\AppData\\Local\\Temp\\ipykernel_6440\\2512055576.py:49: FutureWarning: The current default of copy=False will change to copy=True in 1.7. Set the value of copy explicitly to avoid this warning\n",
      "  for epoch_values in dados['150','160'].get_data():\n",
      "C:\\Users\\User\\AppData\\Local\\Temp\\ipykernel_6440\\2512055576.py:58: FutureWarning: The current default of copy=False will change to copy=True in 1.7. Set the value of copy explicitly to avoid this warning\n",
      "  for epoch_values in dados['151','152','153','154','161','162','163','164'].get_data():\n"
     ]
    },
    {
     "name": "stdout",
     "output_type": "stream",
     "text": [
      "Extracting parameters from c:\\Users\\User\\Documents\\GitHub\\Tese\\Dataset2\\P08\\P08_3.set...\n",
      "Not setting metadata\n",
      "75 matching events found\n",
      "No baseline correction applied\n",
      "0 projection items activated\n",
      "Ready.\n"
     ]
    },
    {
     "name": "stderr",
     "output_type": "stream",
     "text": [
      "C:\\Users\\User\\AppData\\Local\\Temp\\ipykernel_6440\\2512055576.py:29: RuntimeWarning: At least one epoch has multiple events. Only the latency of the first event will be retained.\n",
      "  dados = mne.read_epochs_eeglab(path_)\n",
      "C:\\Users\\User\\AppData\\Local\\Temp\\ipykernel_6440\\2512055576.py:35: FutureWarning: The current default of copy=False will change to copy=True in 1.7. Set the value of copy explicitly to avoid this warning\n",
      "  Corr_labels = int(len(dados['150','160'].get_data()))\n",
      "C:\\Users\\User\\AppData\\Local\\Temp\\ipykernel_6440\\2512055576.py:39: FutureWarning: The current default of copy=False will change to copy=True in 1.7. Set the value of copy explicitly to avoid this warning\n",
      "  Err_labels = int(len(dados['151','152','153','154','161','162','163','164'].get_data()))\n",
      "C:\\Users\\User\\AppData\\Local\\Temp\\ipykernel_6440\\2512055576.py:49: FutureWarning: The current default of copy=False will change to copy=True in 1.7. Set the value of copy explicitly to avoid this warning\n",
      "  for epoch_values in dados['150','160'].get_data():\n"
     ]
    },
    {
     "name": "stdout",
     "output_type": "stream",
     "text": [
      "Extracting parameters from c:\\Users\\User\\Documents\\GitHub\\Tese\\Dataset2\\P08\\P08_4.set...\n",
      "Not setting metadata\n"
     ]
    },
    {
     "name": "stderr",
     "output_type": "stream",
     "text": [
      "C:\\Users\\User\\AppData\\Local\\Temp\\ipykernel_6440\\2512055576.py:58: FutureWarning: The current default of copy=False will change to copy=True in 1.7. Set the value of copy explicitly to avoid this warning\n",
      "  for epoch_values in dados['151','152','153','154','161','162','163','164'].get_data():\n",
      "C:\\Users\\User\\AppData\\Local\\Temp\\ipykernel_6440\\2512055576.py:29: RuntimeWarning: At least one epoch has multiple events. Only the latency of the first event will be retained.\n",
      "  dados = mne.read_epochs_eeglab(path_)\n"
     ]
    },
    {
     "name": "stdout",
     "output_type": "stream",
     "text": [
      "78 matching events found\n",
      "No baseline correction applied\n",
      "0 projection items activated\n",
      "Ready.\n"
     ]
    },
    {
     "name": "stderr",
     "output_type": "stream",
     "text": [
      "C:\\Users\\User\\AppData\\Local\\Temp\\ipykernel_6440\\2512055576.py:35: FutureWarning: The current default of copy=False will change to copy=True in 1.7. Set the value of copy explicitly to avoid this warning\n",
      "  Corr_labels = int(len(dados['150','160'].get_data()))\n",
      "C:\\Users\\User\\AppData\\Local\\Temp\\ipykernel_6440\\2512055576.py:39: FutureWarning: The current default of copy=False will change to copy=True in 1.7. Set the value of copy explicitly to avoid this warning\n",
      "  Err_labels = int(len(dados['151','152','153','154','161','162','163','164'].get_data()))\n",
      "C:\\Users\\User\\AppData\\Local\\Temp\\ipykernel_6440\\2512055576.py:49: FutureWarning: The current default of copy=False will change to copy=True in 1.7. Set the value of copy explicitly to avoid this warning\n",
      "  for epoch_values in dados['150','160'].get_data():\n"
     ]
    },
    {
     "name": "stdout",
     "output_type": "stream",
     "text": [
      "Extracting parameters from c:\\Users\\User\\Documents\\GitHub\\Tese\\Dataset2\\P09\\P09_1.set...\n",
      "Not setting metadata\n",
      "79 matching events found\n"
     ]
    },
    {
     "name": "stderr",
     "output_type": "stream",
     "text": [
      "C:\\Users\\User\\AppData\\Local\\Temp\\ipykernel_6440\\2512055576.py:58: FutureWarning: The current default of copy=False will change to copy=True in 1.7. Set the value of copy explicitly to avoid this warning\n",
      "  for epoch_values in dados['151','152','153','154','161','162','163','164'].get_data():\n",
      "C:\\Users\\User\\AppData\\Local\\Temp\\ipykernel_6440\\2512055576.py:29: RuntimeWarning: At least one epoch has multiple events. Only the latency of the first event will be retained.\n",
      "  dados = mne.read_epochs_eeglab(path_)\n"
     ]
    },
    {
     "name": "stdout",
     "output_type": "stream",
     "text": [
      "No baseline correction applied\n",
      "0 projection items activated\n",
      "Ready.\n"
     ]
    },
    {
     "name": "stderr",
     "output_type": "stream",
     "text": [
      "C:\\Users\\User\\AppData\\Local\\Temp\\ipykernel_6440\\2512055576.py:35: FutureWarning: The current default of copy=False will change to copy=True in 1.7. Set the value of copy explicitly to avoid this warning\n",
      "  Corr_labels = int(len(dados['150','160'].get_data()))\n",
      "C:\\Users\\User\\AppData\\Local\\Temp\\ipykernel_6440\\2512055576.py:49: FutureWarning: The current default of copy=False will change to copy=True in 1.7. Set the value of copy explicitly to avoid this warning\n",
      "  for epoch_values in dados['150','160'].get_data():\n"
     ]
    },
    {
     "name": "stdout",
     "output_type": "stream",
     "text": [
      "Extracting parameters from c:\\Users\\User\\Documents\\GitHub\\Tese\\Dataset2\\P09\\P09_2.set...\n",
      "Not setting metadata\n",
      "80 matching events found\n",
      "No baseline correction applied\n",
      "0 projection items activated\n",
      "Ready.\n"
     ]
    },
    {
     "name": "stderr",
     "output_type": "stream",
     "text": [
      "C:\\Users\\User\\AppData\\Local\\Temp\\ipykernel_6440\\2512055576.py:29: RuntimeWarning: At least one epoch has multiple events. Only the latency of the first event will be retained.\n",
      "  dados = mne.read_epochs_eeglab(path_)\n",
      "C:\\Users\\User\\AppData\\Local\\Temp\\ipykernel_6440\\2512055576.py:35: FutureWarning: The current default of copy=False will change to copy=True in 1.7. Set the value of copy explicitly to avoid this warning\n",
      "  Corr_labels = int(len(dados['150','160'].get_data()))\n",
      "C:\\Users\\User\\AppData\\Local\\Temp\\ipykernel_6440\\2512055576.py:39: FutureWarning: The current default of copy=False will change to copy=True in 1.7. Set the value of copy explicitly to avoid this warning\n",
      "  Err_labels = int(len(dados['151','152','153','154','161','162','163','164'].get_data()))\n",
      "C:\\Users\\User\\AppData\\Local\\Temp\\ipykernel_6440\\2512055576.py:49: FutureWarning: The current default of copy=False will change to copy=True in 1.7. Set the value of copy explicitly to avoid this warning\n",
      "  for epoch_values in dados['150','160'].get_data():\n"
     ]
    },
    {
     "name": "stdout",
     "output_type": "stream",
     "text": [
      "Extracting parameters from c:\\Users\\User\\Documents\\GitHub\\Tese\\Dataset2\\P09\\P09_3.set...\n"
     ]
    },
    {
     "name": "stderr",
     "output_type": "stream",
     "text": [
      "C:\\Users\\User\\AppData\\Local\\Temp\\ipykernel_6440\\2512055576.py:58: FutureWarning: The current default of copy=False will change to copy=True in 1.7. Set the value of copy explicitly to avoid this warning\n",
      "  for epoch_values in dados['151','152','153','154','161','162','163','164'].get_data():\n",
      "C:\\Users\\User\\AppData\\Local\\Temp\\ipykernel_6440\\2512055576.py:29: RuntimeWarning: At least one epoch has multiple events. Only the latency of the first event will be retained.\n",
      "  dados = mne.read_epochs_eeglab(path_)\n"
     ]
    },
    {
     "name": "stdout",
     "output_type": "stream",
     "text": [
      "Not setting metadata\n",
      "81 matching events found\n",
      "No baseline correction applied\n",
      "0 projection items activated\n",
      "Ready.\n"
     ]
    },
    {
     "name": "stderr",
     "output_type": "stream",
     "text": [
      "C:\\Users\\User\\AppData\\Local\\Temp\\ipykernel_6440\\2512055576.py:35: FutureWarning: The current default of copy=False will change to copy=True in 1.7. Set the value of copy explicitly to avoid this warning\n",
      "  Corr_labels = int(len(dados['150','160'].get_data()))\n",
      "C:\\Users\\User\\AppData\\Local\\Temp\\ipykernel_6440\\2512055576.py:39: FutureWarning: The current default of copy=False will change to copy=True in 1.7. Set the value of copy explicitly to avoid this warning\n",
      "  Err_labels = int(len(dados['151','152','153','154','161','162','163','164'].get_data()))\n",
      "C:\\Users\\User\\AppData\\Local\\Temp\\ipykernel_6440\\2512055576.py:49: FutureWarning: The current default of copy=False will change to copy=True in 1.7. Set the value of copy explicitly to avoid this warning\n",
      "  for epoch_values in dados['150','160'].get_data():\n"
     ]
    },
    {
     "name": "stdout",
     "output_type": "stream",
     "text": [
      "Extracting parameters from c:\\Users\\User\\Documents\\GitHub\\Tese\\Dataset2\\P09\\P09_4.set...\n"
     ]
    },
    {
     "name": "stderr",
     "output_type": "stream",
     "text": [
      "C:\\Users\\User\\AppData\\Local\\Temp\\ipykernel_6440\\2512055576.py:58: FutureWarning: The current default of copy=False will change to copy=True in 1.7. Set the value of copy explicitly to avoid this warning\n",
      "  for epoch_values in dados['151','152','153','154','161','162','163','164'].get_data():\n",
      "C:\\Users\\User\\AppData\\Local\\Temp\\ipykernel_6440\\2512055576.py:29: RuntimeWarning: At least one epoch has multiple events. Only the latency of the first event will be retained.\n",
      "  dados = mne.read_epochs_eeglab(path_)\n"
     ]
    },
    {
     "name": "stdout",
     "output_type": "stream",
     "text": [
      "Not setting metadata\n",
      "78 matching events found\n",
      "No baseline correction applied\n",
      "0 projection items activated\n",
      "Ready.\n"
     ]
    },
    {
     "name": "stderr",
     "output_type": "stream",
     "text": [
      "C:\\Users\\User\\AppData\\Local\\Temp\\ipykernel_6440\\2512055576.py:35: FutureWarning: The current default of copy=False will change to copy=True in 1.7. Set the value of copy explicitly to avoid this warning\n",
      "  Corr_labels = int(len(dados['150','160'].get_data()))\n",
      "C:\\Users\\User\\AppData\\Local\\Temp\\ipykernel_6440\\2512055576.py:39: FutureWarning: The current default of copy=False will change to copy=True in 1.7. Set the value of copy explicitly to avoid this warning\n",
      "  Err_labels = int(len(dados['151','152','153','154','161','162','163','164'].get_data()))\n",
      "C:\\Users\\User\\AppData\\Local\\Temp\\ipykernel_6440\\2512055576.py:49: FutureWarning: The current default of copy=False will change to copy=True in 1.7. Set the value of copy explicitly to avoid this warning\n",
      "  for epoch_values in dados['150','160'].get_data():\n"
     ]
    },
    {
     "name": "stdout",
     "output_type": "stream",
     "text": [
      "Extracting parameters from c:\\Users\\User\\Documents\\GitHub\\Tese\\Dataset2\\P11\\P11_1.set...\n"
     ]
    },
    {
     "name": "stderr",
     "output_type": "stream",
     "text": [
      "C:\\Users\\User\\AppData\\Local\\Temp\\ipykernel_6440\\2512055576.py:58: FutureWarning: The current default of copy=False will change to copy=True in 1.7. Set the value of copy explicitly to avoid this warning\n",
      "  for epoch_values in dados['151','152','153','154','161','162','163','164'].get_data():\n",
      "C:\\Users\\User\\AppData\\Local\\Temp\\ipykernel_6440\\2512055576.py:29: RuntimeWarning: At least one epoch has multiple events. Only the latency of the first event will be retained.\n",
      "  dados = mne.read_epochs_eeglab(path_)\n"
     ]
    },
    {
     "name": "stdout",
     "output_type": "stream",
     "text": [
      "Not setting metadata\n",
      "66 matching events found\n",
      "No baseline correction applied\n",
      "0 projection items activated\n",
      "Ready.\n"
     ]
    },
    {
     "name": "stderr",
     "output_type": "stream",
     "text": [
      "C:\\Users\\User\\AppData\\Local\\Temp\\ipykernel_6440\\2512055576.py:35: FutureWarning: The current default of copy=False will change to copy=True in 1.7. Set the value of copy explicitly to avoid this warning\n",
      "  Corr_labels = int(len(dados['150','160'].get_data()))\n",
      "C:\\Users\\User\\AppData\\Local\\Temp\\ipykernel_6440\\2512055576.py:39: FutureWarning: The current default of copy=False will change to copy=True in 1.7. Set the value of copy explicitly to avoid this warning\n",
      "  Err_labels = int(len(dados['151','152','153','154','161','162','163','164'].get_data()))\n",
      "C:\\Users\\User\\AppData\\Local\\Temp\\ipykernel_6440\\2512055576.py:49: FutureWarning: The current default of copy=False will change to copy=True in 1.7. Set the value of copy explicitly to avoid this warning\n",
      "  for epoch_values in dados['150','160'].get_data():\n",
      "C:\\Users\\User\\AppData\\Local\\Temp\\ipykernel_6440\\2512055576.py:58: FutureWarning: The current default of copy=False will change to copy=True in 1.7. Set the value of copy explicitly to avoid this warning\n",
      "  for epoch_values in dados['151','152','153','154','161','162','163','164'].get_data():\n"
     ]
    },
    {
     "name": "stdout",
     "output_type": "stream",
     "text": [
      "Extracting parameters from c:\\Users\\User\\Documents\\GitHub\\Tese\\Dataset2\\P11\\P11_2.set...\n",
      "Not setting metadata\n",
      "43 matching events found\n",
      "No baseline correction applied\n"
     ]
    },
    {
     "name": "stderr",
     "output_type": "stream",
     "text": [
      "C:\\Users\\User\\AppData\\Local\\Temp\\ipykernel_6440\\2512055576.py:29: RuntimeWarning: At least one epoch has multiple events. Only the latency of the first event will be retained.\n",
      "  dados = mne.read_epochs_eeglab(path_)\n"
     ]
    },
    {
     "name": "stdout",
     "output_type": "stream",
     "text": [
      "0 projection items activated\n",
      "Ready.\n"
     ]
    },
    {
     "name": "stderr",
     "output_type": "stream",
     "text": [
      "C:\\Users\\User\\AppData\\Local\\Temp\\ipykernel_6440\\2512055576.py:35: FutureWarning: The current default of copy=False will change to copy=True in 1.7. Set the value of copy explicitly to avoid this warning\n",
      "  Corr_labels = int(len(dados['150','160'].get_data()))\n",
      "C:\\Users\\User\\AppData\\Local\\Temp\\ipykernel_6440\\2512055576.py:39: FutureWarning: The current default of copy=False will change to copy=True in 1.7. Set the value of copy explicitly to avoid this warning\n",
      "  Err_labels = int(len(dados['151','152','153','154','161','162','163','164'].get_data()))\n",
      "C:\\Users\\User\\AppData\\Local\\Temp\\ipykernel_6440\\2512055576.py:49: FutureWarning: The current default of copy=False will change to copy=True in 1.7. Set the value of copy explicitly to avoid this warning\n",
      "  for epoch_values in dados['150','160'].get_data():\n",
      "C:\\Users\\User\\AppData\\Local\\Temp\\ipykernel_6440\\2512055576.py:58: FutureWarning: The current default of copy=False will change to copy=True in 1.7. Set the value of copy explicitly to avoid this warning\n",
      "  for epoch_values in dados['151','152','153','154','161','162','163','164'].get_data():\n",
      "C:\\Users\\User\\AppData\\Local\\Temp\\ipykernel_6440\\2512055576.py:29: RuntimeWarning: At least one epoch has multiple events. Only the latency of the first event will be retained.\n",
      "  dados = mne.read_epochs_eeglab(path_)\n"
     ]
    },
    {
     "name": "stdout",
     "output_type": "stream",
     "text": [
      "Extracting parameters from c:\\Users\\User\\Documents\\GitHub\\Tese\\Dataset2\\P11\\P11_3.set...\n",
      "Not setting metadata\n",
      "50 matching events found\n",
      "No baseline correction applied\n",
      "0 projection items activated\n",
      "Ready.\n"
     ]
    },
    {
     "name": "stderr",
     "output_type": "stream",
     "text": [
      "C:\\Users\\User\\AppData\\Local\\Temp\\ipykernel_6440\\2512055576.py:35: FutureWarning: The current default of copy=False will change to copy=True in 1.7. Set the value of copy explicitly to avoid this warning\n",
      "  Corr_labels = int(len(dados['150','160'].get_data()))\n",
      "C:\\Users\\User\\AppData\\Local\\Temp\\ipykernel_6440\\2512055576.py:39: FutureWarning: The current default of copy=False will change to copy=True in 1.7. Set the value of copy explicitly to avoid this warning\n",
      "  Err_labels = int(len(dados['151','152','153','154','161','162','163','164'].get_data()))\n",
      "C:\\Users\\User\\AppData\\Local\\Temp\\ipykernel_6440\\2512055576.py:49: FutureWarning: The current default of copy=False will change to copy=True in 1.7. Set the value of copy explicitly to avoid this warning\n",
      "  for epoch_values in dados['150','160'].get_data():\n",
      "C:\\Users\\User\\AppData\\Local\\Temp\\ipykernel_6440\\2512055576.py:58: FutureWarning: The current default of copy=False will change to copy=True in 1.7. Set the value of copy explicitly to avoid this warning\n",
      "  for epoch_values in dados['151','152','153','154','161','162','163','164'].get_data():\n"
     ]
    },
    {
     "name": "stdout",
     "output_type": "stream",
     "text": [
      "Extracting parameters from c:\\Users\\User\\Documents\\GitHub\\Tese\\Dataset2\\P11\\P11_4.set...\n",
      "Not setting metadata\n",
      "56 matching events found\n",
      "No baseline correction applied\n",
      "0 projection items activated\n",
      "Ready.\n"
     ]
    },
    {
     "name": "stderr",
     "output_type": "stream",
     "text": [
      "C:\\Users\\User\\AppData\\Local\\Temp\\ipykernel_6440\\2512055576.py:29: RuntimeWarning: At least one epoch has multiple events. Only the latency of the first event will be retained.\n",
      "  dados = mne.read_epochs_eeglab(path_)\n",
      "C:\\Users\\User\\AppData\\Local\\Temp\\ipykernel_6440\\2512055576.py:35: FutureWarning: The current default of copy=False will change to copy=True in 1.7. Set the value of copy explicitly to avoid this warning\n",
      "  Corr_labels = int(len(dados['150','160'].get_data()))\n",
      "C:\\Users\\User\\AppData\\Local\\Temp\\ipykernel_6440\\2512055576.py:39: FutureWarning: The current default of copy=False will change to copy=True in 1.7. Set the value of copy explicitly to avoid this warning\n",
      "  Err_labels = int(len(dados['151','152','153','154','161','162','163','164'].get_data()))\n",
      "C:\\Users\\User\\AppData\\Local\\Temp\\ipykernel_6440\\2512055576.py:49: FutureWarning: The current default of copy=False will change to copy=True in 1.7. Set the value of copy explicitly to avoid this warning\n",
      "  for epoch_values in dados['150','160'].get_data():\n",
      "C:\\Users\\User\\AppData\\Local\\Temp\\ipykernel_6440\\2512055576.py:58: FutureWarning: The current default of copy=False will change to copy=True in 1.7. Set the value of copy explicitly to avoid this warning\n",
      "  for epoch_values in dados['151','152','153','154','161','162','163','164'].get_data():\n"
     ]
    },
    {
     "name": "stdout",
     "output_type": "stream",
     "text": [
      "Extracting parameters from c:\\Users\\User\\Documents\\GitHub\\Tese\\Dataset2\\P12\\P12_1.set...\n",
      "Not setting metadata\n",
      "77 matching events found\n"
     ]
    },
    {
     "name": "stderr",
     "output_type": "stream",
     "text": [
      "C:\\Users\\User\\AppData\\Local\\Temp\\ipykernel_6440\\2512055576.py:29: RuntimeWarning: At least one epoch has multiple events. Only the latency of the first event will be retained.\n",
      "  dados = mne.read_epochs_eeglab(path_)\n"
     ]
    },
    {
     "name": "stdout",
     "output_type": "stream",
     "text": [
      "No baseline correction applied\n",
      "0 projection items activated\n",
      "Ready.\n"
     ]
    },
    {
     "name": "stderr",
     "output_type": "stream",
     "text": [
      "C:\\Users\\User\\AppData\\Local\\Temp\\ipykernel_6440\\2512055576.py:35: FutureWarning: The current default of copy=False will change to copy=True in 1.7. Set the value of copy explicitly to avoid this warning\n",
      "  Corr_labels = int(len(dados['150','160'].get_data()))\n",
      "C:\\Users\\User\\AppData\\Local\\Temp\\ipykernel_6440\\2512055576.py:39: FutureWarning: The current default of copy=False will change to copy=True in 1.7. Set the value of copy explicitly to avoid this warning\n",
      "  Err_labels = int(len(dados['151','152','153','154','161','162','163','164'].get_data()))\n",
      "C:\\Users\\User\\AppData\\Local\\Temp\\ipykernel_6440\\2512055576.py:49: FutureWarning: The current default of copy=False will change to copy=True in 1.7. Set the value of copy explicitly to avoid this warning\n",
      "  for epoch_values in dados['150','160'].get_data():\n"
     ]
    },
    {
     "name": "stdout",
     "output_type": "stream",
     "text": [
      "Extracting parameters from c:\\Users\\User\\Documents\\GitHub\\Tese\\Dataset2\\P12\\P12_2.set...\n"
     ]
    },
    {
     "name": "stderr",
     "output_type": "stream",
     "text": [
      "C:\\Users\\User\\AppData\\Local\\Temp\\ipykernel_6440\\2512055576.py:58: FutureWarning: The current default of copy=False will change to copy=True in 1.7. Set the value of copy explicitly to avoid this warning\n",
      "  for epoch_values in dados['151','152','153','154','161','162','163','164'].get_data():\n",
      "C:\\Users\\User\\AppData\\Local\\Temp\\ipykernel_6440\\2512055576.py:29: RuntimeWarning: At least one epoch has multiple events. Only the latency of the first event will be retained.\n",
      "  dados = mne.read_epochs_eeglab(path_)\n"
     ]
    },
    {
     "name": "stdout",
     "output_type": "stream",
     "text": [
      "Not setting metadata\n",
      "81 matching events found\n",
      "No baseline correction applied\n",
      "0 projection items activated\n",
      "Ready.\n"
     ]
    },
    {
     "name": "stderr",
     "output_type": "stream",
     "text": [
      "C:\\Users\\User\\AppData\\Local\\Temp\\ipykernel_6440\\2512055576.py:35: FutureWarning: The current default of copy=False will change to copy=True in 1.7. Set the value of copy explicitly to avoid this warning\n",
      "  Corr_labels = int(len(dados['150','160'].get_data()))\n",
      "C:\\Users\\User\\AppData\\Local\\Temp\\ipykernel_6440\\2512055576.py:39: FutureWarning: The current default of copy=False will change to copy=True in 1.7. Set the value of copy explicitly to avoid this warning\n",
      "  Err_labels = int(len(dados['151','152','153','154','161','162','163','164'].get_data()))\n",
      "C:\\Users\\User\\AppData\\Local\\Temp\\ipykernel_6440\\2512055576.py:49: FutureWarning: The current default of copy=False will change to copy=True in 1.7. Set the value of copy explicitly to avoid this warning\n",
      "  for epoch_values in dados['150','160'].get_data():\n",
      "C:\\Users\\User\\AppData\\Local\\Temp\\ipykernel_6440\\2512055576.py:58: FutureWarning: The current default of copy=False will change to copy=True in 1.7. Set the value of copy explicitly to avoid this warning\n",
      "  for epoch_values in dados['151','152','153','154','161','162','163','164'].get_data():\n"
     ]
    },
    {
     "name": "stdout",
     "output_type": "stream",
     "text": [
      "Extracting parameters from c:\\Users\\User\\Documents\\GitHub\\Tese\\Dataset2\\P12\\P12_3.set...\n",
      "Not setting metadata\n",
      "79 matching events found\n"
     ]
    },
    {
     "name": "stderr",
     "output_type": "stream",
     "text": [
      "C:\\Users\\User\\AppData\\Local\\Temp\\ipykernel_6440\\2512055576.py:29: RuntimeWarning: At least one epoch has multiple events. Only the latency of the first event will be retained.\n",
      "  dados = mne.read_epochs_eeglab(path_)\n"
     ]
    },
    {
     "name": "stdout",
     "output_type": "stream",
     "text": [
      "No baseline correction applied\n",
      "0 projection items activated\n",
      "Ready.\n"
     ]
    },
    {
     "name": "stderr",
     "output_type": "stream",
     "text": [
      "C:\\Users\\User\\AppData\\Local\\Temp\\ipykernel_6440\\2512055576.py:35: FutureWarning: The current default of copy=False will change to copy=True in 1.7. Set the value of copy explicitly to avoid this warning\n",
      "  Corr_labels = int(len(dados['150','160'].get_data()))\n",
      "C:\\Users\\User\\AppData\\Local\\Temp\\ipykernel_6440\\2512055576.py:39: FutureWarning: The current default of copy=False will change to copy=True in 1.7. Set the value of copy explicitly to avoid this warning\n",
      "  Err_labels = int(len(dados['151','152','153','154','161','162','163','164'].get_data()))\n",
      "C:\\Users\\User\\AppData\\Local\\Temp\\ipykernel_6440\\2512055576.py:49: FutureWarning: The current default of copy=False will change to copy=True in 1.7. Set the value of copy explicitly to avoid this warning\n",
      "  for epoch_values in dados['150','160'].get_data():\n"
     ]
    },
    {
     "name": "stdout",
     "output_type": "stream",
     "text": [
      "Extracting parameters from c:\\Users\\User\\Documents\\GitHub\\Tese\\Dataset2\\P12\\P12_4.set...\n"
     ]
    },
    {
     "name": "stderr",
     "output_type": "stream",
     "text": [
      "C:\\Users\\User\\AppData\\Local\\Temp\\ipykernel_6440\\2512055576.py:58: FutureWarning: The current default of copy=False will change to copy=True in 1.7. Set the value of copy explicitly to avoid this warning\n",
      "  for epoch_values in dados['151','152','153','154','161','162','163','164'].get_data():\n",
      "C:\\Users\\User\\AppData\\Local\\Temp\\ipykernel_6440\\2512055576.py:29: RuntimeWarning: At least one epoch has multiple events. Only the latency of the first event will be retained.\n",
      "  dados = mne.read_epochs_eeglab(path_)\n"
     ]
    },
    {
     "name": "stdout",
     "output_type": "stream",
     "text": [
      "Not setting metadata\n",
      "79 matching events found\n",
      "No baseline correction applied\n",
      "0 projection items activated\n",
      "Ready.\n"
     ]
    },
    {
     "name": "stderr",
     "output_type": "stream",
     "text": [
      "C:\\Users\\User\\AppData\\Local\\Temp\\ipykernel_6440\\2512055576.py:35: FutureWarning: The current default of copy=False will change to copy=True in 1.7. Set the value of copy explicitly to avoid this warning\n",
      "  Corr_labels = int(len(dados['150','160'].get_data()))\n",
      "C:\\Users\\User\\AppData\\Local\\Temp\\ipykernel_6440\\2512055576.py:39: FutureWarning: The current default of copy=False will change to copy=True in 1.7. Set the value of copy explicitly to avoid this warning\n",
      "  Err_labels = int(len(dados['151','152','153','154','161','162','163','164'].get_data()))\n",
      "C:\\Users\\User\\AppData\\Local\\Temp\\ipykernel_6440\\2512055576.py:49: FutureWarning: The current default of copy=False will change to copy=True in 1.7. Set the value of copy explicitly to avoid this warning\n",
      "  for epoch_values in dados['150','160'].get_data():\n"
     ]
    },
    {
     "name": "stdout",
     "output_type": "stream",
     "text": [
      "Extracting parameters from c:\\Users\\User\\Documents\\GitHub\\Tese\\Dataset2\\P13\\P13_1.set...\n",
      "Not setting metadata\n",
      "72 matching events found\n"
     ]
    },
    {
     "name": "stderr",
     "output_type": "stream",
     "text": [
      "C:\\Users\\User\\AppData\\Local\\Temp\\ipykernel_6440\\2512055576.py:58: FutureWarning: The current default of copy=False will change to copy=True in 1.7. Set the value of copy explicitly to avoid this warning\n",
      "  for epoch_values in dados['151','152','153','154','161','162','163','164'].get_data():\n",
      "C:\\Users\\User\\AppData\\Local\\Temp\\ipykernel_6440\\2512055576.py:29: RuntimeWarning: At least one epoch has multiple events. Only the latency of the first event will be retained.\n",
      "  dados = mne.read_epochs_eeglab(path_)\n"
     ]
    },
    {
     "name": "stdout",
     "output_type": "stream",
     "text": [
      "No baseline correction applied\n",
      "0 projection items activated\n",
      "Ready.\n"
     ]
    },
    {
     "name": "stderr",
     "output_type": "stream",
     "text": [
      "C:\\Users\\User\\AppData\\Local\\Temp\\ipykernel_6440\\2512055576.py:35: FutureWarning: The current default of copy=False will change to copy=True in 1.7. Set the value of copy explicitly to avoid this warning\n",
      "  Corr_labels = int(len(dados['150','160'].get_data()))\n",
      "C:\\Users\\User\\AppData\\Local\\Temp\\ipykernel_6440\\2512055576.py:39: FutureWarning: The current default of copy=False will change to copy=True in 1.7. Set the value of copy explicitly to avoid this warning\n",
      "  Err_labels = int(len(dados['151','152','153','154','161','162','163','164'].get_data()))\n",
      "C:\\Users\\User\\AppData\\Local\\Temp\\ipykernel_6440\\2512055576.py:49: FutureWarning: The current default of copy=False will change to copy=True in 1.7. Set the value of copy explicitly to avoid this warning\n",
      "  for epoch_values in dados['150','160'].get_data():\n",
      "C:\\Users\\User\\AppData\\Local\\Temp\\ipykernel_6440\\2512055576.py:58: FutureWarning: The current default of copy=False will change to copy=True in 1.7. Set the value of copy explicitly to avoid this warning\n",
      "  for epoch_values in dados['151','152','153','154','161','162','163','164'].get_data():\n"
     ]
    },
    {
     "name": "stdout",
     "output_type": "stream",
     "text": [
      "Extracting parameters from c:\\Users\\User\\Documents\\GitHub\\Tese\\Dataset2\\P13\\P13_2.set...\n",
      "Not setting metadata\n",
      "72 matching events found\n",
      "No baseline correction applied\n",
      "0 projection items activated\n",
      "Ready.\n"
     ]
    },
    {
     "name": "stderr",
     "output_type": "stream",
     "text": [
      "C:\\Users\\User\\AppData\\Local\\Temp\\ipykernel_6440\\2512055576.py:29: RuntimeWarning: At least one epoch has multiple events. Only the latency of the first event will be retained.\n",
      "  dados = mne.read_epochs_eeglab(path_)\n",
      "C:\\Users\\User\\AppData\\Local\\Temp\\ipykernel_6440\\2512055576.py:35: FutureWarning: The current default of copy=False will change to copy=True in 1.7. Set the value of copy explicitly to avoid this warning\n",
      "  Corr_labels = int(len(dados['150','160'].get_data()))\n",
      "C:\\Users\\User\\AppData\\Local\\Temp\\ipykernel_6440\\2512055576.py:39: FutureWarning: The current default of copy=False will change to copy=True in 1.7. Set the value of copy explicitly to avoid this warning\n",
      "  Err_labels = int(len(dados['151','152','153','154','161','162','163','164'].get_data()))\n",
      "C:\\Users\\User\\AppData\\Local\\Temp\\ipykernel_6440\\2512055576.py:49: FutureWarning: The current default of copy=False will change to copy=True in 1.7. Set the value of copy explicitly to avoid this warning\n",
      "  for epoch_values in dados['150','160'].get_data():\n"
     ]
    },
    {
     "name": "stdout",
     "output_type": "stream",
     "text": [
      "Extracting parameters from c:\\Users\\User\\Documents\\GitHub\\Tese\\Dataset2\\P13\\P13_3.set...\n"
     ]
    },
    {
     "name": "stderr",
     "output_type": "stream",
     "text": [
      "C:\\Users\\User\\AppData\\Local\\Temp\\ipykernel_6440\\2512055576.py:58: FutureWarning: The current default of copy=False will change to copy=True in 1.7. Set the value of copy explicitly to avoid this warning\n",
      "  for epoch_values in dados['151','152','153','154','161','162','163','164'].get_data():\n",
      "C:\\Users\\User\\AppData\\Local\\Temp\\ipykernel_6440\\2512055576.py:29: RuntimeWarning: At least one epoch has multiple events. Only the latency of the first event will be retained.\n",
      "  dados = mne.read_epochs_eeglab(path_)\n"
     ]
    },
    {
     "name": "stdout",
     "output_type": "stream",
     "text": [
      "Not setting metadata\n",
      "69 matching events found\n",
      "No baseline correction applied\n",
      "0 projection items activated\n",
      "Ready.\n"
     ]
    },
    {
     "name": "stderr",
     "output_type": "stream",
     "text": [
      "C:\\Users\\User\\AppData\\Local\\Temp\\ipykernel_6440\\2512055576.py:35: FutureWarning: The current default of copy=False will change to copy=True in 1.7. Set the value of copy explicitly to avoid this warning\n",
      "  Corr_labels = int(len(dados['150','160'].get_data()))\n",
      "C:\\Users\\User\\AppData\\Local\\Temp\\ipykernel_6440\\2512055576.py:39: FutureWarning: The current default of copy=False will change to copy=True in 1.7. Set the value of copy explicitly to avoid this warning\n",
      "  Err_labels = int(len(dados['151','152','153','154','161','162','163','164'].get_data()))\n",
      "C:\\Users\\User\\AppData\\Local\\Temp\\ipykernel_6440\\2512055576.py:49: FutureWarning: The current default of copy=False will change to copy=True in 1.7. Set the value of copy explicitly to avoid this warning\n",
      "  for epoch_values in dados['150','160'].get_data():\n"
     ]
    },
    {
     "name": "stdout",
     "output_type": "stream",
     "text": [
      "Extracting parameters from c:\\Users\\User\\Documents\\GitHub\\Tese\\Dataset2\\P13\\P13_4.set...\n"
     ]
    },
    {
     "name": "stderr",
     "output_type": "stream",
     "text": [
      "C:\\Users\\User\\AppData\\Local\\Temp\\ipykernel_6440\\2512055576.py:58: FutureWarning: The current default of copy=False will change to copy=True in 1.7. Set the value of copy explicitly to avoid this warning\n",
      "  for epoch_values in dados['151','152','153','154','161','162','163','164'].get_data():\n",
      "C:\\Users\\User\\AppData\\Local\\Temp\\ipykernel_6440\\2512055576.py:29: RuntimeWarning: At least one epoch has multiple events. Only the latency of the first event will be retained.\n",
      "  dados = mne.read_epochs_eeglab(path_)\n"
     ]
    },
    {
     "name": "stdout",
     "output_type": "stream",
     "text": [
      "Not setting metadata\n",
      "74 matching events found\n",
      "No baseline correction applied\n",
      "0 projection items activated\n",
      "Ready.\n"
     ]
    },
    {
     "name": "stderr",
     "output_type": "stream",
     "text": [
      "C:\\Users\\User\\AppData\\Local\\Temp\\ipykernel_6440\\2512055576.py:35: FutureWarning: The current default of copy=False will change to copy=True in 1.7. Set the value of copy explicitly to avoid this warning\n",
      "  Corr_labels = int(len(dados['150','160'].get_data()))\n",
      "C:\\Users\\User\\AppData\\Local\\Temp\\ipykernel_6440\\2512055576.py:39: FutureWarning: The current default of copy=False will change to copy=True in 1.7. Set the value of copy explicitly to avoid this warning\n",
      "  Err_labels = int(len(dados['151','152','153','154','161','162','163','164'].get_data()))\n",
      "C:\\Users\\User\\AppData\\Local\\Temp\\ipykernel_6440\\2512055576.py:49: FutureWarning: The current default of copy=False will change to copy=True in 1.7. Set the value of copy explicitly to avoid this warning\n",
      "  for epoch_values in dados['150','160'].get_data():\n"
     ]
    },
    {
     "name": "stdout",
     "output_type": "stream",
     "text": [
      "Extracting parameters from c:\\Users\\User\\Documents\\GitHub\\Tese\\Dataset2\\P14\\P14_1.set...\n",
      "Not setting metadata\n",
      "74 matching events found\n"
     ]
    },
    {
     "name": "stderr",
     "output_type": "stream",
     "text": [
      "C:\\Users\\User\\AppData\\Local\\Temp\\ipykernel_6440\\2512055576.py:58: FutureWarning: The current default of copy=False will change to copy=True in 1.7. Set the value of copy explicitly to avoid this warning\n",
      "  for epoch_values in dados['151','152','153','154','161','162','163','164'].get_data():\n",
      "C:\\Users\\User\\AppData\\Local\\Temp\\ipykernel_6440\\2512055576.py:29: RuntimeWarning: At least one epoch has multiple events. Only the latency of the first event will be retained.\n",
      "  dados = mne.read_epochs_eeglab(path_)\n"
     ]
    },
    {
     "name": "stdout",
     "output_type": "stream",
     "text": [
      "No baseline correction applied\n",
      "0 projection items activated\n",
      "Ready.\n"
     ]
    },
    {
     "name": "stderr",
     "output_type": "stream",
     "text": [
      "C:\\Users\\User\\AppData\\Local\\Temp\\ipykernel_6440\\2512055576.py:35: FutureWarning: The current default of copy=False will change to copy=True in 1.7. Set the value of copy explicitly to avoid this warning\n",
      "  Corr_labels = int(len(dados['150','160'].get_data()))\n",
      "C:\\Users\\User\\AppData\\Local\\Temp\\ipykernel_6440\\2512055576.py:39: FutureWarning: The current default of copy=False will change to copy=True in 1.7. Set the value of copy explicitly to avoid this warning\n",
      "  Err_labels = int(len(dados['151','152','153','154','161','162','163','164'].get_data()))\n",
      "C:\\Users\\User\\AppData\\Local\\Temp\\ipykernel_6440\\2512055576.py:49: FutureWarning: The current default of copy=False will change to copy=True in 1.7. Set the value of copy explicitly to avoid this warning\n",
      "  for epoch_values in dados['150','160'].get_data():\n"
     ]
    },
    {
     "name": "stdout",
     "output_type": "stream",
     "text": [
      "Extracting parameters from c:\\Users\\User\\Documents\\GitHub\\Tese\\Dataset2\\P14\\P14_2.set...\n"
     ]
    },
    {
     "name": "stderr",
     "output_type": "stream",
     "text": [
      "C:\\Users\\User\\AppData\\Local\\Temp\\ipykernel_6440\\2512055576.py:58: FutureWarning: The current default of copy=False will change to copy=True in 1.7. Set the value of copy explicitly to avoid this warning\n",
      "  for epoch_values in dados['151','152','153','154','161','162','163','164'].get_data():\n",
      "C:\\Users\\User\\AppData\\Local\\Temp\\ipykernel_6440\\2512055576.py:29: RuntimeWarning: At least one epoch has multiple events. Only the latency of the first event will be retained.\n",
      "  dados = mne.read_epochs_eeglab(path_)\n"
     ]
    },
    {
     "name": "stdout",
     "output_type": "stream",
     "text": [
      "Not setting metadata\n",
      "76 matching events found\n",
      "No baseline correction applied\n",
      "0 projection items activated\n",
      "Ready.\n"
     ]
    },
    {
     "name": "stderr",
     "output_type": "stream",
     "text": [
      "C:\\Users\\User\\AppData\\Local\\Temp\\ipykernel_6440\\2512055576.py:35: FutureWarning: The current default of copy=False will change to copy=True in 1.7. Set the value of copy explicitly to avoid this warning\n",
      "  Corr_labels = int(len(dados['150','160'].get_data()))\n",
      "C:\\Users\\User\\AppData\\Local\\Temp\\ipykernel_6440\\2512055576.py:39: FutureWarning: The current default of copy=False will change to copy=True in 1.7. Set the value of copy explicitly to avoid this warning\n",
      "  Err_labels = int(len(dados['151','152','153','154','161','162','163','164'].get_data()))\n",
      "C:\\Users\\User\\AppData\\Local\\Temp\\ipykernel_6440\\2512055576.py:49: FutureWarning: The current default of copy=False will change to copy=True in 1.7. Set the value of copy explicitly to avoid this warning\n",
      "  for epoch_values in dados['150','160'].get_data():\n"
     ]
    },
    {
     "name": "stdout",
     "output_type": "stream",
     "text": [
      "Extracting parameters from c:\\Users\\User\\Documents\\GitHub\\Tese\\Dataset2\\P14\\P14_3.set...\n",
      "Not setting metadata\n",
      "75 matching events found\n"
     ]
    },
    {
     "name": "stderr",
     "output_type": "stream",
     "text": [
      "C:\\Users\\User\\AppData\\Local\\Temp\\ipykernel_6440\\2512055576.py:58: FutureWarning: The current default of copy=False will change to copy=True in 1.7. Set the value of copy explicitly to avoid this warning\n",
      "  for epoch_values in dados['151','152','153','154','161','162','163','164'].get_data():\n",
      "C:\\Users\\User\\AppData\\Local\\Temp\\ipykernel_6440\\2512055576.py:29: RuntimeWarning: At least one epoch has multiple events. Only the latency of the first event will be retained.\n",
      "  dados = mne.read_epochs_eeglab(path_)\n"
     ]
    },
    {
     "name": "stdout",
     "output_type": "stream",
     "text": [
      "No baseline correction applied\n",
      "0 projection items activated\n",
      "Ready.\n"
     ]
    },
    {
     "name": "stderr",
     "output_type": "stream",
     "text": [
      "C:\\Users\\User\\AppData\\Local\\Temp\\ipykernel_6440\\2512055576.py:35: FutureWarning: The current default of copy=False will change to copy=True in 1.7. Set the value of copy explicitly to avoid this warning\n",
      "  Corr_labels = int(len(dados['150','160'].get_data()))\n",
      "C:\\Users\\User\\AppData\\Local\\Temp\\ipykernel_6440\\2512055576.py:39: FutureWarning: The current default of copy=False will change to copy=True in 1.7. Set the value of copy explicitly to avoid this warning\n",
      "  Err_labels = int(len(dados['151','152','153','154','161','162','163','164'].get_data()))\n",
      "C:\\Users\\User\\AppData\\Local\\Temp\\ipykernel_6440\\2512055576.py:49: FutureWarning: The current default of copy=False will change to copy=True in 1.7. Set the value of copy explicitly to avoid this warning\n",
      "  for epoch_values in dados['150','160'].get_data():\n"
     ]
    },
    {
     "name": "stdout",
     "output_type": "stream",
     "text": [
      "Extracting parameters from c:\\Users\\User\\Documents\\GitHub\\Tese\\Dataset2\\P14\\P14_4.set...\n"
     ]
    },
    {
     "name": "stderr",
     "output_type": "stream",
     "text": [
      "C:\\Users\\User\\AppData\\Local\\Temp\\ipykernel_6440\\2512055576.py:58: FutureWarning: The current default of copy=False will change to copy=True in 1.7. Set the value of copy explicitly to avoid this warning\n",
      "  for epoch_values in dados['151','152','153','154','161','162','163','164'].get_data():\n",
      "C:\\Users\\User\\AppData\\Local\\Temp\\ipykernel_6440\\2512055576.py:29: RuntimeWarning: At least one epoch has multiple events. Only the latency of the first event will be retained.\n",
      "  dados = mne.read_epochs_eeglab(path_)\n"
     ]
    },
    {
     "name": "stdout",
     "output_type": "stream",
     "text": [
      "Not setting metadata\n",
      "80 matching events found\n",
      "No baseline correction applied\n",
      "0 projection items activated\n",
      "Ready.\n"
     ]
    },
    {
     "name": "stderr",
     "output_type": "stream",
     "text": [
      "C:\\Users\\User\\AppData\\Local\\Temp\\ipykernel_6440\\2512055576.py:35: FutureWarning: The current default of copy=False will change to copy=True in 1.7. Set the value of copy explicitly to avoid this warning\n",
      "  Corr_labels = int(len(dados['150','160'].get_data()))\n",
      "C:\\Users\\User\\AppData\\Local\\Temp\\ipykernel_6440\\2512055576.py:39: FutureWarning: The current default of copy=False will change to copy=True in 1.7. Set the value of copy explicitly to avoid this warning\n",
      "  Err_labels = int(len(dados['151','152','153','154','161','162','163','164'].get_data()))\n",
      "C:\\Users\\User\\AppData\\Local\\Temp\\ipykernel_6440\\2512055576.py:49: FutureWarning: The current default of copy=False will change to copy=True in 1.7. Set the value of copy explicitly to avoid this warning\n",
      "  for epoch_values in dados['150','160'].get_data():\n"
     ]
    },
    {
     "name": "stdout",
     "output_type": "stream",
     "text": [
      "Extracting parameters from c:\\Users\\User\\Documents\\GitHub\\Tese\\Dataset2\\P15\\P15_1.set...\n"
     ]
    },
    {
     "name": "stderr",
     "output_type": "stream",
     "text": [
      "C:\\Users\\User\\AppData\\Local\\Temp\\ipykernel_6440\\2512055576.py:58: FutureWarning: The current default of copy=False will change to copy=True in 1.7. Set the value of copy explicitly to avoid this warning\n",
      "  for epoch_values in dados['151','152','153','154','161','162','163','164'].get_data():\n",
      "C:\\Users\\User\\AppData\\Local\\Temp\\ipykernel_6440\\2512055576.py:29: RuntimeWarning: At least one epoch has multiple events. Only the latency of the first event will be retained.\n",
      "  dados = mne.read_epochs_eeglab(path_)\n"
     ]
    },
    {
     "name": "stdout",
     "output_type": "stream",
     "text": [
      "Not setting metadata\n",
      "82 matching events found\n",
      "No baseline correction applied\n",
      "0 projection items activated\n",
      "Ready.\n"
     ]
    },
    {
     "name": "stderr",
     "output_type": "stream",
     "text": [
      "C:\\Users\\User\\AppData\\Local\\Temp\\ipykernel_6440\\2512055576.py:35: FutureWarning: The current default of copy=False will change to copy=True in 1.7. Set the value of copy explicitly to avoid this warning\n",
      "  Corr_labels = int(len(dados['150','160'].get_data()))\n",
      "C:\\Users\\User\\AppData\\Local\\Temp\\ipykernel_6440\\2512055576.py:39: FutureWarning: The current default of copy=False will change to copy=True in 1.7. Set the value of copy explicitly to avoid this warning\n",
      "  Err_labels = int(len(dados['151','152','153','154','161','162','163','164'].get_data()))\n",
      "C:\\Users\\User\\AppData\\Local\\Temp\\ipykernel_6440\\2512055576.py:49: FutureWarning: The current default of copy=False will change to copy=True in 1.7. Set the value of copy explicitly to avoid this warning\n",
      "  for epoch_values in dados['150','160'].get_data():\n",
      "C:\\Users\\User\\AppData\\Local\\Temp\\ipykernel_6440\\2512055576.py:58: FutureWarning: The current default of copy=False will change to copy=True in 1.7. Set the value of copy explicitly to avoid this warning\n",
      "  for epoch_values in dados['151','152','153','154','161','162','163','164'].get_data():\n"
     ]
    },
    {
     "name": "stdout",
     "output_type": "stream",
     "text": [
      "Extracting parameters from c:\\Users\\User\\Documents\\GitHub\\Tese\\Dataset2\\P15\\P15_2.set...\n"
     ]
    },
    {
     "name": "stderr",
     "output_type": "stream",
     "text": [
      "C:\\Users\\User\\AppData\\Local\\Temp\\ipykernel_6440\\2512055576.py:29: RuntimeWarning: At least one epoch has multiple events. Only the latency of the first event will be retained.\n",
      "  dados = mne.read_epochs_eeglab(path_)\n"
     ]
    },
    {
     "name": "stdout",
     "output_type": "stream",
     "text": [
      "Not setting metadata\n",
      "80 matching events found\n",
      "No baseline correction applied\n",
      "0 projection items activated\n",
      "Ready.\n"
     ]
    },
    {
     "name": "stderr",
     "output_type": "stream",
     "text": [
      "C:\\Users\\User\\AppData\\Local\\Temp\\ipykernel_6440\\2512055576.py:35: FutureWarning: The current default of copy=False will change to copy=True in 1.7. Set the value of copy explicitly to avoid this warning\n",
      "  Corr_labels = int(len(dados['150','160'].get_data()))\n",
      "C:\\Users\\User\\AppData\\Local\\Temp\\ipykernel_6440\\2512055576.py:39: FutureWarning: The current default of copy=False will change to copy=True in 1.7. Set the value of copy explicitly to avoid this warning\n",
      "  Err_labels = int(len(dados['151','152','153','154','161','162','163','164'].get_data()))\n",
      "C:\\Users\\User\\AppData\\Local\\Temp\\ipykernel_6440\\2512055576.py:49: FutureWarning: The current default of copy=False will change to copy=True in 1.7. Set the value of copy explicitly to avoid this warning\n",
      "  for epoch_values in dados['150','160'].get_data():\n",
      "C:\\Users\\User\\AppData\\Local\\Temp\\ipykernel_6440\\2512055576.py:58: FutureWarning: The current default of copy=False will change to copy=True in 1.7. Set the value of copy explicitly to avoid this warning\n",
      "  for epoch_values in dados['151','152','153','154','161','162','163','164'].get_data():\n"
     ]
    },
    {
     "name": "stdout",
     "output_type": "stream",
     "text": [
      "Extracting parameters from c:\\Users\\User\\Documents\\GitHub\\Tese\\Dataset2\\P15\\P15_3.set...\n"
     ]
    },
    {
     "name": "stderr",
     "output_type": "stream",
     "text": [
      "C:\\Users\\User\\AppData\\Local\\Temp\\ipykernel_6440\\2512055576.py:29: RuntimeWarning: At least one epoch has multiple events. Only the latency of the first event will be retained.\n",
      "  dados = mne.read_epochs_eeglab(path_)\n"
     ]
    },
    {
     "name": "stdout",
     "output_type": "stream",
     "text": [
      "Not setting metadata\n",
      "74 matching events found\n",
      "No baseline correction applied\n",
      "0 projection items activated\n",
      "Ready.\n"
     ]
    },
    {
     "name": "stderr",
     "output_type": "stream",
     "text": [
      "C:\\Users\\User\\AppData\\Local\\Temp\\ipykernel_6440\\2512055576.py:35: FutureWarning: The current default of copy=False will change to copy=True in 1.7. Set the value of copy explicitly to avoid this warning\n",
      "  Corr_labels = int(len(dados['150','160'].get_data()))\n",
      "C:\\Users\\User\\AppData\\Local\\Temp\\ipykernel_6440\\2512055576.py:39: FutureWarning: The current default of copy=False will change to copy=True in 1.7. Set the value of copy explicitly to avoid this warning\n",
      "  Err_labels = int(len(dados['151','152','153','154','161','162','163','164'].get_data()))\n",
      "C:\\Users\\User\\AppData\\Local\\Temp\\ipykernel_6440\\2512055576.py:49: FutureWarning: The current default of copy=False will change to copy=True in 1.7. Set the value of copy explicitly to avoid this warning\n",
      "  for epoch_values in dados['150','160'].get_data():\n",
      "C:\\Users\\User\\AppData\\Local\\Temp\\ipykernel_6440\\2512055576.py:58: FutureWarning: The current default of copy=False will change to copy=True in 1.7. Set the value of copy explicitly to avoid this warning\n",
      "  for epoch_values in dados['151','152','153','154','161','162','163','164'].get_data():\n"
     ]
    },
    {
     "name": "stdout",
     "output_type": "stream",
     "text": [
      "Extracting parameters from c:\\Users\\User\\Documents\\GitHub\\Tese\\Dataset2\\P15\\P15_4.set...\n",
      "Not setting metadata\n",
      "81 matching events found\n",
      "No baseline correction applied\n",
      "0 projection items activated\n",
      "Ready.\n"
     ]
    },
    {
     "name": "stderr",
     "output_type": "stream",
     "text": [
      "C:\\Users\\User\\AppData\\Local\\Temp\\ipykernel_6440\\2512055576.py:29: RuntimeWarning: At least one epoch has multiple events. Only the latency of the first event will be retained.\n",
      "  dados = mne.read_epochs_eeglab(path_)\n",
      "C:\\Users\\User\\AppData\\Local\\Temp\\ipykernel_6440\\2512055576.py:35: FutureWarning: The current default of copy=False will change to copy=True in 1.7. Set the value of copy explicitly to avoid this warning\n",
      "  Corr_labels = int(len(dados['150','160'].get_data()))\n",
      "C:\\Users\\User\\AppData\\Local\\Temp\\ipykernel_6440\\2512055576.py:39: FutureWarning: The current default of copy=False will change to copy=True in 1.7. Set the value of copy explicitly to avoid this warning\n",
      "  Err_labels = int(len(dados['151','152','153','154','161','162','163','164'].get_data()))\n",
      "C:\\Users\\User\\AppData\\Local\\Temp\\ipykernel_6440\\2512055576.py:49: FutureWarning: The current default of copy=False will change to copy=True in 1.7. Set the value of copy explicitly to avoid this warning\n",
      "  for epoch_values in dados['150','160'].get_data():\n",
      "C:\\Users\\User\\AppData\\Local\\Temp\\ipykernel_6440\\2512055576.py:58: FutureWarning: The current default of copy=False will change to copy=True in 1.7. Set the value of copy explicitly to avoid this warning\n",
      "  for epoch_values in dados['151','152','153','154','161','162','163','164'].get_data():\n"
     ]
    },
    {
     "name": "stdout",
     "output_type": "stream",
     "text": [
      "Extracting parameters from c:\\Users\\User\\Documents\\GitHub\\Tese\\Dataset2\\P16\\P16_1.set...\n",
      "Not setting metadata\n",
      "102 matching events found\n",
      "No baseline correction applied\n",
      "0 projection items activated\n",
      "Ready.\n"
     ]
    },
    {
     "name": "stderr",
     "output_type": "stream",
     "text": [
      "C:\\Users\\User\\AppData\\Local\\Temp\\ipykernel_6440\\2512055576.py:29: RuntimeWarning: At least one epoch has multiple events. Only the latency of the first event will be retained.\n",
      "  dados = mne.read_epochs_eeglab(path_)\n",
      "C:\\Users\\User\\AppData\\Local\\Temp\\ipykernel_6440\\2512055576.py:35: FutureWarning: The current default of copy=False will change to copy=True in 1.7. Set the value of copy explicitly to avoid this warning\n",
      "  Corr_labels = int(len(dados['150','160'].get_data()))\n",
      "C:\\Users\\User\\AppData\\Local\\Temp\\ipykernel_6440\\2512055576.py:39: FutureWarning: The current default of copy=False will change to copy=True in 1.7. Set the value of copy explicitly to avoid this warning\n",
      "  Err_labels = int(len(dados['151','152','153','154','161','162','163','164'].get_data()))\n",
      "C:\\Users\\User\\AppData\\Local\\Temp\\ipykernel_6440\\2512055576.py:49: FutureWarning: The current default of copy=False will change to copy=True in 1.7. Set the value of copy explicitly to avoid this warning\n",
      "  for epoch_values in dados['150','160'].get_data():\n",
      "C:\\Users\\User\\AppData\\Local\\Temp\\ipykernel_6440\\2512055576.py:58: FutureWarning: The current default of copy=False will change to copy=True in 1.7. Set the value of copy explicitly to avoid this warning\n",
      "  for epoch_values in dados['151','152','153','154','161','162','163','164'].get_data():\n"
     ]
    },
    {
     "name": "stdout",
     "output_type": "stream",
     "text": [
      "Extracting parameters from c:\\Users\\User\\Documents\\GitHub\\Tese\\Dataset2\\P16\\P16_2.set...\n",
      "Not setting metadata\n",
      "67 matching events found\n",
      "No baseline correction applied\n",
      "0 projection items activated\n",
      "Ready.\n"
     ]
    },
    {
     "name": "stderr",
     "output_type": "stream",
     "text": [
      "C:\\Users\\User\\AppData\\Local\\Temp\\ipykernel_6440\\2512055576.py:29: RuntimeWarning: At least one epoch has multiple events. Only the latency of the first event will be retained.\n",
      "  dados = mne.read_epochs_eeglab(path_)\n",
      "C:\\Users\\User\\AppData\\Local\\Temp\\ipykernel_6440\\2512055576.py:35: FutureWarning: The current default of copy=False will change to copy=True in 1.7. Set the value of copy explicitly to avoid this warning\n",
      "  Corr_labels = int(len(dados['150','160'].get_data()))\n",
      "C:\\Users\\User\\AppData\\Local\\Temp\\ipykernel_6440\\2512055576.py:39: FutureWarning: The current default of copy=False will change to copy=True in 1.7. Set the value of copy explicitly to avoid this warning\n",
      "  Err_labels = int(len(dados['151','152','153','154','161','162','163','164'].get_data()))\n",
      "C:\\Users\\User\\AppData\\Local\\Temp\\ipykernel_6440\\2512055576.py:49: FutureWarning: The current default of copy=False will change to copy=True in 1.7. Set the value of copy explicitly to avoid this warning\n",
      "  for epoch_values in dados['150','160'].get_data():\n",
      "C:\\Users\\User\\AppData\\Local\\Temp\\ipykernel_6440\\2512055576.py:58: FutureWarning: The current default of copy=False will change to copy=True in 1.7. Set the value of copy explicitly to avoid this warning\n",
      "  for epoch_values in dados['151','152','153','154','161','162','163','164'].get_data():\n"
     ]
    },
    {
     "name": "stdout",
     "output_type": "stream",
     "text": [
      "Extracting parameters from c:\\Users\\User\\Documents\\GitHub\\Tese\\Dataset2\\P16\\P16_3.set...\n",
      "Not setting metadata\n",
      "59 matching events found\n",
      "No baseline correction applied\n",
      "0 projection items activated\n",
      "Ready.\n"
     ]
    },
    {
     "name": "stderr",
     "output_type": "stream",
     "text": [
      "C:\\Users\\User\\AppData\\Local\\Temp\\ipykernel_6440\\2512055576.py:29: RuntimeWarning: At least one epoch has multiple events. Only the latency of the first event will be retained.\n",
      "  dados = mne.read_epochs_eeglab(path_)\n",
      "C:\\Users\\User\\AppData\\Local\\Temp\\ipykernel_6440\\2512055576.py:35: FutureWarning: The current default of copy=False will change to copy=True in 1.7. Set the value of copy explicitly to avoid this warning\n",
      "  Corr_labels = int(len(dados['150','160'].get_data()))\n",
      "C:\\Users\\User\\AppData\\Local\\Temp\\ipykernel_6440\\2512055576.py:39: FutureWarning: The current default of copy=False will change to copy=True in 1.7. Set the value of copy explicitly to avoid this warning\n",
      "  Err_labels = int(len(dados['151','152','153','154','161','162','163','164'].get_data()))\n",
      "C:\\Users\\User\\AppData\\Local\\Temp\\ipykernel_6440\\2512055576.py:49: FutureWarning: The current default of copy=False will change to copy=True in 1.7. Set the value of copy explicitly to avoid this warning\n",
      "  for epoch_values in dados['150','160'].get_data():\n"
     ]
    },
    {
     "name": "stdout",
     "output_type": "stream",
     "text": [
      "Extracting parameters from c:\\Users\\User\\Documents\\GitHub\\Tese\\Dataset2\\P16\\P16_4.set...\n",
      "Not setting metadata\n"
     ]
    },
    {
     "name": "stderr",
     "output_type": "stream",
     "text": [
      "C:\\Users\\User\\AppData\\Local\\Temp\\ipykernel_6440\\2512055576.py:58: FutureWarning: The current default of copy=False will change to copy=True in 1.7. Set the value of copy explicitly to avoid this warning\n",
      "  for epoch_values in dados['151','152','153','154','161','162','163','164'].get_data():\n",
      "C:\\Users\\User\\AppData\\Local\\Temp\\ipykernel_6440\\2512055576.py:29: RuntimeWarning: At least one epoch has multiple events. Only the latency of the first event will be retained.\n",
      "  dados = mne.read_epochs_eeglab(path_)\n"
     ]
    },
    {
     "name": "stdout",
     "output_type": "stream",
     "text": [
      "59 matching events found\n",
      "No baseline correction applied\n",
      "0 projection items activated\n",
      "Ready.\n"
     ]
    },
    {
     "name": "stderr",
     "output_type": "stream",
     "text": [
      "C:\\Users\\User\\AppData\\Local\\Temp\\ipykernel_6440\\2512055576.py:35: FutureWarning: The current default of copy=False will change to copy=True in 1.7. Set the value of copy explicitly to avoid this warning\n",
      "  Corr_labels = int(len(dados['150','160'].get_data()))\n",
      "C:\\Users\\User\\AppData\\Local\\Temp\\ipykernel_6440\\2512055576.py:39: FutureWarning: The current default of copy=False will change to copy=True in 1.7. Set the value of copy explicitly to avoid this warning\n",
      "  Err_labels = int(len(dados['151','152','153','154','161','162','163','164'].get_data()))\n",
      "C:\\Users\\User\\AppData\\Local\\Temp\\ipykernel_6440\\2512055576.py:49: FutureWarning: The current default of copy=False will change to copy=True in 1.7. Set the value of copy explicitly to avoid this warning\n",
      "  for epoch_values in dados['150','160'].get_data():\n",
      "C:\\Users\\User\\AppData\\Local\\Temp\\ipykernel_6440\\2512055576.py:58: FutureWarning: The current default of copy=False will change to copy=True in 1.7. Set the value of copy explicitly to avoid this warning\n",
      "  for epoch_values in dados['151','152','153','154','161','162','163','164'].get_data():\n"
     ]
    },
    {
     "name": "stdout",
     "output_type": "stream",
     "text": [
      "Extracting parameters from c:\\Users\\User\\Documents\\GitHub\\Tese\\Dataset2\\P17\\P17_1.set...\n",
      "Not setting metadata\n",
      "68 matching events found\n",
      "No baseline correction applied\n",
      "0 projection items activated\n",
      "Ready.\n"
     ]
    },
    {
     "name": "stderr",
     "output_type": "stream",
     "text": [
      "C:\\Users\\User\\AppData\\Local\\Temp\\ipykernel_6440\\2512055576.py:29: RuntimeWarning: At least one epoch has multiple events. Only the latency of the first event will be retained.\n",
      "  dados = mne.read_epochs_eeglab(path_)\n",
      "C:\\Users\\User\\AppData\\Local\\Temp\\ipykernel_6440\\2512055576.py:35: FutureWarning: The current default of copy=False will change to copy=True in 1.7. Set the value of copy explicitly to avoid this warning\n",
      "  Corr_labels = int(len(dados['150','160'].get_data()))\n",
      "C:\\Users\\User\\AppData\\Local\\Temp\\ipykernel_6440\\2512055576.py:39: FutureWarning: The current default of copy=False will change to copy=True in 1.7. Set the value of copy explicitly to avoid this warning\n",
      "  Err_labels = int(len(dados['151','152','153','154','161','162','163','164'].get_data()))\n",
      "C:\\Users\\User\\AppData\\Local\\Temp\\ipykernel_6440\\2512055576.py:49: FutureWarning: The current default of copy=False will change to copy=True in 1.7. Set the value of copy explicitly to avoid this warning\n",
      "  for epoch_values in dados['150','160'].get_data():\n"
     ]
    },
    {
     "name": "stdout",
     "output_type": "stream",
     "text": [
      "Extracting parameters from c:\\Users\\User\\Documents\\GitHub\\Tese\\Dataset2\\P17\\P17_2.set...\n"
     ]
    },
    {
     "name": "stderr",
     "output_type": "stream",
     "text": [
      "C:\\Users\\User\\AppData\\Local\\Temp\\ipykernel_6440\\2512055576.py:58: FutureWarning: The current default of copy=False will change to copy=True in 1.7. Set the value of copy explicitly to avoid this warning\n",
      "  for epoch_values in dados['151','152','153','154','161','162','163','164'].get_data():\n",
      "C:\\Users\\User\\AppData\\Local\\Temp\\ipykernel_6440\\2512055576.py:29: RuntimeWarning: At least one epoch has multiple events. Only the latency of the first event will be retained.\n",
      "  dados = mne.read_epochs_eeglab(path_)\n"
     ]
    },
    {
     "name": "stdout",
     "output_type": "stream",
     "text": [
      "Not setting metadata\n",
      "71 matching events found\n",
      "No baseline correction applied\n",
      "0 projection items activated\n",
      "Ready.\n"
     ]
    },
    {
     "name": "stderr",
     "output_type": "stream",
     "text": [
      "C:\\Users\\User\\AppData\\Local\\Temp\\ipykernel_6440\\2512055576.py:35: FutureWarning: The current default of copy=False will change to copy=True in 1.7. Set the value of copy explicitly to avoid this warning\n",
      "  Corr_labels = int(len(dados['150','160'].get_data()))\n",
      "C:\\Users\\User\\AppData\\Local\\Temp\\ipykernel_6440\\2512055576.py:39: FutureWarning: The current default of copy=False will change to copy=True in 1.7. Set the value of copy explicitly to avoid this warning\n",
      "  Err_labels = int(len(dados['151','152','153','154','161','162','163','164'].get_data()))\n",
      "C:\\Users\\User\\AppData\\Local\\Temp\\ipykernel_6440\\2512055576.py:49: FutureWarning: The current default of copy=False will change to copy=True in 1.7. Set the value of copy explicitly to avoid this warning\n",
      "  for epoch_values in dados['150','160'].get_data():\n"
     ]
    },
    {
     "name": "stdout",
     "output_type": "stream",
     "text": [
      "Extracting parameters from c:\\Users\\User\\Documents\\GitHub\\Tese\\Dataset2\\P17\\P17_3.set...\n"
     ]
    },
    {
     "name": "stderr",
     "output_type": "stream",
     "text": [
      "C:\\Users\\User\\AppData\\Local\\Temp\\ipykernel_6440\\2512055576.py:58: FutureWarning: The current default of copy=False will change to copy=True in 1.7. Set the value of copy explicitly to avoid this warning\n",
      "  for epoch_values in dados['151','152','153','154','161','162','163','164'].get_data():\n",
      "C:\\Users\\User\\AppData\\Local\\Temp\\ipykernel_6440\\2512055576.py:29: RuntimeWarning: At least one epoch has multiple events. Only the latency of the first event will be retained.\n",
      "  dados = mne.read_epochs_eeglab(path_)\n"
     ]
    },
    {
     "name": "stdout",
     "output_type": "stream",
     "text": [
      "Not setting metadata\n",
      "80 matching events found\n",
      "No baseline correction applied\n",
      "0 projection items activated\n",
      "Ready.\n"
     ]
    },
    {
     "name": "stderr",
     "output_type": "stream",
     "text": [
      "C:\\Users\\User\\AppData\\Local\\Temp\\ipykernel_6440\\2512055576.py:35: FutureWarning: The current default of copy=False will change to copy=True in 1.7. Set the value of copy explicitly to avoid this warning\n",
      "  Corr_labels = int(len(dados['150','160'].get_data()))\n",
      "C:\\Users\\User\\AppData\\Local\\Temp\\ipykernel_6440\\2512055576.py:39: FutureWarning: The current default of copy=False will change to copy=True in 1.7. Set the value of copy explicitly to avoid this warning\n",
      "  Err_labels = int(len(dados['151','152','153','154','161','162','163','164'].get_data()))\n",
      "C:\\Users\\User\\AppData\\Local\\Temp\\ipykernel_6440\\2512055576.py:49: FutureWarning: The current default of copy=False will change to copy=True in 1.7. Set the value of copy explicitly to avoid this warning\n",
      "  for epoch_values in dados['150','160'].get_data():\n",
      "C:\\Users\\User\\AppData\\Local\\Temp\\ipykernel_6440\\2512055576.py:58: FutureWarning: The current default of copy=False will change to copy=True in 1.7. Set the value of copy explicitly to avoid this warning\n",
      "  for epoch_values in dados['151','152','153','154','161','162','163','164'].get_data():\n",
      "C:\\Users\\User\\AppData\\Local\\Temp\\ipykernel_6440\\2512055576.py:29: RuntimeWarning: At least one epoch has multiple events. Only the latency of the first event will be retained.\n",
      "  dados = mne.read_epochs_eeglab(path_)\n"
     ]
    },
    {
     "name": "stdout",
     "output_type": "stream",
     "text": [
      "Extracting parameters from c:\\Users\\User\\Documents\\GitHub\\Tese\\Dataset2\\P17\\P17_4.set...\n",
      "Not setting metadata\n",
      "79 matching events found\n",
      "No baseline correction applied\n",
      "0 projection items activated\n",
      "Ready.\n"
     ]
    },
    {
     "name": "stderr",
     "output_type": "stream",
     "text": [
      "C:\\Users\\User\\AppData\\Local\\Temp\\ipykernel_6440\\2512055576.py:35: FutureWarning: The current default of copy=False will change to copy=True in 1.7. Set the value of copy explicitly to avoid this warning\n",
      "  Corr_labels = int(len(dados['150','160'].get_data()))\n",
      "C:\\Users\\User\\AppData\\Local\\Temp\\ipykernel_6440\\2512055576.py:39: FutureWarning: The current default of copy=False will change to copy=True in 1.7. Set the value of copy explicitly to avoid this warning\n",
      "  Err_labels = int(len(dados['151','152','153','154','161','162','163','164'].get_data()))\n",
      "C:\\Users\\User\\AppData\\Local\\Temp\\ipykernel_6440\\2512055576.py:49: FutureWarning: The current default of copy=False will change to copy=True in 1.7. Set the value of copy explicitly to avoid this warning\n",
      "  for epoch_values in dados['150','160'].get_data():\n",
      "C:\\Users\\User\\AppData\\Local\\Temp\\ipykernel_6440\\2512055576.py:58: FutureWarning: The current default of copy=False will change to copy=True in 1.7. Set the value of copy explicitly to avoid this warning\n",
      "  for epoch_values in dados['151','152','153','154','161','162','163','164'].get_data():\n"
     ]
    },
    {
     "name": "stdout",
     "output_type": "stream",
     "text": [
      "Extracting parameters from c:\\Users\\User\\Documents\\GitHub\\Tese\\Dataset2\\P18\\P18_1.set...\n",
      "Not setting metadata\n",
      "56 matching events found\n",
      "No baseline correction applied\n",
      "0 projection items activated\n",
      "Ready.\n"
     ]
    },
    {
     "name": "stderr",
     "output_type": "stream",
     "text": [
      "C:\\Users\\User\\AppData\\Local\\Temp\\ipykernel_6440\\2512055576.py:29: RuntimeWarning: At least one epoch has multiple events. Only the latency of the first event will be retained.\n",
      "  dados = mne.read_epochs_eeglab(path_)\n",
      "C:\\Users\\User\\AppData\\Local\\Temp\\ipykernel_6440\\2512055576.py:35: FutureWarning: The current default of copy=False will change to copy=True in 1.7. Set the value of copy explicitly to avoid this warning\n",
      "  Corr_labels = int(len(dados['150','160'].get_data()))\n",
      "C:\\Users\\User\\AppData\\Local\\Temp\\ipykernel_6440\\2512055576.py:39: FutureWarning: The current default of copy=False will change to copy=True in 1.7. Set the value of copy explicitly to avoid this warning\n",
      "  Err_labels = int(len(dados['151','152','153','154','161','162','163','164'].get_data()))\n",
      "C:\\Users\\User\\AppData\\Local\\Temp\\ipykernel_6440\\2512055576.py:49: FutureWarning: The current default of copy=False will change to copy=True in 1.7. Set the value of copy explicitly to avoid this warning\n",
      "  for epoch_values in dados['150','160'].get_data():\n",
      "C:\\Users\\User\\AppData\\Local\\Temp\\ipykernel_6440\\2512055576.py:58: FutureWarning: The current default of copy=False will change to copy=True in 1.7. Set the value of copy explicitly to avoid this warning\n",
      "  for epoch_values in dados['151','152','153','154','161','162','163','164'].get_data():\n"
     ]
    },
    {
     "name": "stdout",
     "output_type": "stream",
     "text": [
      "Extracting parameters from c:\\Users\\User\\Documents\\GitHub\\Tese\\Dataset2\\P18\\P18_2.set...\n",
      "Not setting metadata\n",
      "54 matching events found\n",
      "No baseline correction applied\n",
      "0 projection items activated\n",
      "Ready.\n"
     ]
    },
    {
     "name": "stderr",
     "output_type": "stream",
     "text": [
      "C:\\Users\\User\\AppData\\Local\\Temp\\ipykernel_6440\\2512055576.py:29: RuntimeWarning: At least one epoch has multiple events. Only the latency of the first event will be retained.\n",
      "  dados = mne.read_epochs_eeglab(path_)\n",
      "C:\\Users\\User\\AppData\\Local\\Temp\\ipykernel_6440\\2512055576.py:35: FutureWarning: The current default of copy=False will change to copy=True in 1.7. Set the value of copy explicitly to avoid this warning\n",
      "  Corr_labels = int(len(dados['150','160'].get_data()))\n",
      "C:\\Users\\User\\AppData\\Local\\Temp\\ipykernel_6440\\2512055576.py:39: FutureWarning: The current default of copy=False will change to copy=True in 1.7. Set the value of copy explicitly to avoid this warning\n",
      "  Err_labels = int(len(dados['151','152','153','154','161','162','163','164'].get_data()))\n",
      "C:\\Users\\User\\AppData\\Local\\Temp\\ipykernel_6440\\2512055576.py:49: FutureWarning: The current default of copy=False will change to copy=True in 1.7. Set the value of copy explicitly to avoid this warning\n",
      "  for epoch_values in dados['150','160'].get_data():\n",
      "C:\\Users\\User\\AppData\\Local\\Temp\\ipykernel_6440\\2512055576.py:58: FutureWarning: The current default of copy=False will change to copy=True in 1.7. Set the value of copy explicitly to avoid this warning\n",
      "  for epoch_values in dados['151','152','153','154','161','162','163','164'].get_data():\n"
     ]
    },
    {
     "name": "stdout",
     "output_type": "stream",
     "text": [
      "Extracting parameters from c:\\Users\\User\\Documents\\GitHub\\Tese\\Dataset2\\P18\\P18_3.set...\n"
     ]
    },
    {
     "name": "stderr",
     "output_type": "stream",
     "text": [
      "C:\\Users\\User\\AppData\\Local\\Temp\\ipykernel_6440\\2512055576.py:29: RuntimeWarning: At least one epoch has multiple events. Only the latency of the first event will be retained.\n",
      "  dados = mne.read_epochs_eeglab(path_)\n"
     ]
    },
    {
     "name": "stdout",
     "output_type": "stream",
     "text": [
      "Not setting metadata\n",
      "59 matching events found\n",
      "No baseline correction applied\n",
      "0 projection items activated\n",
      "Ready.\n"
     ]
    },
    {
     "name": "stderr",
     "output_type": "stream",
     "text": [
      "C:\\Users\\User\\AppData\\Local\\Temp\\ipykernel_6440\\2512055576.py:35: FutureWarning: The current default of copy=False will change to copy=True in 1.7. Set the value of copy explicitly to avoid this warning\n",
      "  Corr_labels = int(len(dados['150','160'].get_data()))\n",
      "C:\\Users\\User\\AppData\\Local\\Temp\\ipykernel_6440\\2512055576.py:39: FutureWarning: The current default of copy=False will change to copy=True in 1.7. Set the value of copy explicitly to avoid this warning\n",
      "  Err_labels = int(len(dados['151','152','153','154','161','162','163','164'].get_data()))\n",
      "C:\\Users\\User\\AppData\\Local\\Temp\\ipykernel_6440\\2512055576.py:49: FutureWarning: The current default of copy=False will change to copy=True in 1.7. Set the value of copy explicitly to avoid this warning\n",
      "  for epoch_values in dados['150','160'].get_data():\n",
      "C:\\Users\\User\\AppData\\Local\\Temp\\ipykernel_6440\\2512055576.py:58: FutureWarning: The current default of copy=False will change to copy=True in 1.7. Set the value of copy explicitly to avoid this warning\n",
      "  for epoch_values in dados['151','152','153','154','161','162','163','164'].get_data():\n",
      "C:\\Users\\User\\AppData\\Local\\Temp\\ipykernel_6440\\2512055576.py:29: RuntimeWarning: At least one epoch has multiple events. Only the latency of the first event will be retained.\n",
      "  dados = mne.read_epochs_eeglab(path_)\n"
     ]
    },
    {
     "name": "stdout",
     "output_type": "stream",
     "text": [
      "Extracting parameters from c:\\Users\\User\\Documents\\GitHub\\Tese\\Dataset2\\P18\\P18_4.set...\n",
      "Not setting metadata\n",
      "69 matching events found\n",
      "No baseline correction applied\n",
      "0 projection items activated\n",
      "Ready.\n"
     ]
    },
    {
     "name": "stderr",
     "output_type": "stream",
     "text": [
      "C:\\Users\\User\\AppData\\Local\\Temp\\ipykernel_6440\\2512055576.py:35: FutureWarning: The current default of copy=False will change to copy=True in 1.7. Set the value of copy explicitly to avoid this warning\n",
      "  Corr_labels = int(len(dados['150','160'].get_data()))\n",
      "C:\\Users\\User\\AppData\\Local\\Temp\\ipykernel_6440\\2512055576.py:39: FutureWarning: The current default of copy=False will change to copy=True in 1.7. Set the value of copy explicitly to avoid this warning\n",
      "  Err_labels = int(len(dados['151','152','153','154','161','162','163','164'].get_data()))\n",
      "C:\\Users\\User\\AppData\\Local\\Temp\\ipykernel_6440\\2512055576.py:49: FutureWarning: The current default of copy=False will change to copy=True in 1.7. Set the value of copy explicitly to avoid this warning\n",
      "  for epoch_values in dados['150','160'].get_data():\n"
     ]
    },
    {
     "name": "stdout",
     "output_type": "stream",
     "text": [
      "Extracting parameters from c:\\Users\\User\\Documents\\GitHub\\Tese\\Dataset2\\P19\\P19_1.set...\n"
     ]
    },
    {
     "name": "stderr",
     "output_type": "stream",
     "text": [
      "C:\\Users\\User\\AppData\\Local\\Temp\\ipykernel_6440\\2512055576.py:58: FutureWarning: The current default of copy=False will change to copy=True in 1.7. Set the value of copy explicitly to avoid this warning\n",
      "  for epoch_values in dados['151','152','153','154','161','162','163','164'].get_data():\n",
      "C:\\Users\\User\\AppData\\Local\\Temp\\ipykernel_6440\\2512055576.py:29: RuntimeWarning: At least one epoch has multiple events. Only the latency of the first event will be retained.\n",
      "  dados = mne.read_epochs_eeglab(path_)\n"
     ]
    },
    {
     "name": "stdout",
     "output_type": "stream",
     "text": [
      "Not setting metadata\n",
      "79 matching events found\n",
      "No baseline correction applied\n",
      "0 projection items activated\n",
      "Ready.\n"
     ]
    },
    {
     "name": "stderr",
     "output_type": "stream",
     "text": [
      "C:\\Users\\User\\AppData\\Local\\Temp\\ipykernel_6440\\2512055576.py:35: FutureWarning: The current default of copy=False will change to copy=True in 1.7. Set the value of copy explicitly to avoid this warning\n",
      "  Corr_labels = int(len(dados['150','160'].get_data()))\n",
      "C:\\Users\\User\\AppData\\Local\\Temp\\ipykernel_6440\\2512055576.py:39: FutureWarning: The current default of copy=False will change to copy=True in 1.7. Set the value of copy explicitly to avoid this warning\n",
      "  Err_labels = int(len(dados['151','152','153','154','161','162','163','164'].get_data()))\n",
      "C:\\Users\\User\\AppData\\Local\\Temp\\ipykernel_6440\\2512055576.py:49: FutureWarning: The current default of copy=False will change to copy=True in 1.7. Set the value of copy explicitly to avoid this warning\n",
      "  for epoch_values in dados['150','160'].get_data():\n"
     ]
    },
    {
     "name": "stdout",
     "output_type": "stream",
     "text": [
      "Extracting parameters from c:\\Users\\User\\Documents\\GitHub\\Tese\\Dataset2\\P19\\P19_2.set...\n",
      "Not setting metadata\n",
      "77 matching events found\n",
      "No baseline correction applied\n",
      "0 projection items activated\n",
      "Ready.\n"
     ]
    },
    {
     "name": "stderr",
     "output_type": "stream",
     "text": [
      "C:\\Users\\User\\AppData\\Local\\Temp\\ipykernel_6440\\2512055576.py:58: FutureWarning: The current default of copy=False will change to copy=True in 1.7. Set the value of copy explicitly to avoid this warning\n",
      "  for epoch_values in dados['151','152','153','154','161','162','163','164'].get_data():\n",
      "C:\\Users\\User\\AppData\\Local\\Temp\\ipykernel_6440\\2512055576.py:29: RuntimeWarning: At least one epoch has multiple events. Only the latency of the first event will be retained.\n",
      "  dados = mne.read_epochs_eeglab(path_)\n",
      "C:\\Users\\User\\AppData\\Local\\Temp\\ipykernel_6440\\2512055576.py:35: FutureWarning: The current default of copy=False will change to copy=True in 1.7. Set the value of copy explicitly to avoid this warning\n",
      "  Corr_labels = int(len(dados['150','160'].get_data()))\n",
      "C:\\Users\\User\\AppData\\Local\\Temp\\ipykernel_6440\\2512055576.py:39: FutureWarning: The current default of copy=False will change to copy=True in 1.7. Set the value of copy explicitly to avoid this warning\n",
      "  Err_labels = int(len(dados['151','152','153','154','161','162','163','164'].get_data()))\n",
      "C:\\Users\\User\\AppData\\Local\\Temp\\ipykernel_6440\\2512055576.py:49: FutureWarning: The current default of copy=False will change to copy=True in 1.7. Set the value of copy explicitly to avoid this warning\n",
      "  for epoch_values in dados['150','160'].get_data():\n"
     ]
    },
    {
     "name": "stdout",
     "output_type": "stream",
     "text": [
      "Extracting parameters from c:\\Users\\User\\Documents\\GitHub\\Tese\\Dataset2\\P19\\P19_3.set...\n"
     ]
    },
    {
     "name": "stderr",
     "output_type": "stream",
     "text": [
      "C:\\Users\\User\\AppData\\Local\\Temp\\ipykernel_6440\\2512055576.py:58: FutureWarning: The current default of copy=False will change to copy=True in 1.7. Set the value of copy explicitly to avoid this warning\n",
      "  for epoch_values in dados['151','152','153','154','161','162','163','164'].get_data():\n",
      "C:\\Users\\User\\AppData\\Local\\Temp\\ipykernel_6440\\2512055576.py:29: RuntimeWarning: At least one epoch has multiple events. Only the latency of the first event will be retained.\n",
      "  dados = mne.read_epochs_eeglab(path_)\n"
     ]
    },
    {
     "name": "stdout",
     "output_type": "stream",
     "text": [
      "Not setting metadata\n",
      "79 matching events found\n",
      "No baseline correction applied\n",
      "0 projection items activated\n",
      "Ready.\n"
     ]
    },
    {
     "name": "stderr",
     "output_type": "stream",
     "text": [
      "C:\\Users\\User\\AppData\\Local\\Temp\\ipykernel_6440\\2512055576.py:35: FutureWarning: The current default of copy=False will change to copy=True in 1.7. Set the value of copy explicitly to avoid this warning\n",
      "  Corr_labels = int(len(dados['150','160'].get_data()))\n",
      "C:\\Users\\User\\AppData\\Local\\Temp\\ipykernel_6440\\2512055576.py:39: FutureWarning: The current default of copy=False will change to copy=True in 1.7. Set the value of copy explicitly to avoid this warning\n",
      "  Err_labels = int(len(dados['151','152','153','154','161','162','163','164'].get_data()))\n",
      "C:\\Users\\User\\AppData\\Local\\Temp\\ipykernel_6440\\2512055576.py:49: FutureWarning: The current default of copy=False will change to copy=True in 1.7. Set the value of copy explicitly to avoid this warning\n",
      "  for epoch_values in dados['150','160'].get_data():\n"
     ]
    },
    {
     "name": "stdout",
     "output_type": "stream",
     "text": [
      "Extracting parameters from c:\\Users\\User\\Documents\\GitHub\\Tese\\Dataset2\\P19\\P19_4.set...\n",
      "Not setting metadata\n",
      "80 matching events found\n",
      "No baseline correction applied\n",
      "0 projection items activated\n",
      "Ready.\n"
     ]
    },
    {
     "name": "stderr",
     "output_type": "stream",
     "text": [
      "C:\\Users\\User\\AppData\\Local\\Temp\\ipykernel_6440\\2512055576.py:58: FutureWarning: The current default of copy=False will change to copy=True in 1.7. Set the value of copy explicitly to avoid this warning\n",
      "  for epoch_values in dados['151','152','153','154','161','162','163','164'].get_data():\n",
      "C:\\Users\\User\\AppData\\Local\\Temp\\ipykernel_6440\\2512055576.py:29: RuntimeWarning: At least one epoch has multiple events. Only the latency of the first event will be retained.\n",
      "  dados = mne.read_epochs_eeglab(path_)\n",
      "C:\\Users\\User\\AppData\\Local\\Temp\\ipykernel_6440\\2512055576.py:35: FutureWarning: The current default of copy=False will change to copy=True in 1.7. Set the value of copy explicitly to avoid this warning\n",
      "  Corr_labels = int(len(dados['150','160'].get_data()))\n",
      "C:\\Users\\User\\AppData\\Local\\Temp\\ipykernel_6440\\2512055576.py:39: FutureWarning: The current default of copy=False will change to copy=True in 1.7. Set the value of copy explicitly to avoid this warning\n",
      "  Err_labels = int(len(dados['151','152','153','154','161','162','163','164'].get_data()))\n",
      "C:\\Users\\User\\AppData\\Local\\Temp\\ipykernel_6440\\2512055576.py:49: FutureWarning: The current default of copy=False will change to copy=True in 1.7. Set the value of copy explicitly to avoid this warning\n",
      "  for epoch_values in dados['150','160'].get_data():\n"
     ]
    },
    {
     "name": "stdout",
     "output_type": "stream",
     "text": [
      "Extracting parameters from c:\\Users\\User\\Documents\\GitHub\\Tese\\Dataset2\\P20\\P20_1.set...\n",
      "Not setting metadata\n",
      "75 matching events found\n",
      "No baseline correction applied\n",
      "0 projection items activated\n",
      "Ready.\n"
     ]
    },
    {
     "name": "stderr",
     "output_type": "stream",
     "text": [
      "C:\\Users\\User\\AppData\\Local\\Temp\\ipykernel_6440\\2512055576.py:58: FutureWarning: The current default of copy=False will change to copy=True in 1.7. Set the value of copy explicitly to avoid this warning\n",
      "  for epoch_values in dados['151','152','153','154','161','162','163','164'].get_data():\n",
      "C:\\Users\\User\\AppData\\Local\\Temp\\ipykernel_6440\\2512055576.py:29: RuntimeWarning: At least one epoch has multiple events. Only the latency of the first event will be retained.\n",
      "  dados = mne.read_epochs_eeglab(path_)\n",
      "C:\\Users\\User\\AppData\\Local\\Temp\\ipykernel_6440\\2512055576.py:35: FutureWarning: The current default of copy=False will change to copy=True in 1.7. Set the value of copy explicitly to avoid this warning\n",
      "  Corr_labels = int(len(dados['150','160'].get_data()))\n",
      "C:\\Users\\User\\AppData\\Local\\Temp\\ipykernel_6440\\2512055576.py:39: FutureWarning: The current default of copy=False will change to copy=True in 1.7. Set the value of copy explicitly to avoid this warning\n",
      "  Err_labels = int(len(dados['151','152','153','154','161','162','163','164'].get_data()))\n",
      "C:\\Users\\User\\AppData\\Local\\Temp\\ipykernel_6440\\2512055576.py:49: FutureWarning: The current default of copy=False will change to copy=True in 1.7. Set the value of copy explicitly to avoid this warning\n",
      "  for epoch_values in dados['150','160'].get_data():\n",
      "C:\\Users\\User\\AppData\\Local\\Temp\\ipykernel_6440\\2512055576.py:58: FutureWarning: The current default of copy=False will change to copy=True in 1.7. Set the value of copy explicitly to avoid this warning\n",
      "  for epoch_values in dados['151','152','153','154','161','162','163','164'].get_data():\n"
     ]
    },
    {
     "name": "stdout",
     "output_type": "stream",
     "text": [
      "Extracting parameters from c:\\Users\\User\\Documents\\GitHub\\Tese\\Dataset2\\P20\\P20_2.set...\n",
      "Not setting metadata\n",
      "75 matching events found\n",
      "No baseline correction applied\n",
      "0 projection items activated\n",
      "Ready.\n"
     ]
    },
    {
     "name": "stderr",
     "output_type": "stream",
     "text": [
      "C:\\Users\\User\\AppData\\Local\\Temp\\ipykernel_6440\\2512055576.py:29: RuntimeWarning: At least one epoch has multiple events. Only the latency of the first event will be retained.\n",
      "  dados = mne.read_epochs_eeglab(path_)\n",
      "C:\\Users\\User\\AppData\\Local\\Temp\\ipykernel_6440\\2512055576.py:35: FutureWarning: The current default of copy=False will change to copy=True in 1.7. Set the value of copy explicitly to avoid this warning\n",
      "  Corr_labels = int(len(dados['150','160'].get_data()))\n",
      "C:\\Users\\User\\AppData\\Local\\Temp\\ipykernel_6440\\2512055576.py:39: FutureWarning: The current default of copy=False will change to copy=True in 1.7. Set the value of copy explicitly to avoid this warning\n",
      "  Err_labels = int(len(dados['151','152','153','154','161','162','163','164'].get_data()))\n",
      "C:\\Users\\User\\AppData\\Local\\Temp\\ipykernel_6440\\2512055576.py:49: FutureWarning: The current default of copy=False will change to copy=True in 1.7. Set the value of copy explicitly to avoid this warning\n",
      "  for epoch_values in dados['150','160'].get_data():\n",
      "C:\\Users\\User\\AppData\\Local\\Temp\\ipykernel_6440\\2512055576.py:58: FutureWarning: The current default of copy=False will change to copy=True in 1.7. Set the value of copy explicitly to avoid this warning\n",
      "  for epoch_values in dados['151','152','153','154','161','162','163','164'].get_data():\n"
     ]
    },
    {
     "name": "stdout",
     "output_type": "stream",
     "text": [
      "Extracting parameters from c:\\Users\\User\\Documents\\GitHub\\Tese\\Dataset2\\P20\\P20_3.set...\n",
      "Not setting metadata\n",
      "75 matching events found\n",
      "No baseline correction applied\n",
      "0 projection items activated\n",
      "Ready.\n"
     ]
    },
    {
     "name": "stderr",
     "output_type": "stream",
     "text": [
      "C:\\Users\\User\\AppData\\Local\\Temp\\ipykernel_6440\\2512055576.py:29: RuntimeWarning: At least one epoch has multiple events. Only the latency of the first event will be retained.\n",
      "  dados = mne.read_epochs_eeglab(path_)\n",
      "C:\\Users\\User\\AppData\\Local\\Temp\\ipykernel_6440\\2512055576.py:35: FutureWarning: The current default of copy=False will change to copy=True in 1.7. Set the value of copy explicitly to avoid this warning\n",
      "  Corr_labels = int(len(dados['150','160'].get_data()))\n",
      "C:\\Users\\User\\AppData\\Local\\Temp\\ipykernel_6440\\2512055576.py:39: FutureWarning: The current default of copy=False will change to copy=True in 1.7. Set the value of copy explicitly to avoid this warning\n",
      "  Err_labels = int(len(dados['151','152','153','154','161','162','163','164'].get_data()))\n",
      "C:\\Users\\User\\AppData\\Local\\Temp\\ipykernel_6440\\2512055576.py:49: FutureWarning: The current default of copy=False will change to copy=True in 1.7. Set the value of copy explicitly to avoid this warning\n",
      "  for epoch_values in dados['150','160'].get_data():\n"
     ]
    },
    {
     "name": "stdout",
     "output_type": "stream",
     "text": [
      "Extracting parameters from c:\\Users\\User\\Documents\\GitHub\\Tese\\Dataset2\\P20\\P20_4.set...\n"
     ]
    },
    {
     "name": "stderr",
     "output_type": "stream",
     "text": [
      "C:\\Users\\User\\AppData\\Local\\Temp\\ipykernel_6440\\2512055576.py:58: FutureWarning: The current default of copy=False will change to copy=True in 1.7. Set the value of copy explicitly to avoid this warning\n",
      "  for epoch_values in dados['151','152','153','154','161','162','163','164'].get_data():\n",
      "C:\\Users\\User\\AppData\\Local\\Temp\\ipykernel_6440\\2512055576.py:29: RuntimeWarning: At least one epoch has multiple events. Only the latency of the first event will be retained.\n",
      "  dados = mne.read_epochs_eeglab(path_)\n"
     ]
    },
    {
     "name": "stdout",
     "output_type": "stream",
     "text": [
      "Not setting metadata\n",
      "78 matching events found\n",
      "No baseline correction applied\n",
      "0 projection items activated\n",
      "Ready.\n"
     ]
    },
    {
     "name": "stderr",
     "output_type": "stream",
     "text": [
      "C:\\Users\\User\\AppData\\Local\\Temp\\ipykernel_6440\\2512055576.py:35: FutureWarning: The current default of copy=False will change to copy=True in 1.7. Set the value of copy explicitly to avoid this warning\n",
      "  Corr_labels = int(len(dados['150','160'].get_data()))\n",
      "C:\\Users\\User\\AppData\\Local\\Temp\\ipykernel_6440\\2512055576.py:39: FutureWarning: The current default of copy=False will change to copy=True in 1.7. Set the value of copy explicitly to avoid this warning\n",
      "  Err_labels = int(len(dados['151','152','153','154','161','162','163','164'].get_data()))\n",
      "C:\\Users\\User\\AppData\\Local\\Temp\\ipykernel_6440\\2512055576.py:49: FutureWarning: The current default of copy=False will change to copy=True in 1.7. Set the value of copy explicitly to avoid this warning\n",
      "  for epoch_values in dados['150','160'].get_data():\n",
      "C:\\Users\\User\\AppData\\Local\\Temp\\ipykernel_6440\\2512055576.py:58: FutureWarning: The current default of copy=False will change to copy=True in 1.7. Set the value of copy explicitly to avoid this warning\n",
      "  for epoch_values in dados['151','152','153','154','161','162','163','164'].get_data():\n"
     ]
    },
    {
     "name": "stdout",
     "output_type": "stream",
     "text": [
      "Extracting parameters from c:\\Users\\User\\Documents\\GitHub\\Tese\\Dataset2\\P21\\P21_1.set...\n",
      "Not setting metadata\n",
      "47 matching events found\n",
      "No baseline correction applied\n",
      "0 projection items activated\n",
      "Ready.\n"
     ]
    },
    {
     "name": "stderr",
     "output_type": "stream",
     "text": [
      "C:\\Users\\User\\AppData\\Local\\Temp\\ipykernel_6440\\2512055576.py:29: RuntimeWarning: At least one epoch has multiple events. Only the latency of the first event will be retained.\n",
      "  dados = mne.read_epochs_eeglab(path_)\n",
      "C:\\Users\\User\\AppData\\Local\\Temp\\ipykernel_6440\\2512055576.py:35: FutureWarning: The current default of copy=False will change to copy=True in 1.7. Set the value of copy explicitly to avoid this warning\n",
      "  Corr_labels = int(len(dados['150','160'].get_data()))\n",
      "C:\\Users\\User\\AppData\\Local\\Temp\\ipykernel_6440\\2512055576.py:39: FutureWarning: The current default of copy=False will change to copy=True in 1.7. Set the value of copy explicitly to avoid this warning\n",
      "  Err_labels = int(len(dados['151','152','153','154','161','162','163','164'].get_data()))\n",
      "C:\\Users\\User\\AppData\\Local\\Temp\\ipykernel_6440\\2512055576.py:49: FutureWarning: The current default of copy=False will change to copy=True in 1.7. Set the value of copy explicitly to avoid this warning\n",
      "  for epoch_values in dados['150','160'].get_data():\n",
      "C:\\Users\\User\\AppData\\Local\\Temp\\ipykernel_6440\\2512055576.py:58: FutureWarning: The current default of copy=False will change to copy=True in 1.7. Set the value of copy explicitly to avoid this warning\n",
      "  for epoch_values in dados['151','152','153','154','161','162','163','164'].get_data():\n"
     ]
    },
    {
     "name": "stdout",
     "output_type": "stream",
     "text": [
      "Extracting parameters from c:\\Users\\User\\Documents\\GitHub\\Tese\\Dataset2\\P21\\P21_2.set...\n",
      "Not setting metadata\n",
      "50 matching events found\n",
      "No baseline correction applied\n",
      "0 projection items activated\n",
      "Ready.\n"
     ]
    },
    {
     "name": "stderr",
     "output_type": "stream",
     "text": [
      "C:\\Users\\User\\AppData\\Local\\Temp\\ipykernel_6440\\2512055576.py:29: RuntimeWarning: At least one epoch has multiple events. Only the latency of the first event will be retained.\n",
      "  dados = mne.read_epochs_eeglab(path_)\n",
      "C:\\Users\\User\\AppData\\Local\\Temp\\ipykernel_6440\\2512055576.py:35: FutureWarning: The current default of copy=False will change to copy=True in 1.7. Set the value of copy explicitly to avoid this warning\n",
      "  Corr_labels = int(len(dados['150','160'].get_data()))\n",
      "C:\\Users\\User\\AppData\\Local\\Temp\\ipykernel_6440\\2512055576.py:39: FutureWarning: The current default of copy=False will change to copy=True in 1.7. Set the value of copy explicitly to avoid this warning\n",
      "  Err_labels = int(len(dados['151','152','153','154','161','162','163','164'].get_data()))\n",
      "C:\\Users\\User\\AppData\\Local\\Temp\\ipykernel_6440\\2512055576.py:49: FutureWarning: The current default of copy=False will change to copy=True in 1.7. Set the value of copy explicitly to avoid this warning\n",
      "  for epoch_values in dados['150','160'].get_data():\n"
     ]
    },
    {
     "name": "stdout",
     "output_type": "stream",
     "text": [
      "Extracting parameters from c:\\Users\\User\\Documents\\GitHub\\Tese\\Dataset2\\P21\\P21_3.set...\n"
     ]
    },
    {
     "name": "stderr",
     "output_type": "stream",
     "text": [
      "C:\\Users\\User\\AppData\\Local\\Temp\\ipykernel_6440\\2512055576.py:58: FutureWarning: The current default of copy=False will change to copy=True in 1.7. Set the value of copy explicitly to avoid this warning\n",
      "  for epoch_values in dados['151','152','153','154','161','162','163','164'].get_data():\n",
      "C:\\Users\\User\\AppData\\Local\\Temp\\ipykernel_6440\\2512055576.py:29: RuntimeWarning: At least one epoch has multiple events. Only the latency of the first event will be retained.\n",
      "  dados = mne.read_epochs_eeglab(path_)\n"
     ]
    },
    {
     "name": "stdout",
     "output_type": "stream",
     "text": [
      "Not setting metadata\n",
      "37 matching events found\n",
      "No baseline correction applied\n",
      "0 projection items activated\n",
      "Ready.\n"
     ]
    },
    {
     "name": "stderr",
     "output_type": "stream",
     "text": [
      "C:\\Users\\User\\AppData\\Local\\Temp\\ipykernel_6440\\2512055576.py:35: FutureWarning: The current default of copy=False will change to copy=True in 1.7. Set the value of copy explicitly to avoid this warning\n",
      "  Corr_labels = int(len(dados['150','160'].get_data()))\n",
      "C:\\Users\\User\\AppData\\Local\\Temp\\ipykernel_6440\\2512055576.py:39: FutureWarning: The current default of copy=False will change to copy=True in 1.7. Set the value of copy explicitly to avoid this warning\n",
      "  Err_labels = int(len(dados['151','152','153','154','161','162','163','164'].get_data()))\n",
      "C:\\Users\\User\\AppData\\Local\\Temp\\ipykernel_6440\\2512055576.py:49: FutureWarning: The current default of copy=False will change to copy=True in 1.7. Set the value of copy explicitly to avoid this warning\n",
      "  for epoch_values in dados['150','160'].get_data():\n",
      "C:\\Users\\User\\AppData\\Local\\Temp\\ipykernel_6440\\2512055576.py:58: FutureWarning: The current default of copy=False will change to copy=True in 1.7. Set the value of copy explicitly to avoid this warning\n",
      "  for epoch_values in dados['151','152','153','154','161','162','163','164'].get_data():\n"
     ]
    },
    {
     "name": "stdout",
     "output_type": "stream",
     "text": [
      "Extracting parameters from c:\\Users\\User\\Documents\\GitHub\\Tese\\Dataset2\\P21\\P21_4.set...\n",
      "Not setting metadata\n",
      "41 matching events found\n",
      "No baseline correction applied\n",
      "0 projection items activated\n",
      "Ready.\n"
     ]
    },
    {
     "name": "stderr",
     "output_type": "stream",
     "text": [
      "C:\\Users\\User\\AppData\\Local\\Temp\\ipykernel_6440\\2512055576.py:29: RuntimeWarning: At least one epoch has multiple events. Only the latency of the first event will be retained.\n",
      "  dados = mne.read_epochs_eeglab(path_)\n",
      "C:\\Users\\User\\AppData\\Local\\Temp\\ipykernel_6440\\2512055576.py:35: FutureWarning: The current default of copy=False will change to copy=True in 1.7. Set the value of copy explicitly to avoid this warning\n",
      "  Corr_labels = int(len(dados['150','160'].get_data()))\n",
      "C:\\Users\\User\\AppData\\Local\\Temp\\ipykernel_6440\\2512055576.py:39: FutureWarning: The current default of copy=False will change to copy=True in 1.7. Set the value of copy explicitly to avoid this warning\n",
      "  Err_labels = int(len(dados['151','152','153','154','161','162','163','164'].get_data()))\n",
      "C:\\Users\\User\\AppData\\Local\\Temp\\ipykernel_6440\\2512055576.py:49: FutureWarning: The current default of copy=False will change to copy=True in 1.7. Set the value of copy explicitly to avoid this warning\n",
      "  for epoch_values in dados['150','160'].get_data():\n"
     ]
    },
    {
     "name": "stdout",
     "output_type": "stream",
     "text": [
      "Extracting parameters from c:\\Users\\User\\Documents\\GitHub\\Tese\\Dataset2\\P22\\P22_1.set...\n"
     ]
    },
    {
     "name": "stderr",
     "output_type": "stream",
     "text": [
      "C:\\Users\\User\\AppData\\Local\\Temp\\ipykernel_6440\\2512055576.py:58: FutureWarning: The current default of copy=False will change to copy=True in 1.7. Set the value of copy explicitly to avoid this warning\n",
      "  for epoch_values in dados['151','152','153','154','161','162','163','164'].get_data():\n",
      "C:\\Users\\User\\AppData\\Local\\Temp\\ipykernel_6440\\2512055576.py:29: RuntimeWarning: At least one epoch has multiple events. Only the latency of the first event will be retained.\n",
      "  dados = mne.read_epochs_eeglab(path_)\n"
     ]
    },
    {
     "name": "stdout",
     "output_type": "stream",
     "text": [
      "Not setting metadata\n",
      "79 matching events found\n",
      "No baseline correction applied\n",
      "0 projection items activated\n",
      "Ready.\n"
     ]
    },
    {
     "name": "stderr",
     "output_type": "stream",
     "text": [
      "C:\\Users\\User\\AppData\\Local\\Temp\\ipykernel_6440\\2512055576.py:35: FutureWarning: The current default of copy=False will change to copy=True in 1.7. Set the value of copy explicitly to avoid this warning\n",
      "  Corr_labels = int(len(dados['150','160'].get_data()))\n",
      "C:\\Users\\User\\AppData\\Local\\Temp\\ipykernel_6440\\2512055576.py:39: FutureWarning: The current default of copy=False will change to copy=True in 1.7. Set the value of copy explicitly to avoid this warning\n",
      "  Err_labels = int(len(dados['151','152','153','154','161','162','163','164'].get_data()))\n",
      "C:\\Users\\User\\AppData\\Local\\Temp\\ipykernel_6440\\2512055576.py:49: FutureWarning: The current default of copy=False will change to copy=True in 1.7. Set the value of copy explicitly to avoid this warning\n",
      "  for epoch_values in dados['150','160'].get_data():\n"
     ]
    },
    {
     "name": "stdout",
     "output_type": "stream",
     "text": [
      "Extracting parameters from c:\\Users\\User\\Documents\\GitHub\\Tese\\Dataset2\\P22\\P22_2.set...\n"
     ]
    },
    {
     "name": "stderr",
     "output_type": "stream",
     "text": [
      "C:\\Users\\User\\AppData\\Local\\Temp\\ipykernel_6440\\2512055576.py:58: FutureWarning: The current default of copy=False will change to copy=True in 1.7. Set the value of copy explicitly to avoid this warning\n",
      "  for epoch_values in dados['151','152','153','154','161','162','163','164'].get_data():\n",
      "C:\\Users\\User\\AppData\\Local\\Temp\\ipykernel_6440\\2512055576.py:29: RuntimeWarning: At least one epoch has multiple events. Only the latency of the first event will be retained.\n",
      "  dados = mne.read_epochs_eeglab(path_)\n"
     ]
    },
    {
     "name": "stdout",
     "output_type": "stream",
     "text": [
      "Not setting metadata\n",
      "78 matching events found\n",
      "No baseline correction applied\n",
      "0 projection items activated\n",
      "Ready.\n"
     ]
    },
    {
     "name": "stderr",
     "output_type": "stream",
     "text": [
      "C:\\Users\\User\\AppData\\Local\\Temp\\ipykernel_6440\\2512055576.py:35: FutureWarning: The current default of copy=False will change to copy=True in 1.7. Set the value of copy explicitly to avoid this warning\n",
      "  Corr_labels = int(len(dados['150','160'].get_data()))\n",
      "C:\\Users\\User\\AppData\\Local\\Temp\\ipykernel_6440\\2512055576.py:39: FutureWarning: The current default of copy=False will change to copy=True in 1.7. Set the value of copy explicitly to avoid this warning\n",
      "  Err_labels = int(len(dados['151','152','153','154','161','162','163','164'].get_data()))\n",
      "C:\\Users\\User\\AppData\\Local\\Temp\\ipykernel_6440\\2512055576.py:49: FutureWarning: The current default of copy=False will change to copy=True in 1.7. Set the value of copy explicitly to avoid this warning\n",
      "  for epoch_values in dados['150','160'].get_data():\n"
     ]
    },
    {
     "name": "stdout",
     "output_type": "stream",
     "text": [
      "Extracting parameters from c:\\Users\\User\\Documents\\GitHub\\Tese\\Dataset2\\P22\\P22_3.set...\n"
     ]
    },
    {
     "name": "stderr",
     "output_type": "stream",
     "text": [
      "C:\\Users\\User\\AppData\\Local\\Temp\\ipykernel_6440\\2512055576.py:58: FutureWarning: The current default of copy=False will change to copy=True in 1.7. Set the value of copy explicitly to avoid this warning\n",
      "  for epoch_values in dados['151','152','153','154','161','162','163','164'].get_data():\n",
      "C:\\Users\\User\\AppData\\Local\\Temp\\ipykernel_6440\\2512055576.py:29: RuntimeWarning: At least one epoch has multiple events. Only the latency of the first event will be retained.\n",
      "  dados = mne.read_epochs_eeglab(path_)\n"
     ]
    },
    {
     "name": "stdout",
     "output_type": "stream",
     "text": [
      "Not setting metadata\n",
      "80 matching events found\n",
      "No baseline correction applied\n",
      "0 projection items activated\n",
      "Ready.\n"
     ]
    },
    {
     "name": "stderr",
     "output_type": "stream",
     "text": [
      "C:\\Users\\User\\AppData\\Local\\Temp\\ipykernel_6440\\2512055576.py:35: FutureWarning: The current default of copy=False will change to copy=True in 1.7. Set the value of copy explicitly to avoid this warning\n",
      "  Corr_labels = int(len(dados['150','160'].get_data()))\n",
      "C:\\Users\\User\\AppData\\Local\\Temp\\ipykernel_6440\\2512055576.py:39: FutureWarning: The current default of copy=False will change to copy=True in 1.7. Set the value of copy explicitly to avoid this warning\n",
      "  Err_labels = int(len(dados['151','152','153','154','161','162','163','164'].get_data()))\n",
      "C:\\Users\\User\\AppData\\Local\\Temp\\ipykernel_6440\\2512055576.py:49: FutureWarning: The current default of copy=False will change to copy=True in 1.7. Set the value of copy explicitly to avoid this warning\n",
      "  for epoch_values in dados['150','160'].get_data():\n"
     ]
    },
    {
     "name": "stdout",
     "output_type": "stream",
     "text": [
      "Extracting parameters from c:\\Users\\User\\Documents\\GitHub\\Tese\\Dataset2\\P22\\P22_4.set...\n"
     ]
    },
    {
     "name": "stderr",
     "output_type": "stream",
     "text": [
      "C:\\Users\\User\\AppData\\Local\\Temp\\ipykernel_6440\\2512055576.py:58: FutureWarning: The current default of copy=False will change to copy=True in 1.7. Set the value of copy explicitly to avoid this warning\n",
      "  for epoch_values in dados['151','152','153','154','161','162','163','164'].get_data():\n",
      "C:\\Users\\User\\AppData\\Local\\Temp\\ipykernel_6440\\2512055576.py:29: RuntimeWarning: At least one epoch has multiple events. Only the latency of the first event will be retained.\n",
      "  dados = mne.read_epochs_eeglab(path_)\n"
     ]
    },
    {
     "name": "stdout",
     "output_type": "stream",
     "text": [
      "Not setting metadata\n",
      "80 matching events found\n",
      "No baseline correction applied\n",
      "0 projection items activated\n",
      "Ready.\n"
     ]
    },
    {
     "name": "stderr",
     "output_type": "stream",
     "text": [
      "C:\\Users\\User\\AppData\\Local\\Temp\\ipykernel_6440\\2512055576.py:35: FutureWarning: The current default of copy=False will change to copy=True in 1.7. Set the value of copy explicitly to avoid this warning\n",
      "  Corr_labels = int(len(dados['150','160'].get_data()))\n",
      "C:\\Users\\User\\AppData\\Local\\Temp\\ipykernel_6440\\2512055576.py:39: FutureWarning: The current default of copy=False will change to copy=True in 1.7. Set the value of copy explicitly to avoid this warning\n",
      "  Err_labels = int(len(dados['151','152','153','154','161','162','163','164'].get_data()))\n",
      "C:\\Users\\User\\AppData\\Local\\Temp\\ipykernel_6440\\2512055576.py:49: FutureWarning: The current default of copy=False will change to copy=True in 1.7. Set the value of copy explicitly to avoid this warning\n",
      "  for epoch_values in dados['150','160'].get_data():\n",
      "C:\\Users\\User\\AppData\\Local\\Temp\\ipykernel_6440\\2512055576.py:58: FutureWarning: The current default of copy=False will change to copy=True in 1.7. Set the value of copy explicitly to avoid this warning\n",
      "  for epoch_values in dados['151','152','153','154','161','162','163','164'].get_data():\n"
     ]
    }
   ],
   "source": [
    "import os\n",
    "import numpy as np\n",
    "import mne\n",
    "import matplotlib.pyplot as plt\n",
    "import src.functions as src\n",
    "\n",
    "fs=500\n",
    "freq_bands={'delta' : [0,4],\n",
    "            'theta' : [4,8],\n",
    "            'alpha' : [8, 13],\n",
    "            'beta' : [13,35],\n",
    "            'high' : [35, 45],\n",
    "            'all': [1.5,45],\n",
    "            'low': [1.5,12]}\n",
    "\n",
    "data={}\n",
    "labels={}\n",
    "path='Dataset2'\n",
    "for files in os.listdir(path):\n",
    "    folders=os.path.join(path,files)\n",
    "    file=[item for item in os.listdir(folders) if item.endswith('set')]\n",
    "#--------------------------------------------------------------------------\n",
    "    i=0\n",
    "    label=[]\n",
    "    while i!=4:\n",
    "        for file_index, file_name in enumerate(file):\n",
    "            i=i+1\n",
    "            path_ = os.path.join( folders, file_name )\n",
    "            dados = mne.read_epochs_eeglab(path_)\n",
    "            channel_names = dados.info['ch_names']\n",
    "            subject_id = file_name[:3]\n",
    "            \n",
    "            # Extract labels\n",
    "            try:\n",
    "                Corr_labels = int(len(dados['150','160'].get_data()))\n",
    "            except:\n",
    "                Corr_labels=0\n",
    "            try:\n",
    "                Err_labels = int(len(dados['151','152','153','154','161','162','163','164'].get_data()))\n",
    "            except:\n",
    "                Err_labels=0\n",
    "            label.append(np.array([0] * Corr_labels + [1] * Err_labels))\n",
    "           \n",
    "    #--------------------------------------------------------------------------    \n",
    "            # Initialize channel data dictionary\n",
    "            channel_data = {}\n",
    "            data_channel=[]\n",
    "            try:\n",
    "                for epoch_values in dados['150','160'].get_data():\n",
    "                    for channel_index, channel_values in enumerate(epoch_values):\n",
    "                        channel_name = channel_names[channel_index]\n",
    "                        if channel_name not in channel_data:\n",
    "                            channel_data[channel_name] = []\n",
    "                        channel_data[channel_name].append(list(channel_values))\n",
    "            except:\n",
    "                pass\n",
    "            try:\n",
    "                for epoch_values in dados['151','152','153','154','161','162','163','164'].get_data():\n",
    "                    for channel_index, channel_values in enumerate(epoch_values):\n",
    "                        channel_name = channel_names[channel_index]\n",
    "                        if channel_name not in channel_data:\n",
    "                            channel_data[channel_name] = []\n",
    "                        channel_data[channel_name].append(list(channel_values))\n",
    "            except:\n",
    "                pass\n",
    "            \n",
    "            data[file_name] = channel_data\n",
    "        labels[subject_id] = np.concatenate(label)\n",
    "\n",
    "#--------------------------------------------------------------------------\n",
    "\n",
    "rearranged_data = {}\n",
    "\n",
    "# Iterate through each file in data2\n",
    "for file_name, channel_data in data.items():\n",
    "    # Extract the subject ID from the file name\n",
    "    subject_id = file_name.split('_')[0]\n",
    "    \n",
    "    # Initialize the subject in the rearranged_data dictionary if not already present\n",
    "    if subject_id not in rearranged_data:\n",
    "        rearranged_data[subject_id] = {}\n",
    "    \n",
    "    # Iterate through each channel in the current file\n",
    "    for channel, data in channel_data.items():\n",
    "        # Initialize the channel in the subject's dictionary if not already present\n",
    "        if channel not in rearranged_data[subject_id]:\n",
    "            rearranged_data[subject_id][channel] = []\n",
    "        \n",
    "        # Append the current file's data for the channel to the subject's channel data\n",
    "        rearranged_data[subject_id][channel].append(data)\n",
    "\n",
    "# Combine the data from different files of the same subject for each channel\n",
    "for subject_id, channels in rearranged_data.items():\n",
    "    for channel, data_list in channels.items():\n",
    "        # Flatten the list of data arrays into a single list or concatenate them\n",
    "        # Here we assume each data is a list or array; if not, adjust accordingly\n",
    "        combined_data = []\n",
    "        for data in data_list:\n",
    "            combined_data.extend(data)\n",
    "        rearranged_data[subject_id][channel] = combined_data\n",
    "\n",
    "# Now rearranged_data is in the desired format\n",
    "# You can print or further process the rearranged_data as needed\n",
    "\n",
    "data=rearranged_data\n"
   ]
  },
  {
   "cell_type": "code",
   "execution_count": 12,
   "metadata": {},
   "outputs": [
    {
     "name": "stdout",
     "output_type": "stream",
     "text": [
      "4749\n",
      "974\n"
     ]
    }
   ],
   "source": [
    "a=[]\n",
    "b=[]\n",
    "for subject_id in labels.keys():\n",
    "    for i in labels[subject_id]:\n",
    "        if i==0:\n",
    "            a.append(i)\n",
    "        elif i==1:\n",
    "            b.append(i)\n",
    "print(len(a))\n",
    "print(len(b))"
   ]
  },
  {
   "cell_type": "code",
   "execution_count": 8,
   "metadata": {},
   "outputs": [],
   "source": [
    "def data_pre_post(data):\n",
    "    pre_response={}\n",
    "    post_response={}\n",
    "    for subject_id, dados in data.items():\n",
    "        channel_data_pre={}\n",
    "        channel_data_post={}\n",
    "        for channel_name, values in dados.items():\n",
    "            values_pre=[]\n",
    "            values_post=[]\n",
    "            for i in range(len(values)):\n",
    "                \n",
    "                index= int(len(values[i])/2)\n",
    "                values_pre.append(values[i][0:index])\n",
    "                values_post.append(values[i][index:-1])\n",
    "            channel_data_pre[channel_name]= values_pre\n",
    "            channel_data_post[channel_name]= values_post\n",
    "            \n",
    "        pre_response[subject_id] = channel_data_pre #(14,60,n_events,250)\n",
    "        post_response[subject_id] = channel_data_post\n",
    "    return pre_response, post_response\n",
    "\n",
    "pre_response, post_response = data_pre_post(data)"
   ]
  },
  {
   "cell_type": "code",
   "execution_count": 9,
   "metadata": {},
   "outputs": [],
   "source": [
    "f_pre,S_pre= src.getpsd(pre_response,fs)    # S_pre ->(14,60,n_events,n_points)\n",
    "f_post,S_post= src.getpsd(post_response,fs)"
   ]
  },
  {
   "cell_type": "code",
   "execution_count": 10,
   "metadata": {},
   "outputs": [],
   "source": [
    "pre_data_per_channel= src.getdataperchannel(S_pre) #(subject_id,60,n_events,n_points)\n",
    "post_data_per_channel= src.getdataperchannel(S_post)"
   ]
  },
  {
   "cell_type": "markdown",
   "metadata": {},
   "source": [
    "### FCZ Cluster Features"
   ]
  },
  {
   "cell_type": "code",
   "execution_count": 15,
   "metadata": {},
   "outputs": [],
   "source": [
    "data1= src.feature('fcz_features','.','.','theta','all',post_data_per_channel,post_data_per_channel,freq_bands,f_post, f_post)\n",
    "data2= src.feature('fcz_features','.','.','theta','high',post_data_per_channel,post_data_per_channel,freq_bands,f_post,f_post)\n",
    "data3= src.feature('fcz_features','.','.','theta','all',pre_data_per_channel,pre_data_per_channel,freq_bands,f_pre,f_pre)\n",
    "data4= src.feature('fcz_features','.','.','theta','high',pre_data_per_channel,pre_data_per_channel,freq_bands,f_pre,f_pre)\n",
    "data5= src.feature('fcz_features','.','.','theta','other',post_data_per_channel,post_data_per_channel,freq_bands,f_post,f_post)\n",
    "data6= src.feature('fcz_features','.','.','theta','other',pre_data_per_channel,pre_data_per_channel,freq_bands,f_pre,f_pre)\n",
    "data7= src.feature('fcz_features','.','.','theta','theta',post_data_per_channel,pre_data_per_channel,freq_bands,f_post,f_pre)"
   ]
  },
  {
   "cell_type": "markdown",
   "metadata": {},
   "source": [
    "### All Features"
   ]
  },
  {
   "cell_type": "code",
   "execution_count": 42,
   "metadata": {},
   "outputs": [],
   "source": [
    "data8={}\n",
    "data9={}\n",
    "data10={}\n",
    "data11={}\n",
    "data12={}\n",
    "data13={}\n",
    "data14={}\n",
    "data15={}\n",
    "data16={}\n",
    "for channel_name in post_data_per_channel['P01'].keys():    \n",
    "    feature8= src.extend_list(src.feature('all_features',channel_name,channel_name,'theta','all',post_data_per_channel,post_data_per_channel,freq_bands,f_post,f_post))\n",
    "    feature9= src.extend_list(src.feature('all_features',channel_name,channel_name,'theta','high',post_data_per_channel,post_data_per_channel,freq_bands,f_post,f_post))\n",
    "    feature10= src.extend_list(src.feature('all_features',channel_name,channel_name,'theta','all',pre_data_per_channel,pre_data_per_channel,freq_bands,f_pre,f_pre))\n",
    "    feature11= src.extend_list(src.feature('all_features',channel_name,channel_name,'theta','high',pre_data_per_channel,pre_data_per_channel,freq_bands,f_pre,f_pre))\n",
    "    feature12= src.extend_list(src.feature('all_features',channel_name,channel_name,'theta','theta',post_data_per_channel,pre_data_per_channel,freq_bands,f_post,f_pre))\n",
    "    feature13= src.extend_list(src.feature('all_features',channel_name,channel_name,'theta','delta',post_data_per_channel,post_data_per_channel,freq_bands,f_post,f_post))\n",
    "    feature14= src.extend_list(src.feature('all_features',channel_name,channel_name,'theta','alpha',post_data_per_channel,post_data_per_channel,freq_bands,f_post,f_post))\n",
    "    feature15= src.extend_list(src.feature('all_features',channel_name,channel_name,'theta','delta',pre_data_per_channel,pre_data_per_channel,freq_bands,f_pre,f_pre))\n",
    "    feature16= src.extend_list(src.feature('all_features',channel_name,channel_name,'theta','alpha',pre_data_per_channel,pre_data_per_channel,freq_bands,f_pre,f_pre))\n",
    "    data8[channel_name]=feature8\n",
    "    data9[channel_name]=feature9\n",
    "    data10[channel_name]=feature10\n",
    "    data11[channel_name]=feature11\n",
    "    data12[channel_name]=feature12\n",
    "    data13[channel_name]=feature13\n",
    "    data14[channel_name]=feature14\n",
    "    data15[channel_name]=feature15\n",
    "    data16[channel_name]=feature16\n"
   ]
  },
  {
   "cell_type": "markdown",
   "metadata": {},
   "source": [
    "### Midfrontal Features"
   ]
  },
  {
   "cell_type": "code",
   "execution_count": 43,
   "metadata": {},
   "outputs": [],
   "source": [
    "data17={}\n",
    "data18={}\n",
    "for channel_name in post_data_per_channel['P01'].keys():\n",
    "    feature17= src.extend_list(src.feature('midfrontal_features',channel_name,channel_name,'theta','other',post_data_per_channel,post_data_per_channel,freq_bands,f_post,f_post))\n",
    "    feature18= src.extend_list(src.feature('midfrontal_features',channel_name,channel_name,'theta','other',pre_data_per_channel,pre_data_per_channel,freq_bands,f_pre,f_pre))\n",
    "    data17[channel_name]=feature17\n",
    "    data18[channel_name]=feature18"
   ]
  },
  {
   "cell_type": "markdown",
   "metadata": {},
   "source": [
    "### Low Features"
   ]
  },
  {
   "cell_type": "code",
   "execution_count": 51,
   "metadata": {},
   "outputs": [],
   "source": [
    "data19={}\n",
    "data20={}\n",
    "data21={}\n",
    "data22={}\n",
    "data23={}\n",
    "data24={}\n",
    "data25={}\n",
    "data26={}\n",
    "data27={}\n",
    "data28={}\n",
    "data29={}\n",
    "data30={}\n",
    "for channel_name in post_data_per_channel[subject_id].keys():        \n",
    "    \n",
    "    feature19= src.extend_list(src.feature('low_features',channel_name,channel_name,'delta','all',post_data_per_channel,post_data_per_channel,freq_bands,f_post,f_post))\n",
    "    feature20= src.extend_list(src.feature('low_features',channel_name,channel_name,'alpha','all',post_data_per_channel,post_data_per_channel,freq_bands,f_post,f_post))\n",
    "    feature21= src.extend_list(src.feature('low_features',channel_name,channel_name,'low','all',post_data_per_channel,post_data_per_channel,freq_bands,f_post,f_post))\n",
    "    feature22= src.extend_list(src.feature('low_features',channel_name,channel_name,'delta','high',post_data_per_channel,post_data_per_channel,freq_bands,f_post,f_post))\n",
    "    feature23= src.extend_list(src.feature('low_features',channel_name,channel_name,'alpha','high',post_data_per_channel,post_data_per_channel,freq_bands,f_post,f_post))\n",
    "    feature24= src.extend_list(src.feature('low_features',channel_name,channel_name,'low','high',post_data_per_channel,post_data_per_channel,freq_bands,f_post,f_post))\n",
    "    feature25= src.extend_list(src.feature('low_features',channel_name,channel_name,'delta','all',pre_data_per_channel,pre_data_per_channel,freq_bands,f_pre,f_pre))\n",
    "    feature26= src.extend_list(src.feature('low_features',channel_name,channel_name,'alpha','all',pre_data_per_channel,pre_data_per_channel,freq_bands,f_pre,f_pre))\n",
    "    feature27= src.extend_list(src.feature('low_features',channel_name,channel_name,'low','all',pre_data_per_channel,pre_data_per_channel,freq_bands,f_pre,f_pre))\n",
    "    feature28= src.extend_list(src.feature('low_features',channel_name,channel_name,'delta','high',pre_data_per_channel,pre_data_per_channel,freq_bands,f_pre,f_pre))\n",
    "    feature29= src.extend_list(src.feature('low_features',channel_name,channel_name,'alpha','high',pre_data_per_channel,pre_data_per_channel,freq_bands,f_pre,f_pre))\n",
    "    feature30= src.extend_list(src.feature('low_features',channel_name,channel_name,'low','high',pre_data_per_channel,pre_data_per_channel,freq_bands,f_pre,f_pre))\n",
    "    data19[channel_name]=feature19\n",
    "    data20[channel_name]=feature20\n",
    "    data21[channel_name]=feature21\n",
    "    data22[channel_name]=feature22\n",
    "    data23[channel_name]=feature23\n",
    "    data24[channel_name]=feature24\n",
    "    data25[channel_name]=feature25\n",
    "    data26[channel_name]=feature26\n",
    "    data27[channel_name]=feature27\n",
    "    data28[channel_name]=feature28\n",
    "    data29[channel_name]=feature29\n",
    "    data30[channel_name]=feature30"
   ]
  },
  {
   "cell_type": "markdown",
   "metadata": {},
   "source": [
    "### Temporal Features"
   ]
  },
  {
   "cell_type": "code",
   "execution_count": 52,
   "metadata": {},
   "outputs": [],
   "source": [
    "data31={}\n",
    "data32={}\n",
    "FCZ_Cluster=['FZ','FC1','FCZ','FC2','CZ']\n",
    "PE_Cluster=['CPZ','P1','PZ','P2','POZ']\n",
    "for subject_id,values in post_response.items():\n",
    "    mean_all70_160_values = []\n",
    "    mean_all200_500_values = []\n",
    "    for i in range(len(next(iter(values.values())))):\n",
    "        all70_160_values = []\n",
    "        all200_500_values = []\n",
    "        for channel_name, channel_values in values.items():   \n",
    "            if channel_name in FCZ_Cluster:         \n",
    "                all70_160_values.append(np.mean(channel_values[i][35:81]))\n",
    "            elif channel_name in PE_Cluster:\n",
    "                all200_500_values.append(np.mean(channel_values[i][100:-1]))\n",
    "            else:\n",
    "                continue\n",
    "\n",
    "        mean_all70_160_values.append(np.mean(all70_160_values))\n",
    "        mean_all200_500_values.append(np.mean(all200_500_values))\n",
    "    data31[subject_id]= mean_all70_160_values\n",
    "    data32[subject_id]= mean_all200_500_values\n",
    "\n",
    "data31=src.extend_list(data31)\n",
    "data32=src.extend_list(data32)"
   ]
  },
  {
   "cell_type": "code",
   "execution_count": null,
   "metadata": {},
   "outputs": [],
   "source": [
    "data33 = {}\n",
    "data34 = {}\n",
    "# Iterate over each subject in the pre_response2 dictionary\n",
    "for subject_id, values in pre_response.items():\n",
    "    # Iterate over each channel in the subject's data\n",
    "    for channel_name, channel_values in values.items():\n",
    "        # If the channel is not yet in the feature dictionaries, initialize it\n",
    "        if channel_name not in data33:\n",
    "            data33[channel_name] = []\n",
    "        if channel_name not in data34:\n",
    "            data34[channel_name] = []\n",
    "        \n",
    "        # Iterate over each event in the channel values\n",
    "        for i in range(len(channel_values)):\n",
    "            # Calculate the mean values for the specified ranges\n",
    "            mean_500_250 = np.mean(channel_values[i][0:126])\n",
    "            mean_250_0 = np.mean(channel_values[i][125:-1])\n",
    "            \n",
    "            # Append the mean values to the corresponding channel's list in the feature dictionaries\n",
    "            data33[channel_name].append(mean_500_250)\n",
    "            data34[channel_name].append(mean_250_0)\n"
   ]
  },
  {
   "cell_type": "code",
   "execution_count": 84,
   "metadata": {},
   "outputs": [],
   "source": [
    "data35 = {}\n",
    "data36 = {}\n",
    "# Iterate over each subject in the pre_response2 dictionary\n",
    "for subject_id, values in post_response.items():\n",
    "    # Iterate over each channel in the subject's data\n",
    "    for channel_name, channel_values in values.items():\n",
    "        # If the channel is not yet in the feature dictionaries, initialize it\n",
    "        if channel_name not in data35:\n",
    "            data35[channel_name] = []\n",
    "        if channel_name not in data36:\n",
    "            data36[channel_name] = []\n",
    "        \n",
    "        # Iterate over each event in the channel values\n",
    "        for i in range(len(channel_values)):\n",
    "            # Calculate the mean values for the specified ranges\n",
    "            mean_0_250 = np.mean(channel_values[i][0:126])\n",
    "            mean_250_500 = np.mean(channel_values[i][125:-1])\n",
    "            \n",
    "            # Append the mean values to the corresponding channel's list in the feature dictionaries\n",
    "            data35[channel_name].append(mean_0_250)\n",
    "            data36[channel_name].append(mean_250_500)\n"
   ]
  },
  {
   "cell_type": "markdown",
   "metadata": {},
   "source": [
    "### Saving Features"
   ]
  },
  {
   "cell_type": "code",
   "execution_count": null,
   "metadata": {},
   "outputs": [],
   "source": [
    "import pandas as pd\n",
    "\n",
    "dicts=[]\n",
    "for feature_index in range(1,37):\n",
    "    feature_corr_key = 'data{}'.format(feature_index)\n",
    "    dicts.append(globals()[feature_corr_key])\n",
    "\n",
    "\n",
    "\n",
    "combined_df = pd.DataFrame()\n",
    "# Iterate through each dictionary and its index\n",
    "for index, feature_dict in enumerate(dicts, start=1):\n",
    "    # Convert the dictionary to a DataFrame\n",
    "    df = pd.DataFrame(feature_dict)\n",
    "    # Rename the columns to include the iteration number\n",
    "    df.columns = [f'{index}_{col}' for col in df.columns]\n",
    "    # Concatenate the DataFrame to the combined DataFrame\n",
    "    combined_df = pd.concat([combined_df, df], axis=1)\n",
    "combined_df['labels'] = src.extend_list(labels)\n",
    "combined_df.to_csv('dataset2_features.csv', index=False)"
   ]
  }
 ],
 "metadata": {
  "kernelspec": {
   "display_name": "Python 3",
   "language": "python",
   "name": "python3"
  },
  "language_info": {
   "codemirror_mode": {
    "name": "ipython",
    "version": 3
   },
   "file_extension": ".py",
   "mimetype": "text/x-python",
   "name": "python",
   "nbconvert_exporter": "python",
   "pygments_lexer": "ipython3",
   "version": "3.11.9"
  }
 },
 "nbformat": 4,
 "nbformat_minor": 2
}
