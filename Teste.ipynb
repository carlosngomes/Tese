{
 "cells": [
  {
   "cell_type": "code",
   "execution_count": 1,
   "metadata": {},
   "outputs": [],
   "source": [
    "import os\n",
    "import numpy as np\n",
    "import mne\n",
    "import matplotlib.pyplot as plt\n",
    "import src.functions as src\n",
    "\n",
    "fs=500\n",
    "freq_bands={'delta' : [0,4],\n",
    "            'theta' : [4,8],\n",
    "            'alpha' : [8, 13],\n",
    "            'beta' : [13,35],\n",
    "            'high' : [35, 45],\n",
    "            'all': [1.5,45],\n",
    "            'low': [1.5,12]}"
   ]
  },
  {
   "cell_type": "code",
   "execution_count": 2,
   "metadata": {},
   "outputs": [
    {
     "name": "stdout",
     "output_type": "stream",
     "text": [
      "Extracting parameters from c:\\Users\\User\\Documents\\GitHub\\Tese\\data\\P01.set...\n",
      "Not setting metadata\n",
      "228 matching events found\n"
     ]
    },
    {
     "name": "stderr",
     "output_type": "stream",
     "text": [
      "C:\\Users\\User\\AppData\\Local\\Temp\\ipykernel_25088\\4177093607.py:7: RuntimeWarning: At least one epoch has multiple events. Only the latency of the first event will be retained.\n",
      "  dados = mne.read_epochs_eeglab(path_)\n"
     ]
    },
    {
     "name": "stdout",
     "output_type": "stream",
     "text": [
      "No baseline correction applied\n",
      "0 projection items activated\n",
      "Ready.\n"
     ]
    },
    {
     "name": "stderr",
     "output_type": "stream",
     "text": [
      "C:\\Users\\User\\AppData\\Local\\Temp\\ipykernel_25088\\4177093607.py:12: FutureWarning: The current default of copy=False will change to copy=True in 1.7. Set the value of copy explicitly to avoid this warning\n",
      "  proCorr_antiCorr_labels = len(dados['proCorr','antiCorr'].get_data())\n",
      "C:\\Users\\User\\AppData\\Local\\Temp\\ipykernel_25088\\4177093607.py:13: FutureWarning: The current default of copy=False will change to copy=True in 1.7. Set the value of copy explicitly to avoid this warning\n",
      "  proErr_antiErr_nogoErr_labels = len(dados['proErr','antiErr','nogoErr'].get_data())\n",
      "C:\\Users\\User\\AppData\\Local\\Temp\\ipykernel_25088\\4177093607.py:20: FutureWarning: The current default of copy=False will change to copy=True in 1.7. Set the value of copy explicitly to avoid this warning\n",
      "  for epoch_values in dados['proCorr','antiCorr'].get_data():\n"
     ]
    },
    {
     "name": "stdout",
     "output_type": "stream",
     "text": [
      "Extracting parameters from c:\\Users\\User\\Documents\\GitHub\\Tese\\data\\P02.set...\n"
     ]
    },
    {
     "name": "stderr",
     "output_type": "stream",
     "text": [
      "C:\\Users\\User\\AppData\\Local\\Temp\\ipykernel_25088\\4177093607.py:28: FutureWarning: The current default of copy=False will change to copy=True in 1.7. Set the value of copy explicitly to avoid this warning\n",
      "  for epoch_values in dados['proErr','antiErr','nogoErr'].get_data():\n",
      "C:\\Users\\User\\AppData\\Local\\Temp\\ipykernel_25088\\4177093607.py:7: RuntimeWarning: At least one epoch has multiple events. Only the latency of the first event will be retained.\n",
      "  dados = mne.read_epochs_eeglab(path_)\n"
     ]
    },
    {
     "name": "stdout",
     "output_type": "stream",
     "text": [
      "Not setting metadata\n",
      "207 matching events found\n",
      "No baseline correction applied\n",
      "0 projection items activated\n",
      "Ready.\n"
     ]
    },
    {
     "name": "stderr",
     "output_type": "stream",
     "text": [
      "C:\\Users\\User\\AppData\\Local\\Temp\\ipykernel_25088\\4177093607.py:12: FutureWarning: The current default of copy=False will change to copy=True in 1.7. Set the value of copy explicitly to avoid this warning\n",
      "  proCorr_antiCorr_labels = len(dados['proCorr','antiCorr'].get_data())\n",
      "C:\\Users\\User\\AppData\\Local\\Temp\\ipykernel_25088\\4177093607.py:13: FutureWarning: The current default of copy=False will change to copy=True in 1.7. Set the value of copy explicitly to avoid this warning\n",
      "  proErr_antiErr_nogoErr_labels = len(dados['proErr','antiErr','nogoErr'].get_data())\n",
      "C:\\Users\\User\\AppData\\Local\\Temp\\ipykernel_25088\\4177093607.py:20: FutureWarning: The current default of copy=False will change to copy=True in 1.7. Set the value of copy explicitly to avoid this warning\n",
      "  for epoch_values in dados['proCorr','antiCorr'].get_data():\n"
     ]
    },
    {
     "name": "stdout",
     "output_type": "stream",
     "text": [
      "Extracting parameters from c:\\Users\\User\\Documents\\GitHub\\Tese\\data\\P03.set...\n",
      "Not setting metadata\n",
      "170 matching events found\n",
      "No baseline correction applied\n"
     ]
    },
    {
     "name": "stderr",
     "output_type": "stream",
     "text": [
      "C:\\Users\\User\\AppData\\Local\\Temp\\ipykernel_25088\\4177093607.py:28: FutureWarning: The current default of copy=False will change to copy=True in 1.7. Set the value of copy explicitly to avoid this warning\n",
      "  for epoch_values in dados['proErr','antiErr','nogoErr'].get_data():\n",
      "C:\\Users\\User\\AppData\\Local\\Temp\\ipykernel_25088\\4177093607.py:7: RuntimeWarning: At least one epoch has multiple events. Only the latency of the first event will be retained.\n",
      "  dados = mne.read_epochs_eeglab(path_)\n"
     ]
    },
    {
     "name": "stdout",
     "output_type": "stream",
     "text": [
      "0 projection items activated\n",
      "Ready.\n"
     ]
    },
    {
     "name": "stderr",
     "output_type": "stream",
     "text": [
      "C:\\Users\\User\\AppData\\Local\\Temp\\ipykernel_25088\\4177093607.py:12: FutureWarning: The current default of copy=False will change to copy=True in 1.7. Set the value of copy explicitly to avoid this warning\n",
      "  proCorr_antiCorr_labels = len(dados['proCorr','antiCorr'].get_data())\n",
      "C:\\Users\\User\\AppData\\Local\\Temp\\ipykernel_25088\\4177093607.py:13: FutureWarning: The current default of copy=False will change to copy=True in 1.7. Set the value of copy explicitly to avoid this warning\n",
      "  proErr_antiErr_nogoErr_labels = len(dados['proErr','antiErr','nogoErr'].get_data())\n",
      "C:\\Users\\User\\AppData\\Local\\Temp\\ipykernel_25088\\4177093607.py:20: FutureWarning: The current default of copy=False will change to copy=True in 1.7. Set the value of copy explicitly to avoid this warning\n",
      "  for epoch_values in dados['proCorr','antiCorr'].get_data():\n"
     ]
    },
    {
     "name": "stdout",
     "output_type": "stream",
     "text": [
      "Extracting parameters from c:\\Users\\User\\Documents\\GitHub\\Tese\\data\\P04.set...\n"
     ]
    },
    {
     "name": "stderr",
     "output_type": "stream",
     "text": [
      "C:\\Users\\User\\AppData\\Local\\Temp\\ipykernel_25088\\4177093607.py:28: FutureWarning: The current default of copy=False will change to copy=True in 1.7. Set the value of copy explicitly to avoid this warning\n",
      "  for epoch_values in dados['proErr','antiErr','nogoErr'].get_data():\n",
      "C:\\Users\\User\\AppData\\Local\\Temp\\ipykernel_25088\\4177093607.py:7: RuntimeWarning: At least one epoch has multiple events. Only the latency of the first event will be retained.\n",
      "  dados = mne.read_epochs_eeglab(path_)\n"
     ]
    },
    {
     "name": "stdout",
     "output_type": "stream",
     "text": [
      "Not setting metadata\n",
      "205 matching events found\n",
      "No baseline correction applied\n",
      "0 projection items activated\n",
      "Ready.\n"
     ]
    },
    {
     "name": "stderr",
     "output_type": "stream",
     "text": [
      "C:\\Users\\User\\AppData\\Local\\Temp\\ipykernel_25088\\4177093607.py:12: FutureWarning: The current default of copy=False will change to copy=True in 1.7. Set the value of copy explicitly to avoid this warning\n",
      "  proCorr_antiCorr_labels = len(dados['proCorr','antiCorr'].get_data())\n",
      "C:\\Users\\User\\AppData\\Local\\Temp\\ipykernel_25088\\4177093607.py:13: FutureWarning: The current default of copy=False will change to copy=True in 1.7. Set the value of copy explicitly to avoid this warning\n",
      "  proErr_antiErr_nogoErr_labels = len(dados['proErr','antiErr','nogoErr'].get_data())\n",
      "C:\\Users\\User\\AppData\\Local\\Temp\\ipykernel_25088\\4177093607.py:20: FutureWarning: The current default of copy=False will change to copy=True in 1.7. Set the value of copy explicitly to avoid this warning\n",
      "  for epoch_values in dados['proCorr','antiCorr'].get_data():\n",
      "C:\\Users\\User\\AppData\\Local\\Temp\\ipykernel_25088\\4177093607.py:28: FutureWarning: The current default of copy=False will change to copy=True in 1.7. Set the value of copy explicitly to avoid this warning\n",
      "  for epoch_values in dados['proErr','antiErr','nogoErr'].get_data():\n"
     ]
    },
    {
     "name": "stdout",
     "output_type": "stream",
     "text": [
      "Extracting parameters from c:\\Users\\User\\Documents\\GitHub\\Tese\\data\\P05.set...\n",
      "Not setting metadata\n",
      "240 matching events found\n",
      "No baseline correction applied\n",
      "0 projection items activated\n",
      "Ready.\n"
     ]
    },
    {
     "name": "stderr",
     "output_type": "stream",
     "text": [
      "C:\\Users\\User\\AppData\\Local\\Temp\\ipykernel_25088\\4177093607.py:7: RuntimeWarning: At least one epoch has multiple events. Only the latency of the first event will be retained.\n",
      "  dados = mne.read_epochs_eeglab(path_)\n",
      "C:\\Users\\User\\AppData\\Local\\Temp\\ipykernel_25088\\4177093607.py:12: FutureWarning: The current default of copy=False will change to copy=True in 1.7. Set the value of copy explicitly to avoid this warning\n",
      "  proCorr_antiCorr_labels = len(dados['proCorr','antiCorr'].get_data())\n",
      "C:\\Users\\User\\AppData\\Local\\Temp\\ipykernel_25088\\4177093607.py:13: FutureWarning: The current default of copy=False will change to copy=True in 1.7. Set the value of copy explicitly to avoid this warning\n",
      "  proErr_antiErr_nogoErr_labels = len(dados['proErr','antiErr','nogoErr'].get_data())\n",
      "C:\\Users\\User\\AppData\\Local\\Temp\\ipykernel_25088\\4177093607.py:20: FutureWarning: The current default of copy=False will change to copy=True in 1.7. Set the value of copy explicitly to avoid this warning\n",
      "  for epoch_values in dados['proCorr','antiCorr'].get_data():\n",
      "C:\\Users\\User\\AppData\\Local\\Temp\\ipykernel_25088\\4177093607.py:28: FutureWarning: The current default of copy=False will change to copy=True in 1.7. Set the value of copy explicitly to avoid this warning\n",
      "  for epoch_values in dados['proErr','antiErr','nogoErr'].get_data():\n"
     ]
    },
    {
     "name": "stdout",
     "output_type": "stream",
     "text": [
      "Extracting parameters from c:\\Users\\User\\Documents\\GitHub\\Tese\\data\\P07.set...\n",
      "Not setting metadata\n",
      "195 matching events found\n",
      "No baseline correction applied\n",
      "0 projection items activated\n",
      "Ready.\n"
     ]
    },
    {
     "name": "stderr",
     "output_type": "stream",
     "text": [
      "C:\\Users\\User\\AppData\\Local\\Temp\\ipykernel_25088\\4177093607.py:7: RuntimeWarning: At least one epoch has multiple events. Only the latency of the first event will be retained.\n",
      "  dados = mne.read_epochs_eeglab(path_)\n",
      "C:\\Users\\User\\AppData\\Local\\Temp\\ipykernel_25088\\4177093607.py:12: FutureWarning: The current default of copy=False will change to copy=True in 1.7. Set the value of copy explicitly to avoid this warning\n",
      "  proCorr_antiCorr_labels = len(dados['proCorr','antiCorr'].get_data())\n",
      "C:\\Users\\User\\AppData\\Local\\Temp\\ipykernel_25088\\4177093607.py:13: FutureWarning: The current default of copy=False will change to copy=True in 1.7. Set the value of copy explicitly to avoid this warning\n",
      "  proErr_antiErr_nogoErr_labels = len(dados['proErr','antiErr','nogoErr'].get_data())\n",
      "C:\\Users\\User\\AppData\\Local\\Temp\\ipykernel_25088\\4177093607.py:20: FutureWarning: The current default of copy=False will change to copy=True in 1.7. Set the value of copy explicitly to avoid this warning\n",
      "  for epoch_values in dados['proCorr','antiCorr'].get_data():\n"
     ]
    },
    {
     "name": "stdout",
     "output_type": "stream",
     "text": [
      "Extracting parameters from c:\\Users\\User\\Documents\\GitHub\\Tese\\data\\P08.set...\n"
     ]
    },
    {
     "name": "stderr",
     "output_type": "stream",
     "text": [
      "C:\\Users\\User\\AppData\\Local\\Temp\\ipykernel_25088\\4177093607.py:28: FutureWarning: The current default of copy=False will change to copy=True in 1.7. Set the value of copy explicitly to avoid this warning\n",
      "  for epoch_values in dados['proErr','antiErr','nogoErr'].get_data():\n",
      "C:\\Users\\User\\AppData\\Local\\Temp\\ipykernel_25088\\4177093607.py:7: RuntimeWarning: At least one epoch has multiple events. Only the latency of the first event will be retained.\n",
      "  dados = mne.read_epochs_eeglab(path_)\n"
     ]
    },
    {
     "name": "stdout",
     "output_type": "stream",
     "text": [
      "Not setting metadata\n",
      "216 matching events found\n",
      "No baseline correction applied\n",
      "0 projection items activated\n",
      "Ready.\n"
     ]
    },
    {
     "name": "stderr",
     "output_type": "stream",
     "text": [
      "C:\\Users\\User\\AppData\\Local\\Temp\\ipykernel_25088\\4177093607.py:12: FutureWarning: The current default of copy=False will change to copy=True in 1.7. Set the value of copy explicitly to avoid this warning\n",
      "  proCorr_antiCorr_labels = len(dados['proCorr','antiCorr'].get_data())\n",
      "C:\\Users\\User\\AppData\\Local\\Temp\\ipykernel_25088\\4177093607.py:13: FutureWarning: The current default of copy=False will change to copy=True in 1.7. Set the value of copy explicitly to avoid this warning\n",
      "  proErr_antiErr_nogoErr_labels = len(dados['proErr','antiErr','nogoErr'].get_data())\n",
      "C:\\Users\\User\\AppData\\Local\\Temp\\ipykernel_25088\\4177093607.py:20: FutureWarning: The current default of copy=False will change to copy=True in 1.7. Set the value of copy explicitly to avoid this warning\n",
      "  for epoch_values in dados['proCorr','antiCorr'].get_data():\n"
     ]
    },
    {
     "name": "stdout",
     "output_type": "stream",
     "text": [
      "Extracting parameters from c:\\Users\\User\\Documents\\GitHub\\Tese\\data\\P10.set...\n"
     ]
    },
    {
     "name": "stderr",
     "output_type": "stream",
     "text": [
      "C:\\Users\\User\\AppData\\Local\\Temp\\ipykernel_25088\\4177093607.py:28: FutureWarning: The current default of copy=False will change to copy=True in 1.7. Set the value of copy explicitly to avoid this warning\n",
      "  for epoch_values in dados['proErr','antiErr','nogoErr'].get_data():\n",
      "C:\\Users\\User\\AppData\\Local\\Temp\\ipykernel_25088\\4177093607.py:7: RuntimeWarning: At least one epoch has multiple events. Only the latency of the first event will be retained.\n",
      "  dados = mne.read_epochs_eeglab(path_)\n"
     ]
    },
    {
     "name": "stdout",
     "output_type": "stream",
     "text": [
      "Not setting metadata\n",
      "217 matching events found\n",
      "No baseline correction applied\n",
      "0 projection items activated\n",
      "Ready.\n"
     ]
    },
    {
     "name": "stderr",
     "output_type": "stream",
     "text": [
      "C:\\Users\\User\\AppData\\Local\\Temp\\ipykernel_25088\\4177093607.py:12: FutureWarning: The current default of copy=False will change to copy=True in 1.7. Set the value of copy explicitly to avoid this warning\n",
      "  proCorr_antiCorr_labels = len(dados['proCorr','antiCorr'].get_data())\n",
      "C:\\Users\\User\\AppData\\Local\\Temp\\ipykernel_25088\\4177093607.py:13: FutureWarning: The current default of copy=False will change to copy=True in 1.7. Set the value of copy explicitly to avoid this warning\n",
      "  proErr_antiErr_nogoErr_labels = len(dados['proErr','antiErr','nogoErr'].get_data())\n",
      "C:\\Users\\User\\AppData\\Local\\Temp\\ipykernel_25088\\4177093607.py:20: FutureWarning: The current default of copy=False will change to copy=True in 1.7. Set the value of copy explicitly to avoid this warning\n",
      "  for epoch_values in dados['proCorr','antiCorr'].get_data():\n"
     ]
    },
    {
     "name": "stdout",
     "output_type": "stream",
     "text": [
      "Extracting parameters from c:\\Users\\User\\Documents\\GitHub\\Tese\\data\\P11.set...\n"
     ]
    },
    {
     "name": "stderr",
     "output_type": "stream",
     "text": [
      "C:\\Users\\User\\AppData\\Local\\Temp\\ipykernel_25088\\4177093607.py:28: FutureWarning: The current default of copy=False will change to copy=True in 1.7. Set the value of copy explicitly to avoid this warning\n",
      "  for epoch_values in dados['proErr','antiErr','nogoErr'].get_data():\n",
      "C:\\Users\\User\\AppData\\Local\\Temp\\ipykernel_25088\\4177093607.py:7: RuntimeWarning: At least one epoch has multiple events. Only the latency of the first event will be retained.\n",
      "  dados = mne.read_epochs_eeglab(path_)\n"
     ]
    },
    {
     "name": "stdout",
     "output_type": "stream",
     "text": [
      "Not setting metadata\n",
      "220 matching events found\n",
      "No baseline correction applied\n",
      "0 projection items activated\n",
      "Ready.\n"
     ]
    },
    {
     "name": "stderr",
     "output_type": "stream",
     "text": [
      "C:\\Users\\User\\AppData\\Local\\Temp\\ipykernel_25088\\4177093607.py:12: FutureWarning: The current default of copy=False will change to copy=True in 1.7. Set the value of copy explicitly to avoid this warning\n",
      "  proCorr_antiCorr_labels = len(dados['proCorr','antiCorr'].get_data())\n",
      "C:\\Users\\User\\AppData\\Local\\Temp\\ipykernel_25088\\4177093607.py:13: FutureWarning: The current default of copy=False will change to copy=True in 1.7. Set the value of copy explicitly to avoid this warning\n",
      "  proErr_antiErr_nogoErr_labels = len(dados['proErr','antiErr','nogoErr'].get_data())\n",
      "C:\\Users\\User\\AppData\\Local\\Temp\\ipykernel_25088\\4177093607.py:20: FutureWarning: The current default of copy=False will change to copy=True in 1.7. Set the value of copy explicitly to avoid this warning\n",
      "  for epoch_values in dados['proCorr','antiCorr'].get_data():\n",
      "C:\\Users\\User\\AppData\\Local\\Temp\\ipykernel_25088\\4177093607.py:28: FutureWarning: The current default of copy=False will change to copy=True in 1.7. Set the value of copy explicitly to avoid this warning\n",
      "  for epoch_values in dados['proErr','antiErr','nogoErr'].get_data():\n",
      "C:\\Users\\User\\AppData\\Local\\Temp\\ipykernel_25088\\4177093607.py:7: RuntimeWarning: At least one epoch has multiple events. Only the latency of the first event will be retained.\n",
      "  dados = mne.read_epochs_eeglab(path_)\n"
     ]
    },
    {
     "name": "stdout",
     "output_type": "stream",
     "text": [
      "Extracting parameters from c:\\Users\\User\\Documents\\GitHub\\Tese\\data\\P13.set...\n",
      "Not setting metadata\n",
      "221 matching events found\n",
      "No baseline correction applied\n",
      "0 projection items activated\n",
      "Ready.\n"
     ]
    },
    {
     "name": "stderr",
     "output_type": "stream",
     "text": [
      "C:\\Users\\User\\AppData\\Local\\Temp\\ipykernel_25088\\4177093607.py:12: FutureWarning: The current default of copy=False will change to copy=True in 1.7. Set the value of copy explicitly to avoid this warning\n",
      "  proCorr_antiCorr_labels = len(dados['proCorr','antiCorr'].get_data())\n",
      "C:\\Users\\User\\AppData\\Local\\Temp\\ipykernel_25088\\4177093607.py:13: FutureWarning: The current default of copy=False will change to copy=True in 1.7. Set the value of copy explicitly to avoid this warning\n",
      "  proErr_antiErr_nogoErr_labels = len(dados['proErr','antiErr','nogoErr'].get_data())\n",
      "C:\\Users\\User\\AppData\\Local\\Temp\\ipykernel_25088\\4177093607.py:20: FutureWarning: The current default of copy=False will change to copy=True in 1.7. Set the value of copy explicitly to avoid this warning\n",
      "  for epoch_values in dados['proCorr','antiCorr'].get_data():\n",
      "C:\\Users\\User\\AppData\\Local\\Temp\\ipykernel_25088\\4177093607.py:28: FutureWarning: The current default of copy=False will change to copy=True in 1.7. Set the value of copy explicitly to avoid this warning\n",
      "  for epoch_values in dados['proErr','antiErr','nogoErr'].get_data():\n"
     ]
    },
    {
     "name": "stdout",
     "output_type": "stream",
     "text": [
      "Extracting parameters from c:\\Users\\User\\Documents\\GitHub\\Tese\\data\\P14.set...\n",
      "Not setting metadata\n",
      "221 matching events found\n",
      "No baseline correction applied\n",
      "0 projection items activated\n",
      "Ready.\n"
     ]
    },
    {
     "name": "stderr",
     "output_type": "stream",
     "text": [
      "C:\\Users\\User\\AppData\\Local\\Temp\\ipykernel_25088\\4177093607.py:7: RuntimeWarning: At least one epoch has multiple events. Only the latency of the first event will be retained.\n",
      "  dados = mne.read_epochs_eeglab(path_)\n",
      "C:\\Users\\User\\AppData\\Local\\Temp\\ipykernel_25088\\4177093607.py:12: FutureWarning: The current default of copy=False will change to copy=True in 1.7. Set the value of copy explicitly to avoid this warning\n",
      "  proCorr_antiCorr_labels = len(dados['proCorr','antiCorr'].get_data())\n",
      "C:\\Users\\User\\AppData\\Local\\Temp\\ipykernel_25088\\4177093607.py:13: FutureWarning: The current default of copy=False will change to copy=True in 1.7. Set the value of copy explicitly to avoid this warning\n",
      "  proErr_antiErr_nogoErr_labels = len(dados['proErr','antiErr','nogoErr'].get_data())\n",
      "C:\\Users\\User\\AppData\\Local\\Temp\\ipykernel_25088\\4177093607.py:20: FutureWarning: The current default of copy=False will change to copy=True in 1.7. Set the value of copy explicitly to avoid this warning\n",
      "  for epoch_values in dados['proCorr','antiCorr'].get_data():\n"
     ]
    },
    {
     "name": "stdout",
     "output_type": "stream",
     "text": [
      "Extracting parameters from c:\\Users\\User\\Documents\\GitHub\\Tese\\data\\P15.set...\n"
     ]
    },
    {
     "name": "stderr",
     "output_type": "stream",
     "text": [
      "C:\\Users\\User\\AppData\\Local\\Temp\\ipykernel_25088\\4177093607.py:28: FutureWarning: The current default of copy=False will change to copy=True in 1.7. Set the value of copy explicitly to avoid this warning\n",
      "  for epoch_values in dados['proErr','antiErr','nogoErr'].get_data():\n",
      "C:\\Users\\User\\AppData\\Local\\Temp\\ipykernel_25088\\4177093607.py:7: RuntimeWarning: At least one epoch has multiple events. Only the latency of the first event will be retained.\n",
      "  dados = mne.read_epochs_eeglab(path_)\n"
     ]
    },
    {
     "name": "stdout",
     "output_type": "stream",
     "text": [
      "Not setting metadata\n",
      "109 matching events found\n",
      "No baseline correction applied\n",
      "0 projection items activated\n",
      "Ready.\n"
     ]
    },
    {
     "name": "stderr",
     "output_type": "stream",
     "text": [
      "C:\\Users\\User\\AppData\\Local\\Temp\\ipykernel_25088\\4177093607.py:12: FutureWarning: The current default of copy=False will change to copy=True in 1.7. Set the value of copy explicitly to avoid this warning\n",
      "  proCorr_antiCorr_labels = len(dados['proCorr','antiCorr'].get_data())\n",
      "C:\\Users\\User\\AppData\\Local\\Temp\\ipykernel_25088\\4177093607.py:13: FutureWarning: The current default of copy=False will change to copy=True in 1.7. Set the value of copy explicitly to avoid this warning\n",
      "  proErr_antiErr_nogoErr_labels = len(dados['proErr','antiErr','nogoErr'].get_data())\n",
      "C:\\Users\\User\\AppData\\Local\\Temp\\ipykernel_25088\\4177093607.py:20: FutureWarning: The current default of copy=False will change to copy=True in 1.7. Set the value of copy explicitly to avoid this warning\n",
      "  for epoch_values in dados['proCorr','antiCorr'].get_data():\n",
      "C:\\Users\\User\\AppData\\Local\\Temp\\ipykernel_25088\\4177093607.py:28: FutureWarning: The current default of copy=False will change to copy=True in 1.7. Set the value of copy explicitly to avoid this warning\n",
      "  for epoch_values in dados['proErr','antiErr','nogoErr'].get_data():\n"
     ]
    },
    {
     "name": "stdout",
     "output_type": "stream",
     "text": [
      "Extracting parameters from c:\\Users\\User\\Documents\\GitHub\\Tese\\data\\P16.set...\n",
      "Not setting metadata\n",
      "223 matching events found\n",
      "No baseline correction applied\n",
      "0 projection items activated\n",
      "Ready.\n"
     ]
    },
    {
     "name": "stderr",
     "output_type": "stream",
     "text": [
      "C:\\Users\\User\\AppData\\Local\\Temp\\ipykernel_25088\\4177093607.py:7: RuntimeWarning: At least one epoch has multiple events. Only the latency of the first event will be retained.\n",
      "  dados = mne.read_epochs_eeglab(path_)\n",
      "C:\\Users\\User\\AppData\\Local\\Temp\\ipykernel_25088\\4177093607.py:12: FutureWarning: The current default of copy=False will change to copy=True in 1.7. Set the value of copy explicitly to avoid this warning\n",
      "  proCorr_antiCorr_labels = len(dados['proCorr','antiCorr'].get_data())\n",
      "C:\\Users\\User\\AppData\\Local\\Temp\\ipykernel_25088\\4177093607.py:13: FutureWarning: The current default of copy=False will change to copy=True in 1.7. Set the value of copy explicitly to avoid this warning\n",
      "  proErr_antiErr_nogoErr_labels = len(dados['proErr','antiErr','nogoErr'].get_data())\n",
      "C:\\Users\\User\\AppData\\Local\\Temp\\ipykernel_25088\\4177093607.py:20: FutureWarning: The current default of copy=False will change to copy=True in 1.7. Set the value of copy explicitly to avoid this warning\n",
      "  for epoch_values in dados['proCorr','antiCorr'].get_data():\n",
      "C:\\Users\\User\\AppData\\Local\\Temp\\ipykernel_25088\\4177093607.py:28: FutureWarning: The current default of copy=False will change to copy=True in 1.7. Set the value of copy explicitly to avoid this warning\n",
      "  for epoch_values in dados['proErr','antiErr','nogoErr'].get_data():\n",
      "C:\\Users\\User\\AppData\\Local\\Temp\\ipykernel_25088\\4177093607.py:7: RuntimeWarning: At least one epoch has multiple events. Only the latency of the first event will be retained.\n",
      "  dados = mne.read_epochs_eeglab(path_)\n"
     ]
    },
    {
     "name": "stdout",
     "output_type": "stream",
     "text": [
      "Extracting parameters from c:\\Users\\User\\Documents\\GitHub\\Tese\\data\\P19.set...\n",
      "Not setting metadata\n",
      "111 matching events found\n",
      "No baseline correction applied\n",
      "0 projection items activated\n",
      "Ready.\n"
     ]
    },
    {
     "name": "stderr",
     "output_type": "stream",
     "text": [
      "C:\\Users\\User\\AppData\\Local\\Temp\\ipykernel_25088\\4177093607.py:12: FutureWarning: The current default of copy=False will change to copy=True in 1.7. Set the value of copy explicitly to avoid this warning\n",
      "  proCorr_antiCorr_labels = len(dados['proCorr','antiCorr'].get_data())\n",
      "C:\\Users\\User\\AppData\\Local\\Temp\\ipykernel_25088\\4177093607.py:13: FutureWarning: The current default of copy=False will change to copy=True in 1.7. Set the value of copy explicitly to avoid this warning\n",
      "  proErr_antiErr_nogoErr_labels = len(dados['proErr','antiErr','nogoErr'].get_data())\n",
      "C:\\Users\\User\\AppData\\Local\\Temp\\ipykernel_25088\\4177093607.py:20: FutureWarning: The current default of copy=False will change to copy=True in 1.7. Set the value of copy explicitly to avoid this warning\n",
      "  for epoch_values in dados['proCorr','antiCorr'].get_data():\n",
      "C:\\Users\\User\\AppData\\Local\\Temp\\ipykernel_25088\\4177093607.py:28: FutureWarning: The current default of copy=False will change to copy=True in 1.7. Set the value of copy explicitly to avoid this warning\n",
      "  for epoch_values in dados['proErr','antiErr','nogoErr'].get_data():\n"
     ]
    }
   ],
   "source": [
    "data1 = {}\n",
    "labels1 = {}\n",
    "file1= [item for item in os.listdir('data') if item.endswith('set')]\n",
    "\n",
    "for file_index, file_name in enumerate(file1):\n",
    "    path_ = os.path.join( 'data', file_name )\n",
    "    dados = mne.read_epochs_eeglab(path_)\n",
    "    channel_names1 = dados.info['ch_names']\n",
    "    subject_id = file_name[:3]\n",
    "    \n",
    "    # Extract labels\n",
    "    proCorr_antiCorr_labels = len(dados['proCorr','antiCorr'].get_data())\n",
    "    proErr_antiErr_nogoErr_labels = len(dados['proErr','antiErr','nogoErr'].get_data())\n",
    "    labels1[subject_id] = np.array([0] * proCorr_antiCorr_labels + [1] * proErr_antiErr_nogoErr_labels)\n",
    "    \n",
    "    # Initialize channel data dictionary\n",
    "    channel_data = {}\n",
    "    \n",
    "    # Iterate over 'proCorr' and 'antiCorr' events\n",
    "    for epoch_values in dados['proCorr','antiCorr'].get_data():\n",
    "        for channel_index, channel_values in enumerate(epoch_values):\n",
    "            channel_name = channel_names1[channel_index]\n",
    "            if channel_name not in channel_data:\n",
    "                channel_data[channel_name] = []\n",
    "            channel_data[channel_name].append(list(channel_values))\n",
    "    \n",
    "    # Iterate over 'proErr', 'antiErr', and 'nogoErr' events\n",
    "    for epoch_values in dados['proErr','antiErr','nogoErr'].get_data():\n",
    "        for channel_index, channel_values in enumerate(epoch_values):\n",
    "            channel_name = channel_names1[channel_index]\n",
    "            if channel_name not in channel_data:\n",
    "                channel_data[channel_name] = []\n",
    "            channel_data[channel_name].append(list(channel_values))\n",
    "    \n",
    "    data1[subject_id] = channel_data\n"
   ]
  },
  {
   "cell_type": "code",
   "execution_count": 3,
   "metadata": {},
   "outputs": [
    {
     "name": "stdout",
     "output_type": "stream",
     "text": [
      "Extracting parameters from c:\\Users\\User\\Documents\\GitHub\\Tese\\Dataset2\\P01\\P01_1.set...\n",
      "Not setting metadata\n",
      "75 matching events found\n"
     ]
    },
    {
     "name": "stderr",
     "output_type": "stream",
     "text": [
      "C:\\Users\\User\\AppData\\Local\\Temp\\ipykernel_25088\\720536925.py:14: RuntimeWarning: At least one epoch has multiple events. Only the latency of the first event will be retained.\n",
      "  dados = mne.read_epochs_eeglab(path_)\n"
     ]
    },
    {
     "name": "stdout",
     "output_type": "stream",
     "text": [
      "No baseline correction applied\n",
      "0 projection items activated\n",
      "Ready.\n"
     ]
    },
    {
     "name": "stderr",
     "output_type": "stream",
     "text": [
      "C:\\Users\\User\\AppData\\Local\\Temp\\ipykernel_25088\\720536925.py:20: FutureWarning: The current default of copy=False will change to copy=True in 1.7. Set the value of copy explicitly to avoid this warning\n",
      "  Corr_labels = int(len(dados['150','160'].get_data()))\n",
      "C:\\Users\\User\\AppData\\Local\\Temp\\ipykernel_25088\\720536925.py:24: FutureWarning: The current default of copy=False will change to copy=True in 1.7. Set the value of copy explicitly to avoid this warning\n",
      "  Err_labels = int(len(dados['151','152','153','154','161','162','163','164'].get_data()))\n",
      "C:\\Users\\User\\AppData\\Local\\Temp\\ipykernel_25088\\720536925.py:34: FutureWarning: The current default of copy=False will change to copy=True in 1.7. Set the value of copy explicitly to avoid this warning\n",
      "  for epoch_values in dados['150','160'].get_data():\n"
     ]
    },
    {
     "name": "stdout",
     "output_type": "stream",
     "text": [
      "Extracting parameters from c:\\Users\\User\\Documents\\GitHub\\Tese\\Dataset2\\P01\\P01_2.set...\n",
      "Not setting metadata\n",
      "79 matching events found\n",
      "No baseline correction applied\n",
      "0 projection items activated\n",
      "Ready.\n"
     ]
    },
    {
     "name": "stderr",
     "output_type": "stream",
     "text": [
      "C:\\Users\\User\\AppData\\Local\\Temp\\ipykernel_25088\\720536925.py:43: FutureWarning: The current default of copy=False will change to copy=True in 1.7. Set the value of copy explicitly to avoid this warning\n",
      "  for epoch_values in dados['151','152','153','154','161','162','163','164'].get_data():\n",
      "C:\\Users\\User\\AppData\\Local\\Temp\\ipykernel_25088\\720536925.py:14: RuntimeWarning: At least one epoch has multiple events. Only the latency of the first event will be retained.\n",
      "  dados = mne.read_epochs_eeglab(path_)\n",
      "C:\\Users\\User\\AppData\\Local\\Temp\\ipykernel_25088\\720536925.py:20: FutureWarning: The current default of copy=False will change to copy=True in 1.7. Set the value of copy explicitly to avoid this warning\n",
      "  Corr_labels = int(len(dados['150','160'].get_data()))\n",
      "C:\\Users\\User\\AppData\\Local\\Temp\\ipykernel_25088\\720536925.py:24: FutureWarning: The current default of copy=False will change to copy=True in 1.7. Set the value of copy explicitly to avoid this warning\n",
      "  Err_labels = int(len(dados['151','152','153','154','161','162','163','164'].get_data()))\n",
      "C:\\Users\\User\\AppData\\Local\\Temp\\ipykernel_25088\\720536925.py:34: FutureWarning: The current default of copy=False will change to copy=True in 1.7. Set the value of copy explicitly to avoid this warning\n",
      "  for epoch_values in dados['150','160'].get_data():\n",
      "C:\\Users\\User\\AppData\\Local\\Temp\\ipykernel_25088\\720536925.py:43: FutureWarning: The current default of copy=False will change to copy=True in 1.7. Set the value of copy explicitly to avoid this warning\n",
      "  for epoch_values in dados['151','152','153','154','161','162','163','164'].get_data():\n"
     ]
    },
    {
     "name": "stdout",
     "output_type": "stream",
     "text": [
      "Extracting parameters from c:\\Users\\User\\Documents\\GitHub\\Tese\\Dataset2\\P01\\P01_3.set...\n",
      "Not setting metadata\n",
      "80 matching events found\n",
      "No baseline correction applied\n",
      "0 projection items activated\n",
      "Ready.\n"
     ]
    },
    {
     "name": "stderr",
     "output_type": "stream",
     "text": [
      "C:\\Users\\User\\AppData\\Local\\Temp\\ipykernel_25088\\720536925.py:14: RuntimeWarning: At least one epoch has multiple events. Only the latency of the first event will be retained.\n",
      "  dados = mne.read_epochs_eeglab(path_)\n",
      "C:\\Users\\User\\AppData\\Local\\Temp\\ipykernel_25088\\720536925.py:20: FutureWarning: The current default of copy=False will change to copy=True in 1.7. Set the value of copy explicitly to avoid this warning\n",
      "  Corr_labels = int(len(dados['150','160'].get_data()))\n",
      "C:\\Users\\User\\AppData\\Local\\Temp\\ipykernel_25088\\720536925.py:24: FutureWarning: The current default of copy=False will change to copy=True in 1.7. Set the value of copy explicitly to avoid this warning\n",
      "  Err_labels = int(len(dados['151','152','153','154','161','162','163','164'].get_data()))\n",
      "C:\\Users\\User\\AppData\\Local\\Temp\\ipykernel_25088\\720536925.py:34: FutureWarning: The current default of copy=False will change to copy=True in 1.7. Set the value of copy explicitly to avoid this warning\n",
      "  for epoch_values in dados['150','160'].get_data():\n"
     ]
    },
    {
     "name": "stdout",
     "output_type": "stream",
     "text": [
      "Extracting parameters from c:\\Users\\User\\Documents\\GitHub\\Tese\\Dataset2\\P01\\P01_4.set...\n",
      "Not setting metadata\n",
      "81 matching events found\n",
      "No baseline correction applied\n",
      "0 projection items activated\n",
      "Ready.\n"
     ]
    },
    {
     "name": "stderr",
     "output_type": "stream",
     "text": [
      "C:\\Users\\User\\AppData\\Local\\Temp\\ipykernel_25088\\720536925.py:43: FutureWarning: The current default of copy=False will change to copy=True in 1.7. Set the value of copy explicitly to avoid this warning\n",
      "  for epoch_values in dados['151','152','153','154','161','162','163','164'].get_data():\n",
      "C:\\Users\\User\\AppData\\Local\\Temp\\ipykernel_25088\\720536925.py:14: RuntimeWarning: At least one epoch has multiple events. Only the latency of the first event will be retained.\n",
      "  dados = mne.read_epochs_eeglab(path_)\n",
      "C:\\Users\\User\\AppData\\Local\\Temp\\ipykernel_25088\\720536925.py:20: FutureWarning: The current default of copy=False will change to copy=True in 1.7. Set the value of copy explicitly to avoid this warning\n",
      "  Corr_labels = int(len(dados['150','160'].get_data()))\n",
      "C:\\Users\\User\\AppData\\Local\\Temp\\ipykernel_25088\\720536925.py:24: FutureWarning: The current default of copy=False will change to copy=True in 1.7. Set the value of copy explicitly to avoid this warning\n",
      "  Err_labels = int(len(dados['151','152','153','154','161','162','163','164'].get_data()))\n",
      "C:\\Users\\User\\AppData\\Local\\Temp\\ipykernel_25088\\720536925.py:34: FutureWarning: The current default of copy=False will change to copy=True in 1.7. Set the value of copy explicitly to avoid this warning\n",
      "  for epoch_values in dados['150','160'].get_data():\n"
     ]
    },
    {
     "name": "stdout",
     "output_type": "stream",
     "text": [
      "Extracting parameters from c:\\Users\\User\\Documents\\GitHub\\Tese\\Dataset2\\P02\\P02_1.set...\n",
      "Not setting metadata\n",
      "79 matching events found\n",
      "No baseline correction applied\n",
      "0 projection items activated\n",
      "Ready.\n"
     ]
    },
    {
     "name": "stderr",
     "output_type": "stream",
     "text": [
      "C:\\Users\\User\\AppData\\Local\\Temp\\ipykernel_25088\\720536925.py:43: FutureWarning: The current default of copy=False will change to copy=True in 1.7. Set the value of copy explicitly to avoid this warning\n",
      "  for epoch_values in dados['151','152','153','154','161','162','163','164'].get_data():\n",
      "C:\\Users\\User\\AppData\\Local\\Temp\\ipykernel_25088\\720536925.py:14: RuntimeWarning: At least one epoch has multiple events. Only the latency of the first event will be retained.\n",
      "  dados = mne.read_epochs_eeglab(path_)\n",
      "C:\\Users\\User\\AppData\\Local\\Temp\\ipykernel_25088\\720536925.py:20: FutureWarning: The current default of copy=False will change to copy=True in 1.7. Set the value of copy explicitly to avoid this warning\n",
      "  Corr_labels = int(len(dados['150','160'].get_data()))\n",
      "C:\\Users\\User\\AppData\\Local\\Temp\\ipykernel_25088\\720536925.py:24: FutureWarning: The current default of copy=False will change to copy=True in 1.7. Set the value of copy explicitly to avoid this warning\n",
      "  Err_labels = int(len(dados['151','152','153','154','161','162','163','164'].get_data()))\n",
      "C:\\Users\\User\\AppData\\Local\\Temp\\ipykernel_25088\\720536925.py:34: FutureWarning: The current default of copy=False will change to copy=True in 1.7. Set the value of copy explicitly to avoid this warning\n",
      "  for epoch_values in dados['150','160'].get_data():\n"
     ]
    },
    {
     "name": "stdout",
     "output_type": "stream",
     "text": [
      "Extracting parameters from c:\\Users\\User\\Documents\\GitHub\\Tese\\Dataset2\\P02\\P02_2.set...\n",
      "Not setting metadata\n",
      "79 matching events found\n",
      "No baseline correction applied\n",
      "0 projection items activated\n"
     ]
    },
    {
     "name": "stderr",
     "output_type": "stream",
     "text": [
      "C:\\Users\\User\\AppData\\Local\\Temp\\ipykernel_25088\\720536925.py:43: FutureWarning: The current default of copy=False will change to copy=True in 1.7. Set the value of copy explicitly to avoid this warning\n",
      "  for epoch_values in dados['151','152','153','154','161','162','163','164'].get_data():\n",
      "C:\\Users\\User\\AppData\\Local\\Temp\\ipykernel_25088\\720536925.py:14: RuntimeWarning: At least one epoch has multiple events. Only the latency of the first event will be retained.\n",
      "  dados = mne.read_epochs_eeglab(path_)\n"
     ]
    },
    {
     "name": "stdout",
     "output_type": "stream",
     "text": [
      "Ready.\n"
     ]
    },
    {
     "name": "stderr",
     "output_type": "stream",
     "text": [
      "C:\\Users\\User\\AppData\\Local\\Temp\\ipykernel_25088\\720536925.py:20: FutureWarning: The current default of copy=False will change to copy=True in 1.7. Set the value of copy explicitly to avoid this warning\n",
      "  Corr_labels = int(len(dados['150','160'].get_data()))\n",
      "C:\\Users\\User\\AppData\\Local\\Temp\\ipykernel_25088\\720536925.py:24: FutureWarning: The current default of copy=False will change to copy=True in 1.7. Set the value of copy explicitly to avoid this warning\n",
      "  Err_labels = int(len(dados['151','152','153','154','161','162','163','164'].get_data()))\n",
      "C:\\Users\\User\\AppData\\Local\\Temp\\ipykernel_25088\\720536925.py:34: FutureWarning: The current default of copy=False will change to copy=True in 1.7. Set the value of copy explicitly to avoid this warning\n",
      "  for epoch_values in dados['150','160'].get_data():\n",
      "C:\\Users\\User\\AppData\\Local\\Temp\\ipykernel_25088\\720536925.py:43: FutureWarning: The current default of copy=False will change to copy=True in 1.7. Set the value of copy explicitly to avoid this warning\n",
      "  for epoch_values in dados['151','152','153','154','161','162','163','164'].get_data():\n",
      "C:\\Users\\User\\AppData\\Local\\Temp\\ipykernel_25088\\720536925.py:14: RuntimeWarning: At least one epoch has multiple events. Only the latency of the first event will be retained.\n",
      "  dados = mne.read_epochs_eeglab(path_)\n"
     ]
    },
    {
     "name": "stdout",
     "output_type": "stream",
     "text": [
      "Extracting parameters from c:\\Users\\User\\Documents\\GitHub\\Tese\\Dataset2\\P02\\P02_3.set...\n",
      "Not setting metadata\n",
      "77 matching events found\n",
      "No baseline correction applied\n",
      "0 projection items activated\n",
      "Ready.\n"
     ]
    },
    {
     "name": "stderr",
     "output_type": "stream",
     "text": [
      "C:\\Users\\User\\AppData\\Local\\Temp\\ipykernel_25088\\720536925.py:20: FutureWarning: The current default of copy=False will change to copy=True in 1.7. Set the value of copy explicitly to avoid this warning\n",
      "  Corr_labels = int(len(dados['150','160'].get_data()))\n",
      "C:\\Users\\User\\AppData\\Local\\Temp\\ipykernel_25088\\720536925.py:24: FutureWarning: The current default of copy=False will change to copy=True in 1.7. Set the value of copy explicitly to avoid this warning\n",
      "  Err_labels = int(len(dados['151','152','153','154','161','162','163','164'].get_data()))\n",
      "C:\\Users\\User\\AppData\\Local\\Temp\\ipykernel_25088\\720536925.py:34: FutureWarning: The current default of copy=False will change to copy=True in 1.7. Set the value of copy explicitly to avoid this warning\n",
      "  for epoch_values in dados['150','160'].get_data():\n",
      "C:\\Users\\User\\AppData\\Local\\Temp\\ipykernel_25088\\720536925.py:43: FutureWarning: The current default of copy=False will change to copy=True in 1.7. Set the value of copy explicitly to avoid this warning\n",
      "  for epoch_values in dados['151','152','153','154','161','162','163','164'].get_data():\n"
     ]
    },
    {
     "name": "stdout",
     "output_type": "stream",
     "text": [
      "Extracting parameters from c:\\Users\\User\\Documents\\GitHub\\Tese\\Dataset2\\P02\\P02_4.set...\n",
      "Not setting metadata\n",
      "77 matching events found\n",
      "No baseline correction applied\n",
      "0 projection items activated\n",
      "Ready.\n"
     ]
    },
    {
     "name": "stderr",
     "output_type": "stream",
     "text": [
      "C:\\Users\\User\\AppData\\Local\\Temp\\ipykernel_25088\\720536925.py:14: RuntimeWarning: At least one epoch has multiple events. Only the latency of the first event will be retained.\n",
      "  dados = mne.read_epochs_eeglab(path_)\n",
      "C:\\Users\\User\\AppData\\Local\\Temp\\ipykernel_25088\\720536925.py:20: FutureWarning: The current default of copy=False will change to copy=True in 1.7. Set the value of copy explicitly to avoid this warning\n",
      "  Corr_labels = int(len(dados['150','160'].get_data()))\n",
      "C:\\Users\\User\\AppData\\Local\\Temp\\ipykernel_25088\\720536925.py:24: FutureWarning: The current default of copy=False will change to copy=True in 1.7. Set the value of copy explicitly to avoid this warning\n",
      "  Err_labels = int(len(dados['151','152','153','154','161','162','163','164'].get_data()))\n",
      "C:\\Users\\User\\AppData\\Local\\Temp\\ipykernel_25088\\720536925.py:34: FutureWarning: The current default of copy=False will change to copy=True in 1.7. Set the value of copy explicitly to avoid this warning\n",
      "  for epoch_values in dados['150','160'].get_data():\n"
     ]
    },
    {
     "name": "stdout",
     "output_type": "stream",
     "text": [
      "Extracting parameters from c:\\Users\\User\\Documents\\GitHub\\Tese\\Dataset2\\P03\\P03_1.set...\n",
      "Not setting metadata\n",
      "72 matching events found\n",
      "No baseline correction applied\n",
      "0 projection items activated\n",
      "Ready.\n"
     ]
    },
    {
     "name": "stderr",
     "output_type": "stream",
     "text": [
      "C:\\Users\\User\\AppData\\Local\\Temp\\ipykernel_25088\\720536925.py:43: FutureWarning: The current default of copy=False will change to copy=True in 1.7. Set the value of copy explicitly to avoid this warning\n",
      "  for epoch_values in dados['151','152','153','154','161','162','163','164'].get_data():\n",
      "C:\\Users\\User\\AppData\\Local\\Temp\\ipykernel_25088\\720536925.py:14: RuntimeWarning: At least one epoch has multiple events. Only the latency of the first event will be retained.\n",
      "  dados = mne.read_epochs_eeglab(path_)\n",
      "C:\\Users\\User\\AppData\\Local\\Temp\\ipykernel_25088\\720536925.py:20: FutureWarning: The current default of copy=False will change to copy=True in 1.7. Set the value of copy explicitly to avoid this warning\n",
      "  Corr_labels = int(len(dados['150','160'].get_data()))\n",
      "C:\\Users\\User\\AppData\\Local\\Temp\\ipykernel_25088\\720536925.py:24: FutureWarning: The current default of copy=False will change to copy=True in 1.7. Set the value of copy explicitly to avoid this warning\n",
      "  Err_labels = int(len(dados['151','152','153','154','161','162','163','164'].get_data()))\n",
      "C:\\Users\\User\\AppData\\Local\\Temp\\ipykernel_25088\\720536925.py:34: FutureWarning: The current default of copy=False will change to copy=True in 1.7. Set the value of copy explicitly to avoid this warning\n",
      "  for epoch_values in dados['150','160'].get_data():\n",
      "C:\\Users\\User\\AppData\\Local\\Temp\\ipykernel_25088\\720536925.py:43: FutureWarning: The current default of copy=False will change to copy=True in 1.7. Set the value of copy explicitly to avoid this warning\n",
      "  for epoch_values in dados['151','152','153','154','161','162','163','164'].get_data():\n",
      "C:\\Users\\User\\AppData\\Local\\Temp\\ipykernel_25088\\720536925.py:14: RuntimeWarning: At least one epoch has multiple events. Only the latency of the first event will be retained.\n",
      "  dados = mne.read_epochs_eeglab(path_)\n"
     ]
    },
    {
     "name": "stdout",
     "output_type": "stream",
     "text": [
      "Extracting parameters from c:\\Users\\User\\Documents\\GitHub\\Tese\\Dataset2\\P03\\P03_2.set...\n",
      "Not setting metadata\n",
      "77 matching events found\n",
      "No baseline correction applied\n",
      "0 projection items activated\n",
      "Ready.\n"
     ]
    },
    {
     "name": "stderr",
     "output_type": "stream",
     "text": [
      "C:\\Users\\User\\AppData\\Local\\Temp\\ipykernel_25088\\720536925.py:20: FutureWarning: The current default of copy=False will change to copy=True in 1.7. Set the value of copy explicitly to avoid this warning\n",
      "  Corr_labels = int(len(dados['150','160'].get_data()))\n",
      "C:\\Users\\User\\AppData\\Local\\Temp\\ipykernel_25088\\720536925.py:24: FutureWarning: The current default of copy=False will change to copy=True in 1.7. Set the value of copy explicitly to avoid this warning\n",
      "  Err_labels = int(len(dados['151','152','153','154','161','162','163','164'].get_data()))\n",
      "C:\\Users\\User\\AppData\\Local\\Temp\\ipykernel_25088\\720536925.py:34: FutureWarning: The current default of copy=False will change to copy=True in 1.7. Set the value of copy explicitly to avoid this warning\n",
      "  for epoch_values in dados['150','160'].get_data():\n",
      "C:\\Users\\User\\AppData\\Local\\Temp\\ipykernel_25088\\720536925.py:43: FutureWarning: The current default of copy=False will change to copy=True in 1.7. Set the value of copy explicitly to avoid this warning\n",
      "  for epoch_values in dados['151','152','153','154','161','162','163','164'].get_data():\n",
      "C:\\Users\\User\\AppData\\Local\\Temp\\ipykernel_25088\\720536925.py:14: RuntimeWarning: At least one epoch has multiple events. Only the latency of the first event will be retained.\n",
      "  dados = mne.read_epochs_eeglab(path_)\n"
     ]
    },
    {
     "name": "stdout",
     "output_type": "stream",
     "text": [
      "Extracting parameters from c:\\Users\\User\\Documents\\GitHub\\Tese\\Dataset2\\P03\\P03_3.set...\n",
      "Not setting metadata\n",
      "73 matching events found\n",
      "No baseline correction applied\n",
      "0 projection items activated\n",
      "Ready.\n"
     ]
    },
    {
     "name": "stderr",
     "output_type": "stream",
     "text": [
      "C:\\Users\\User\\AppData\\Local\\Temp\\ipykernel_25088\\720536925.py:20: FutureWarning: The current default of copy=False will change to copy=True in 1.7. Set the value of copy explicitly to avoid this warning\n",
      "  Corr_labels = int(len(dados['150','160'].get_data()))\n",
      "C:\\Users\\User\\AppData\\Local\\Temp\\ipykernel_25088\\720536925.py:34: FutureWarning: The current default of copy=False will change to copy=True in 1.7. Set the value of copy explicitly to avoid this warning\n",
      "  for epoch_values in dados['150','160'].get_data():\n"
     ]
    },
    {
     "name": "stdout",
     "output_type": "stream",
     "text": [
      "Extracting parameters from c:\\Users\\User\\Documents\\GitHub\\Tese\\Dataset2\\P03\\P03_4.set...\n",
      "Not setting metadata\n",
      "77 matching events found\n",
      "No baseline correction applied\n",
      "0 projection items activated\n",
      "Ready.\n"
     ]
    },
    {
     "name": "stderr",
     "output_type": "stream",
     "text": [
      "C:\\Users\\User\\AppData\\Local\\Temp\\ipykernel_25088\\720536925.py:14: RuntimeWarning: At least one epoch has multiple events. Only the latency of the first event will be retained.\n",
      "  dados = mne.read_epochs_eeglab(path_)\n",
      "C:\\Users\\User\\AppData\\Local\\Temp\\ipykernel_25088\\720536925.py:20: FutureWarning: The current default of copy=False will change to copy=True in 1.7. Set the value of copy explicitly to avoid this warning\n",
      "  Corr_labels = int(len(dados['150','160'].get_data()))\n",
      "C:\\Users\\User\\AppData\\Local\\Temp\\ipykernel_25088\\720536925.py:24: FutureWarning: The current default of copy=False will change to copy=True in 1.7. Set the value of copy explicitly to avoid this warning\n",
      "  Err_labels = int(len(dados['151','152','153','154','161','162','163','164'].get_data()))\n",
      "C:\\Users\\User\\AppData\\Local\\Temp\\ipykernel_25088\\720536925.py:34: FutureWarning: The current default of copy=False will change to copy=True in 1.7. Set the value of copy explicitly to avoid this warning\n",
      "  for epoch_values in dados['150','160'].get_data():\n"
     ]
    },
    {
     "name": "stdout",
     "output_type": "stream",
     "text": [
      "Extracting parameters from c:\\Users\\User\\Documents\\GitHub\\Tese\\Dataset2\\P04\\P04_1.set...\n",
      "Not setting metadata\n",
      "82 matching events found\n",
      "No baseline correction applied\n",
      "0 projection items activated\n",
      "Ready.\n"
     ]
    },
    {
     "name": "stderr",
     "output_type": "stream",
     "text": [
      "C:\\Users\\User\\AppData\\Local\\Temp\\ipykernel_25088\\720536925.py:43: FutureWarning: The current default of copy=False will change to copy=True in 1.7. Set the value of copy explicitly to avoid this warning\n",
      "  for epoch_values in dados['151','152','153','154','161','162','163','164'].get_data():\n",
      "C:\\Users\\User\\AppData\\Local\\Temp\\ipykernel_25088\\720536925.py:14: RuntimeWarning: At least one epoch has multiple events. Only the latency of the first event will be retained.\n",
      "  dados = mne.read_epochs_eeglab(path_)\n",
      "C:\\Users\\User\\AppData\\Local\\Temp\\ipykernel_25088\\720536925.py:20: FutureWarning: The current default of copy=False will change to copy=True in 1.7. Set the value of copy explicitly to avoid this warning\n",
      "  Corr_labels = int(len(dados['150','160'].get_data()))\n",
      "C:\\Users\\User\\AppData\\Local\\Temp\\ipykernel_25088\\720536925.py:24: FutureWarning: The current default of copy=False will change to copy=True in 1.7. Set the value of copy explicitly to avoid this warning\n",
      "  Err_labels = int(len(dados['151','152','153','154','161','162','163','164'].get_data()))\n",
      "C:\\Users\\User\\AppData\\Local\\Temp\\ipykernel_25088\\720536925.py:34: FutureWarning: The current default of copy=False will change to copy=True in 1.7. Set the value of copy explicitly to avoid this warning\n",
      "  for epoch_values in dados['150','160'].get_data():\n",
      "C:\\Users\\User\\AppData\\Local\\Temp\\ipykernel_25088\\720536925.py:43: FutureWarning: The current default of copy=False will change to copy=True in 1.7. Set the value of copy explicitly to avoid this warning\n",
      "  for epoch_values in dados['151','152','153','154','161','162','163','164'].get_data():\n"
     ]
    },
    {
     "name": "stdout",
     "output_type": "stream",
     "text": [
      "Extracting parameters from c:\\Users\\User\\Documents\\GitHub\\Tese\\Dataset2\\P04\\P04_2.set...\n",
      "Not setting metadata\n",
      "70 matching events found\n",
      "No baseline correction applied\n",
      "0 projection items activated\n",
      "Ready.\n"
     ]
    },
    {
     "name": "stderr",
     "output_type": "stream",
     "text": [
      "C:\\Users\\User\\AppData\\Local\\Temp\\ipykernel_25088\\720536925.py:14: RuntimeWarning: At least one epoch has multiple events. Only the latency of the first event will be retained.\n",
      "  dados = mne.read_epochs_eeglab(path_)\n",
      "C:\\Users\\User\\AppData\\Local\\Temp\\ipykernel_25088\\720536925.py:20: FutureWarning: The current default of copy=False will change to copy=True in 1.7. Set the value of copy explicitly to avoid this warning\n",
      "  Corr_labels = int(len(dados['150','160'].get_data()))\n",
      "C:\\Users\\User\\AppData\\Local\\Temp\\ipykernel_25088\\720536925.py:24: FutureWarning: The current default of copy=False will change to copy=True in 1.7. Set the value of copy explicitly to avoid this warning\n",
      "  Err_labels = int(len(dados['151','152','153','154','161','162','163','164'].get_data()))\n",
      "C:\\Users\\User\\AppData\\Local\\Temp\\ipykernel_25088\\720536925.py:34: FutureWarning: The current default of copy=False will change to copy=True in 1.7. Set the value of copy explicitly to avoid this warning\n",
      "  for epoch_values in dados['150','160'].get_data():\n",
      "C:\\Users\\User\\AppData\\Local\\Temp\\ipykernel_25088\\720536925.py:43: FutureWarning: The current default of copy=False will change to copy=True in 1.7. Set the value of copy explicitly to avoid this warning\n",
      "  for epoch_values in dados['151','152','153','154','161','162','163','164'].get_data():\n"
     ]
    },
    {
     "name": "stdout",
     "output_type": "stream",
     "text": [
      "Extracting parameters from c:\\Users\\User\\Documents\\GitHub\\Tese\\Dataset2\\P04\\P04_3.set...\n",
      "Not setting metadata\n",
      "62 matching events found\n",
      "No baseline correction applied\n",
      "0 projection items activated\n",
      "Ready.\n"
     ]
    },
    {
     "name": "stderr",
     "output_type": "stream",
     "text": [
      "C:\\Users\\User\\AppData\\Local\\Temp\\ipykernel_25088\\720536925.py:14: RuntimeWarning: At least one epoch has multiple events. Only the latency of the first event will be retained.\n",
      "  dados = mne.read_epochs_eeglab(path_)\n",
      "C:\\Users\\User\\AppData\\Local\\Temp\\ipykernel_25088\\720536925.py:20: FutureWarning: The current default of copy=False will change to copy=True in 1.7. Set the value of copy explicitly to avoid this warning\n",
      "  Corr_labels = int(len(dados['150','160'].get_data()))\n",
      "C:\\Users\\User\\AppData\\Local\\Temp\\ipykernel_25088\\720536925.py:24: FutureWarning: The current default of copy=False will change to copy=True in 1.7. Set the value of copy explicitly to avoid this warning\n",
      "  Err_labels = int(len(dados['151','152','153','154','161','162','163','164'].get_data()))\n",
      "C:\\Users\\User\\AppData\\Local\\Temp\\ipykernel_25088\\720536925.py:34: FutureWarning: The current default of copy=False will change to copy=True in 1.7. Set the value of copy explicitly to avoid this warning\n",
      "  for epoch_values in dados['150','160'].get_data():\n"
     ]
    },
    {
     "name": "stdout",
     "output_type": "stream",
     "text": [
      "Extracting parameters from c:\\Users\\User\\Documents\\GitHub\\Tese\\Dataset2\\P04\\P04_4.set...\n",
      "Not setting metadata\n",
      "68 matching events found\n"
     ]
    },
    {
     "name": "stderr",
     "output_type": "stream",
     "text": [
      "C:\\Users\\User\\AppData\\Local\\Temp\\ipykernel_25088\\720536925.py:43: FutureWarning: The current default of copy=False will change to copy=True in 1.7. Set the value of copy explicitly to avoid this warning\n",
      "  for epoch_values in dados['151','152','153','154','161','162','163','164'].get_data():\n",
      "C:\\Users\\User\\AppData\\Local\\Temp\\ipykernel_25088\\720536925.py:14: RuntimeWarning: At least one epoch has multiple events. Only the latency of the first event will be retained.\n",
      "  dados = mne.read_epochs_eeglab(path_)\n"
     ]
    },
    {
     "name": "stdout",
     "output_type": "stream",
     "text": [
      "No baseline correction applied\n",
      "0 projection items activated\n",
      "Ready.\n"
     ]
    },
    {
     "name": "stderr",
     "output_type": "stream",
     "text": [
      "C:\\Users\\User\\AppData\\Local\\Temp\\ipykernel_25088\\720536925.py:20: FutureWarning: The current default of copy=False will change to copy=True in 1.7. Set the value of copy explicitly to avoid this warning\n",
      "  Corr_labels = int(len(dados['150','160'].get_data()))\n",
      "C:\\Users\\User\\AppData\\Local\\Temp\\ipykernel_25088\\720536925.py:24: FutureWarning: The current default of copy=False will change to copy=True in 1.7. Set the value of copy explicitly to avoid this warning\n",
      "  Err_labels = int(len(dados['151','152','153','154','161','162','163','164'].get_data()))\n",
      "C:\\Users\\User\\AppData\\Local\\Temp\\ipykernel_25088\\720536925.py:34: FutureWarning: The current default of copy=False will change to copy=True in 1.7. Set the value of copy explicitly to avoid this warning\n",
      "  for epoch_values in dados['150','160'].get_data():\n",
      "C:\\Users\\User\\AppData\\Local\\Temp\\ipykernel_25088\\720536925.py:43: FutureWarning: The current default of copy=False will change to copy=True in 1.7. Set the value of copy explicitly to avoid this warning\n",
      "  for epoch_values in dados['151','152','153','154','161','162','163','164'].get_data():\n"
     ]
    },
    {
     "name": "stdout",
     "output_type": "stream",
     "text": [
      "Extracting parameters from c:\\Users\\User\\Documents\\GitHub\\Tese\\Dataset2\\P05\\P05_1.set...\n",
      "Not setting metadata\n",
      "82 matching events found\n",
      "No baseline correction applied\n",
      "0 projection items activated\n",
      "Ready.\n"
     ]
    },
    {
     "name": "stderr",
     "output_type": "stream",
     "text": [
      "C:\\Users\\User\\AppData\\Local\\Temp\\ipykernel_25088\\720536925.py:14: RuntimeWarning: At least one epoch has multiple events. Only the latency of the first event will be retained.\n",
      "  dados = mne.read_epochs_eeglab(path_)\n",
      "C:\\Users\\User\\AppData\\Local\\Temp\\ipykernel_25088\\720536925.py:20: FutureWarning: The current default of copy=False will change to copy=True in 1.7. Set the value of copy explicitly to avoid this warning\n",
      "  Corr_labels = int(len(dados['150','160'].get_data()))\n",
      "C:\\Users\\User\\AppData\\Local\\Temp\\ipykernel_25088\\720536925.py:24: FutureWarning: The current default of copy=False will change to copy=True in 1.7. Set the value of copy explicitly to avoid this warning\n",
      "  Err_labels = int(len(dados['151','152','153','154','161','162','163','164'].get_data()))\n",
      "C:\\Users\\User\\AppData\\Local\\Temp\\ipykernel_25088\\720536925.py:34: FutureWarning: The current default of copy=False will change to copy=True in 1.7. Set the value of copy explicitly to avoid this warning\n",
      "  for epoch_values in dados['150','160'].get_data():\n",
      "C:\\Users\\User\\AppData\\Local\\Temp\\ipykernel_25088\\720536925.py:43: FutureWarning: The current default of copy=False will change to copy=True in 1.7. Set the value of copy explicitly to avoid this warning\n",
      "  for epoch_values in dados['151','152','153','154','161','162','163','164'].get_data():\n"
     ]
    },
    {
     "name": "stdout",
     "output_type": "stream",
     "text": [
      "Extracting parameters from c:\\Users\\User\\Documents\\GitHub\\Tese\\Dataset2\\P05\\P05_2.set...\n",
      "Not setting metadata\n",
      "70 matching events found\n",
      "No baseline correction applied\n",
      "0 projection items activated\n",
      "Ready.\n"
     ]
    },
    {
     "name": "stderr",
     "output_type": "stream",
     "text": [
      "C:\\Users\\User\\AppData\\Local\\Temp\\ipykernel_25088\\720536925.py:14: RuntimeWarning: At least one epoch has multiple events. Only the latency of the first event will be retained.\n",
      "  dados = mne.read_epochs_eeglab(path_)\n",
      "C:\\Users\\User\\AppData\\Local\\Temp\\ipykernel_25088\\720536925.py:20: FutureWarning: The current default of copy=False will change to copy=True in 1.7. Set the value of copy explicitly to avoid this warning\n",
      "  Corr_labels = int(len(dados['150','160'].get_data()))\n",
      "C:\\Users\\User\\AppData\\Local\\Temp\\ipykernel_25088\\720536925.py:24: FutureWarning: The current default of copy=False will change to copy=True in 1.7. Set the value of copy explicitly to avoid this warning\n",
      "  Err_labels = int(len(dados['151','152','153','154','161','162','163','164'].get_data()))\n",
      "C:\\Users\\User\\AppData\\Local\\Temp\\ipykernel_25088\\720536925.py:34: FutureWarning: The current default of copy=False will change to copy=True in 1.7. Set the value of copy explicitly to avoid this warning\n",
      "  for epoch_values in dados['150','160'].get_data():\n"
     ]
    },
    {
     "name": "stdout",
     "output_type": "stream",
     "text": [
      "Extracting parameters from c:\\Users\\User\\Documents\\GitHub\\Tese\\Dataset2\\P05\\P05_3.set...\n",
      "Not setting metadata\n",
      "62 matching events found\n",
      "No baseline correction applied\n",
      "0 projection items activated\n",
      "Ready.\n"
     ]
    },
    {
     "name": "stderr",
     "output_type": "stream",
     "text": [
      "C:\\Users\\User\\AppData\\Local\\Temp\\ipykernel_25088\\720536925.py:43: FutureWarning: The current default of copy=False will change to copy=True in 1.7. Set the value of copy explicitly to avoid this warning\n",
      "  for epoch_values in dados['151','152','153','154','161','162','163','164'].get_data():\n",
      "C:\\Users\\User\\AppData\\Local\\Temp\\ipykernel_25088\\720536925.py:14: RuntimeWarning: At least one epoch has multiple events. Only the latency of the first event will be retained.\n",
      "  dados = mne.read_epochs_eeglab(path_)\n",
      "C:\\Users\\User\\AppData\\Local\\Temp\\ipykernel_25088\\720536925.py:20: FutureWarning: The current default of copy=False will change to copy=True in 1.7. Set the value of copy explicitly to avoid this warning\n",
      "  Corr_labels = int(len(dados['150','160'].get_data()))\n",
      "C:\\Users\\User\\AppData\\Local\\Temp\\ipykernel_25088\\720536925.py:24: FutureWarning: The current default of copy=False will change to copy=True in 1.7. Set the value of copy explicitly to avoid this warning\n",
      "  Err_labels = int(len(dados['151','152','153','154','161','162','163','164'].get_data()))\n",
      "C:\\Users\\User\\AppData\\Local\\Temp\\ipykernel_25088\\720536925.py:34: FutureWarning: The current default of copy=False will change to copy=True in 1.7. Set the value of copy explicitly to avoid this warning\n",
      "  for epoch_values in dados['150','160'].get_data():\n"
     ]
    },
    {
     "name": "stdout",
     "output_type": "stream",
     "text": [
      "Extracting parameters from c:\\Users\\User\\Documents\\GitHub\\Tese\\Dataset2\\P05\\P05_4.set...\n",
      "Not setting metadata\n",
      "68 matching events found\n",
      "No baseline correction applied\n",
      "0 projection items activated\n",
      "Ready.\n"
     ]
    },
    {
     "name": "stderr",
     "output_type": "stream",
     "text": [
      "C:\\Users\\User\\AppData\\Local\\Temp\\ipykernel_25088\\720536925.py:43: FutureWarning: The current default of copy=False will change to copy=True in 1.7. Set the value of copy explicitly to avoid this warning\n",
      "  for epoch_values in dados['151','152','153','154','161','162','163','164'].get_data():\n",
      "C:\\Users\\User\\AppData\\Local\\Temp\\ipykernel_25088\\720536925.py:14: RuntimeWarning: At least one epoch has multiple events. Only the latency of the first event will be retained.\n",
      "  dados = mne.read_epochs_eeglab(path_)\n",
      "C:\\Users\\User\\AppData\\Local\\Temp\\ipykernel_25088\\720536925.py:20: FutureWarning: The current default of copy=False will change to copy=True in 1.7. Set the value of copy explicitly to avoid this warning\n",
      "  Corr_labels = int(len(dados['150','160'].get_data()))\n",
      "C:\\Users\\User\\AppData\\Local\\Temp\\ipykernel_25088\\720536925.py:24: FutureWarning: The current default of copy=False will change to copy=True in 1.7. Set the value of copy explicitly to avoid this warning\n",
      "  Err_labels = int(len(dados['151','152','153','154','161','162','163','164'].get_data()))\n",
      "C:\\Users\\User\\AppData\\Local\\Temp\\ipykernel_25088\\720536925.py:34: FutureWarning: The current default of copy=False will change to copy=True in 1.7. Set the value of copy explicitly to avoid this warning\n",
      "  for epoch_values in dados['150','160'].get_data():\n",
      "C:\\Users\\User\\AppData\\Local\\Temp\\ipykernel_25088\\720536925.py:43: FutureWarning: The current default of copy=False will change to copy=True in 1.7. Set the value of copy explicitly to avoid this warning\n",
      "  for epoch_values in dados['151','152','153','154','161','162','163','164'].get_data():\n",
      "C:\\Users\\User\\AppData\\Local\\Temp\\ipykernel_25088\\720536925.py:14: RuntimeWarning: At least one epoch has multiple events. Only the latency of the first event will be retained.\n",
      "  dados = mne.read_epochs_eeglab(path_)\n"
     ]
    },
    {
     "name": "stdout",
     "output_type": "stream",
     "text": [
      "Extracting parameters from c:\\Users\\User\\Documents\\GitHub\\Tese\\Dataset2\\P06\\P06_1.set...\n",
      "Not setting metadata\n",
      "74 matching events found\n",
      "No baseline correction applied\n",
      "0 projection items activated\n",
      "Ready.\n"
     ]
    },
    {
     "name": "stderr",
     "output_type": "stream",
     "text": [
      "C:\\Users\\User\\AppData\\Local\\Temp\\ipykernel_25088\\720536925.py:20: FutureWarning: The current default of copy=False will change to copy=True in 1.7. Set the value of copy explicitly to avoid this warning\n",
      "  Corr_labels = int(len(dados['150','160'].get_data()))\n",
      "C:\\Users\\User\\AppData\\Local\\Temp\\ipykernel_25088\\720536925.py:24: FutureWarning: The current default of copy=False will change to copy=True in 1.7. Set the value of copy explicitly to avoid this warning\n",
      "  Err_labels = int(len(dados['151','152','153','154','161','162','163','164'].get_data()))\n",
      "C:\\Users\\User\\AppData\\Local\\Temp\\ipykernel_25088\\720536925.py:34: FutureWarning: The current default of copy=False will change to copy=True in 1.7. Set the value of copy explicitly to avoid this warning\n",
      "  for epoch_values in dados['150','160'].get_data():\n",
      "C:\\Users\\User\\AppData\\Local\\Temp\\ipykernel_25088\\720536925.py:43: FutureWarning: The current default of copy=False will change to copy=True in 1.7. Set the value of copy explicitly to avoid this warning\n",
      "  for epoch_values in dados['151','152','153','154','161','162','163','164'].get_data():\n"
     ]
    },
    {
     "name": "stdout",
     "output_type": "stream",
     "text": [
      "Extracting parameters from c:\\Users\\User\\Documents\\GitHub\\Tese\\Dataset2\\P06\\P06_2.set...\n",
      "Not setting metadata\n",
      "63 matching events found\n",
      "No baseline correction applied\n",
      "0 projection items activated\n",
      "Ready.\n"
     ]
    },
    {
     "name": "stderr",
     "output_type": "stream",
     "text": [
      "C:\\Users\\User\\AppData\\Local\\Temp\\ipykernel_25088\\720536925.py:14: RuntimeWarning: At least one epoch has multiple events. Only the latency of the first event will be retained.\n",
      "  dados = mne.read_epochs_eeglab(path_)\n",
      "C:\\Users\\User\\AppData\\Local\\Temp\\ipykernel_25088\\720536925.py:20: FutureWarning: The current default of copy=False will change to copy=True in 1.7. Set the value of copy explicitly to avoid this warning\n",
      "  Corr_labels = int(len(dados['150','160'].get_data()))\n",
      "C:\\Users\\User\\AppData\\Local\\Temp\\ipykernel_25088\\720536925.py:24: FutureWarning: The current default of copy=False will change to copy=True in 1.7. Set the value of copy explicitly to avoid this warning\n",
      "  Err_labels = int(len(dados['151','152','153','154','161','162','163','164'].get_data()))\n",
      "C:\\Users\\User\\AppData\\Local\\Temp\\ipykernel_25088\\720536925.py:34: FutureWarning: The current default of copy=False will change to copy=True in 1.7. Set the value of copy explicitly to avoid this warning\n",
      "  for epoch_values in dados['150','160'].get_data():\n",
      "C:\\Users\\User\\AppData\\Local\\Temp\\ipykernel_25088\\720536925.py:43: FutureWarning: The current default of copy=False will change to copy=True in 1.7. Set the value of copy explicitly to avoid this warning\n",
      "  for epoch_values in dados['151','152','153','154','161','162','163','164'].get_data():\n"
     ]
    },
    {
     "name": "stdout",
     "output_type": "stream",
     "text": [
      "Extracting parameters from c:\\Users\\User\\Documents\\GitHub\\Tese\\Dataset2\\P06\\P06_3.set...\n",
      "Not setting metadata\n",
      "52 matching events found\n",
      "No baseline correction applied\n",
      "0 projection items activated\n",
      "Ready.\n"
     ]
    },
    {
     "name": "stderr",
     "output_type": "stream",
     "text": [
      "C:\\Users\\User\\AppData\\Local\\Temp\\ipykernel_25088\\720536925.py:14: RuntimeWarning: At least one epoch has multiple events. Only the latency of the first event will be retained.\n",
      "  dados = mne.read_epochs_eeglab(path_)\n",
      "C:\\Users\\User\\AppData\\Local\\Temp\\ipykernel_25088\\720536925.py:20: FutureWarning: The current default of copy=False will change to copy=True in 1.7. Set the value of copy explicitly to avoid this warning\n",
      "  Corr_labels = int(len(dados['150','160'].get_data()))\n",
      "C:\\Users\\User\\AppData\\Local\\Temp\\ipykernel_25088\\720536925.py:24: FutureWarning: The current default of copy=False will change to copy=True in 1.7. Set the value of copy explicitly to avoid this warning\n",
      "  Err_labels = int(len(dados['151','152','153','154','161','162','163','164'].get_data()))\n",
      "C:\\Users\\User\\AppData\\Local\\Temp\\ipykernel_25088\\720536925.py:34: FutureWarning: The current default of copy=False will change to copy=True in 1.7. Set the value of copy explicitly to avoid this warning\n",
      "  for epoch_values in dados['150','160'].get_data():\n",
      "C:\\Users\\User\\AppData\\Local\\Temp\\ipykernel_25088\\720536925.py:43: FutureWarning: The current default of copy=False will change to copy=True in 1.7. Set the value of copy explicitly to avoid this warning\n",
      "  for epoch_values in dados['151','152','153','154','161','162','163','164'].get_data():\n"
     ]
    },
    {
     "name": "stdout",
     "output_type": "stream",
     "text": [
      "Extracting parameters from c:\\Users\\User\\Documents\\GitHub\\Tese\\Dataset2\\P06\\P06_4.set...\n",
      "Not setting metadata\n",
      "48 matching events found\n",
      "No baseline correction applied\n",
      "0 projection items activated\n",
      "Ready.\n"
     ]
    },
    {
     "name": "stderr",
     "output_type": "stream",
     "text": [
      "C:\\Users\\User\\AppData\\Local\\Temp\\ipykernel_25088\\720536925.py:14: RuntimeWarning: At least one epoch has multiple events. Only the latency of the first event will be retained.\n",
      "  dados = mne.read_epochs_eeglab(path_)\n",
      "C:\\Users\\User\\AppData\\Local\\Temp\\ipykernel_25088\\720536925.py:20: FutureWarning: The current default of copy=False will change to copy=True in 1.7. Set the value of copy explicitly to avoid this warning\n",
      "  Corr_labels = int(len(dados['150','160'].get_data()))\n",
      "C:\\Users\\User\\AppData\\Local\\Temp\\ipykernel_25088\\720536925.py:24: FutureWarning: The current default of copy=False will change to copy=True in 1.7. Set the value of copy explicitly to avoid this warning\n",
      "  Err_labels = int(len(dados['151','152','153','154','161','162','163','164'].get_data()))\n",
      "C:\\Users\\User\\AppData\\Local\\Temp\\ipykernel_25088\\720536925.py:34: FutureWarning: The current default of copy=False will change to copy=True in 1.7. Set the value of copy explicitly to avoid this warning\n",
      "  for epoch_values in dados['150','160'].get_data():\n",
      "C:\\Users\\User\\AppData\\Local\\Temp\\ipykernel_25088\\720536925.py:43: FutureWarning: The current default of copy=False will change to copy=True in 1.7. Set the value of copy explicitly to avoid this warning\n",
      "  for epoch_values in dados['151','152','153','154','161','162','163','164'].get_data():\n"
     ]
    },
    {
     "name": "stdout",
     "output_type": "stream",
     "text": [
      "Extracting parameters from c:\\Users\\User\\Documents\\GitHub\\Tese\\Dataset2\\P08\\P08_1.set...\n",
      "Not setting metadata\n",
      "76 matching events found\n",
      "No baseline correction applied\n",
      "0 projection items activated\n",
      "Ready.\n"
     ]
    },
    {
     "name": "stderr",
     "output_type": "stream",
     "text": [
      "C:\\Users\\User\\AppData\\Local\\Temp\\ipykernel_25088\\720536925.py:14: RuntimeWarning: At least one epoch has multiple events. Only the latency of the first event will be retained.\n",
      "  dados = mne.read_epochs_eeglab(path_)\n",
      "C:\\Users\\User\\AppData\\Local\\Temp\\ipykernel_25088\\720536925.py:20: FutureWarning: The current default of copy=False will change to copy=True in 1.7. Set the value of copy explicitly to avoid this warning\n",
      "  Corr_labels = int(len(dados['150','160'].get_data()))\n",
      "C:\\Users\\User\\AppData\\Local\\Temp\\ipykernel_25088\\720536925.py:24: FutureWarning: The current default of copy=False will change to copy=True in 1.7. Set the value of copy explicitly to avoid this warning\n",
      "  Err_labels = int(len(dados['151','152','153','154','161','162','163','164'].get_data()))\n",
      "C:\\Users\\User\\AppData\\Local\\Temp\\ipykernel_25088\\720536925.py:34: FutureWarning: The current default of copy=False will change to copy=True in 1.7. Set the value of copy explicitly to avoid this warning\n",
      "  for epoch_values in dados['150','160'].get_data():\n"
     ]
    },
    {
     "name": "stdout",
     "output_type": "stream",
     "text": [
      "Extracting parameters from c:\\Users\\User\\Documents\\GitHub\\Tese\\Dataset2\\P08\\P08_2.set...\n",
      "Not setting metadata\n",
      "76 matching events found\n"
     ]
    },
    {
     "name": "stderr",
     "output_type": "stream",
     "text": [
      "C:\\Users\\User\\AppData\\Local\\Temp\\ipykernel_25088\\720536925.py:43: FutureWarning: The current default of copy=False will change to copy=True in 1.7. Set the value of copy explicitly to avoid this warning\n",
      "  for epoch_values in dados['151','152','153','154','161','162','163','164'].get_data():\n",
      "C:\\Users\\User\\AppData\\Local\\Temp\\ipykernel_25088\\720536925.py:14: RuntimeWarning: At least one epoch has multiple events. Only the latency of the first event will be retained.\n",
      "  dados = mne.read_epochs_eeglab(path_)\n"
     ]
    },
    {
     "name": "stdout",
     "output_type": "stream",
     "text": [
      "No baseline correction applied\n",
      "0 projection items activated\n",
      "Ready.\n"
     ]
    },
    {
     "name": "stderr",
     "output_type": "stream",
     "text": [
      "C:\\Users\\User\\AppData\\Local\\Temp\\ipykernel_25088\\720536925.py:20: FutureWarning: The current default of copy=False will change to copy=True in 1.7. Set the value of copy explicitly to avoid this warning\n",
      "  Corr_labels = int(len(dados['150','160'].get_data()))\n",
      "C:\\Users\\User\\AppData\\Local\\Temp\\ipykernel_25088\\720536925.py:24: FutureWarning: The current default of copy=False will change to copy=True in 1.7. Set the value of copy explicitly to avoid this warning\n",
      "  Err_labels = int(len(dados['151','152','153','154','161','162','163','164'].get_data()))\n",
      "C:\\Users\\User\\AppData\\Local\\Temp\\ipykernel_25088\\720536925.py:34: FutureWarning: The current default of copy=False will change to copy=True in 1.7. Set the value of copy explicitly to avoid this warning\n",
      "  for epoch_values in dados['150','160'].get_data():\n",
      "C:\\Users\\User\\AppData\\Local\\Temp\\ipykernel_25088\\720536925.py:43: FutureWarning: The current default of copy=False will change to copy=True in 1.7. Set the value of copy explicitly to avoid this warning\n",
      "  for epoch_values in dados['151','152','153','154','161','162','163','164'].get_data():\n"
     ]
    },
    {
     "name": "stdout",
     "output_type": "stream",
     "text": [
      "Extracting parameters from c:\\Users\\User\\Documents\\GitHub\\Tese\\Dataset2\\P08\\P08_3.set...\n",
      "Not setting metadata\n",
      "75 matching events found\n",
      "No baseline correction applied\n",
      "0 projection items activated\n",
      "Ready.\n"
     ]
    },
    {
     "name": "stderr",
     "output_type": "stream",
     "text": [
      "C:\\Users\\User\\AppData\\Local\\Temp\\ipykernel_25088\\720536925.py:14: RuntimeWarning: At least one epoch has multiple events. Only the latency of the first event will be retained.\n",
      "  dados = mne.read_epochs_eeglab(path_)\n",
      "C:\\Users\\User\\AppData\\Local\\Temp\\ipykernel_25088\\720536925.py:20: FutureWarning: The current default of copy=False will change to copy=True in 1.7. Set the value of copy explicitly to avoid this warning\n",
      "  Corr_labels = int(len(dados['150','160'].get_data()))\n",
      "C:\\Users\\User\\AppData\\Local\\Temp\\ipykernel_25088\\720536925.py:24: FutureWarning: The current default of copy=False will change to copy=True in 1.7. Set the value of copy explicitly to avoid this warning\n",
      "  Err_labels = int(len(dados['151','152','153','154','161','162','163','164'].get_data()))\n",
      "C:\\Users\\User\\AppData\\Local\\Temp\\ipykernel_25088\\720536925.py:34: FutureWarning: The current default of copy=False will change to copy=True in 1.7. Set the value of copy explicitly to avoid this warning\n",
      "  for epoch_values in dados['150','160'].get_data():\n"
     ]
    },
    {
     "name": "stdout",
     "output_type": "stream",
     "text": [
      "Extracting parameters from c:\\Users\\User\\Documents\\GitHub\\Tese\\Dataset2\\P08\\P08_4.set...\n",
      "Not setting metadata\n",
      "78 matching events found\n",
      "No baseline correction applied\n",
      "0 projection items activated\n",
      "Ready.\n"
     ]
    },
    {
     "name": "stderr",
     "output_type": "stream",
     "text": [
      "C:\\Users\\User\\AppData\\Local\\Temp\\ipykernel_25088\\720536925.py:43: FutureWarning: The current default of copy=False will change to copy=True in 1.7. Set the value of copy explicitly to avoid this warning\n",
      "  for epoch_values in dados['151','152','153','154','161','162','163','164'].get_data():\n",
      "C:\\Users\\User\\AppData\\Local\\Temp\\ipykernel_25088\\720536925.py:14: RuntimeWarning: At least one epoch has multiple events. Only the latency of the first event will be retained.\n",
      "  dados = mne.read_epochs_eeglab(path_)\n",
      "C:\\Users\\User\\AppData\\Local\\Temp\\ipykernel_25088\\720536925.py:20: FutureWarning: The current default of copy=False will change to copy=True in 1.7. Set the value of copy explicitly to avoid this warning\n",
      "  Corr_labels = int(len(dados['150','160'].get_data()))\n",
      "C:\\Users\\User\\AppData\\Local\\Temp\\ipykernel_25088\\720536925.py:24: FutureWarning: The current default of copy=False will change to copy=True in 1.7. Set the value of copy explicitly to avoid this warning\n",
      "  Err_labels = int(len(dados['151','152','153','154','161','162','163','164'].get_data()))\n",
      "C:\\Users\\User\\AppData\\Local\\Temp\\ipykernel_25088\\720536925.py:34: FutureWarning: The current default of copy=False will change to copy=True in 1.7. Set the value of copy explicitly to avoid this warning\n",
      "  for epoch_values in dados['150','160'].get_data():\n"
     ]
    },
    {
     "name": "stdout",
     "output_type": "stream",
     "text": [
      "Extracting parameters from c:\\Users\\User\\Documents\\GitHub\\Tese\\Dataset2\\P09\\P09_1.set...\n",
      "Not setting metadata\n",
      "79 matching events found\n",
      "No baseline correction applied\n",
      "0 projection items activated\n",
      "Ready.\n"
     ]
    },
    {
     "name": "stderr",
     "output_type": "stream",
     "text": [
      "C:\\Users\\User\\AppData\\Local\\Temp\\ipykernel_25088\\720536925.py:43: FutureWarning: The current default of copy=False will change to copy=True in 1.7. Set the value of copy explicitly to avoid this warning\n",
      "  for epoch_values in dados['151','152','153','154','161','162','163','164'].get_data():\n",
      "C:\\Users\\User\\AppData\\Local\\Temp\\ipykernel_25088\\720536925.py:14: RuntimeWarning: At least one epoch has multiple events. Only the latency of the first event will be retained.\n",
      "  dados = mne.read_epochs_eeglab(path_)\n",
      "C:\\Users\\User\\AppData\\Local\\Temp\\ipykernel_25088\\720536925.py:20: FutureWarning: The current default of copy=False will change to copy=True in 1.7. Set the value of copy explicitly to avoid this warning\n",
      "  Corr_labels = int(len(dados['150','160'].get_data()))\n",
      "C:\\Users\\User\\AppData\\Local\\Temp\\ipykernel_25088\\720536925.py:34: FutureWarning: The current default of copy=False will change to copy=True in 1.7. Set the value of copy explicitly to avoid this warning\n",
      "  for epoch_values in dados['150','160'].get_data():\n"
     ]
    },
    {
     "name": "stdout",
     "output_type": "stream",
     "text": [
      "Extracting parameters from c:\\Users\\User\\Documents\\GitHub\\Tese\\Dataset2\\P09\\P09_2.set...\n",
      "Not setting metadata\n",
      "80 matching events found\n",
      "No baseline correction applied\n",
      "0 projection items activated\n",
      "Ready.\n"
     ]
    },
    {
     "name": "stderr",
     "output_type": "stream",
     "text": [
      "C:\\Users\\User\\AppData\\Local\\Temp\\ipykernel_25088\\720536925.py:14: RuntimeWarning: At least one epoch has multiple events. Only the latency of the first event will be retained.\n",
      "  dados = mne.read_epochs_eeglab(path_)\n",
      "C:\\Users\\User\\AppData\\Local\\Temp\\ipykernel_25088\\720536925.py:20: FutureWarning: The current default of copy=False will change to copy=True in 1.7. Set the value of copy explicitly to avoid this warning\n",
      "  Corr_labels = int(len(dados['150','160'].get_data()))\n",
      "C:\\Users\\User\\AppData\\Local\\Temp\\ipykernel_25088\\720536925.py:24: FutureWarning: The current default of copy=False will change to copy=True in 1.7. Set the value of copy explicitly to avoid this warning\n",
      "  Err_labels = int(len(dados['151','152','153','154','161','162','163','164'].get_data()))\n",
      "C:\\Users\\User\\AppData\\Local\\Temp\\ipykernel_25088\\720536925.py:34: FutureWarning: The current default of copy=False will change to copy=True in 1.7. Set the value of copy explicitly to avoid this warning\n",
      "  for epoch_values in dados['150','160'].get_data():\n"
     ]
    },
    {
     "name": "stdout",
     "output_type": "stream",
     "text": [
      "Extracting parameters from c:\\Users\\User\\Documents\\GitHub\\Tese\\Dataset2\\P09\\P09_3.set...\n",
      "Not setting metadata\n",
      "81 matching events found\n",
      "No baseline correction applied\n",
      "0 projection items activated\n",
      "Ready.\n"
     ]
    },
    {
     "name": "stderr",
     "output_type": "stream",
     "text": [
      "C:\\Users\\User\\AppData\\Local\\Temp\\ipykernel_25088\\720536925.py:43: FutureWarning: The current default of copy=False will change to copy=True in 1.7. Set the value of copy explicitly to avoid this warning\n",
      "  for epoch_values in dados['151','152','153','154','161','162','163','164'].get_data():\n",
      "C:\\Users\\User\\AppData\\Local\\Temp\\ipykernel_25088\\720536925.py:14: RuntimeWarning: At least one epoch has multiple events. Only the latency of the first event will be retained.\n",
      "  dados = mne.read_epochs_eeglab(path_)\n",
      "C:\\Users\\User\\AppData\\Local\\Temp\\ipykernel_25088\\720536925.py:20: FutureWarning: The current default of copy=False will change to copy=True in 1.7. Set the value of copy explicitly to avoid this warning\n",
      "  Corr_labels = int(len(dados['150','160'].get_data()))\n",
      "C:\\Users\\User\\AppData\\Local\\Temp\\ipykernel_25088\\720536925.py:24: FutureWarning: The current default of copy=False will change to copy=True in 1.7. Set the value of copy explicitly to avoid this warning\n",
      "  Err_labels = int(len(dados['151','152','153','154','161','162','163','164'].get_data()))\n",
      "C:\\Users\\User\\AppData\\Local\\Temp\\ipykernel_25088\\720536925.py:34: FutureWarning: The current default of copy=False will change to copy=True in 1.7. Set the value of copy explicitly to avoid this warning\n",
      "  for epoch_values in dados['150','160'].get_data():\n"
     ]
    },
    {
     "name": "stdout",
     "output_type": "stream",
     "text": [
      "Extracting parameters from c:\\Users\\User\\Documents\\GitHub\\Tese\\Dataset2\\P09\\P09_4.set...\n",
      "Not setting metadata\n",
      "78 matching events found\n",
      "No baseline correction applied\n",
      "0 projection items activated\n",
      "Ready.\n"
     ]
    },
    {
     "name": "stderr",
     "output_type": "stream",
     "text": [
      "C:\\Users\\User\\AppData\\Local\\Temp\\ipykernel_25088\\720536925.py:43: FutureWarning: The current default of copy=False will change to copy=True in 1.7. Set the value of copy explicitly to avoid this warning\n",
      "  for epoch_values in dados['151','152','153','154','161','162','163','164'].get_data():\n",
      "C:\\Users\\User\\AppData\\Local\\Temp\\ipykernel_25088\\720536925.py:14: RuntimeWarning: At least one epoch has multiple events. Only the latency of the first event will be retained.\n",
      "  dados = mne.read_epochs_eeglab(path_)\n",
      "C:\\Users\\User\\AppData\\Local\\Temp\\ipykernel_25088\\720536925.py:20: FutureWarning: The current default of copy=False will change to copy=True in 1.7. Set the value of copy explicitly to avoid this warning\n",
      "  Corr_labels = int(len(dados['150','160'].get_data()))\n",
      "C:\\Users\\User\\AppData\\Local\\Temp\\ipykernel_25088\\720536925.py:24: FutureWarning: The current default of copy=False will change to copy=True in 1.7. Set the value of copy explicitly to avoid this warning\n",
      "  Err_labels = int(len(dados['151','152','153','154','161','162','163','164'].get_data()))\n",
      "C:\\Users\\User\\AppData\\Local\\Temp\\ipykernel_25088\\720536925.py:34: FutureWarning: The current default of copy=False will change to copy=True in 1.7. Set the value of copy explicitly to avoid this warning\n",
      "  for epoch_values in dados['150','160'].get_data():\n"
     ]
    },
    {
     "name": "stdout",
     "output_type": "stream",
     "text": [
      "Extracting parameters from c:\\Users\\User\\Documents\\GitHub\\Tese\\Dataset2\\P11\\P11_1.set...\n",
      "Not setting metadata\n",
      "66 matching events found\n",
      "No baseline correction applied\n",
      "0 projection items activated\n",
      "Ready.\n"
     ]
    },
    {
     "name": "stderr",
     "output_type": "stream",
     "text": [
      "C:\\Users\\User\\AppData\\Local\\Temp\\ipykernel_25088\\720536925.py:43: FutureWarning: The current default of copy=False will change to copy=True in 1.7. Set the value of copy explicitly to avoid this warning\n",
      "  for epoch_values in dados['151','152','153','154','161','162','163','164'].get_data():\n",
      "C:\\Users\\User\\AppData\\Local\\Temp\\ipykernel_25088\\720536925.py:14: RuntimeWarning: At least one epoch has multiple events. Only the latency of the first event will be retained.\n",
      "  dados = mne.read_epochs_eeglab(path_)\n",
      "C:\\Users\\User\\AppData\\Local\\Temp\\ipykernel_25088\\720536925.py:20: FutureWarning: The current default of copy=False will change to copy=True in 1.7. Set the value of copy explicitly to avoid this warning\n",
      "  Corr_labels = int(len(dados['150','160'].get_data()))\n",
      "C:\\Users\\User\\AppData\\Local\\Temp\\ipykernel_25088\\720536925.py:24: FutureWarning: The current default of copy=False will change to copy=True in 1.7. Set the value of copy explicitly to avoid this warning\n",
      "  Err_labels = int(len(dados['151','152','153','154','161','162','163','164'].get_data()))\n",
      "C:\\Users\\User\\AppData\\Local\\Temp\\ipykernel_25088\\720536925.py:34: FutureWarning: The current default of copy=False will change to copy=True in 1.7. Set the value of copy explicitly to avoid this warning\n",
      "  for epoch_values in dados['150','160'].get_data():\n",
      "C:\\Users\\User\\AppData\\Local\\Temp\\ipykernel_25088\\720536925.py:43: FutureWarning: The current default of copy=False will change to copy=True in 1.7. Set the value of copy explicitly to avoid this warning\n",
      "  for epoch_values in dados['151','152','153','154','161','162','163','164'].get_data():\n"
     ]
    },
    {
     "name": "stdout",
     "output_type": "stream",
     "text": [
      "Extracting parameters from c:\\Users\\User\\Documents\\GitHub\\Tese\\Dataset2\\P11\\P11_2.set...\n",
      "Not setting metadata\n",
      "43 matching events found\n",
      "No baseline correction applied\n",
      "0 projection items activated\n",
      "Ready.\n"
     ]
    },
    {
     "name": "stderr",
     "output_type": "stream",
     "text": [
      "C:\\Users\\User\\AppData\\Local\\Temp\\ipykernel_25088\\720536925.py:14: RuntimeWarning: At least one epoch has multiple events. Only the latency of the first event will be retained.\n",
      "  dados = mne.read_epochs_eeglab(path_)\n",
      "C:\\Users\\User\\AppData\\Local\\Temp\\ipykernel_25088\\720536925.py:20: FutureWarning: The current default of copy=False will change to copy=True in 1.7. Set the value of copy explicitly to avoid this warning\n",
      "  Corr_labels = int(len(dados['150','160'].get_data()))\n",
      "C:\\Users\\User\\AppData\\Local\\Temp\\ipykernel_25088\\720536925.py:24: FutureWarning: The current default of copy=False will change to copy=True in 1.7. Set the value of copy explicitly to avoid this warning\n",
      "  Err_labels = int(len(dados['151','152','153','154','161','162','163','164'].get_data()))\n",
      "C:\\Users\\User\\AppData\\Local\\Temp\\ipykernel_25088\\720536925.py:34: FutureWarning: The current default of copy=False will change to copy=True in 1.7. Set the value of copy explicitly to avoid this warning\n",
      "  for epoch_values in dados['150','160'].get_data():\n",
      "C:\\Users\\User\\AppData\\Local\\Temp\\ipykernel_25088\\720536925.py:43: FutureWarning: The current default of copy=False will change to copy=True in 1.7. Set the value of copy explicitly to avoid this warning\n",
      "  for epoch_values in dados['151','152','153','154','161','162','163','164'].get_data():\n"
     ]
    },
    {
     "name": "stdout",
     "output_type": "stream",
     "text": [
      "Extracting parameters from c:\\Users\\User\\Documents\\GitHub\\Tese\\Dataset2\\P11\\P11_3.set...\n",
      "Not setting metadata\n",
      "50 matching events found\n",
      "No baseline correction applied\n",
      "0 projection items activated\n",
      "Ready.\n"
     ]
    },
    {
     "name": "stderr",
     "output_type": "stream",
     "text": [
      "C:\\Users\\User\\AppData\\Local\\Temp\\ipykernel_25088\\720536925.py:14: RuntimeWarning: At least one epoch has multiple events. Only the latency of the first event will be retained.\n",
      "  dados = mne.read_epochs_eeglab(path_)\n",
      "C:\\Users\\User\\AppData\\Local\\Temp\\ipykernel_25088\\720536925.py:20: FutureWarning: The current default of copy=False will change to copy=True in 1.7. Set the value of copy explicitly to avoid this warning\n",
      "  Corr_labels = int(len(dados['150','160'].get_data()))\n",
      "C:\\Users\\User\\AppData\\Local\\Temp\\ipykernel_25088\\720536925.py:24: FutureWarning: The current default of copy=False will change to copy=True in 1.7. Set the value of copy explicitly to avoid this warning\n",
      "  Err_labels = int(len(dados['151','152','153','154','161','162','163','164'].get_data()))\n",
      "C:\\Users\\User\\AppData\\Local\\Temp\\ipykernel_25088\\720536925.py:34: FutureWarning: The current default of copy=False will change to copy=True in 1.7. Set the value of copy explicitly to avoid this warning\n",
      "  for epoch_values in dados['150','160'].get_data():\n",
      "C:\\Users\\User\\AppData\\Local\\Temp\\ipykernel_25088\\720536925.py:43: FutureWarning: The current default of copy=False will change to copy=True in 1.7. Set the value of copy explicitly to avoid this warning\n",
      "  for epoch_values in dados['151','152','153','154','161','162','163','164'].get_data():\n"
     ]
    },
    {
     "name": "stdout",
     "output_type": "stream",
     "text": [
      "Extracting parameters from c:\\Users\\User\\Documents\\GitHub\\Tese\\Dataset2\\P11\\P11_4.set...\n",
      "Not setting metadata\n",
      "56 matching events found\n",
      "No baseline correction applied\n",
      "0 projection items activated\n",
      "Ready.\n"
     ]
    },
    {
     "name": "stderr",
     "output_type": "stream",
     "text": [
      "C:\\Users\\User\\AppData\\Local\\Temp\\ipykernel_25088\\720536925.py:14: RuntimeWarning: At least one epoch has multiple events. Only the latency of the first event will be retained.\n",
      "  dados = mne.read_epochs_eeglab(path_)\n",
      "C:\\Users\\User\\AppData\\Local\\Temp\\ipykernel_25088\\720536925.py:20: FutureWarning: The current default of copy=False will change to copy=True in 1.7. Set the value of copy explicitly to avoid this warning\n",
      "  Corr_labels = int(len(dados['150','160'].get_data()))\n",
      "C:\\Users\\User\\AppData\\Local\\Temp\\ipykernel_25088\\720536925.py:24: FutureWarning: The current default of copy=False will change to copy=True in 1.7. Set the value of copy explicitly to avoid this warning\n",
      "  Err_labels = int(len(dados['151','152','153','154','161','162','163','164'].get_data()))\n",
      "C:\\Users\\User\\AppData\\Local\\Temp\\ipykernel_25088\\720536925.py:34: FutureWarning: The current default of copy=False will change to copy=True in 1.7. Set the value of copy explicitly to avoid this warning\n",
      "  for epoch_values in dados['150','160'].get_data():\n"
     ]
    },
    {
     "name": "stdout",
     "output_type": "stream",
     "text": [
      "Extracting parameters from c:\\Users\\User\\Documents\\GitHub\\Tese\\Dataset2\\P12\\P12_1.set...\n"
     ]
    },
    {
     "name": "stderr",
     "output_type": "stream",
     "text": [
      "C:\\Users\\User\\AppData\\Local\\Temp\\ipykernel_25088\\720536925.py:43: FutureWarning: The current default of copy=False will change to copy=True in 1.7. Set the value of copy explicitly to avoid this warning\n",
      "  for epoch_values in dados['151','152','153','154','161','162','163','164'].get_data():\n",
      "C:\\Users\\User\\AppData\\Local\\Temp\\ipykernel_25088\\720536925.py:14: RuntimeWarning: At least one epoch has multiple events. Only the latency of the first event will be retained.\n",
      "  dados = mne.read_epochs_eeglab(path_)\n"
     ]
    },
    {
     "name": "stdout",
     "output_type": "stream",
     "text": [
      "Not setting metadata\n",
      "77 matching events found\n",
      "No baseline correction applied\n",
      "0 projection items activated\n",
      "Ready.\n"
     ]
    },
    {
     "name": "stderr",
     "output_type": "stream",
     "text": [
      "C:\\Users\\User\\AppData\\Local\\Temp\\ipykernel_25088\\720536925.py:20: FutureWarning: The current default of copy=False will change to copy=True in 1.7. Set the value of copy explicitly to avoid this warning\n",
      "  Corr_labels = int(len(dados['150','160'].get_data()))\n",
      "C:\\Users\\User\\AppData\\Local\\Temp\\ipykernel_25088\\720536925.py:24: FutureWarning: The current default of copy=False will change to copy=True in 1.7. Set the value of copy explicitly to avoid this warning\n",
      "  Err_labels = int(len(dados['151','152','153','154','161','162','163','164'].get_data()))\n",
      "C:\\Users\\User\\AppData\\Local\\Temp\\ipykernel_25088\\720536925.py:34: FutureWarning: The current default of copy=False will change to copy=True in 1.7. Set the value of copy explicitly to avoid this warning\n",
      "  for epoch_values in dados['150','160'].get_data():\n",
      "C:\\Users\\User\\AppData\\Local\\Temp\\ipykernel_25088\\720536925.py:43: FutureWarning: The current default of copy=False will change to copy=True in 1.7. Set the value of copy explicitly to avoid this warning\n",
      "  for epoch_values in dados['151','152','153','154','161','162','163','164'].get_data():\n"
     ]
    },
    {
     "name": "stdout",
     "output_type": "stream",
     "text": [
      "Extracting parameters from c:\\Users\\User\\Documents\\GitHub\\Tese\\Dataset2\\P12\\P12_2.set...\n",
      "Not setting metadata\n",
      "81 matching events found\n",
      "No baseline correction applied\n",
      "0 projection items activated\n",
      "Ready.\n"
     ]
    },
    {
     "name": "stderr",
     "output_type": "stream",
     "text": [
      "C:\\Users\\User\\AppData\\Local\\Temp\\ipykernel_25088\\720536925.py:14: RuntimeWarning: At least one epoch has multiple events. Only the latency of the first event will be retained.\n",
      "  dados = mne.read_epochs_eeglab(path_)\n",
      "C:\\Users\\User\\AppData\\Local\\Temp\\ipykernel_25088\\720536925.py:20: FutureWarning: The current default of copy=False will change to copy=True in 1.7. Set the value of copy explicitly to avoid this warning\n",
      "  Corr_labels = int(len(dados['150','160'].get_data()))\n",
      "C:\\Users\\User\\AppData\\Local\\Temp\\ipykernel_25088\\720536925.py:24: FutureWarning: The current default of copy=False will change to copy=True in 1.7. Set the value of copy explicitly to avoid this warning\n",
      "  Err_labels = int(len(dados['151','152','153','154','161','162','163','164'].get_data()))\n",
      "C:\\Users\\User\\AppData\\Local\\Temp\\ipykernel_25088\\720536925.py:34: FutureWarning: The current default of copy=False will change to copy=True in 1.7. Set the value of copy explicitly to avoid this warning\n",
      "  for epoch_values in dados['150','160'].get_data():\n"
     ]
    },
    {
     "name": "stdout",
     "output_type": "stream",
     "text": [
      "Extracting parameters from c:\\Users\\User\\Documents\\GitHub\\Tese\\Dataset2\\P12\\P12_3.set...\n",
      "Not setting metadata\n",
      "79 matching events found\n",
      "No baseline correction applied\n",
      "0 projection items activated\n",
      "Ready.\n"
     ]
    },
    {
     "name": "stderr",
     "output_type": "stream",
     "text": [
      "C:\\Users\\User\\AppData\\Local\\Temp\\ipykernel_25088\\720536925.py:43: FutureWarning: The current default of copy=False will change to copy=True in 1.7. Set the value of copy explicitly to avoid this warning\n",
      "  for epoch_values in dados['151','152','153','154','161','162','163','164'].get_data():\n",
      "C:\\Users\\User\\AppData\\Local\\Temp\\ipykernel_25088\\720536925.py:14: RuntimeWarning: At least one epoch has multiple events. Only the latency of the first event will be retained.\n",
      "  dados = mne.read_epochs_eeglab(path_)\n",
      "C:\\Users\\User\\AppData\\Local\\Temp\\ipykernel_25088\\720536925.py:20: FutureWarning: The current default of copy=False will change to copy=True in 1.7. Set the value of copy explicitly to avoid this warning\n",
      "  Corr_labels = int(len(dados['150','160'].get_data()))\n",
      "C:\\Users\\User\\AppData\\Local\\Temp\\ipykernel_25088\\720536925.py:24: FutureWarning: The current default of copy=False will change to copy=True in 1.7. Set the value of copy explicitly to avoid this warning\n",
      "  Err_labels = int(len(dados['151','152','153','154','161','162','163','164'].get_data()))\n",
      "C:\\Users\\User\\AppData\\Local\\Temp\\ipykernel_25088\\720536925.py:34: FutureWarning: The current default of copy=False will change to copy=True in 1.7. Set the value of copy explicitly to avoid this warning\n",
      "  for epoch_values in dados['150','160'].get_data():\n",
      "C:\\Users\\User\\AppData\\Local\\Temp\\ipykernel_25088\\720536925.py:43: FutureWarning: The current default of copy=False will change to copy=True in 1.7. Set the value of copy explicitly to avoid this warning\n",
      "  for epoch_values in dados['151','152','153','154','161','162','163','164'].get_data():\n"
     ]
    },
    {
     "name": "stdout",
     "output_type": "stream",
     "text": [
      "Extracting parameters from c:\\Users\\User\\Documents\\GitHub\\Tese\\Dataset2\\P12\\P12_4.set...\n",
      "Not setting metadata\n",
      "79 matching events found\n",
      "No baseline correction applied\n",
      "0 projection items activated\n",
      "Ready.\n"
     ]
    },
    {
     "name": "stderr",
     "output_type": "stream",
     "text": [
      "C:\\Users\\User\\AppData\\Local\\Temp\\ipykernel_25088\\720536925.py:14: RuntimeWarning: At least one epoch has multiple events. Only the latency of the first event will be retained.\n",
      "  dados = mne.read_epochs_eeglab(path_)\n",
      "C:\\Users\\User\\AppData\\Local\\Temp\\ipykernel_25088\\720536925.py:20: FutureWarning: The current default of copy=False will change to copy=True in 1.7. Set the value of copy explicitly to avoid this warning\n",
      "  Corr_labels = int(len(dados['150','160'].get_data()))\n",
      "C:\\Users\\User\\AppData\\Local\\Temp\\ipykernel_25088\\720536925.py:24: FutureWarning: The current default of copy=False will change to copy=True in 1.7. Set the value of copy explicitly to avoid this warning\n",
      "  Err_labels = int(len(dados['151','152','153','154','161','162','163','164'].get_data()))\n",
      "C:\\Users\\User\\AppData\\Local\\Temp\\ipykernel_25088\\720536925.py:34: FutureWarning: The current default of copy=False will change to copy=True in 1.7. Set the value of copy explicitly to avoid this warning\n",
      "  for epoch_values in dados['150','160'].get_data():\n"
     ]
    },
    {
     "name": "stdout",
     "output_type": "stream",
     "text": [
      "Extracting parameters from c:\\Users\\User\\Documents\\GitHub\\Tese\\Dataset2\\P13\\P13_1.set...\n",
      "Not setting metadata\n",
      "72 matching events found\n",
      "No baseline correction applied\n",
      "0 projection items activated\n",
      "Ready.\n"
     ]
    },
    {
     "name": "stderr",
     "output_type": "stream",
     "text": [
      "C:\\Users\\User\\AppData\\Local\\Temp\\ipykernel_25088\\720536925.py:43: FutureWarning: The current default of copy=False will change to copy=True in 1.7. Set the value of copy explicitly to avoid this warning\n",
      "  for epoch_values in dados['151','152','153','154','161','162','163','164'].get_data():\n",
      "C:\\Users\\User\\AppData\\Local\\Temp\\ipykernel_25088\\720536925.py:14: RuntimeWarning: At least one epoch has multiple events. Only the latency of the first event will be retained.\n",
      "  dados = mne.read_epochs_eeglab(path_)\n",
      "C:\\Users\\User\\AppData\\Local\\Temp\\ipykernel_25088\\720536925.py:20: FutureWarning: The current default of copy=False will change to copy=True in 1.7. Set the value of copy explicitly to avoid this warning\n",
      "  Corr_labels = int(len(dados['150','160'].get_data()))\n",
      "C:\\Users\\User\\AppData\\Local\\Temp\\ipykernel_25088\\720536925.py:24: FutureWarning: The current default of copy=False will change to copy=True in 1.7. Set the value of copy explicitly to avoid this warning\n",
      "  Err_labels = int(len(dados['151','152','153','154','161','162','163','164'].get_data()))\n",
      "C:\\Users\\User\\AppData\\Local\\Temp\\ipykernel_25088\\720536925.py:34: FutureWarning: The current default of copy=False will change to copy=True in 1.7. Set the value of copy explicitly to avoid this warning\n",
      "  for epoch_values in dados['150','160'].get_data():\n"
     ]
    },
    {
     "name": "stdout",
     "output_type": "stream",
     "text": [
      "Extracting parameters from c:\\Users\\User\\Documents\\GitHub\\Tese\\Dataset2\\P13\\P13_2.set...\n",
      "Not setting metadata\n",
      "72 matching events found\n",
      "No baseline correction applied\n",
      "0 projection items activated\n",
      "Ready.\n"
     ]
    },
    {
     "name": "stderr",
     "output_type": "stream",
     "text": [
      "C:\\Users\\User\\AppData\\Local\\Temp\\ipykernel_25088\\720536925.py:43: FutureWarning: The current default of copy=False will change to copy=True in 1.7. Set the value of copy explicitly to avoid this warning\n",
      "  for epoch_values in dados['151','152','153','154','161','162','163','164'].get_data():\n",
      "C:\\Users\\User\\AppData\\Local\\Temp\\ipykernel_25088\\720536925.py:14: RuntimeWarning: At least one epoch has multiple events. Only the latency of the first event will be retained.\n",
      "  dados = mne.read_epochs_eeglab(path_)\n",
      "C:\\Users\\User\\AppData\\Local\\Temp\\ipykernel_25088\\720536925.py:20: FutureWarning: The current default of copy=False will change to copy=True in 1.7. Set the value of copy explicitly to avoid this warning\n",
      "  Corr_labels = int(len(dados['150','160'].get_data()))\n",
      "C:\\Users\\User\\AppData\\Local\\Temp\\ipykernel_25088\\720536925.py:24: FutureWarning: The current default of copy=False will change to copy=True in 1.7. Set the value of copy explicitly to avoid this warning\n",
      "  Err_labels = int(len(dados['151','152','153','154','161','162','163','164'].get_data()))\n",
      "C:\\Users\\User\\AppData\\Local\\Temp\\ipykernel_25088\\720536925.py:34: FutureWarning: The current default of copy=False will change to copy=True in 1.7. Set the value of copy explicitly to avoid this warning\n",
      "  for epoch_values in dados['150','160'].get_data():\n"
     ]
    },
    {
     "name": "stdout",
     "output_type": "stream",
     "text": [
      "Extracting parameters from c:\\Users\\User\\Documents\\GitHub\\Tese\\Dataset2\\P13\\P13_3.set...\n"
     ]
    },
    {
     "name": "stderr",
     "output_type": "stream",
     "text": [
      "C:\\Users\\User\\AppData\\Local\\Temp\\ipykernel_25088\\720536925.py:43: FutureWarning: The current default of copy=False will change to copy=True in 1.7. Set the value of copy explicitly to avoid this warning\n",
      "  for epoch_values in dados['151','152','153','154','161','162','163','164'].get_data():\n",
      "C:\\Users\\User\\AppData\\Local\\Temp\\ipykernel_25088\\720536925.py:14: RuntimeWarning: At least one epoch has multiple events. Only the latency of the first event will be retained.\n",
      "  dados = mne.read_epochs_eeglab(path_)\n"
     ]
    },
    {
     "name": "stdout",
     "output_type": "stream",
     "text": [
      "Not setting metadata\n",
      "69 matching events found\n",
      "No baseline correction applied\n",
      "0 projection items activated\n",
      "Ready.\n"
     ]
    },
    {
     "name": "stderr",
     "output_type": "stream",
     "text": [
      "C:\\Users\\User\\AppData\\Local\\Temp\\ipykernel_25088\\720536925.py:20: FutureWarning: The current default of copy=False will change to copy=True in 1.7. Set the value of copy explicitly to avoid this warning\n",
      "  Corr_labels = int(len(dados['150','160'].get_data()))\n",
      "C:\\Users\\User\\AppData\\Local\\Temp\\ipykernel_25088\\720536925.py:24: FutureWarning: The current default of copy=False will change to copy=True in 1.7. Set the value of copy explicitly to avoid this warning\n",
      "  Err_labels = int(len(dados['151','152','153','154','161','162','163','164'].get_data()))\n",
      "C:\\Users\\User\\AppData\\Local\\Temp\\ipykernel_25088\\720536925.py:34: FutureWarning: The current default of copy=False will change to copy=True in 1.7. Set the value of copy explicitly to avoid this warning\n",
      "  for epoch_values in dados['150','160'].get_data():\n",
      "C:\\Users\\User\\AppData\\Local\\Temp\\ipykernel_25088\\720536925.py:43: FutureWarning: The current default of copy=False will change to copy=True in 1.7. Set the value of copy explicitly to avoid this warning\n",
      "  for epoch_values in dados['151','152','153','154','161','162','163','164'].get_data():\n"
     ]
    },
    {
     "name": "stdout",
     "output_type": "stream",
     "text": [
      "Extracting parameters from c:\\Users\\User\\Documents\\GitHub\\Tese\\Dataset2\\P13\\P13_4.set...\n",
      "Not setting metadata\n",
      "74 matching events found\n",
      "No baseline correction applied\n",
      "0 projection items activated\n",
      "Ready.\n"
     ]
    },
    {
     "name": "stderr",
     "output_type": "stream",
     "text": [
      "C:\\Users\\User\\AppData\\Local\\Temp\\ipykernel_25088\\720536925.py:14: RuntimeWarning: At least one epoch has multiple events. Only the latency of the first event will be retained.\n",
      "  dados = mne.read_epochs_eeglab(path_)\n",
      "C:\\Users\\User\\AppData\\Local\\Temp\\ipykernel_25088\\720536925.py:20: FutureWarning: The current default of copy=False will change to copy=True in 1.7. Set the value of copy explicitly to avoid this warning\n",
      "  Corr_labels = int(len(dados['150','160'].get_data()))\n",
      "C:\\Users\\User\\AppData\\Local\\Temp\\ipykernel_25088\\720536925.py:24: FutureWarning: The current default of copy=False will change to copy=True in 1.7. Set the value of copy explicitly to avoid this warning\n",
      "  Err_labels = int(len(dados['151','152','153','154','161','162','163','164'].get_data()))\n",
      "C:\\Users\\User\\AppData\\Local\\Temp\\ipykernel_25088\\720536925.py:34: FutureWarning: The current default of copy=False will change to copy=True in 1.7. Set the value of copy explicitly to avoid this warning\n",
      "  for epoch_values in dados['150','160'].get_data():\n"
     ]
    },
    {
     "name": "stdout",
     "output_type": "stream",
     "text": [
      "Extracting parameters from c:\\Users\\User\\Documents\\GitHub\\Tese\\Dataset2\\P14\\P14_1.set...\n",
      "Not setting metadata\n",
      "74 matching events found\n",
      "No baseline correction applied\n",
      "0 projection items activated\n",
      "Ready.\n"
     ]
    },
    {
     "name": "stderr",
     "output_type": "stream",
     "text": [
      "C:\\Users\\User\\AppData\\Local\\Temp\\ipykernel_25088\\720536925.py:43: FutureWarning: The current default of copy=False will change to copy=True in 1.7. Set the value of copy explicitly to avoid this warning\n",
      "  for epoch_values in dados['151','152','153','154','161','162','163','164'].get_data():\n",
      "C:\\Users\\User\\AppData\\Local\\Temp\\ipykernel_25088\\720536925.py:14: RuntimeWarning: At least one epoch has multiple events. Only the latency of the first event will be retained.\n",
      "  dados = mne.read_epochs_eeglab(path_)\n",
      "C:\\Users\\User\\AppData\\Local\\Temp\\ipykernel_25088\\720536925.py:20: FutureWarning: The current default of copy=False will change to copy=True in 1.7. Set the value of copy explicitly to avoid this warning\n",
      "  Corr_labels = int(len(dados['150','160'].get_data()))\n",
      "C:\\Users\\User\\AppData\\Local\\Temp\\ipykernel_25088\\720536925.py:24: FutureWarning: The current default of copy=False will change to copy=True in 1.7. Set the value of copy explicitly to avoid this warning\n",
      "  Err_labels = int(len(dados['151','152','153','154','161','162','163','164'].get_data()))\n",
      "C:\\Users\\User\\AppData\\Local\\Temp\\ipykernel_25088\\720536925.py:34: FutureWarning: The current default of copy=False will change to copy=True in 1.7. Set the value of copy explicitly to avoid this warning\n",
      "  for epoch_values in dados['150','160'].get_data():\n"
     ]
    },
    {
     "name": "stdout",
     "output_type": "stream",
     "text": [
      "Extracting parameters from c:\\Users\\User\\Documents\\GitHub\\Tese\\Dataset2\\P14\\P14_2.set...\n",
      "Not setting metadata\n",
      "76 matching events found\n"
     ]
    },
    {
     "name": "stderr",
     "output_type": "stream",
     "text": [
      "C:\\Users\\User\\AppData\\Local\\Temp\\ipykernel_25088\\720536925.py:43: FutureWarning: The current default of copy=False will change to copy=True in 1.7. Set the value of copy explicitly to avoid this warning\n",
      "  for epoch_values in dados['151','152','153','154','161','162','163','164'].get_data():\n",
      "C:\\Users\\User\\AppData\\Local\\Temp\\ipykernel_25088\\720536925.py:14: RuntimeWarning: At least one epoch has multiple events. Only the latency of the first event will be retained.\n",
      "  dados = mne.read_epochs_eeglab(path_)\n"
     ]
    },
    {
     "name": "stdout",
     "output_type": "stream",
     "text": [
      "No baseline correction applied\n",
      "0 projection items activated\n",
      "Ready.\n"
     ]
    },
    {
     "name": "stderr",
     "output_type": "stream",
     "text": [
      "C:\\Users\\User\\AppData\\Local\\Temp\\ipykernel_25088\\720536925.py:20: FutureWarning: The current default of copy=False will change to copy=True in 1.7. Set the value of copy explicitly to avoid this warning\n",
      "  Corr_labels = int(len(dados['150','160'].get_data()))\n",
      "C:\\Users\\User\\AppData\\Local\\Temp\\ipykernel_25088\\720536925.py:24: FutureWarning: The current default of copy=False will change to copy=True in 1.7. Set the value of copy explicitly to avoid this warning\n",
      "  Err_labels = int(len(dados['151','152','153','154','161','162','163','164'].get_data()))\n",
      "C:\\Users\\User\\AppData\\Local\\Temp\\ipykernel_25088\\720536925.py:34: FutureWarning: The current default of copy=False will change to copy=True in 1.7. Set the value of copy explicitly to avoid this warning\n",
      "  for epoch_values in dados['150','160'].get_data():\n"
     ]
    },
    {
     "name": "stdout",
     "output_type": "stream",
     "text": [
      "Extracting parameters from c:\\Users\\User\\Documents\\GitHub\\Tese\\Dataset2\\P14\\P14_3.set...\n",
      "Not setting metadata\n",
      "75 matching events found\n",
      "No baseline correction applied\n",
      "0 projection items activated\n"
     ]
    },
    {
     "name": "stderr",
     "output_type": "stream",
     "text": [
      "C:\\Users\\User\\AppData\\Local\\Temp\\ipykernel_25088\\720536925.py:43: FutureWarning: The current default of copy=False will change to copy=True in 1.7. Set the value of copy explicitly to avoid this warning\n",
      "  for epoch_values in dados['151','152','153','154','161','162','163','164'].get_data():\n",
      "C:\\Users\\User\\AppData\\Local\\Temp\\ipykernel_25088\\720536925.py:14: RuntimeWarning: At least one epoch has multiple events. Only the latency of the first event will be retained.\n",
      "  dados = mne.read_epochs_eeglab(path_)\n"
     ]
    },
    {
     "name": "stdout",
     "output_type": "stream",
     "text": [
      "Ready.\n"
     ]
    },
    {
     "name": "stderr",
     "output_type": "stream",
     "text": [
      "C:\\Users\\User\\AppData\\Local\\Temp\\ipykernel_25088\\720536925.py:20: FutureWarning: The current default of copy=False will change to copy=True in 1.7. Set the value of copy explicitly to avoid this warning\n",
      "  Corr_labels = int(len(dados['150','160'].get_data()))\n",
      "C:\\Users\\User\\AppData\\Local\\Temp\\ipykernel_25088\\720536925.py:24: FutureWarning: The current default of copy=False will change to copy=True in 1.7. Set the value of copy explicitly to avoid this warning\n",
      "  Err_labels = int(len(dados['151','152','153','154','161','162','163','164'].get_data()))\n",
      "C:\\Users\\User\\AppData\\Local\\Temp\\ipykernel_25088\\720536925.py:34: FutureWarning: The current default of copy=False will change to copy=True in 1.7. Set the value of copy explicitly to avoid this warning\n",
      "  for epoch_values in dados['150','160'].get_data():\n"
     ]
    },
    {
     "name": "stdout",
     "output_type": "stream",
     "text": [
      "Extracting parameters from c:\\Users\\User\\Documents\\GitHub\\Tese\\Dataset2\\P14\\P14_4.set...\n",
      "Not setting metadata\n",
      "80 matching events found\n",
      "No baseline correction applied\n",
      "0 projection items activated\n",
      "Ready.\n"
     ]
    },
    {
     "name": "stderr",
     "output_type": "stream",
     "text": [
      "C:\\Users\\User\\AppData\\Local\\Temp\\ipykernel_25088\\720536925.py:43: FutureWarning: The current default of copy=False will change to copy=True in 1.7. Set the value of copy explicitly to avoid this warning\n",
      "  for epoch_values in dados['151','152','153','154','161','162','163','164'].get_data():\n",
      "C:\\Users\\User\\AppData\\Local\\Temp\\ipykernel_25088\\720536925.py:14: RuntimeWarning: At least one epoch has multiple events. Only the latency of the first event will be retained.\n",
      "  dados = mne.read_epochs_eeglab(path_)\n",
      "C:\\Users\\User\\AppData\\Local\\Temp\\ipykernel_25088\\720536925.py:20: FutureWarning: The current default of copy=False will change to copy=True in 1.7. Set the value of copy explicitly to avoid this warning\n",
      "  Corr_labels = int(len(dados['150','160'].get_data()))\n",
      "C:\\Users\\User\\AppData\\Local\\Temp\\ipykernel_25088\\720536925.py:24: FutureWarning: The current default of copy=False will change to copy=True in 1.7. Set the value of copy explicitly to avoid this warning\n",
      "  Err_labels = int(len(dados['151','152','153','154','161','162','163','164'].get_data()))\n",
      "C:\\Users\\User\\AppData\\Local\\Temp\\ipykernel_25088\\720536925.py:34: FutureWarning: The current default of copy=False will change to copy=True in 1.7. Set the value of copy explicitly to avoid this warning\n",
      "  for epoch_values in dados['150','160'].get_data():\n"
     ]
    },
    {
     "name": "stdout",
     "output_type": "stream",
     "text": [
      "Extracting parameters from c:\\Users\\User\\Documents\\GitHub\\Tese\\Dataset2\\P15\\P15_1.set...\n",
      "Not setting metadata\n",
      "82 matching events found\n",
      "No baseline correction applied\n",
      "0 projection items activated\n",
      "Ready.\n"
     ]
    },
    {
     "name": "stderr",
     "output_type": "stream",
     "text": [
      "C:\\Users\\User\\AppData\\Local\\Temp\\ipykernel_25088\\720536925.py:43: FutureWarning: The current default of copy=False will change to copy=True in 1.7. Set the value of copy explicitly to avoid this warning\n",
      "  for epoch_values in dados['151','152','153','154','161','162','163','164'].get_data():\n",
      "C:\\Users\\User\\AppData\\Local\\Temp\\ipykernel_25088\\720536925.py:14: RuntimeWarning: At least one epoch has multiple events. Only the latency of the first event will be retained.\n",
      "  dados = mne.read_epochs_eeglab(path_)\n",
      "C:\\Users\\User\\AppData\\Local\\Temp\\ipykernel_25088\\720536925.py:20: FutureWarning: The current default of copy=False will change to copy=True in 1.7. Set the value of copy explicitly to avoid this warning\n",
      "  Corr_labels = int(len(dados['150','160'].get_data()))\n",
      "C:\\Users\\User\\AppData\\Local\\Temp\\ipykernel_25088\\720536925.py:24: FutureWarning: The current default of copy=False will change to copy=True in 1.7. Set the value of copy explicitly to avoid this warning\n",
      "  Err_labels = int(len(dados['151','152','153','154','161','162','163','164'].get_data()))\n",
      "C:\\Users\\User\\AppData\\Local\\Temp\\ipykernel_25088\\720536925.py:34: FutureWarning: The current default of copy=False will change to copy=True in 1.7. Set the value of copy explicitly to avoid this warning\n",
      "  for epoch_values in dados['150','160'].get_data():\n"
     ]
    },
    {
     "name": "stdout",
     "output_type": "stream",
     "text": [
      "Extracting parameters from c:\\Users\\User\\Documents\\GitHub\\Tese\\Dataset2\\P15\\P15_2.set...\n"
     ]
    },
    {
     "name": "stderr",
     "output_type": "stream",
     "text": [
      "C:\\Users\\User\\AppData\\Local\\Temp\\ipykernel_25088\\720536925.py:43: FutureWarning: The current default of copy=False will change to copy=True in 1.7. Set the value of copy explicitly to avoid this warning\n",
      "  for epoch_values in dados['151','152','153','154','161','162','163','164'].get_data():\n",
      "C:\\Users\\User\\AppData\\Local\\Temp\\ipykernel_25088\\720536925.py:14: RuntimeWarning: At least one epoch has multiple events. Only the latency of the first event will be retained.\n",
      "  dados = mne.read_epochs_eeglab(path_)\n"
     ]
    },
    {
     "name": "stdout",
     "output_type": "stream",
     "text": [
      "Not setting metadata\n",
      "80 matching events found\n",
      "No baseline correction applied\n",
      "0 projection items activated\n",
      "Ready.\n"
     ]
    },
    {
     "name": "stderr",
     "output_type": "stream",
     "text": [
      "C:\\Users\\User\\AppData\\Local\\Temp\\ipykernel_25088\\720536925.py:20: FutureWarning: The current default of copy=False will change to copy=True in 1.7. Set the value of copy explicitly to avoid this warning\n",
      "  Corr_labels = int(len(dados['150','160'].get_data()))\n",
      "C:\\Users\\User\\AppData\\Local\\Temp\\ipykernel_25088\\720536925.py:24: FutureWarning: The current default of copy=False will change to copy=True in 1.7. Set the value of copy explicitly to avoid this warning\n",
      "  Err_labels = int(len(dados['151','152','153','154','161','162','163','164'].get_data()))\n",
      "C:\\Users\\User\\AppData\\Local\\Temp\\ipykernel_25088\\720536925.py:34: FutureWarning: The current default of copy=False will change to copy=True in 1.7. Set the value of copy explicitly to avoid this warning\n",
      "  for epoch_values in dados['150','160'].get_data():\n"
     ]
    },
    {
     "name": "stdout",
     "output_type": "stream",
     "text": [
      "Extracting parameters from c:\\Users\\User\\Documents\\GitHub\\Tese\\Dataset2\\P15\\P15_3.set...\n"
     ]
    },
    {
     "name": "stderr",
     "output_type": "stream",
     "text": [
      "C:\\Users\\User\\AppData\\Local\\Temp\\ipykernel_25088\\720536925.py:43: FutureWarning: The current default of copy=False will change to copy=True in 1.7. Set the value of copy explicitly to avoid this warning\n",
      "  for epoch_values in dados['151','152','153','154','161','162','163','164'].get_data():\n",
      "C:\\Users\\User\\AppData\\Local\\Temp\\ipykernel_25088\\720536925.py:14: RuntimeWarning: At least one epoch has multiple events. Only the latency of the first event will be retained.\n",
      "  dados = mne.read_epochs_eeglab(path_)\n"
     ]
    },
    {
     "name": "stdout",
     "output_type": "stream",
     "text": [
      "Not setting metadata\n",
      "74 matching events found\n",
      "No baseline correction applied\n",
      "0 projection items activated\n",
      "Ready.\n"
     ]
    },
    {
     "name": "stderr",
     "output_type": "stream",
     "text": [
      "C:\\Users\\User\\AppData\\Local\\Temp\\ipykernel_25088\\720536925.py:20: FutureWarning: The current default of copy=False will change to copy=True in 1.7. Set the value of copy explicitly to avoid this warning\n",
      "  Corr_labels = int(len(dados['150','160'].get_data()))\n",
      "C:\\Users\\User\\AppData\\Local\\Temp\\ipykernel_25088\\720536925.py:24: FutureWarning: The current default of copy=False will change to copy=True in 1.7. Set the value of copy explicitly to avoid this warning\n",
      "  Err_labels = int(len(dados['151','152','153','154','161','162','163','164'].get_data()))\n",
      "C:\\Users\\User\\AppData\\Local\\Temp\\ipykernel_25088\\720536925.py:34: FutureWarning: The current default of copy=False will change to copy=True in 1.7. Set the value of copy explicitly to avoid this warning\n",
      "  for epoch_values in dados['150','160'].get_data():\n"
     ]
    },
    {
     "name": "stdout",
     "output_type": "stream",
     "text": [
      "Extracting parameters from c:\\Users\\User\\Documents\\GitHub\\Tese\\Dataset2\\P15\\P15_4.set...\n",
      "Not setting metadata\n",
      "81 matching events found\n"
     ]
    },
    {
     "name": "stderr",
     "output_type": "stream",
     "text": [
      "C:\\Users\\User\\AppData\\Local\\Temp\\ipykernel_25088\\720536925.py:43: FutureWarning: The current default of copy=False will change to copy=True in 1.7. Set the value of copy explicitly to avoid this warning\n",
      "  for epoch_values in dados['151','152','153','154','161','162','163','164'].get_data():\n",
      "C:\\Users\\User\\AppData\\Local\\Temp\\ipykernel_25088\\720536925.py:14: RuntimeWarning: At least one epoch has multiple events. Only the latency of the first event will be retained.\n",
      "  dados = mne.read_epochs_eeglab(path_)\n"
     ]
    },
    {
     "name": "stdout",
     "output_type": "stream",
     "text": [
      "No baseline correction applied\n",
      "0 projection items activated\n",
      "Ready.\n"
     ]
    },
    {
     "name": "stderr",
     "output_type": "stream",
     "text": [
      "C:\\Users\\User\\AppData\\Local\\Temp\\ipykernel_25088\\720536925.py:20: FutureWarning: The current default of copy=False will change to copy=True in 1.7. Set the value of copy explicitly to avoid this warning\n",
      "  Corr_labels = int(len(dados['150','160'].get_data()))\n",
      "C:\\Users\\User\\AppData\\Local\\Temp\\ipykernel_25088\\720536925.py:24: FutureWarning: The current default of copy=False will change to copy=True in 1.7. Set the value of copy explicitly to avoid this warning\n",
      "  Err_labels = int(len(dados['151','152','153','154','161','162','163','164'].get_data()))\n",
      "C:\\Users\\User\\AppData\\Local\\Temp\\ipykernel_25088\\720536925.py:34: FutureWarning: The current default of copy=False will change to copy=True in 1.7. Set the value of copy explicitly to avoid this warning\n",
      "  for epoch_values in dados['150','160'].get_data():\n"
     ]
    },
    {
     "name": "stdout",
     "output_type": "stream",
     "text": [
      "Extracting parameters from c:\\Users\\User\\Documents\\GitHub\\Tese\\Dataset2\\P16\\P16_1.set...\n",
      "Not setting metadata\n"
     ]
    },
    {
     "name": "stderr",
     "output_type": "stream",
     "text": [
      "C:\\Users\\User\\AppData\\Local\\Temp\\ipykernel_25088\\720536925.py:43: FutureWarning: The current default of copy=False will change to copy=True in 1.7. Set the value of copy explicitly to avoid this warning\n",
      "  for epoch_values in dados['151','152','153','154','161','162','163','164'].get_data():\n",
      "C:\\Users\\User\\AppData\\Local\\Temp\\ipykernel_25088\\720536925.py:14: RuntimeWarning: At least one epoch has multiple events. Only the latency of the first event will be retained.\n",
      "  dados = mne.read_epochs_eeglab(path_)\n"
     ]
    },
    {
     "name": "stdout",
     "output_type": "stream",
     "text": [
      "102 matching events found\n",
      "No baseline correction applied\n",
      "0 projection items activated\n",
      "Ready.\n"
     ]
    },
    {
     "name": "stderr",
     "output_type": "stream",
     "text": [
      "C:\\Users\\User\\AppData\\Local\\Temp\\ipykernel_25088\\720536925.py:20: FutureWarning: The current default of copy=False will change to copy=True in 1.7. Set the value of copy explicitly to avoid this warning\n",
      "  Corr_labels = int(len(dados['150','160'].get_data()))\n",
      "C:\\Users\\User\\AppData\\Local\\Temp\\ipykernel_25088\\720536925.py:24: FutureWarning: The current default of copy=False will change to copy=True in 1.7. Set the value of copy explicitly to avoid this warning\n",
      "  Err_labels = int(len(dados['151','152','153','154','161','162','163','164'].get_data()))\n",
      "C:\\Users\\User\\AppData\\Local\\Temp\\ipykernel_25088\\720536925.py:34: FutureWarning: The current default of copy=False will change to copy=True in 1.7. Set the value of copy explicitly to avoid this warning\n",
      "  for epoch_values in dados['150','160'].get_data():\n",
      "C:\\Users\\User\\AppData\\Local\\Temp\\ipykernel_25088\\720536925.py:43: FutureWarning: The current default of copy=False will change to copy=True in 1.7. Set the value of copy explicitly to avoid this warning\n",
      "  for epoch_values in dados['151','152','153','154','161','162','163','164'].get_data():\n"
     ]
    },
    {
     "name": "stdout",
     "output_type": "stream",
     "text": [
      "Extracting parameters from c:\\Users\\User\\Documents\\GitHub\\Tese\\Dataset2\\P16\\P16_2.set...\n",
      "Not setting metadata\n",
      "67 matching events found\n",
      "No baseline correction applied\n",
      "0 projection items activated\n",
      "Ready.\n"
     ]
    },
    {
     "name": "stderr",
     "output_type": "stream",
     "text": [
      "C:\\Users\\User\\AppData\\Local\\Temp\\ipykernel_25088\\720536925.py:14: RuntimeWarning: At least one epoch has multiple events. Only the latency of the first event will be retained.\n",
      "  dados = mne.read_epochs_eeglab(path_)\n",
      "C:\\Users\\User\\AppData\\Local\\Temp\\ipykernel_25088\\720536925.py:20: FutureWarning: The current default of copy=False will change to copy=True in 1.7. Set the value of copy explicitly to avoid this warning\n",
      "  Corr_labels = int(len(dados['150','160'].get_data()))\n",
      "C:\\Users\\User\\AppData\\Local\\Temp\\ipykernel_25088\\720536925.py:24: FutureWarning: The current default of copy=False will change to copy=True in 1.7. Set the value of copy explicitly to avoid this warning\n",
      "  Err_labels = int(len(dados['151','152','153','154','161','162','163','164'].get_data()))\n",
      "C:\\Users\\User\\AppData\\Local\\Temp\\ipykernel_25088\\720536925.py:34: FutureWarning: The current default of copy=False will change to copy=True in 1.7. Set the value of copy explicitly to avoid this warning\n",
      "  for epoch_values in dados['150','160'].get_data():\n",
      "C:\\Users\\User\\AppData\\Local\\Temp\\ipykernel_25088\\720536925.py:43: FutureWarning: The current default of copy=False will change to copy=True in 1.7. Set the value of copy explicitly to avoid this warning\n",
      "  for epoch_values in dados['151','152','153','154','161','162','163','164'].get_data():\n",
      "C:\\Users\\User\\AppData\\Local\\Temp\\ipykernel_25088\\720536925.py:14: RuntimeWarning: At least one epoch has multiple events. Only the latency of the first event will be retained.\n",
      "  dados = mne.read_epochs_eeglab(path_)\n"
     ]
    },
    {
     "name": "stdout",
     "output_type": "stream",
     "text": [
      "Extracting parameters from c:\\Users\\User\\Documents\\GitHub\\Tese\\Dataset2\\P16\\P16_3.set...\n",
      "Not setting metadata\n",
      "59 matching events found\n",
      "No baseline correction applied\n",
      "0 projection items activated\n",
      "Ready.\n"
     ]
    },
    {
     "name": "stderr",
     "output_type": "stream",
     "text": [
      "C:\\Users\\User\\AppData\\Local\\Temp\\ipykernel_25088\\720536925.py:20: FutureWarning: The current default of copy=False will change to copy=True in 1.7. Set the value of copy explicitly to avoid this warning\n",
      "  Corr_labels = int(len(dados['150','160'].get_data()))\n",
      "C:\\Users\\User\\AppData\\Local\\Temp\\ipykernel_25088\\720536925.py:24: FutureWarning: The current default of copy=False will change to copy=True in 1.7. Set the value of copy explicitly to avoid this warning\n",
      "  Err_labels = int(len(dados['151','152','153','154','161','162','163','164'].get_data()))\n",
      "C:\\Users\\User\\AppData\\Local\\Temp\\ipykernel_25088\\720536925.py:34: FutureWarning: The current default of copy=False will change to copy=True in 1.7. Set the value of copy explicitly to avoid this warning\n",
      "  for epoch_values in dados['150','160'].get_data():\n",
      "C:\\Users\\User\\AppData\\Local\\Temp\\ipykernel_25088\\720536925.py:43: FutureWarning: The current default of copy=False will change to copy=True in 1.7. Set the value of copy explicitly to avoid this warning\n",
      "  for epoch_values in dados['151','152','153','154','161','162','163','164'].get_data():\n"
     ]
    },
    {
     "name": "stdout",
     "output_type": "stream",
     "text": [
      "Extracting parameters from c:\\Users\\User\\Documents\\GitHub\\Tese\\Dataset2\\P16\\P16_4.set...\n",
      "Not setting metadata\n",
      "59 matching events found\n",
      "No baseline correction applied\n",
      "0 projection items activated\n",
      "Ready.\n"
     ]
    },
    {
     "name": "stderr",
     "output_type": "stream",
     "text": [
      "C:\\Users\\User\\AppData\\Local\\Temp\\ipykernel_25088\\720536925.py:14: RuntimeWarning: At least one epoch has multiple events. Only the latency of the first event will be retained.\n",
      "  dados = mne.read_epochs_eeglab(path_)\n",
      "C:\\Users\\User\\AppData\\Local\\Temp\\ipykernel_25088\\720536925.py:20: FutureWarning: The current default of copy=False will change to copy=True in 1.7. Set the value of copy explicitly to avoid this warning\n",
      "  Corr_labels = int(len(dados['150','160'].get_data()))\n",
      "C:\\Users\\User\\AppData\\Local\\Temp\\ipykernel_25088\\720536925.py:24: FutureWarning: The current default of copy=False will change to copy=True in 1.7. Set the value of copy explicitly to avoid this warning\n",
      "  Err_labels = int(len(dados['151','152','153','154','161','162','163','164'].get_data()))\n",
      "C:\\Users\\User\\AppData\\Local\\Temp\\ipykernel_25088\\720536925.py:34: FutureWarning: The current default of copy=False will change to copy=True in 1.7. Set the value of copy explicitly to avoid this warning\n",
      "  for epoch_values in dados['150','160'].get_data():\n"
     ]
    },
    {
     "name": "stdout",
     "output_type": "stream",
     "text": [
      "Extracting parameters from c:\\Users\\User\\Documents\\GitHub\\Tese\\Dataset2\\P17\\P17_1.set...\n",
      "Not setting metadata\n",
      "68 matching events found\n",
      "No baseline correction applied\n",
      "0 projection items activated\n",
      "Ready.\n"
     ]
    },
    {
     "name": "stderr",
     "output_type": "stream",
     "text": [
      "C:\\Users\\User\\AppData\\Local\\Temp\\ipykernel_25088\\720536925.py:43: FutureWarning: The current default of copy=False will change to copy=True in 1.7. Set the value of copy explicitly to avoid this warning\n",
      "  for epoch_values in dados['151','152','153','154','161','162','163','164'].get_data():\n",
      "C:\\Users\\User\\AppData\\Local\\Temp\\ipykernel_25088\\720536925.py:14: RuntimeWarning: At least one epoch has multiple events. Only the latency of the first event will be retained.\n",
      "  dados = mne.read_epochs_eeglab(path_)\n",
      "C:\\Users\\User\\AppData\\Local\\Temp\\ipykernel_25088\\720536925.py:20: FutureWarning: The current default of copy=False will change to copy=True in 1.7. Set the value of copy explicitly to avoid this warning\n",
      "  Corr_labels = int(len(dados['150','160'].get_data()))\n",
      "C:\\Users\\User\\AppData\\Local\\Temp\\ipykernel_25088\\720536925.py:24: FutureWarning: The current default of copy=False will change to copy=True in 1.7. Set the value of copy explicitly to avoid this warning\n",
      "  Err_labels = int(len(dados['151','152','153','154','161','162','163','164'].get_data()))\n",
      "C:\\Users\\User\\AppData\\Local\\Temp\\ipykernel_25088\\720536925.py:34: FutureWarning: The current default of copy=False will change to copy=True in 1.7. Set the value of copy explicitly to avoid this warning\n",
      "  for epoch_values in dados['150','160'].get_data():\n"
     ]
    },
    {
     "name": "stdout",
     "output_type": "stream",
     "text": [
      "Extracting parameters from c:\\Users\\User\\Documents\\GitHub\\Tese\\Dataset2\\P17\\P17_2.set...\n",
      "Not setting metadata\n"
     ]
    },
    {
     "name": "stderr",
     "output_type": "stream",
     "text": [
      "C:\\Users\\User\\AppData\\Local\\Temp\\ipykernel_25088\\720536925.py:43: FutureWarning: The current default of copy=False will change to copy=True in 1.7. Set the value of copy explicitly to avoid this warning\n",
      "  for epoch_values in dados['151','152','153','154','161','162','163','164'].get_data():\n",
      "C:\\Users\\User\\AppData\\Local\\Temp\\ipykernel_25088\\720536925.py:14: RuntimeWarning: At least one epoch has multiple events. Only the latency of the first event will be retained.\n",
      "  dados = mne.read_epochs_eeglab(path_)\n"
     ]
    },
    {
     "name": "stdout",
     "output_type": "stream",
     "text": [
      "71 matching events found\n",
      "No baseline correction applied\n",
      "0 projection items activated\n",
      "Ready.\n"
     ]
    },
    {
     "name": "stderr",
     "output_type": "stream",
     "text": [
      "C:\\Users\\User\\AppData\\Local\\Temp\\ipykernel_25088\\720536925.py:20: FutureWarning: The current default of copy=False will change to copy=True in 1.7. Set the value of copy explicitly to avoid this warning\n",
      "  Corr_labels = int(len(dados['150','160'].get_data()))\n",
      "C:\\Users\\User\\AppData\\Local\\Temp\\ipykernel_25088\\720536925.py:24: FutureWarning: The current default of copy=False will change to copy=True in 1.7. Set the value of copy explicitly to avoid this warning\n",
      "  Err_labels = int(len(dados['151','152','153','154','161','162','163','164'].get_data()))\n",
      "C:\\Users\\User\\AppData\\Local\\Temp\\ipykernel_25088\\720536925.py:34: FutureWarning: The current default of copy=False will change to copy=True in 1.7. Set the value of copy explicitly to avoid this warning\n",
      "  for epoch_values in dados['150','160'].get_data():\n"
     ]
    },
    {
     "name": "stdout",
     "output_type": "stream",
     "text": [
      "Extracting parameters from c:\\Users\\User\\Documents\\GitHub\\Tese\\Dataset2\\P17\\P17_3.set...\n"
     ]
    },
    {
     "name": "stderr",
     "output_type": "stream",
     "text": [
      "C:\\Users\\User\\AppData\\Local\\Temp\\ipykernel_25088\\720536925.py:43: FutureWarning: The current default of copy=False will change to copy=True in 1.7. Set the value of copy explicitly to avoid this warning\n",
      "  for epoch_values in dados['151','152','153','154','161','162','163','164'].get_data():\n",
      "C:\\Users\\User\\AppData\\Local\\Temp\\ipykernel_25088\\720536925.py:14: RuntimeWarning: At least one epoch has multiple events. Only the latency of the first event will be retained.\n",
      "  dados = mne.read_epochs_eeglab(path_)\n"
     ]
    },
    {
     "name": "stdout",
     "output_type": "stream",
     "text": [
      "Not setting metadata\n",
      "80 matching events found\n",
      "No baseline correction applied\n",
      "0 projection items activated\n",
      "Ready.\n"
     ]
    },
    {
     "name": "stderr",
     "output_type": "stream",
     "text": [
      "C:\\Users\\User\\AppData\\Local\\Temp\\ipykernel_25088\\720536925.py:20: FutureWarning: The current default of copy=False will change to copy=True in 1.7. Set the value of copy explicitly to avoid this warning\n",
      "  Corr_labels = int(len(dados['150','160'].get_data()))\n",
      "C:\\Users\\User\\AppData\\Local\\Temp\\ipykernel_25088\\720536925.py:24: FutureWarning: The current default of copy=False will change to copy=True in 1.7. Set the value of copy explicitly to avoid this warning\n",
      "  Err_labels = int(len(dados['151','152','153','154','161','162','163','164'].get_data()))\n",
      "C:\\Users\\User\\AppData\\Local\\Temp\\ipykernel_25088\\720536925.py:34: FutureWarning: The current default of copy=False will change to copy=True in 1.7. Set the value of copy explicitly to avoid this warning\n",
      "  for epoch_values in dados['150','160'].get_data():\n"
     ]
    },
    {
     "name": "stdout",
     "output_type": "stream",
     "text": [
      "Extracting parameters from c:\\Users\\User\\Documents\\GitHub\\Tese\\Dataset2\\P17\\P17_4.set...\n"
     ]
    },
    {
     "name": "stderr",
     "output_type": "stream",
     "text": [
      "C:\\Users\\User\\AppData\\Local\\Temp\\ipykernel_25088\\720536925.py:43: FutureWarning: The current default of copy=False will change to copy=True in 1.7. Set the value of copy explicitly to avoid this warning\n",
      "  for epoch_values in dados['151','152','153','154','161','162','163','164'].get_data():\n",
      "C:\\Users\\User\\AppData\\Local\\Temp\\ipykernel_25088\\720536925.py:14: RuntimeWarning: At least one epoch has multiple events. Only the latency of the first event will be retained.\n",
      "  dados = mne.read_epochs_eeglab(path_)\n"
     ]
    },
    {
     "name": "stdout",
     "output_type": "stream",
     "text": [
      "Not setting metadata\n",
      "79 matching events found\n",
      "No baseline correction applied\n",
      "0 projection items activated\n",
      "Ready.\n"
     ]
    },
    {
     "name": "stderr",
     "output_type": "stream",
     "text": [
      "C:\\Users\\User\\AppData\\Local\\Temp\\ipykernel_25088\\720536925.py:20: FutureWarning: The current default of copy=False will change to copy=True in 1.7. Set the value of copy explicitly to avoid this warning\n",
      "  Corr_labels = int(len(dados['150','160'].get_data()))\n",
      "C:\\Users\\User\\AppData\\Local\\Temp\\ipykernel_25088\\720536925.py:24: FutureWarning: The current default of copy=False will change to copy=True in 1.7. Set the value of copy explicitly to avoid this warning\n",
      "  Err_labels = int(len(dados['151','152','153','154','161','162','163','164'].get_data()))\n",
      "C:\\Users\\User\\AppData\\Local\\Temp\\ipykernel_25088\\720536925.py:34: FutureWarning: The current default of copy=False will change to copy=True in 1.7. Set the value of copy explicitly to avoid this warning\n",
      "  for epoch_values in dados['150','160'].get_data():\n"
     ]
    },
    {
     "name": "stdout",
     "output_type": "stream",
     "text": [
      "Extracting parameters from c:\\Users\\User\\Documents\\GitHub\\Tese\\Dataset2\\P18\\P18_1.set...\n"
     ]
    },
    {
     "name": "stderr",
     "output_type": "stream",
     "text": [
      "C:\\Users\\User\\AppData\\Local\\Temp\\ipykernel_25088\\720536925.py:43: FutureWarning: The current default of copy=False will change to copy=True in 1.7. Set the value of copy explicitly to avoid this warning\n",
      "  for epoch_values in dados['151','152','153','154','161','162','163','164'].get_data():\n",
      "C:\\Users\\User\\AppData\\Local\\Temp\\ipykernel_25088\\720536925.py:14: RuntimeWarning: At least one epoch has multiple events. Only the latency of the first event will be retained.\n",
      "  dados = mne.read_epochs_eeglab(path_)\n"
     ]
    },
    {
     "name": "stdout",
     "output_type": "stream",
     "text": [
      "Not setting metadata\n",
      "56 matching events found\n",
      "No baseline correction applied\n",
      "0 projection items activated\n",
      "Ready.\n"
     ]
    },
    {
     "name": "stderr",
     "output_type": "stream",
     "text": [
      "C:\\Users\\User\\AppData\\Local\\Temp\\ipykernel_25088\\720536925.py:20: FutureWarning: The current default of copy=False will change to copy=True in 1.7. Set the value of copy explicitly to avoid this warning\n",
      "  Corr_labels = int(len(dados['150','160'].get_data()))\n",
      "C:\\Users\\User\\AppData\\Local\\Temp\\ipykernel_25088\\720536925.py:24: FutureWarning: The current default of copy=False will change to copy=True in 1.7. Set the value of copy explicitly to avoid this warning\n",
      "  Err_labels = int(len(dados['151','152','153','154','161','162','163','164'].get_data()))\n",
      "C:\\Users\\User\\AppData\\Local\\Temp\\ipykernel_25088\\720536925.py:34: FutureWarning: The current default of copy=False will change to copy=True in 1.7. Set the value of copy explicitly to avoid this warning\n",
      "  for epoch_values in dados['150','160'].get_data():\n",
      "C:\\Users\\User\\AppData\\Local\\Temp\\ipykernel_25088\\720536925.py:43: FutureWarning: The current default of copy=False will change to copy=True in 1.7. Set the value of copy explicitly to avoid this warning\n",
      "  for epoch_values in dados['151','152','153','154','161','162','163','164'].get_data():\n"
     ]
    },
    {
     "name": "stdout",
     "output_type": "stream",
     "text": [
      "Extracting parameters from c:\\Users\\User\\Documents\\GitHub\\Tese\\Dataset2\\P18\\P18_2.set...\n",
      "Not setting metadata\n",
      "54 matching events found\n",
      "No baseline correction applied\n",
      "0 projection items activated\n",
      "Ready.\n"
     ]
    },
    {
     "name": "stderr",
     "output_type": "stream",
     "text": [
      "C:\\Users\\User\\AppData\\Local\\Temp\\ipykernel_25088\\720536925.py:14: RuntimeWarning: At least one epoch has multiple events. Only the latency of the first event will be retained.\n",
      "  dados = mne.read_epochs_eeglab(path_)\n",
      "C:\\Users\\User\\AppData\\Local\\Temp\\ipykernel_25088\\720536925.py:20: FutureWarning: The current default of copy=False will change to copy=True in 1.7. Set the value of copy explicitly to avoid this warning\n",
      "  Corr_labels = int(len(dados['150','160'].get_data()))\n",
      "C:\\Users\\User\\AppData\\Local\\Temp\\ipykernel_25088\\720536925.py:24: FutureWarning: The current default of copy=False will change to copy=True in 1.7. Set the value of copy explicitly to avoid this warning\n",
      "  Err_labels = int(len(dados['151','152','153','154','161','162','163','164'].get_data()))\n",
      "C:\\Users\\User\\AppData\\Local\\Temp\\ipykernel_25088\\720536925.py:34: FutureWarning: The current default of copy=False will change to copy=True in 1.7. Set the value of copy explicitly to avoid this warning\n",
      "  for epoch_values in dados['150','160'].get_data():\n"
     ]
    },
    {
     "name": "stdout",
     "output_type": "stream",
     "text": [
      "Extracting parameters from c:\\Users\\User\\Documents\\GitHub\\Tese\\Dataset2\\P18\\P18_3.set...\n",
      "Not setting metadata\n",
      "59 matching events found\n",
      "No baseline correction applied\n",
      "0 projection items activated\n"
     ]
    },
    {
     "name": "stderr",
     "output_type": "stream",
     "text": [
      "C:\\Users\\User\\AppData\\Local\\Temp\\ipykernel_25088\\720536925.py:43: FutureWarning: The current default of copy=False will change to copy=True in 1.7. Set the value of copy explicitly to avoid this warning\n",
      "  for epoch_values in dados['151','152','153','154','161','162','163','164'].get_data():\n",
      "C:\\Users\\User\\AppData\\Local\\Temp\\ipykernel_25088\\720536925.py:14: RuntimeWarning: At least one epoch has multiple events. Only the latency of the first event will be retained.\n",
      "  dados = mne.read_epochs_eeglab(path_)\n"
     ]
    },
    {
     "name": "stdout",
     "output_type": "stream",
     "text": [
      "Ready.\n"
     ]
    },
    {
     "name": "stderr",
     "output_type": "stream",
     "text": [
      "C:\\Users\\User\\AppData\\Local\\Temp\\ipykernel_25088\\720536925.py:20: FutureWarning: The current default of copy=False will change to copy=True in 1.7. Set the value of copy explicitly to avoid this warning\n",
      "  Corr_labels = int(len(dados['150','160'].get_data()))\n",
      "C:\\Users\\User\\AppData\\Local\\Temp\\ipykernel_25088\\720536925.py:24: FutureWarning: The current default of copy=False will change to copy=True in 1.7. Set the value of copy explicitly to avoid this warning\n",
      "  Err_labels = int(len(dados['151','152','153','154','161','162','163','164'].get_data()))\n",
      "C:\\Users\\User\\AppData\\Local\\Temp\\ipykernel_25088\\720536925.py:34: FutureWarning: The current default of copy=False will change to copy=True in 1.7. Set the value of copy explicitly to avoid this warning\n",
      "  for epoch_values in dados['150','160'].get_data():\n",
      "C:\\Users\\User\\AppData\\Local\\Temp\\ipykernel_25088\\720536925.py:43: FutureWarning: The current default of copy=False will change to copy=True in 1.7. Set the value of copy explicitly to avoid this warning\n",
      "  for epoch_values in dados['151','152','153','154','161','162','163','164'].get_data():\n"
     ]
    },
    {
     "name": "stdout",
     "output_type": "stream",
     "text": [
      "Extracting parameters from c:\\Users\\User\\Documents\\GitHub\\Tese\\Dataset2\\P18\\P18_4.set...\n",
      "Not setting metadata\n",
      "69 matching events found\n",
      "No baseline correction applied\n",
      "0 projection items activated\n",
      "Ready.\n"
     ]
    },
    {
     "name": "stderr",
     "output_type": "stream",
     "text": [
      "C:\\Users\\User\\AppData\\Local\\Temp\\ipykernel_25088\\720536925.py:14: RuntimeWarning: At least one epoch has multiple events. Only the latency of the first event will be retained.\n",
      "  dados = mne.read_epochs_eeglab(path_)\n",
      "C:\\Users\\User\\AppData\\Local\\Temp\\ipykernel_25088\\720536925.py:20: FutureWarning: The current default of copy=False will change to copy=True in 1.7. Set the value of copy explicitly to avoid this warning\n",
      "  Corr_labels = int(len(dados['150','160'].get_data()))\n",
      "C:\\Users\\User\\AppData\\Local\\Temp\\ipykernel_25088\\720536925.py:24: FutureWarning: The current default of copy=False will change to copy=True in 1.7. Set the value of copy explicitly to avoid this warning\n",
      "  Err_labels = int(len(dados['151','152','153','154','161','162','163','164'].get_data()))\n",
      "C:\\Users\\User\\AppData\\Local\\Temp\\ipykernel_25088\\720536925.py:34: FutureWarning: The current default of copy=False will change to copy=True in 1.7. Set the value of copy explicitly to avoid this warning\n",
      "  for epoch_values in dados['150','160'].get_data():\n"
     ]
    },
    {
     "name": "stdout",
     "output_type": "stream",
     "text": [
      "Extracting parameters from c:\\Users\\User\\Documents\\GitHub\\Tese\\Dataset2\\P19\\P19_1.set...\n"
     ]
    },
    {
     "name": "stderr",
     "output_type": "stream",
     "text": [
      "C:\\Users\\User\\AppData\\Local\\Temp\\ipykernel_25088\\720536925.py:43: FutureWarning: The current default of copy=False will change to copy=True in 1.7. Set the value of copy explicitly to avoid this warning\n",
      "  for epoch_values in dados['151','152','153','154','161','162','163','164'].get_data():\n",
      "C:\\Users\\User\\AppData\\Local\\Temp\\ipykernel_25088\\720536925.py:14: RuntimeWarning: At least one epoch has multiple events. Only the latency of the first event will be retained.\n",
      "  dados = mne.read_epochs_eeglab(path_)\n"
     ]
    },
    {
     "name": "stdout",
     "output_type": "stream",
     "text": [
      "Not setting metadata\n",
      "79 matching events found\n",
      "No baseline correction applied\n",
      "0 projection items activated\n",
      "Ready.\n"
     ]
    },
    {
     "name": "stderr",
     "output_type": "stream",
     "text": [
      "C:\\Users\\User\\AppData\\Local\\Temp\\ipykernel_25088\\720536925.py:20: FutureWarning: The current default of copy=False will change to copy=True in 1.7. Set the value of copy explicitly to avoid this warning\n",
      "  Corr_labels = int(len(dados['150','160'].get_data()))\n",
      "C:\\Users\\User\\AppData\\Local\\Temp\\ipykernel_25088\\720536925.py:24: FutureWarning: The current default of copy=False will change to copy=True in 1.7. Set the value of copy explicitly to avoid this warning\n",
      "  Err_labels = int(len(dados['151','152','153','154','161','162','163','164'].get_data()))\n",
      "C:\\Users\\User\\AppData\\Local\\Temp\\ipykernel_25088\\720536925.py:34: FutureWarning: The current default of copy=False will change to copy=True in 1.7. Set the value of copy explicitly to avoid this warning\n",
      "  for epoch_values in dados['150','160'].get_data():\n",
      "C:\\Users\\User\\AppData\\Local\\Temp\\ipykernel_25088\\720536925.py:43: FutureWarning: The current default of copy=False will change to copy=True in 1.7. Set the value of copy explicitly to avoid this warning\n",
      "  for epoch_values in dados['151','152','153','154','161','162','163','164'].get_data():\n"
     ]
    },
    {
     "name": "stdout",
     "output_type": "stream",
     "text": [
      "Extracting parameters from c:\\Users\\User\\Documents\\GitHub\\Tese\\Dataset2\\P19\\P19_2.set...\n",
      "Not setting metadata\n",
      "77 matching events found\n",
      "No baseline correction applied\n",
      "0 projection items activated\n",
      "Ready.\n"
     ]
    },
    {
     "name": "stderr",
     "output_type": "stream",
     "text": [
      "C:\\Users\\User\\AppData\\Local\\Temp\\ipykernel_25088\\720536925.py:14: RuntimeWarning: At least one epoch has multiple events. Only the latency of the first event will be retained.\n",
      "  dados = mne.read_epochs_eeglab(path_)\n",
      "C:\\Users\\User\\AppData\\Local\\Temp\\ipykernel_25088\\720536925.py:20: FutureWarning: The current default of copy=False will change to copy=True in 1.7. Set the value of copy explicitly to avoid this warning\n",
      "  Corr_labels = int(len(dados['150','160'].get_data()))\n",
      "C:\\Users\\User\\AppData\\Local\\Temp\\ipykernel_25088\\720536925.py:24: FutureWarning: The current default of copy=False will change to copy=True in 1.7. Set the value of copy explicitly to avoid this warning\n",
      "  Err_labels = int(len(dados['151','152','153','154','161','162','163','164'].get_data()))\n",
      "C:\\Users\\User\\AppData\\Local\\Temp\\ipykernel_25088\\720536925.py:34: FutureWarning: The current default of copy=False will change to copy=True in 1.7. Set the value of copy explicitly to avoid this warning\n",
      "  for epoch_values in dados['150','160'].get_data():\n"
     ]
    },
    {
     "name": "stdout",
     "output_type": "stream",
     "text": [
      "Extracting parameters from c:\\Users\\User\\Documents\\GitHub\\Tese\\Dataset2\\P19\\P19_3.set...\n"
     ]
    },
    {
     "name": "stderr",
     "output_type": "stream",
     "text": [
      "C:\\Users\\User\\AppData\\Local\\Temp\\ipykernel_25088\\720536925.py:43: FutureWarning: The current default of copy=False will change to copy=True in 1.7. Set the value of copy explicitly to avoid this warning\n",
      "  for epoch_values in dados['151','152','153','154','161','162','163','164'].get_data():\n",
      "C:\\Users\\User\\AppData\\Local\\Temp\\ipykernel_25088\\720536925.py:14: RuntimeWarning: At least one epoch has multiple events. Only the latency of the first event will be retained.\n",
      "  dados = mne.read_epochs_eeglab(path_)\n"
     ]
    },
    {
     "name": "stdout",
     "output_type": "stream",
     "text": [
      "Not setting metadata\n",
      "79 matching events found\n",
      "No baseline correction applied\n",
      "0 projection items activated\n",
      "Ready.\n"
     ]
    },
    {
     "name": "stderr",
     "output_type": "stream",
     "text": [
      "C:\\Users\\User\\AppData\\Local\\Temp\\ipykernel_25088\\720536925.py:20: FutureWarning: The current default of copy=False will change to copy=True in 1.7. Set the value of copy explicitly to avoid this warning\n",
      "  Corr_labels = int(len(dados['150','160'].get_data()))\n",
      "C:\\Users\\User\\AppData\\Local\\Temp\\ipykernel_25088\\720536925.py:24: FutureWarning: The current default of copy=False will change to copy=True in 1.7. Set the value of copy explicitly to avoid this warning\n",
      "  Err_labels = int(len(dados['151','152','153','154','161','162','163','164'].get_data()))\n",
      "C:\\Users\\User\\AppData\\Local\\Temp\\ipykernel_25088\\720536925.py:34: FutureWarning: The current default of copy=False will change to copy=True in 1.7. Set the value of copy explicitly to avoid this warning\n",
      "  for epoch_values in dados['150','160'].get_data():\n",
      "C:\\Users\\User\\AppData\\Local\\Temp\\ipykernel_25088\\720536925.py:43: FutureWarning: The current default of copy=False will change to copy=True in 1.7. Set the value of copy explicitly to avoid this warning\n",
      "  for epoch_values in dados['151','152','153','154','161','162','163','164'].get_data():\n"
     ]
    },
    {
     "name": "stdout",
     "output_type": "stream",
     "text": [
      "Extracting parameters from c:\\Users\\User\\Documents\\GitHub\\Tese\\Dataset2\\P19\\P19_4.set...\n",
      "Not setting metadata\n",
      "80 matching events found\n",
      "No baseline correction applied\n",
      "0 projection items activated\n",
      "Ready.\n"
     ]
    },
    {
     "name": "stderr",
     "output_type": "stream",
     "text": [
      "C:\\Users\\User\\AppData\\Local\\Temp\\ipykernel_25088\\720536925.py:14: RuntimeWarning: At least one epoch has multiple events. Only the latency of the first event will be retained.\n",
      "  dados = mne.read_epochs_eeglab(path_)\n",
      "C:\\Users\\User\\AppData\\Local\\Temp\\ipykernel_25088\\720536925.py:20: FutureWarning: The current default of copy=False will change to copy=True in 1.7. Set the value of copy explicitly to avoid this warning\n",
      "  Corr_labels = int(len(dados['150','160'].get_data()))\n",
      "C:\\Users\\User\\AppData\\Local\\Temp\\ipykernel_25088\\720536925.py:24: FutureWarning: The current default of copy=False will change to copy=True in 1.7. Set the value of copy explicitly to avoid this warning\n",
      "  Err_labels = int(len(dados['151','152','153','154','161','162','163','164'].get_data()))\n",
      "C:\\Users\\User\\AppData\\Local\\Temp\\ipykernel_25088\\720536925.py:34: FutureWarning: The current default of copy=False will change to copy=True in 1.7. Set the value of copy explicitly to avoid this warning\n",
      "  for epoch_values in dados['150','160'].get_data():\n",
      "C:\\Users\\User\\AppData\\Local\\Temp\\ipykernel_25088\\720536925.py:43: FutureWarning: The current default of copy=False will change to copy=True in 1.7. Set the value of copy explicitly to avoid this warning\n",
      "  for epoch_values in dados['151','152','153','154','161','162','163','164'].get_data():\n",
      "C:\\Users\\User\\AppData\\Local\\Temp\\ipykernel_25088\\720536925.py:14: RuntimeWarning: At least one epoch has multiple events. Only the latency of the first event will be retained.\n",
      "  dados = mne.read_epochs_eeglab(path_)\n"
     ]
    },
    {
     "name": "stdout",
     "output_type": "stream",
     "text": [
      "Extracting parameters from c:\\Users\\User\\Documents\\GitHub\\Tese\\Dataset2\\P20\\P20_1.set...\n",
      "Not setting metadata\n",
      "75 matching events found\n",
      "No baseline correction applied\n",
      "0 projection items activated\n",
      "Ready.\n"
     ]
    },
    {
     "name": "stderr",
     "output_type": "stream",
     "text": [
      "C:\\Users\\User\\AppData\\Local\\Temp\\ipykernel_25088\\720536925.py:20: FutureWarning: The current default of copy=False will change to copy=True in 1.7. Set the value of copy explicitly to avoid this warning\n",
      "  Corr_labels = int(len(dados['150','160'].get_data()))\n",
      "C:\\Users\\User\\AppData\\Local\\Temp\\ipykernel_25088\\720536925.py:24: FutureWarning: The current default of copy=False will change to copy=True in 1.7. Set the value of copy explicitly to avoid this warning\n",
      "  Err_labels = int(len(dados['151','152','153','154','161','162','163','164'].get_data()))\n",
      "C:\\Users\\User\\AppData\\Local\\Temp\\ipykernel_25088\\720536925.py:34: FutureWarning: The current default of copy=False will change to copy=True in 1.7. Set the value of copy explicitly to avoid this warning\n",
      "  for epoch_values in dados['150','160'].get_data():\n",
      "C:\\Users\\User\\AppData\\Local\\Temp\\ipykernel_25088\\720536925.py:43: FutureWarning: The current default of copy=False will change to copy=True in 1.7. Set the value of copy explicitly to avoid this warning\n",
      "  for epoch_values in dados['151','152','153','154','161','162','163','164'].get_data():\n"
     ]
    },
    {
     "name": "stdout",
     "output_type": "stream",
     "text": [
      "Extracting parameters from c:\\Users\\User\\Documents\\GitHub\\Tese\\Dataset2\\P20\\P20_2.set...\n",
      "Not setting metadata\n",
      "75 matching events found\n",
      "No baseline correction applied\n",
      "0 projection items activated\n",
      "Ready.\n"
     ]
    },
    {
     "name": "stderr",
     "output_type": "stream",
     "text": [
      "C:\\Users\\User\\AppData\\Local\\Temp\\ipykernel_25088\\720536925.py:14: RuntimeWarning: At least one epoch has multiple events. Only the latency of the first event will be retained.\n",
      "  dados = mne.read_epochs_eeglab(path_)\n",
      "C:\\Users\\User\\AppData\\Local\\Temp\\ipykernel_25088\\720536925.py:20: FutureWarning: The current default of copy=False will change to copy=True in 1.7. Set the value of copy explicitly to avoid this warning\n",
      "  Corr_labels = int(len(dados['150','160'].get_data()))\n",
      "C:\\Users\\User\\AppData\\Local\\Temp\\ipykernel_25088\\720536925.py:24: FutureWarning: The current default of copy=False will change to copy=True in 1.7. Set the value of copy explicitly to avoid this warning\n",
      "  Err_labels = int(len(dados['151','152','153','154','161','162','163','164'].get_data()))\n",
      "C:\\Users\\User\\AppData\\Local\\Temp\\ipykernel_25088\\720536925.py:34: FutureWarning: The current default of copy=False will change to copy=True in 1.7. Set the value of copy explicitly to avoid this warning\n",
      "  for epoch_values in dados['150','160'].get_data():\n"
     ]
    },
    {
     "name": "stdout",
     "output_type": "stream",
     "text": [
      "Extracting parameters from c:\\Users\\User\\Documents\\GitHub\\Tese\\Dataset2\\P20\\P20_3.set...\n",
      "Not setting metadata\n",
      "75 matching events found\n",
      "No baseline correction applied\n",
      "0 projection items activated\n"
     ]
    },
    {
     "name": "stderr",
     "output_type": "stream",
     "text": [
      "C:\\Users\\User\\AppData\\Local\\Temp\\ipykernel_25088\\720536925.py:43: FutureWarning: The current default of copy=False will change to copy=True in 1.7. Set the value of copy explicitly to avoid this warning\n",
      "  for epoch_values in dados['151','152','153','154','161','162','163','164'].get_data():\n",
      "C:\\Users\\User\\AppData\\Local\\Temp\\ipykernel_25088\\720536925.py:14: RuntimeWarning: At least one epoch has multiple events. Only the latency of the first event will be retained.\n",
      "  dados = mne.read_epochs_eeglab(path_)\n"
     ]
    },
    {
     "name": "stdout",
     "output_type": "stream",
     "text": [
      "Ready.\n"
     ]
    },
    {
     "name": "stderr",
     "output_type": "stream",
     "text": [
      "C:\\Users\\User\\AppData\\Local\\Temp\\ipykernel_25088\\720536925.py:20: FutureWarning: The current default of copy=False will change to copy=True in 1.7. Set the value of copy explicitly to avoid this warning\n",
      "  Corr_labels = int(len(dados['150','160'].get_data()))\n",
      "C:\\Users\\User\\AppData\\Local\\Temp\\ipykernel_25088\\720536925.py:24: FutureWarning: The current default of copy=False will change to copy=True in 1.7. Set the value of copy explicitly to avoid this warning\n",
      "  Err_labels = int(len(dados['151','152','153','154','161','162','163','164'].get_data()))\n",
      "C:\\Users\\User\\AppData\\Local\\Temp\\ipykernel_25088\\720536925.py:34: FutureWarning: The current default of copy=False will change to copy=True in 1.7. Set the value of copy explicitly to avoid this warning\n",
      "  for epoch_values in dados['150','160'].get_data():\n"
     ]
    },
    {
     "name": "stdout",
     "output_type": "stream",
     "text": [
      "Extracting parameters from c:\\Users\\User\\Documents\\GitHub\\Tese\\Dataset2\\P20\\P20_4.set...\n"
     ]
    },
    {
     "name": "stderr",
     "output_type": "stream",
     "text": [
      "C:\\Users\\User\\AppData\\Local\\Temp\\ipykernel_25088\\720536925.py:43: FutureWarning: The current default of copy=False will change to copy=True in 1.7. Set the value of copy explicitly to avoid this warning\n",
      "  for epoch_values in dados['151','152','153','154','161','162','163','164'].get_data():\n",
      "C:\\Users\\User\\AppData\\Local\\Temp\\ipykernel_25088\\720536925.py:14: RuntimeWarning: At least one epoch has multiple events. Only the latency of the first event will be retained.\n",
      "  dados = mne.read_epochs_eeglab(path_)\n"
     ]
    },
    {
     "name": "stdout",
     "output_type": "stream",
     "text": [
      "Not setting metadata\n",
      "78 matching events found\n",
      "No baseline correction applied\n",
      "0 projection items activated\n",
      "Ready.\n"
     ]
    },
    {
     "name": "stderr",
     "output_type": "stream",
     "text": [
      "C:\\Users\\User\\AppData\\Local\\Temp\\ipykernel_25088\\720536925.py:20: FutureWarning: The current default of copy=False will change to copy=True in 1.7. Set the value of copy explicitly to avoid this warning\n",
      "  Corr_labels = int(len(dados['150','160'].get_data()))\n",
      "C:\\Users\\User\\AppData\\Local\\Temp\\ipykernel_25088\\720536925.py:24: FutureWarning: The current default of copy=False will change to copy=True in 1.7. Set the value of copy explicitly to avoid this warning\n",
      "  Err_labels = int(len(dados['151','152','153','154','161','162','163','164'].get_data()))\n",
      "C:\\Users\\User\\AppData\\Local\\Temp\\ipykernel_25088\\720536925.py:34: FutureWarning: The current default of copy=False will change to copy=True in 1.7. Set the value of copy explicitly to avoid this warning\n",
      "  for epoch_values in dados['150','160'].get_data():\n"
     ]
    },
    {
     "name": "stdout",
     "output_type": "stream",
     "text": [
      "Extracting parameters from c:\\Users\\User\\Documents\\GitHub\\Tese\\Dataset2\\P21\\P21_1.set...\n"
     ]
    },
    {
     "name": "stderr",
     "output_type": "stream",
     "text": [
      "C:\\Users\\User\\AppData\\Local\\Temp\\ipykernel_25088\\720536925.py:43: FutureWarning: The current default of copy=False will change to copy=True in 1.7. Set the value of copy explicitly to avoid this warning\n",
      "  for epoch_values in dados['151','152','153','154','161','162','163','164'].get_data():\n",
      "C:\\Users\\User\\AppData\\Local\\Temp\\ipykernel_25088\\720536925.py:14: RuntimeWarning: At least one epoch has multiple events. Only the latency of the first event will be retained.\n",
      "  dados = mne.read_epochs_eeglab(path_)\n"
     ]
    },
    {
     "name": "stdout",
     "output_type": "stream",
     "text": [
      "Not setting metadata\n",
      "47 matching events found\n",
      "No baseline correction applied\n",
      "0 projection items activated\n",
      "Ready.\n"
     ]
    },
    {
     "name": "stderr",
     "output_type": "stream",
     "text": [
      "C:\\Users\\User\\AppData\\Local\\Temp\\ipykernel_25088\\720536925.py:20: FutureWarning: The current default of copy=False will change to copy=True in 1.7. Set the value of copy explicitly to avoid this warning\n",
      "  Corr_labels = int(len(dados['150','160'].get_data()))\n",
      "C:\\Users\\User\\AppData\\Local\\Temp\\ipykernel_25088\\720536925.py:24: FutureWarning: The current default of copy=False will change to copy=True in 1.7. Set the value of copy explicitly to avoid this warning\n",
      "  Err_labels = int(len(dados['151','152','153','154','161','162','163','164'].get_data()))\n",
      "C:\\Users\\User\\AppData\\Local\\Temp\\ipykernel_25088\\720536925.py:34: FutureWarning: The current default of copy=False will change to copy=True in 1.7. Set the value of copy explicitly to avoid this warning\n",
      "  for epoch_values in dados['150','160'].get_data():\n",
      "C:\\Users\\User\\AppData\\Local\\Temp\\ipykernel_25088\\720536925.py:43: FutureWarning: The current default of copy=False will change to copy=True in 1.7. Set the value of copy explicitly to avoid this warning\n",
      "  for epoch_values in dados['151','152','153','154','161','162','163','164'].get_data():\n"
     ]
    },
    {
     "name": "stdout",
     "output_type": "stream",
     "text": [
      "Extracting parameters from c:\\Users\\User\\Documents\\GitHub\\Tese\\Dataset2\\P21\\P21_2.set...\n",
      "Not setting metadata\n",
      "50 matching events found\n"
     ]
    },
    {
     "name": "stderr",
     "output_type": "stream",
     "text": [
      "C:\\Users\\User\\AppData\\Local\\Temp\\ipykernel_25088\\720536925.py:14: RuntimeWarning: At least one epoch has multiple events. Only the latency of the first event will be retained.\n",
      "  dados = mne.read_epochs_eeglab(path_)\n"
     ]
    },
    {
     "name": "stdout",
     "output_type": "stream",
     "text": [
      "No baseline correction applied\n",
      "0 projection items activated\n",
      "Ready.\n"
     ]
    },
    {
     "name": "stderr",
     "output_type": "stream",
     "text": [
      "C:\\Users\\User\\AppData\\Local\\Temp\\ipykernel_25088\\720536925.py:20: FutureWarning: The current default of copy=False will change to copy=True in 1.7. Set the value of copy explicitly to avoid this warning\n",
      "  Corr_labels = int(len(dados['150','160'].get_data()))\n",
      "C:\\Users\\User\\AppData\\Local\\Temp\\ipykernel_25088\\720536925.py:24: FutureWarning: The current default of copy=False will change to copy=True in 1.7. Set the value of copy explicitly to avoid this warning\n",
      "  Err_labels = int(len(dados['151','152','153','154','161','162','163','164'].get_data()))\n",
      "C:\\Users\\User\\AppData\\Local\\Temp\\ipykernel_25088\\720536925.py:34: FutureWarning: The current default of copy=False will change to copy=True in 1.7. Set the value of copy explicitly to avoid this warning\n",
      "  for epoch_values in dados['150','160'].get_data():\n",
      "C:\\Users\\User\\AppData\\Local\\Temp\\ipykernel_25088\\720536925.py:43: FutureWarning: The current default of copy=False will change to copy=True in 1.7. Set the value of copy explicitly to avoid this warning\n",
      "  for epoch_values in dados['151','152','153','154','161','162','163','164'].get_data():\n"
     ]
    },
    {
     "name": "stdout",
     "output_type": "stream",
     "text": [
      "Extracting parameters from c:\\Users\\User\\Documents\\GitHub\\Tese\\Dataset2\\P21\\P21_3.set...\n",
      "Not setting metadata\n",
      "37 matching events found\n",
      "No baseline correction applied\n",
      "0 projection items activated\n",
      "Ready.\n"
     ]
    },
    {
     "name": "stderr",
     "output_type": "stream",
     "text": [
      "C:\\Users\\User\\AppData\\Local\\Temp\\ipykernel_25088\\720536925.py:14: RuntimeWarning: At least one epoch has multiple events. Only the latency of the first event will be retained.\n",
      "  dados = mne.read_epochs_eeglab(path_)\n",
      "C:\\Users\\User\\AppData\\Local\\Temp\\ipykernel_25088\\720536925.py:20: FutureWarning: The current default of copy=False will change to copy=True in 1.7. Set the value of copy explicitly to avoid this warning\n",
      "  Corr_labels = int(len(dados['150','160'].get_data()))\n",
      "C:\\Users\\User\\AppData\\Local\\Temp\\ipykernel_25088\\720536925.py:24: FutureWarning: The current default of copy=False will change to copy=True in 1.7. Set the value of copy explicitly to avoid this warning\n",
      "  Err_labels = int(len(dados['151','152','153','154','161','162','163','164'].get_data()))\n",
      "C:\\Users\\User\\AppData\\Local\\Temp\\ipykernel_25088\\720536925.py:34: FutureWarning: The current default of copy=False will change to copy=True in 1.7. Set the value of copy explicitly to avoid this warning\n",
      "  for epoch_values in dados['150','160'].get_data():\n",
      "C:\\Users\\User\\AppData\\Local\\Temp\\ipykernel_25088\\720536925.py:43: FutureWarning: The current default of copy=False will change to copy=True in 1.7. Set the value of copy explicitly to avoid this warning\n",
      "  for epoch_values in dados['151','152','153','154','161','162','163','164'].get_data():\n"
     ]
    },
    {
     "name": "stdout",
     "output_type": "stream",
     "text": [
      "Extracting parameters from c:\\Users\\User\\Documents\\GitHub\\Tese\\Dataset2\\P21\\P21_4.set...\n"
     ]
    },
    {
     "name": "stderr",
     "output_type": "stream",
     "text": [
      "C:\\Users\\User\\AppData\\Local\\Temp\\ipykernel_25088\\720536925.py:14: RuntimeWarning: At least one epoch has multiple events. Only the latency of the first event will be retained.\n",
      "  dados = mne.read_epochs_eeglab(path_)\n"
     ]
    },
    {
     "name": "stdout",
     "output_type": "stream",
     "text": [
      "Not setting metadata\n",
      "41 matching events found\n",
      "No baseline correction applied\n",
      "0 projection items activated\n",
      "Ready.\n"
     ]
    },
    {
     "name": "stderr",
     "output_type": "stream",
     "text": [
      "C:\\Users\\User\\AppData\\Local\\Temp\\ipykernel_25088\\720536925.py:20: FutureWarning: The current default of copy=False will change to copy=True in 1.7. Set the value of copy explicitly to avoid this warning\n",
      "  Corr_labels = int(len(dados['150','160'].get_data()))\n",
      "C:\\Users\\User\\AppData\\Local\\Temp\\ipykernel_25088\\720536925.py:24: FutureWarning: The current default of copy=False will change to copy=True in 1.7. Set the value of copy explicitly to avoid this warning\n",
      "  Err_labels = int(len(dados['151','152','153','154','161','162','163','164'].get_data()))\n",
      "C:\\Users\\User\\AppData\\Local\\Temp\\ipykernel_25088\\720536925.py:34: FutureWarning: The current default of copy=False will change to copy=True in 1.7. Set the value of copy explicitly to avoid this warning\n",
      "  for epoch_values in dados['150','160'].get_data():\n",
      "C:\\Users\\User\\AppData\\Local\\Temp\\ipykernel_25088\\720536925.py:43: FutureWarning: The current default of copy=False will change to copy=True in 1.7. Set the value of copy explicitly to avoid this warning\n",
      "  for epoch_values in dados['151','152','153','154','161','162','163','164'].get_data():\n"
     ]
    },
    {
     "name": "stdout",
     "output_type": "stream",
     "text": [
      "Extracting parameters from c:\\Users\\User\\Documents\\GitHub\\Tese\\Dataset2\\P22\\P22_1.set...\n",
      "Not setting metadata\n",
      "79 matching events found\n",
      "No baseline correction applied\n",
      "0 projection items activated\n",
      "Ready.\n"
     ]
    },
    {
     "name": "stderr",
     "output_type": "stream",
     "text": [
      "C:\\Users\\User\\AppData\\Local\\Temp\\ipykernel_25088\\720536925.py:14: RuntimeWarning: At least one epoch has multiple events. Only the latency of the first event will be retained.\n",
      "  dados = mne.read_epochs_eeglab(path_)\n",
      "C:\\Users\\User\\AppData\\Local\\Temp\\ipykernel_25088\\720536925.py:20: FutureWarning: The current default of copy=False will change to copy=True in 1.7. Set the value of copy explicitly to avoid this warning\n",
      "  Corr_labels = int(len(dados['150','160'].get_data()))\n",
      "C:\\Users\\User\\AppData\\Local\\Temp\\ipykernel_25088\\720536925.py:24: FutureWarning: The current default of copy=False will change to copy=True in 1.7. Set the value of copy explicitly to avoid this warning\n",
      "  Err_labels = int(len(dados['151','152','153','154','161','162','163','164'].get_data()))\n",
      "C:\\Users\\User\\AppData\\Local\\Temp\\ipykernel_25088\\720536925.py:34: FutureWarning: The current default of copy=False will change to copy=True in 1.7. Set the value of copy explicitly to avoid this warning\n",
      "  for epoch_values in dados['150','160'].get_data():\n"
     ]
    },
    {
     "name": "stdout",
     "output_type": "stream",
     "text": [
      "Extracting parameters from c:\\Users\\User\\Documents\\GitHub\\Tese\\Dataset2\\P22\\P22_2.set...\n"
     ]
    },
    {
     "name": "stderr",
     "output_type": "stream",
     "text": [
      "C:\\Users\\User\\AppData\\Local\\Temp\\ipykernel_25088\\720536925.py:43: FutureWarning: The current default of copy=False will change to copy=True in 1.7. Set the value of copy explicitly to avoid this warning\n",
      "  for epoch_values in dados['151','152','153','154','161','162','163','164'].get_data():\n",
      "C:\\Users\\User\\AppData\\Local\\Temp\\ipykernel_25088\\720536925.py:14: RuntimeWarning: At least one epoch has multiple events. Only the latency of the first event will be retained.\n",
      "  dados = mne.read_epochs_eeglab(path_)\n"
     ]
    },
    {
     "name": "stdout",
     "output_type": "stream",
     "text": [
      "Not setting metadata\n",
      "78 matching events found\n",
      "No baseline correction applied\n",
      "0 projection items activated\n",
      "Ready.\n"
     ]
    },
    {
     "name": "stderr",
     "output_type": "stream",
     "text": [
      "C:\\Users\\User\\AppData\\Local\\Temp\\ipykernel_25088\\720536925.py:20: FutureWarning: The current default of copy=False will change to copy=True in 1.7. Set the value of copy explicitly to avoid this warning\n",
      "  Corr_labels = int(len(dados['150','160'].get_data()))\n",
      "C:\\Users\\User\\AppData\\Local\\Temp\\ipykernel_25088\\720536925.py:24: FutureWarning: The current default of copy=False will change to copy=True in 1.7. Set the value of copy explicitly to avoid this warning\n",
      "  Err_labels = int(len(dados['151','152','153','154','161','162','163','164'].get_data()))\n",
      "C:\\Users\\User\\AppData\\Local\\Temp\\ipykernel_25088\\720536925.py:34: FutureWarning: The current default of copy=False will change to copy=True in 1.7. Set the value of copy explicitly to avoid this warning\n",
      "  for epoch_values in dados['150','160'].get_data():\n",
      "C:\\Users\\User\\AppData\\Local\\Temp\\ipykernel_25088\\720536925.py:43: FutureWarning: The current default of copy=False will change to copy=True in 1.7. Set the value of copy explicitly to avoid this warning\n",
      "  for epoch_values in dados['151','152','153','154','161','162','163','164'].get_data():\n"
     ]
    },
    {
     "name": "stdout",
     "output_type": "stream",
     "text": [
      "Extracting parameters from c:\\Users\\User\\Documents\\GitHub\\Tese\\Dataset2\\P22\\P22_3.set...\n",
      "Not setting metadata\n",
      "80 matching events found\n",
      "No baseline correction applied\n",
      "0 projection items activated\n",
      "Ready.\n"
     ]
    },
    {
     "name": "stderr",
     "output_type": "stream",
     "text": [
      "C:\\Users\\User\\AppData\\Local\\Temp\\ipykernel_25088\\720536925.py:14: RuntimeWarning: At least one epoch has multiple events. Only the latency of the first event will be retained.\n",
      "  dados = mne.read_epochs_eeglab(path_)\n",
      "C:\\Users\\User\\AppData\\Local\\Temp\\ipykernel_25088\\720536925.py:20: FutureWarning: The current default of copy=False will change to copy=True in 1.7. Set the value of copy explicitly to avoid this warning\n",
      "  Corr_labels = int(len(dados['150','160'].get_data()))\n",
      "C:\\Users\\User\\AppData\\Local\\Temp\\ipykernel_25088\\720536925.py:24: FutureWarning: The current default of copy=False will change to copy=True in 1.7. Set the value of copy explicitly to avoid this warning\n",
      "  Err_labels = int(len(dados['151','152','153','154','161','162','163','164'].get_data()))\n",
      "C:\\Users\\User\\AppData\\Local\\Temp\\ipykernel_25088\\720536925.py:34: FutureWarning: The current default of copy=False will change to copy=True in 1.7. Set the value of copy explicitly to avoid this warning\n",
      "  for epoch_values in dados['150','160'].get_data():\n"
     ]
    },
    {
     "name": "stdout",
     "output_type": "stream",
     "text": [
      "Extracting parameters from c:\\Users\\User\\Documents\\GitHub\\Tese\\Dataset2\\P22\\P22_4.set...\n",
      "Not setting metadata\n",
      "80 matching events found\n",
      "No baseline correction applied\n",
      "0 projection items activated\n",
      "Ready.\n"
     ]
    },
    {
     "name": "stderr",
     "output_type": "stream",
     "text": [
      "C:\\Users\\User\\AppData\\Local\\Temp\\ipykernel_25088\\720536925.py:43: FutureWarning: The current default of copy=False will change to copy=True in 1.7. Set the value of copy explicitly to avoid this warning\n",
      "  for epoch_values in dados['151','152','153','154','161','162','163','164'].get_data():\n",
      "C:\\Users\\User\\AppData\\Local\\Temp\\ipykernel_25088\\720536925.py:14: RuntimeWarning: At least one epoch has multiple events. Only the latency of the first event will be retained.\n",
      "  dados = mne.read_epochs_eeglab(path_)\n",
      "C:\\Users\\User\\AppData\\Local\\Temp\\ipykernel_25088\\720536925.py:20: FutureWarning: The current default of copy=False will change to copy=True in 1.7. Set the value of copy explicitly to avoid this warning\n",
      "  Corr_labels = int(len(dados['150','160'].get_data()))\n",
      "C:\\Users\\User\\AppData\\Local\\Temp\\ipykernel_25088\\720536925.py:24: FutureWarning: The current default of copy=False will change to copy=True in 1.7. Set the value of copy explicitly to avoid this warning\n",
      "  Err_labels = int(len(dados['151','152','153','154','161','162','163','164'].get_data()))\n",
      "C:\\Users\\User\\AppData\\Local\\Temp\\ipykernel_25088\\720536925.py:34: FutureWarning: The current default of copy=False will change to copy=True in 1.7. Set the value of copy explicitly to avoid this warning\n",
      "  for epoch_values in dados['150','160'].get_data():\n",
      "C:\\Users\\User\\AppData\\Local\\Temp\\ipykernel_25088\\720536925.py:43: FutureWarning: The current default of copy=False will change to copy=True in 1.7. Set the value of copy explicitly to avoid this warning\n",
      "  for epoch_values in dados['151','152','153','154','161','162','163','164'].get_data():\n"
     ]
    }
   ],
   "source": [
    "data2={}\n",
    "labels2={}\n",
    "path='Dataset2'\n",
    "for files in os.listdir(path):\n",
    "    folders=os.path.join(path,files)\n",
    "    file2=[item for item in os.listdir(folders) if item.endswith('set')]\n",
    "#--------------------------------------------------------------------------\n",
    "    i=0\n",
    "    label=[]\n",
    "    while i!=4:\n",
    "        for file_index, file_name in enumerate(file2):\n",
    "            i=i+1\n",
    "            path_ = os.path.join( folders, file_name )\n",
    "            dados = mne.read_epochs_eeglab(path_)\n",
    "            channel_names2 = dados.info['ch_names']\n",
    "            subject_id = file_name[:3]\n",
    "            \n",
    "            # Extract labels\n",
    "            try:\n",
    "                Corr_labels = int(len(dados['150','160'].get_data()))\n",
    "            except:\n",
    "                Corr_labels=0\n",
    "            try:\n",
    "                Err_labels = int(len(dados['151','152','153','154','161','162','163','164'].get_data()))\n",
    "            except:\n",
    "                Err_labels=0\n",
    "            label.append(np.array([0] * Corr_labels + [1] * Err_labels))\n",
    "           \n",
    "    #--------------------------------------------------------------------------    \n",
    "            # Initialize channel data dictionary\n",
    "            channel_data = {}\n",
    "            data_channel=[]\n",
    "            try:\n",
    "                for epoch_values in dados['150','160'].get_data():\n",
    "                    for channel_index, channel_values in enumerate(epoch_values):\n",
    "                        channel_name = channel_names2[channel_index]\n",
    "                        if channel_name not in channel_data:\n",
    "                            channel_data[channel_name] = []\n",
    "                        channel_data[channel_name].append(list(channel_values))\n",
    "            except:\n",
    "                pass\n",
    "            try:\n",
    "                for epoch_values in dados['151','152','153','154','161','162','163','164'].get_data():\n",
    "                    for channel_index, channel_values in enumerate(epoch_values):\n",
    "                        channel_name = channel_names2[channel_index]\n",
    "                        if channel_name not in channel_data:\n",
    "                            channel_data[channel_name] = []\n",
    "                        channel_data[channel_name].append(list(channel_values))\n",
    "            except:\n",
    "                pass\n",
    "            \n",
    "            data2[file_name] = channel_data\n",
    "        labels2[subject_id] = np.concatenate(label)\n",
    "\n",
    "#--------------------------------------------------------------------------\n",
    "\n",
    "rearranged_data = {}\n",
    "\n",
    "# Iterate through each file in data2\n",
    "for file_name, channel_data in data2.items():\n",
    "    # Extract the subject ID from the file name\n",
    "    subject_id = file_name.split('_')[0]\n",
    "    \n",
    "    # Initialize the subject in the rearranged_data dictionary if not already present\n",
    "    if subject_id not in rearranged_data:\n",
    "        rearranged_data[subject_id] = {}\n",
    "    \n",
    "    # Iterate through each channel in the current file\n",
    "    for channel, data in channel_data.items():\n",
    "        # Initialize the channel in the subject's dictionary if not already present\n",
    "        if channel not in rearranged_data[subject_id]:\n",
    "            rearranged_data[subject_id][channel] = []\n",
    "        \n",
    "        # Append the current file's data for the channel to the subject's channel data\n",
    "        rearranged_data[subject_id][channel].append(data)\n",
    "\n",
    "# Combine the data from different files of the same subject for each channel\n",
    "for subject_id, channels in rearranged_data.items():\n",
    "    for channel, data_list in channels.items():\n",
    "        # Flatten the list of data arrays into a single list or concatenate them\n",
    "        # Here we assume each data is a list or array; if not, adjust accordingly\n",
    "        combined_data = []\n",
    "        for data in data_list:\n",
    "            combined_data.extend(data)\n",
    "        rearranged_data[subject_id][channel] = combined_data\n",
    "\n",
    "# Now rearranged_data is in the desired format\n",
    "# You can print or further process the rearranged_data as needed\n",
    "\n",
    "data2=rearranged_data\n",
    "        "
   ]
  },
  {
   "cell_type": "markdown",
   "metadata": {},
   "source": [
    "## Splitting into pre and post response"
   ]
  },
  {
   "cell_type": "code",
   "execution_count": 4,
   "metadata": {},
   "outputs": [],
   "source": [
    "def data_pre_post(data):\n",
    "    pre_response={}\n",
    "    post_response={}\n",
    "    for subject_id, dados in data.items():\n",
    "        channel_data_pre={}\n",
    "        channel_data_post={}\n",
    "        for channel_name, values in dados.items():\n",
    "            values_pre=[]\n",
    "            values_post=[]\n",
    "            for i in range(len(values)):\n",
    "                \n",
    "                index= int(len(values[i])/2)\n",
    "                values_pre.append(values[i][0:index])\n",
    "                values_post.append(values[i][index:-1])\n",
    "            channel_data_pre[channel_name]= values_pre\n",
    "            channel_data_post[channel_name]= values_post\n",
    "            \n",
    "        pre_response[subject_id] = channel_data_pre #(14,60,n_events,250)\n",
    "        post_response[subject_id] = channel_data_post\n",
    "    return pre_response, post_response\n"
   ]
  },
  {
   "cell_type": "code",
   "execution_count": 5,
   "metadata": {},
   "outputs": [],
   "source": [
    "pre_response1, post_response1 = data_pre_post(data1)"
   ]
  },
  {
   "cell_type": "code",
   "execution_count": 11,
   "metadata": {},
   "outputs": [],
   "source": [
    "pre_response2, post_response2 = data_pre_post(data2)"
   ]
  },
  {
   "cell_type": "markdown",
   "metadata": {},
   "source": [
    "## Getting PSD"
   ]
  },
  {
   "cell_type": "code",
   "execution_count": 12,
   "metadata": {},
   "outputs": [
    {
     "name": "stderr",
     "output_type": "stream",
     "text": [
      "C:\\Users\\User\\AppData\\Local\\Packages\\PythonSoftwareFoundation.Python.3.11_qbz5n2kfra8p0\\LocalCache\\local-packages\\Python311\\site-packages\\scipy\\signal\\_spectral_py.py:589: UserWarning: nperseg = 256 is greater than input length  = 250, using nperseg = 250\n",
      "  freqs, _, Pxy = _spectral_helper(x, y, fs, window, nperseg, noverlap,\n",
      "C:\\Users\\User\\AppData\\Local\\Packages\\PythonSoftwareFoundation.Python.3.11_qbz5n2kfra8p0\\LocalCache\\local-packages\\Python311\\site-packages\\scipy\\signal\\_spectral_py.py:589: UserWarning: nperseg = 256 is greater than input length  = 249, using nperseg = 249\n",
      "  freqs, _, Pxy = _spectral_helper(x, y, fs, window, nperseg, noverlap,\n"
     ]
    }
   ],
   "source": [
    "f_pre1,S_pre1= src.getpsd(pre_response1,fs)    # S_pre ->(14,60,n_events,n_points)\n",
    "f_post1,S_post1= src.getpsd(post_response1,fs)"
   ]
  },
  {
   "cell_type": "code",
   "execution_count": 13,
   "metadata": {},
   "outputs": [],
   "source": [
    "f_pre2,S_pre2= src.getpsd(pre_response2,fs)    # S_pre ->(14,60,n_events,n_points)\n",
    "f_post2,S_post2= src.getpsd(post_response2,fs)"
   ]
  },
  {
   "cell_type": "code",
   "execution_count": 23,
   "metadata": {},
   "outputs": [
    {
     "data": {
      "text/plain": [
       "<module 'src.functions' from 'c:\\\\Users\\\\User\\\\Documents\\\\GitHub\\\\Tese\\\\src\\\\functions.py'>"
      ]
     },
     "execution_count": 23,
     "metadata": {},
     "output_type": "execute_result"
    }
   ],
   "source": [
    "import importlib\n",
    "\n",
    "importlib.reload(src)"
   ]
  },
  {
   "cell_type": "markdown",
   "metadata": {},
   "source": [
    "## Sorting PSD data per subject per channel"
   ]
  },
  {
   "cell_type": "code",
   "execution_count": 21,
   "metadata": {},
   "outputs": [],
   "source": [
    "pre_data_per_channel1= src.getdataperchannel(S_pre1) #(14,60,n_events,n_points)\n",
    "post_data_per_channel1= src.getdataperchannel(S_post1)"
   ]
  },
  {
   "cell_type": "code",
   "execution_count": 22,
   "metadata": {},
   "outputs": [],
   "source": [
    "pre_data_per_channel2= src.getdataperchannel(S_pre2) #(14,60,n_events,n_points)\n",
    "post_data_per_channel2= src.getdataperchannel(S_post2)"
   ]
  },
  {
   "cell_type": "markdown",
   "metadata": {},
   "source": [
    "## Feature Extraction - Dataset 1"
   ]
  },
  {
   "cell_type": "markdown",
   "metadata": {},
   "source": [
    "### FCZ Features"
   ]
  },
  {
   "cell_type": "code",
   "execution_count": null,
   "metadata": {},
   "outputs": [],
   "source": [
    "feature1= src.feature('fcz_features','.','.','theta','all',post_data_per_channel1,post_data_per_channel1,freq_bands,f_post1, f_post1)\n",
    "feature2= src.feature('fcz_features','.','.','theta','high',post_data_per_channel1,post_data_per_channel1,freq_bands,f_post1,f_post1)\n",
    "feature3= src.feature('fcz_features','.','.','theta','other',post_data_per_channel1,post_data_per_channel1,freq_bands,f_post1,f_post1)\n",
    "feature4=src.feature('fcz_features','.','.','theta','theta',post_data_per_channel1,pre_data_per_channel1,freq_bands,f_post1,f_pre1)"
   ]
  },
  {
   "cell_type": "markdown",
   "metadata": {},
   "source": [
    "### All Channels Features"
   ]
  },
  {
   "cell_type": "code",
   "execution_count": null,
   "metadata": {},
   "outputs": [],
   "source": [
    "feature5= src.feature('all_features','FC1','FC1','theta','all',post_data_per_channel1,post_data_per_channel1,freq_bands,f_post1,f_post1)\n",
    "feature6= src.feature('all_features','FCZ','FCZ','theta','all',post_data_per_channel1,post_data_per_channel1,freq_bands,f_post1,f_post1)\n",
    "feature7= src.feature('all_features','FC2','FC2','theta','all',post_data_per_channel1,post_data_per_channel1,freq_bands,f_post1,f_post1)\n",
    "feature8= src.feature('all_features','FCZ','FCZ','theta','high',post_data_per_channel1,post_data_per_channel1,freq_bands,f_post1,f_post1)\n",
    "feature9= src.feature('all_features','FC2','FC2','theta','high',post_data_per_channel1,post_data_per_channel1,freq_bands,f_post1,f_post1)\n",
    "feature10= src.feature('all_features','F3','F3','theta','theta',post_data_per_channel1,pre_data_per_channel1,freq_bands,f_post1,f_pre1)\n",
    "feature11= src.feature('all_features','FZ','FZ','theta','theta',post_data_per_channel1,pre_data_per_channel1,freq_bands,f_post1,f_pre1)\n",
    "feature12= src.feature('all_features','FC1','FC1','theta','theta',post_data_per_channel1,pre_data_per_channel1,freq_bands,f_post1,f_pre1)\n",
    "feature13= src.feature('all_features','FCZ','FCZ','theta','theta',post_data_per_channel1,pre_data_per_channel1,freq_bands,f_post1,f_pre1)\n",
    "feature14= src.feature('all_features','FC2','FC2','theta','theta',post_data_per_channel1,pre_data_per_channel1,freq_bands,f_post1,f_pre1)\n",
    "feature15= src.feature('all_features','P4','P4','theta','theta',post_data_per_channel1,pre_data_per_channel1,freq_bands,f_post1,f_pre1)\n",
    "feature16= src.feature('all_features','FCZ','FCZ','theta','alpha',post_data_per_channel1,post_data_per_channel1,freq_bands,f_post1,f_post1)\n",
    "\n"
   ]
  },
  {
   "cell_type": "markdown",
   "metadata": {},
   "source": [
    "### Midfrontal Channels Features"
   ]
  },
  {
   "cell_type": "code",
   "execution_count": null,
   "metadata": {},
   "outputs": [],
   "source": [
    "feature17= src.feature('midfrontal_features','FC3','FC3','theta','other',post_data_per_channel1,post_data_per_channel1,freq_bands,f_post1,f_post1)\n",
    "feature18= src.feature('midfrontal_features','FC1','FC1','theta','other',post_data_per_channel1,post_data_per_channel1,freq_bands,f_post1,f_post1)\n",
    "feature19= src.feature('midfrontal_features','FCZ','FCZ','theta','other',post_data_per_channel1,post_data_per_channel1,freq_bands,f_post1,f_post1)\n",
    "feature20= src.feature('midfrontal_features','FC2','FC2','theta','other',post_data_per_channel1,post_data_per_channel1,freq_bands,f_post1,f_post1)\n",
    "feature21= src.feature('midfrontal_features','CZ','CZ','theta','other',post_data_per_channel1,post_data_per_channel1,freq_bands,f_post1,f_post1)"
   ]
  },
  {
   "cell_type": "markdown",
   "metadata": {},
   "source": [
    "### Low Frequency Features"
   ]
  },
  {
   "cell_type": "code",
   "execution_count": null,
   "metadata": {},
   "outputs": [],
   "source": [
    "feature22= src.feature('low_features','FP1','FP1','delta','all',post_data_per_channel1,post_data_per_channel1,freq_bands,f_post1,f_post1)\n",
    "feature23= src.feature('low_features','C2','C2','alpha','all',post_data_per_channel1,post_data_per_channel1,freq_bands,f_post1,f_post1)\n",
    "feature24= src.feature('low_features','P6','P6','alpha','all',post_data_per_channel1,post_data_per_channel1,freq_bands,f_post1,f_post1)\n",
    "feature25= src.feature('low_features','PO4','PO4','alpha','all',post_data_per_channel1,post_data_per_channel1,freq_bands,f_post1,f_post1)\n",
    "feature26= src.feature('low_features','PO6','PO6','alpha','all',post_data_per_channel1,post_data_per_channel1,freq_bands,f_post1,f_post1)\n",
    "feature27= src.feature('low_features','PO8','PO8','alpha','all',post_data_per_channel1,post_data_per_channel1,freq_bands,f_post1,f_post1)\n",
    "feature28= src.feature('low_features','O2','O2','alpha','all',post_data_per_channel1,post_data_per_channel1,freq_bands,f_post1,f_post1)\n",
    "feature29= src.feature('low_features','FC2','FC2','low','all',post_data_per_channel1,post_data_per_channel1,freq_bands,f_post1,f_post1)\n",
    "feature30= src.feature('low_features','T8','T8','low','all',post_data_per_channel1,post_data_per_channel1,freq_bands,f_post1,f_post1)\n",
    "feature31= src.feature('low_features','CP5','CP5','low','all',post_data_per_channel1,post_data_per_channel1,freq_bands,f_post1,f_post1)\n",
    "feature32= src.feature('low_features','C5','C5','low','all',post_data_per_channel1,post_data_per_channel1,freq_bands,f_post1,f_post1)\n",
    "feature33= src.feature('low_features','CP4','CP4','delta','all',pre_data_per_channel1,pre_data_per_channel1,freq_bands,f_pre1,f_pre1)\n",
    "feature34= src.feature('low_features','C5','C5','low','all',pre_data_per_channel1,pre_data_per_channel1,freq_bands,f_pre1,f_pre1)\n",
    "feature35= src.feature('low_features','T8','T8','low','all',pre_data_per_channel1,pre_data_per_channel1,freq_bands,f_pre1,f_pre1)\n",
    "feature36= src.feature('low_features','CP5','CP5','low','all',pre_data_per_channel1,pre_data_per_channel1,freq_bands,f_pre1,f_pre1)\n",
    "feature37= src.feature('low_features','TP8','TP8','low','all',pre_data_per_channel1,pre_data_per_channel1,freq_bands,f_pre1,f_pre1)\n",
    "feature38= src.feature('low_features','P5','P5','low','all',pre_data_per_channel1,pre_data_per_channel1,freq_bands,f_pre1,f_pre1)"
   ]
  },
  {
   "cell_type": "markdown",
   "metadata": {},
   "source": [
    "### Temporal Features"
   ]
  },
  {
   "cell_type": "code",
   "execution_count": 24,
   "metadata": {},
   "outputs": [],
   "source": [
    "feature39={}\n",
    "\n",
    "for subject_id,values in pre_response1.items():\n",
    "    mean_all500_250_values = []\n",
    "    for i in range(len(next(iter(values.values())))):\n",
    "        all500_250_values = []\n",
    "        for channel_name, channel_values in values.items():   \n",
    "            if channel_name == 'F8':         \n",
    "                all500_250_values.append(np.mean(channel_values[i][0:126]))\n",
    "        \n",
    "        mean_all500_250_values.append(np.mean(all500_250_values))\n",
    "    feature39[subject_id]= mean_all500_250_values\n"
   ]
  },
  {
   "cell_type": "code",
   "execution_count": null,
   "metadata": {},
   "outputs": [],
   "source": []
  }
 ],
 "metadata": {
  "kernelspec": {
   "display_name": "Python 3",
   "language": "python",
   "name": "python3"
  },
  "language_info": {
   "codemirror_mode": {
    "name": "ipython",
    "version": 3
   },
   "file_extension": ".py",
   "mimetype": "text/x-python",
   "name": "python",
   "nbconvert_exporter": "python",
   "pygments_lexer": "ipython3",
   "version": "3.11.9"
  }
 },
 "nbformat": 4,
 "nbformat_minor": 2
}
