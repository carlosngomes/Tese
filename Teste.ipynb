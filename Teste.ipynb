{
 "cells": [
  {
   "cell_type": "code",
   "execution_count": 1,
   "metadata": {},
   "outputs": [
    {
     "ename": "SyntaxError",
     "evalue": "invalid syntax (functions.py, line 5)",
     "output_type": "error",
     "traceback": [
      "Traceback \u001b[1;36m(most recent call last)\u001b[0m:\n",
      "\u001b[0m  File \u001b[0;32m~\\AppData\\Local\\Packages\\PythonSoftwareFoundation.Python.3.11_qbz5n2kfra8p0\\LocalCache\\local-packages\\Python311\\site-packages\\IPython\\core\\interactiveshell.py:3577\u001b[0m in \u001b[0;35mrun_code\u001b[0m\n    exec(code_obj, self.user_global_ns, self.user_ns)\u001b[0m\n",
      "\u001b[1;36m  Cell \u001b[1;32mIn[1], line 5\u001b[1;36m\n\u001b[1;33m    import src.functions as src\u001b[1;36m\n",
      "\u001b[1;36m  File \u001b[1;32mc:\\Users\\User\\Documents\\GitHub\\Tese\\src\\functions.py:5\u001b[1;36m\u001b[0m\n\u001b[1;33m    <<<<<<< Updated upstream\u001b[0m\n\u001b[1;37m    ^\u001b[0m\n\u001b[1;31mSyntaxError\u001b[0m\u001b[1;31m:\u001b[0m invalid syntax\n"
     ]
    }
   ],
   "source": [
    "import os\n",
    "import numpy as np\n",
    "import mne\n",
    "import matplotlib.pyplot as plt\n",
    "import src.functions as src\n",
    "\n",
    "fs=500\n",
    "freq_bands={'delta' : [0,4],\n",
    "            'theta' : [4,8],\n",
    "            'alpha' : [8, 13],\n",
    "            'beta' : [13,35],\n",
    "            'high' : [35, 45],\n",
    "            'all': [1.5,45],\n",
    "            'low': [1.5,12]}"
   ]
  },
  {
   "cell_type": "code",
   "execution_count": null,
   "metadata": {},
   "outputs": [],
   "source": [
    "data = {}\n",
    "labels = {}\n",
    "\n",
    "for file_index, file_name in enumerate(file):\n",
    "    path_ = os.path.join( 'data', file_name )\n",
    "    dados = mne.read_epochs_eeglab(path_)\n",
    "    channel_names = dados.info['ch_names']\n",
    "    subject_id = file_name[:3]\n",
    "    \n",
    "    # Extract labels\n",
    "    proCorr_antiCorr_labels = len(dados['proCorr','antiCorr'].get_data())\n",
    "    proErr_antiErr_nogoErr_labels = len(dados['proErr','antiErr','nogoErr'].get_data())\n",
    "    labels[subject_id] = np.array([0] * proCorr_antiCorr_labels + [1] * proErr_antiErr_nogoErr_labels)\n",
    "    \n",
    "    # Initialize channel data dictionary\n",
    "    channel_data = {}\n",
    "    \n",
    "    # Iterate over 'proCorr' and 'antiCorr' events\n",
    "    for epoch_values in dados['proCorr','antiCorr'].get_data():\n",
    "        for channel_index, channel_values in enumerate(epoch_values):\n",
    "            channel_name = channel_names[channel_index]\n",
    "            if channel_name not in channel_data:\n",
    "                channel_data[channel_name] = []\n",
    "            channel_data[channel_name].append(list(channel_values))\n",
    "    \n",
    "    # Iterate over 'proErr', 'antiErr', and 'nogoErr' events\n",
    "    for epoch_values in dados['proErr','antiErr','nogoErr'].get_data():\n",
    "        for channel_index, channel_values in enumerate(epoch_values):\n",
    "            channel_name = channel_names[channel_index]\n",
    "            if channel_name not in channel_data:\n",
    "                channel_data[channel_name] = []\n",
    "            channel_data[channel_name].append(list(channel_values))\n",
    "    \n",
    "    data[subject_id] = channel_data\n"
   ]
  }
 ],
 "metadata": {
  "kernelspec": {
   "display_name": "Python 3",
   "language": "python",
   "name": "python3"
  },
  "language_info": {
   "codemirror_mode": {
    "name": "ipython",
    "version": 3
   },
   "file_extension": ".py",
   "mimetype": "text/x-python",
   "name": "python",
   "nbconvert_exporter": "python",
   "pygments_lexer": "ipython3",
   "version": "3.11.9"
  }
 },
 "nbformat": 4,
 "nbformat_minor": 2
}
